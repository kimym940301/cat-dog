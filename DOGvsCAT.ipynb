{
 "cells": [
  {
   "cell_type": "markdown",
   "id": "e5ed77b3",
   "metadata": {},
   "source": [
    "# 고양이 VS 개 이진분류 모델"
   ]
  },
  {
   "cell_type": "markdown",
   "id": "89bb0bc6",
   "metadata": {},
   "source": [
    "- https://www.kaggle.com/competitions/dogs-vs-cats-redux-kernels-edition/overview"
   ]
  },
  {
   "cell_type": "markdown",
   "id": "bca94c3b",
   "metadata": {},
   "source": [
    "# Import"
   ]
  },
  {
   "cell_type": "code",
   "execution_count": 4,
   "id": "ca6004de",
   "metadata": {
    "ExecuteTime": {
     "end_time": "2023-02-09T02:13:39.662197Z",
     "start_time": "2023-02-09T02:13:39.658978Z"
    }
   },
   "outputs": [],
   "source": [
    "from tensorflow.keras.preprocessing.image import ImageDataGenerator\n",
    "import warnings\n",
    "warnings.filterwarnings(\"ignore\")\n",
    "# 실행에 필요한 메시지 외 경고가 출력되지 않게 해줌\n",
    "import os"
   ]
  },
  {
   "cell_type": "code",
   "execution_count": 5,
   "id": "540ae215",
   "metadata": {
    "ExecuteTime": {
     "end_time": "2023-02-09T02:13:40.991182Z",
     "start_time": "2023-02-09T02:13:40.988020Z"
    }
   },
   "outputs": [],
   "source": [
    "import pandas as pd\n",
    "import numpy as np\n",
    "import matplotlib.pyplot as plt\n",
    "import matplotlib.image as mpimg\n",
    "import random\n",
    "from tensorflow import keras"
   ]
  },
  {
   "cell_type": "code",
   "execution_count": 6,
   "id": "290592fc",
   "metadata": {
    "ExecuteTime": {
     "end_time": "2023-02-09T02:13:41.566976Z",
     "start_time": "2023-02-09T02:13:41.563834Z"
    }
   },
   "outputs": [],
   "source": [
    "from sklearn.model_selection import train_test_split"
   ]
  },
  {
   "cell_type": "markdown",
   "id": "34db4705",
   "metadata": {},
   "source": [
    "# DataSet"
   ]
  },
  {
   "cell_type": "code",
   "execution_count": 7,
   "id": "396716c0",
   "metadata": {
    "ExecuteTime": {
     "end_time": "2023-02-09T02:13:45.896071Z",
     "start_time": "2023-02-09T02:13:43.834636Z"
    }
   },
   "outputs": [
    {
     "name": "stdout",
     "output_type": "stream",
     "text": [
      "Found 22500 images belonging to 2 classes.\n",
      "Found 2500 images belonging to 2 classes.\n",
      "Found 12500 images belonging to 1 classes.\n"
     ]
    }
   ],
   "source": [
    "imageDataGenerator = ImageDataGenerator(\n",
    "    rescale=1./255,                  # 이건 그냥 고정 이미지 - 픽셀값을 0~255에서 0~1범위로 변경\n",
    "    shear_range=0.2,                 # 기울기 범위\n",
    "    zoom_range=0.2,                  # 확대 범위\n",
    "    horizontal_flip=True,           # 상하반전\n",
    "    validation_split=0.1            # 배치비율(예: 0.3, 0.2, 0.25 등등)\n",
    ")\n",
    "imageDataGenerator_test = ImageDataGenerator(rescale=1./255)\n",
    "\n",
    "train_dataset = imageDataGenerator.flow_from_directory(\n",
    "    \"./data/train/\",\n",
    "    target_size=(128,128),\n",
    "    batch_size=100,\n",
    "    subset=\"training\",\n",
    "    class_mode=\"binary\"\n",
    ")\n",
    "\n",
    "val_dataset = imageDataGenerator.flow_from_directory(\n",
    "    \"./data/train/\",\n",
    "    target_size=(128,128),\n",
    "    batch_size=100,\n",
    "    subset=\"validation\",\n",
    "    class_mode=\"binary\"\n",
    ")\n",
    "\n",
    "test_dataset = imageDataGenerator_test.flow_from_directory(\n",
    "    \"./data/test/\",\n",
    "    target_size=(128,128),\n",
    "    batch_size=100,\n",
    "    shuffle=False\n",
    ")"
   ]
  },
  {
   "cell_type": "markdown",
   "id": "49451f3c",
   "metadata": {},
   "source": [
    "# Function"
   ]
  },
  {
   "cell_type": "code",
   "execution_count": 8,
   "id": "5076c7cc",
   "metadata": {
    "ExecuteTime": {
     "end_time": "2023-02-09T02:13:49.314070Z",
     "start_time": "2023-02-09T02:13:49.307886Z"
    }
   },
   "outputs": [],
   "source": [
    "# 예측값을 넣으면 파일 순서에 맞게 정렬해서 반환\n",
    "def get_labels(preds):\n",
    "    # test 폴더에서 파일 목록 가져오기\n",
    "    path = \"data/test/test\"\n",
    "    files = os.listdir(path)\n",
    "    sorted_files = sorted(files)\n",
    "    \n",
    "    # 파일이름을 알파벳순이 아닌 정수 오름차순으로 변경하기 위한 작업\n",
    "    df = pd.DataFrame()\n",
    "    df[\"filename\"] = sorted_files\n",
    "    df[\"pred\"] = preds\n",
    "    df[\"filename\"] = df[\"filename\"].str.replace(\".jpg\", \"\", regex=False)\n",
    "    df[\"filename\"] = df[\"filename\"].astype(int)\n",
    "    df = df.sort_values(\"filename\")\n",
    "    return df[\"pred\"].values"
   ]
  },
  {
   "cell_type": "code",
   "execution_count": 9,
   "id": "815f9c23",
   "metadata": {
    "ExecuteTime": {
     "end_time": "2023-02-09T02:13:50.632258Z",
     "start_time": "2023-02-09T02:13:50.628282Z"
    }
   },
   "outputs": [],
   "source": [
    "# 파일을 저장하는 함수\n",
    "# save_preds(예측결과, 파일명) 으로 실행하면 된다\n",
    "def save_preds(preds, file_name=None):\n",
    "    # 파일 저장\n",
    "    if file_name is None:\n",
    "        file_name = f\"dog_vs_cat_submission_{get_filename()}.csv\"\n",
    "    submission_df = pd.read_csv(\"submission/sample_submission.csv\", index_col=\"id\")\n",
    "    submission_df[\"label\"] = get_labels(preds)\n",
    "    submission_df.to_csv(\"submission/\" + file_name)\n",
    "    \n",
    "    print(file_name + \" Saved!\")"
   ]
  },
  {
   "cell_type": "code",
   "execution_count": 10,
   "id": "46d41b3f",
   "metadata": {
    "ExecuteTime": {
     "end_time": "2023-02-09T02:13:54.114735Z",
     "start_time": "2023-02-09T02:13:54.108455Z"
    }
   },
   "outputs": [],
   "source": [
    "import matplotlib.pyplot as plt\n",
    "\n",
    "def show_graph(history_dict):\n",
    "    accuracy = history_dict['acc']\n",
    "    val_accuracy = history_dict['val_acc']\n",
    "    loss = history_dict['loss']\n",
    "    val_loss = history_dict['val_loss']\n",
    "\n",
    "    epochs = range(1, len(loss) + 1)\n",
    "    \n",
    "    plt.figure(figsize=(16, 1))\n",
    "    \n",
    "    plt.subplot(121)\n",
    "    plt.subplots_adjust(top=2)\n",
    "    plt.plot(epochs, accuracy, 'ro', label='Training accuracy')\n",
    "    plt.plot(epochs, val_accuracy, 'r', label='Validation accuracy')\n",
    "    plt.title('Trainging and validation accuracy and loss')\n",
    "    plt.xlabel('Epochs')\n",
    "    plt.ylabel('Accuracy and Loss')\n",
    "\n",
    "    plt.legend(loc='upper center', bbox_to_anchor=(0.5, -0.1),\n",
    "              fancybox=True, shadow=True, ncol=5)\n",
    "#     plt.legend(bbox_to_anchor=(1, -0.1))\n",
    "\n",
    "    plt.subplot(122)\n",
    "    plt.plot(epochs, loss, 'bo', label='Training loss')\n",
    "    plt.plot(epochs, val_loss, 'b', label='Validation loss')\n",
    "    plt.title('Training and validation loss')\n",
    "    plt.xlabel('Epochs')\n",
    "    plt.ylabel('Loss')\n",
    "    plt.legend(loc='upper center', bbox_to_anchor=(0.5, -0.1),\n",
    "          fancybox=True, shadow=True, ncol=5)\n",
    "#     plt.legend(bbox_to_anchor=(1, 0))\n",
    "\n",
    "    plt.show()"
   ]
  },
  {
   "cell_type": "markdown",
   "id": "dbd2c520",
   "metadata": {},
   "source": [
    "# Modeling(1)\n",
    "\n",
    "- 사이즈 255,255 batch = 10"
   ]
  },
  {
   "cell_type": "code",
   "execution_count": 112,
   "id": "22c6c179",
   "metadata": {
    "ExecuteTime": {
     "end_time": "2023-02-07T05:18:43.389214Z",
     "start_time": "2023-02-07T05:18:43.293422Z"
    }
   },
   "outputs": [
    {
     "name": "stdout",
     "output_type": "stream",
     "text": [
      "Model: \"sequential_10\"\n",
      "_________________________________________________________________\n",
      " Layer (type)                Output Shape              Param #   \n",
      "=================================================================\n",
      " conv2d_20 (Conv2D)          (None, 128, 128, 8)       224       \n",
      "                                                                 \n",
      " max_pooling2d_20 (MaxPoolin  (None, 64, 64, 8)        0         \n",
      " g2D)                                                            \n",
      "                                                                 \n",
      " conv2d_21 (Conv2D)          (None, 64, 64, 16)        1168      \n",
      "                                                                 \n",
      " max_pooling2d_21 (MaxPoolin  (None, 32, 32, 16)       0         \n",
      " g2D)                                                            \n",
      "                                                                 \n",
      " flatten_9 (Flatten)         (None, 16384)             0         \n",
      "                                                                 \n",
      " dense_18 (Dense)            (None, 32)                524320    \n",
      "                                                                 \n",
      " dropout_9 (Dropout)         (None, 32)                0         \n",
      "                                                                 \n",
      " dense_19 (Dense)            (None, 1)                 33        \n",
      "                                                                 \n",
      "=================================================================\n",
      "Total params: 525,745\n",
      "Trainable params: 525,745\n",
      "Non-trainable params: 0\n",
      "_________________________________________________________________\n"
     ]
    }
   ],
   "source": [
    "model = keras.Sequential()\n",
    "model.add(keras.layers.Conv2D(8, kernel_size = 3, activation = \"relu\", padding = \"same\",\n",
    "                              input_shape = (255,255, 3)))\n",
    "model.add(keras.layers.MaxPool2D(2))\n",
    "model.add(keras.layers.Conv2D(16, kernel_size = 3, activation = \"relu\", padding = \"same\"))\n",
    "model.add(keras.layers.MaxPool2D(2))\n",
    "model.add(keras.layers.Flatten())\n",
    "model.add(keras.layers.Dense(32, activation = \"relu\"))\n",
    "model.add(keras.layers.Dropout(0.4))\n",
    "model.add(keras.layers.Dense(1, activation = \"sigmoid\"))\n",
    "model.summary()"
   ]
  },
  {
   "cell_type": "code",
   "execution_count": 113,
   "id": "9d8cbf1f",
   "metadata": {
    "ExecuteTime": {
     "end_time": "2023-02-07T05:18:48.896743Z",
     "start_time": "2023-02-07T05:18:48.893250Z"
    }
   },
   "outputs": [],
   "source": [
    "checkpoint_cb = keras.callbacks.ModelCheckpoint(\"./model/best-cnn-2model.h5\", save_best_only = True)\n",
    "early_stopping_cb = keras.callbacks.EarlyStopping(patience = 3, restore_best_weights = True)"
   ]
  },
  {
   "cell_type": "code",
   "execution_count": 87,
   "id": "cea97325",
   "metadata": {
    "ExecuteTime": {
     "end_time": "2023-02-06T15:23:40.243454Z",
     "start_time": "2023-02-06T15:23:40.214335Z"
    }
   },
   "outputs": [],
   "source": [
    "model.compile(optimizer = \"adam\", loss = \"binary_crossentropy\", metrics = \"accuracy\")"
   ]
  },
  {
   "cell_type": "code",
   "execution_count": 88,
   "id": "d7bd8473",
   "metadata": {
    "ExecuteTime": {
     "end_time": "2023-02-06T18:38:22.131985Z",
     "start_time": "2023-02-06T15:23:40.249713Z"
    },
    "scrolled": true
   },
   "outputs": [
    {
     "name": "stdout",
     "output_type": "stream",
     "text": [
      "Epoch 1/100\n",
      "2250/2250 [==============================] - 518s 230ms/step - loss: 0.6236 - accuracy: 0.6470 - val_loss: 0.5380 - val_accuracy: 0.7300\n",
      "Epoch 2/100\n",
      "2250/2250 [==============================] - 935s 415ms/step - loss: 0.5536 - accuracy: 0.7156 - val_loss: 0.5198 - val_accuracy: 0.7472\n",
      "Epoch 3/100\n",
      "2250/2250 [==============================] - 796s 354ms/step - loss: 0.5341 - accuracy: 0.7321 - val_loss: 0.5276 - val_accuracy: 0.7504\n",
      "Epoch 4/100\n",
      "2250/2250 [==============================] - 489s 217ms/step - loss: 0.5188 - accuracy: 0.7463 - val_loss: 0.4785 - val_accuracy: 0.7608\n",
      "Epoch 5/100\n",
      "2250/2250 [==============================] - 486s 216ms/step - loss: 0.5051 - accuracy: 0.7521 - val_loss: 0.4746 - val_accuracy: 0.7720\n",
      "Epoch 6/100\n",
      "2250/2250 [==============================] - 487s 216ms/step - loss: 0.4940 - accuracy: 0.7629 - val_loss: 0.4583 - val_accuracy: 0.7872\n",
      "Epoch 7/100\n",
      "2250/2250 [==============================] - 487s 217ms/step - loss: 0.4867 - accuracy: 0.7688 - val_loss: 0.4630 - val_accuracy: 0.7812\n",
      "Epoch 8/100\n",
      "2250/2250 [==============================] - 488s 217ms/step - loss: 0.4730 - accuracy: 0.7781 - val_loss: 0.4890 - val_accuracy: 0.7656\n",
      "Epoch 9/100\n",
      "2250/2250 [==============================] - 489s 217ms/step - loss: 0.4632 - accuracy: 0.7805 - val_loss: 0.4565 - val_accuracy: 0.7920\n",
      "Epoch 10/100\n",
      "2250/2250 [==============================] - 488s 217ms/step - loss: 0.4655 - accuracy: 0.7795 - val_loss: 0.4426 - val_accuracy: 0.8036\n",
      "Epoch 11/100\n",
      "2250/2250 [==============================] - 517s 230ms/step - loss: 0.4553 - accuracy: 0.7889 - val_loss: 0.4185 - val_accuracy: 0.8164\n",
      "Epoch 12/100\n",
      "2250/2250 [==============================] - 549s 244ms/step - loss: 0.4504 - accuracy: 0.7890 - val_loss: 0.4297 - val_accuracy: 0.8016\n",
      "Epoch 13/100\n",
      "2250/2250 [==============================] - 552s 245ms/step - loss: 0.4471 - accuracy: 0.7924 - val_loss: 0.4625 - val_accuracy: 0.7860\n",
      "Epoch 14/100\n",
      "2250/2250 [==============================] - 550s 245ms/step - loss: 0.4371 - accuracy: 0.7962 - val_loss: 0.4184 - val_accuracy: 0.8088\n",
      "Epoch 15/100\n",
      "2250/2250 [==============================] - 551s 245ms/step - loss: 0.4383 - accuracy: 0.7990 - val_loss: 0.4275 - val_accuracy: 0.7996\n",
      "Epoch 16/100\n",
      "2250/2250 [==============================] - 551s 245ms/step - loss: 0.4318 - accuracy: 0.8032 - val_loss: 0.4280 - val_accuracy: 0.8068\n",
      "Epoch 17/100\n",
      "2250/2250 [==============================] - 551s 245ms/step - loss: 0.4279 - accuracy: 0.8008 - val_loss: 0.4064 - val_accuracy: 0.8168\n",
      "Epoch 18/100\n",
      "2250/2250 [==============================] - 547s 243ms/step - loss: 0.4268 - accuracy: 0.8057 - val_loss: 0.3965 - val_accuracy: 0.8240\n",
      "Epoch 19/100\n",
      "2250/2250 [==============================] - 550s 244ms/step - loss: 0.4250 - accuracy: 0.8043 - val_loss: 0.4073 - val_accuracy: 0.8160\n",
      "Epoch 20/100\n",
      "2250/2250 [==============================] - 550s 244ms/step - loss: 0.4142 - accuracy: 0.8120 - val_loss: 0.4244 - val_accuracy: 0.8144\n",
      "Epoch 21/100\n",
      "2250/2250 [==============================] - 550s 245ms/step - loss: 0.4148 - accuracy: 0.8107 - val_loss: 0.4077 - val_accuracy: 0.8200\n"
     ]
    }
   ],
   "source": [
    "history = model.fit(train_dataset, epochs = 100, validation_data = val_dataset,\n",
    "                    callbacks = [checkpoint_cb, early_stopping_cb])\n",
    "model.save_weights(\"1model.h5\")"
   ]
  },
  {
   "cell_type": "markdown",
   "id": "102457ee",
   "metadata": {},
   "source": [
    "# model(2) - 사이즈 128, 배치사이즈 100\n",
    "\n"
   ]
  },
  {
   "cell_type": "markdown",
   "id": "7268bda1",
   "metadata": {},
   "source": [
    "## 0.36311- 887등"
   ]
  },
  {
   "cell_type": "code",
   "execution_count": 115,
   "id": "c3f83761",
   "metadata": {
    "ExecuteTime": {
     "end_time": "2023-02-07T05:20:55.481059Z",
     "start_time": "2023-02-07T05:20:55.374576Z"
    },
    "scrolled": true
   },
   "outputs": [
    {
     "name": "stdout",
     "output_type": "stream",
     "text": [
      "Model: \"sequential_11\"\n",
      "_________________________________________________________________\n",
      " Layer (type)                Output Shape              Param #   \n",
      "=================================================================\n",
      " conv2d_22 (Conv2D)          (None, 128, 128, 8)       224       \n",
      "                                                                 \n",
      " max_pooling2d_22 (MaxPoolin  (None, 64, 64, 8)        0         \n",
      " g2D)                                                            \n",
      "                                                                 \n",
      " conv2d_23 (Conv2D)          (None, 64, 64, 16)        1168      \n",
      "                                                                 \n",
      " max_pooling2d_23 (MaxPoolin  (None, 32, 32, 16)       0         \n",
      " g2D)                                                            \n",
      "                                                                 \n",
      " conv2d_24 (Conv2D)          (None, 32, 32, 32)        4640      \n",
      "                                                                 \n",
      " max_pooling2d_24 (MaxPoolin  (None, 16, 16, 32)       0         \n",
      " g2D)                                                            \n",
      "                                                                 \n",
      " flatten_10 (Flatten)        (None, 8192)              0         \n",
      "                                                                 \n",
      " dense_20 (Dense)            (None, 32)                262176    \n",
      "                                                                 \n",
      " dropout_10 (Dropout)        (None, 32)                0         \n",
      "                                                                 \n",
      " dense_21 (Dense)            (None, 1)                 33        \n",
      "                                                                 \n",
      "=================================================================\n",
      "Total params: 268,241\n",
      "Trainable params: 268,241\n",
      "Non-trainable params: 0\n",
      "_________________________________________________________________\n"
     ]
    }
   ],
   "source": [
    "model = keras.Sequential()\n",
    "model.add(keras.layers.Conv2D(8, kernel_size = 3, activation = \"relu\", padding = \"same\",\n",
    "                              input_shape = (128,128, 3)))\n",
    "model.add(keras.layers.MaxPool2D(2))\n",
    "model.add(keras.layers.Conv2D(16, kernel_size = 3, activation = \"relu\", padding = \"same\"))\n",
    "model.add(keras.layers.MaxPool2D(2))\n",
    "model.add(keras.layers.Conv2D(32, kernel_size = 3, activation = \"relu\", padding = \"same\"))\n",
    "model.add(keras.layers.MaxPool2D(2))\n",
    "model.add(keras.layers.Flatten())\n",
    "model.add(keras.layers.Dense(32, activation = \"relu\"))\n",
    "model.add(keras.layers.Dropout(0.4))\n",
    "model.add(keras.layers.Dense(1, activation = \"sigmoid\"))\n",
    "model.summary()"
   ]
  },
  {
   "cell_type": "code",
   "execution_count": 116,
   "id": "846a98a3",
   "metadata": {
    "ExecuteTime": {
     "end_time": "2023-02-07T05:21:02.386370Z",
     "start_time": "2023-02-07T05:21:02.382984Z"
    }
   },
   "outputs": [],
   "source": [
    "checkpoint_cb = keras.callbacks.ModelCheckpoint(\"./model/best-cnn-1model.h5\", save_best_only = True)\n",
    "early_stopping_cb = keras.callbacks.EarlyStopping(patience = 3, restore_best_weights = True)"
   ]
  },
  {
   "cell_type": "code",
   "execution_count": 117,
   "id": "6ff0d1f6",
   "metadata": {
    "ExecuteTime": {
     "end_time": "2023-02-07T05:21:05.402568Z",
     "start_time": "2023-02-07T05:21:05.390164Z"
    }
   },
   "outputs": [],
   "source": [
    "model.compile(optimizer = \"adam\", loss = \"binary_crossentropy\", metrics = \"accuracy\")"
   ]
  },
  {
   "cell_type": "code",
   "execution_count": 118,
   "id": "98bc24d4",
   "metadata": {
    "ExecuteTime": {
     "end_time": "2023-02-07T06:12:57.456722Z",
     "start_time": "2023-02-07T05:21:07.581560Z"
    },
    "scrolled": true
   },
   "outputs": [
    {
     "name": "stdout",
     "output_type": "stream",
     "text": [
      "Epoch 1/100\n",
      "225/225 [==============================] - 199s 877ms/step - loss: 0.6137 - accuracy: 0.6527 - val_loss: 0.5551 - val_accuracy: 0.7288\n",
      "Epoch 2/100\n",
      "225/225 [==============================] - 186s 825ms/step - loss: 0.5541 - accuracy: 0.7148 - val_loss: 0.5145 - val_accuracy: 0.7460\n",
      "Epoch 3/100\n",
      "225/225 [==============================] - 183s 812ms/step - loss: 0.5232 - accuracy: 0.7394 - val_loss: 0.4813 - val_accuracy: 0.7572\n",
      "Epoch 4/100\n",
      "225/225 [==============================] - 185s 820ms/step - loss: 0.4878 - accuracy: 0.7668 - val_loss: 0.4943 - val_accuracy: 0.7600\n",
      "Epoch 5/100\n",
      "225/225 [==============================] - 192s 852ms/step - loss: 0.4726 - accuracy: 0.7781 - val_loss: 0.4528 - val_accuracy: 0.7832\n",
      "Epoch 6/100\n",
      "225/225 [==============================] - 184s 817ms/step - loss: 0.4637 - accuracy: 0.7866 - val_loss: 0.4291 - val_accuracy: 0.7936\n",
      "Epoch 7/100\n",
      "225/225 [==============================] - 180s 800ms/step - loss: 0.4474 - accuracy: 0.7980 - val_loss: 0.4254 - val_accuracy: 0.7964\n",
      "Epoch 8/100\n",
      "225/225 [==============================] - 179s 795ms/step - loss: 0.4329 - accuracy: 0.8068 - val_loss: 0.4242 - val_accuracy: 0.8036\n",
      "Epoch 9/100\n",
      "225/225 [==============================] - 179s 796ms/step - loss: 0.4266 - accuracy: 0.8101 - val_loss: 0.4126 - val_accuracy: 0.8092\n",
      "Epoch 10/100\n",
      "225/225 [==============================] - 182s 810ms/step - loss: 0.4156 - accuracy: 0.8172 - val_loss: 0.4200 - val_accuracy: 0.8080\n",
      "Epoch 11/100\n",
      "225/225 [==============================] - 186s 827ms/step - loss: 0.4074 - accuracy: 0.8220 - val_loss: 0.3894 - val_accuracy: 0.8300\n",
      "Epoch 12/100\n",
      "225/225 [==============================] - 180s 798ms/step - loss: 0.3953 - accuracy: 0.8265 - val_loss: 0.3797 - val_accuracy: 0.8236\n",
      "Epoch 13/100\n",
      "225/225 [==============================] - 180s 799ms/step - loss: 0.3795 - accuracy: 0.8371 - val_loss: 0.3690 - val_accuracy: 0.8364\n",
      "Epoch 14/100\n",
      "225/225 [==============================] - 178s 792ms/step - loss: 0.3750 - accuracy: 0.8365 - val_loss: 0.3561 - val_accuracy: 0.8336\n",
      "Epoch 15/100\n",
      "225/225 [==============================] - 180s 800ms/step - loss: 0.3678 - accuracy: 0.8396 - val_loss: 0.3666 - val_accuracy: 0.8428\n",
      "Epoch 16/100\n",
      "225/225 [==============================] - 179s 795ms/step - loss: 0.3668 - accuracy: 0.8447 - val_loss: 0.3695 - val_accuracy: 0.8268\n",
      "Epoch 17/100\n",
      "225/225 [==============================] - 178s 790ms/step - loss: 0.3612 - accuracy: 0.8470 - val_loss: 0.3597 - val_accuracy: 0.8364\n"
     ]
    }
   ],
   "source": [
    "history = model.fit(train_dataset, epochs = 100, validation_data = val_dataset,\n",
    "                    callbacks = [checkpoint_cb, early_stopping_cb])\n",
    "model.save_weights(\"1model.h5\")"
   ]
  },
  {
   "cell_type": "code",
   "execution_count": 121,
   "id": "df7ac4b5",
   "metadata": {
    "ExecuteTime": {
     "end_time": "2023-02-07T07:09:21.648451Z",
     "start_time": "2023-02-07T07:08:44.256972Z"
    }
   },
   "outputs": [
    {
     "name": "stdout",
     "output_type": "stream",
     "text": [
      "125/125 [==============================] - 37s 295ms/step\n"
     ]
    }
   ],
   "source": [
    "pred = model.predict(test_dataset)"
   ]
  },
  {
   "cell_type": "code",
   "execution_count": 127,
   "id": "0a60286f",
   "metadata": {
    "ExecuteTime": {
     "end_time": "2023-02-07T07:11:31.416246Z",
     "start_time": "2023-02-07T07:11:31.349539Z"
    }
   },
   "outputs": [
    {
     "name": "stdout",
     "output_type": "stream",
     "text": [
      "first_model.csv Saved!\n"
     ]
    }
   ],
   "source": [
    "save_preds(pred, \"first_model.csv\")"
   ]
  },
  {
   "cell_type": "code",
   "execution_count": 119,
   "id": "156cd77d",
   "metadata": {
    "ExecuteTime": {
     "end_time": "2023-02-07T06:13:45.152989Z",
     "start_time": "2023-02-07T06:12:57.460389Z"
    }
   },
   "outputs": [
    {
     "data": {
      "text/plain": [
       "[1.4478065967559814, 0.5015199780464172]"
      ]
     },
     "execution_count": 119,
     "metadata": {},
     "output_type": "execute_result"
    }
   ],
   "source": [
    "model.evaluate_generator(test_dataset)"
   ]
  },
  {
   "cell_type": "code",
   "execution_count": 120,
   "id": "0f7cecff",
   "metadata": {
    "ExecuteTime": {
     "end_time": "2023-02-07T06:16:01.771871Z",
     "start_time": "2023-02-07T06:15:25.271003Z"
    }
   },
   "outputs": [
    {
     "name": "stdout",
     "output_type": "stream",
     "text": [
      "125/125 [==============================] - 36s 289ms/step - loss: 1.4478 - accuracy: 0.5015\n"
     ]
    },
    {
     "data": {
      "text/plain": [
       "[1.4478065967559814, 0.5015199780464172]"
      ]
     },
     "execution_count": 120,
     "metadata": {},
     "output_type": "execute_result"
    }
   ],
   "source": [
    "model.evaluate(test_dataset)"
   ]
  },
  {
   "cell_type": "markdown",
   "id": "2b4f31a1",
   "metadata": {},
   "source": [
    "# model(3) - model(2)의 conv2D(64), maxpool2d(2) 추가"
   ]
  },
  {
   "cell_type": "markdown",
   "id": "ae3e8049",
   "metadata": {},
   "source": [
    "## Score: 0.30503 - 859등"
   ]
  },
  {
   "cell_type": "code",
   "execution_count": 128,
   "id": "c8c37117",
   "metadata": {
    "ExecuteTime": {
     "end_time": "2023-02-07T07:13:44.205487Z",
     "start_time": "2023-02-07T07:13:44.062194Z"
    },
    "scrolled": true
   },
   "outputs": [
    {
     "name": "stdout",
     "output_type": "stream",
     "text": [
      "Model: \"sequential_12\"\n",
      "_________________________________________________________________\n",
      " Layer (type)                Output Shape              Param #   \n",
      "=================================================================\n",
      " conv2d_25 (Conv2D)          (None, 128, 128, 8)       224       \n",
      "                                                                 \n",
      " max_pooling2d_25 (MaxPoolin  (None, 64, 64, 8)        0         \n",
      " g2D)                                                            \n",
      "                                                                 \n",
      " conv2d_26 (Conv2D)          (None, 64, 64, 16)        1168      \n",
      "                                                                 \n",
      " max_pooling2d_26 (MaxPoolin  (None, 32, 32, 16)       0         \n",
      " g2D)                                                            \n",
      "                                                                 \n",
      " conv2d_27 (Conv2D)          (None, 32, 32, 32)        4640      \n",
      "                                                                 \n",
      " max_pooling2d_27 (MaxPoolin  (None, 16, 16, 32)       0         \n",
      " g2D)                                                            \n",
      "                                                                 \n",
      " conv2d_28 (Conv2D)          (None, 16, 16, 64)        18496     \n",
      "                                                                 \n",
      " max_pooling2d_28 (MaxPoolin  (None, 8, 8, 64)         0         \n",
      " g2D)                                                            \n",
      "                                                                 \n",
      " flatten_11 (Flatten)        (None, 4096)              0         \n",
      "                                                                 \n",
      " dense_22 (Dense)            (None, 32)                131104    \n",
      "                                                                 \n",
      " dropout_11 (Dropout)        (None, 32)                0         \n",
      "                                                                 \n",
      " dense_23 (Dense)            (None, 1)                 33        \n",
      "                                                                 \n",
      "=================================================================\n",
      "Total params: 155,665\n",
      "Trainable params: 155,665\n",
      "Non-trainable params: 0\n",
      "_________________________________________________________________\n"
     ]
    }
   ],
   "source": [
    "model = keras.Sequential()\n",
    "model.add(keras.layers.Conv2D(8, kernel_size = 3, activation = \"relu\", padding = \"same\",\n",
    "                              input_shape = (128,128, 3)))\n",
    "model.add(keras.layers.MaxPool2D(2))\n",
    "model.add(keras.layers.Conv2D(16, kernel_size = 3, activation = \"relu\", padding = \"same\"))\n",
    "model.add(keras.layers.MaxPool2D(2))\n",
    "model.add(keras.layers.Conv2D(32, kernel_size = 3, activation = \"relu\", padding = \"same\"))\n",
    "model.add(keras.layers.MaxPool2D(2))\n",
    "model.add(keras.layers.Conv2D(64, kernel_size = 3, activation = \"relu\", padding = \"same\"))\n",
    "model.add(keras.layers.MaxPool2D(2))\n",
    "model.add(keras.layers.Flatten())\n",
    "model.add(keras.layers.Dense(32, activation = \"relu\"))\n",
    "model.add(keras.layers.Dropout(0.4))\n",
    "model.add(keras.layers.Dense(1, activation = \"sigmoid\"))\n",
    "model.summary()"
   ]
  },
  {
   "cell_type": "code",
   "execution_count": 129,
   "id": "737a81d1",
   "metadata": {
    "ExecuteTime": {
     "end_time": "2023-02-07T07:13:49.734209Z",
     "start_time": "2023-02-07T07:13:49.730703Z"
    }
   },
   "outputs": [],
   "source": [
    "checkpoint_cb = keras.callbacks.ModelCheckpoint(\"./model/best-cnn-3model.h5\", save_best_only = True)\n",
    "early_stopping_cb = keras.callbacks.EarlyStopping(patience = 3, restore_best_weights = True)"
   ]
  },
  {
   "cell_type": "code",
   "execution_count": 130,
   "id": "4115442f",
   "metadata": {
    "ExecuteTime": {
     "end_time": "2023-02-07T07:13:50.455091Z",
     "start_time": "2023-02-07T07:13:50.445106Z"
    }
   },
   "outputs": [],
   "source": [
    "model.compile(optimizer = \"adam\", loss = \"binary_crossentropy\", metrics = \"accuracy\")"
   ]
  },
  {
   "cell_type": "code",
   "execution_count": 131,
   "id": "9cadd510",
   "metadata": {
    "ExecuteTime": {
     "end_time": "2023-02-07T08:22:05.715369Z",
     "start_time": "2023-02-07T07:13:51.316667Z"
    },
    "scrolled": true
   },
   "outputs": [
    {
     "name": "stdout",
     "output_type": "stream",
     "text": [
      "Epoch 1/100\n",
      "225/225 [==============================] - 201s 885ms/step - loss: 0.6478 - accuracy: 0.6076 - val_loss: 0.5838 - val_accuracy: 0.6764\n",
      "Epoch 2/100\n",
      "225/225 [==============================] - 186s 826ms/step - loss: 0.5646 - accuracy: 0.7076 - val_loss: 0.5241 - val_accuracy: 0.7272\n",
      "Epoch 3/100\n",
      "225/225 [==============================] - 185s 822ms/step - loss: 0.5202 - accuracy: 0.7446 - val_loss: 0.4835 - val_accuracy: 0.7792\n",
      "Epoch 4/100\n",
      "225/225 [==============================] - 185s 824ms/step - loss: 0.4873 - accuracy: 0.7692 - val_loss: 0.4540 - val_accuracy: 0.7804\n",
      "Epoch 5/100\n",
      "225/225 [==============================] - 183s 814ms/step - loss: 0.4716 - accuracy: 0.7815 - val_loss: 0.4525 - val_accuracy: 0.7968\n",
      "Epoch 6/100\n",
      "225/225 [==============================] - 186s 826ms/step - loss: 0.4450 - accuracy: 0.7982 - val_loss: 0.4028 - val_accuracy: 0.8128\n",
      "Epoch 7/100\n",
      "225/225 [==============================] - 189s 840ms/step - loss: 0.4263 - accuracy: 0.8103 - val_loss: 0.3936 - val_accuracy: 0.8232\n",
      "Epoch 8/100\n",
      "225/225 [==============================] - 184s 819ms/step - loss: 0.4113 - accuracy: 0.8191 - val_loss: 0.3656 - val_accuracy: 0.8368\n",
      "Epoch 9/100\n",
      "225/225 [==============================] - 187s 829ms/step - loss: 0.4000 - accuracy: 0.8270 - val_loss: 0.3604 - val_accuracy: 0.8396\n",
      "Epoch 10/100\n",
      "225/225 [==============================] - 185s 823ms/step - loss: 0.3812 - accuracy: 0.8368 - val_loss: 0.3512 - val_accuracy: 0.8412\n",
      "Epoch 11/100\n",
      "225/225 [==============================] - 186s 826ms/step - loss: 0.3700 - accuracy: 0.8411 - val_loss: 0.3625 - val_accuracy: 0.8340\n",
      "Epoch 12/100\n",
      "225/225 [==============================] - 186s 828ms/step - loss: 0.3519 - accuracy: 0.8508 - val_loss: 0.3225 - val_accuracy: 0.8520\n",
      "Epoch 13/100\n",
      "225/225 [==============================] - 187s 829ms/step - loss: 0.3441 - accuracy: 0.8566 - val_loss: 0.3323 - val_accuracy: 0.8588\n",
      "Epoch 14/100\n",
      "225/225 [==============================] - 186s 825ms/step - loss: 0.3334 - accuracy: 0.8581 - val_loss: 0.3042 - val_accuracy: 0.8652\n",
      "Epoch 15/100\n",
      "225/225 [==============================] - 184s 817ms/step - loss: 0.3233 - accuracy: 0.8662 - val_loss: 0.2984 - val_accuracy: 0.8716\n",
      "Epoch 16/100\n",
      "225/225 [==============================] - 183s 814ms/step - loss: 0.3112 - accuracy: 0.8694 - val_loss: 0.2926 - val_accuracy: 0.8756\n",
      "Epoch 17/100\n",
      "225/225 [==============================] - 184s 817ms/step - loss: 0.2991 - accuracy: 0.8784 - val_loss: 0.2995 - val_accuracy: 0.8764\n",
      "Epoch 18/100\n",
      "225/225 [==============================] - 184s 819ms/step - loss: 0.2991 - accuracy: 0.8780 - val_loss: 0.2730 - val_accuracy: 0.8840\n",
      "Epoch 19/100\n",
      "225/225 [==============================] - 184s 819ms/step - loss: 0.2828 - accuracy: 0.8840 - val_loss: 0.2719 - val_accuracy: 0.8828\n",
      "Epoch 20/100\n",
      "225/225 [==============================] - 184s 818ms/step - loss: 0.2885 - accuracy: 0.8816 - val_loss: 0.2973 - val_accuracy: 0.8708\n",
      "Epoch 21/100\n",
      "225/225 [==============================] - 184s 818ms/step - loss: 0.2663 - accuracy: 0.8924 - val_loss: 0.2838 - val_accuracy: 0.8828\n",
      "Epoch 22/100\n",
      "225/225 [==============================] - 189s 840ms/step - loss: 0.2655 - accuracy: 0.8919 - val_loss: 0.2763 - val_accuracy: 0.8812\n"
     ]
    }
   ],
   "source": [
    "history = model.fit(train_dataset, epochs = 100, validation_data = val_dataset,\n",
    "                    callbacks = [checkpoint_cb, early_stopping_cb])\n",
    "model.save_weights(\"3model.h5\")"
   ]
  },
  {
   "cell_type": "code",
   "execution_count": 132,
   "id": "94a17ac7",
   "metadata": {
    "ExecuteTime": {
     "end_time": "2023-02-07T08:22:42.585136Z",
     "start_time": "2023-02-07T08:22:05.718405Z"
    }
   },
   "outputs": [
    {
     "name": "stdout",
     "output_type": "stream",
     "text": [
      "125/125 [==============================] - 37s 291ms/step\n"
     ]
    }
   ],
   "source": [
    "pred = model.predict(test_dataset)"
   ]
  },
  {
   "cell_type": "code",
   "execution_count": 133,
   "id": "0f7cb689",
   "metadata": {
    "ExecuteTime": {
     "end_time": "2023-02-07T08:22:42.662940Z",
     "start_time": "2023-02-07T08:22:42.588086Z"
    }
   },
   "outputs": [
    {
     "name": "stdout",
     "output_type": "stream",
     "text": [
      "second_model.csv Saved!\n"
     ]
    }
   ],
   "source": [
    "save_preds(pred, \"second_model.csv\")"
   ]
  },
  {
   "cell_type": "markdown",
   "id": "85115341",
   "metadata": {},
   "source": [
    "# model(4)\n",
    "\n",
    "- model(3)의 사이즈를 80으로 축소"
   ]
  },
  {
   "cell_type": "markdown",
   "id": "b553b5c4",
   "metadata": {},
   "source": [
    "## Score: 0.32353"
   ]
  },
  {
   "cell_type": "code",
   "execution_count": 136,
   "id": "3352d9b6",
   "metadata": {
    "ExecuteTime": {
     "end_time": "2023-02-07T10:24:06.807526Z",
     "start_time": "2023-02-07T10:24:06.669611Z"
    },
    "scrolled": true
   },
   "outputs": [
    {
     "name": "stdout",
     "output_type": "stream",
     "text": [
      "Model: \"sequential_13\"\n",
      "_________________________________________________________________\n",
      " Layer (type)                Output Shape              Param #   \n",
      "=================================================================\n",
      " conv2d_29 (Conv2D)          (None, 80, 80, 8)         224       \n",
      "                                                                 \n",
      " max_pooling2d_29 (MaxPoolin  (None, 40, 40, 8)        0         \n",
      " g2D)                                                            \n",
      "                                                                 \n",
      " conv2d_30 (Conv2D)          (None, 40, 40, 16)        1168      \n",
      "                                                                 \n",
      " max_pooling2d_30 (MaxPoolin  (None, 20, 20, 16)       0         \n",
      " g2D)                                                            \n",
      "                                                                 \n",
      " conv2d_31 (Conv2D)          (None, 20, 20, 32)        4640      \n",
      "                                                                 \n",
      " max_pooling2d_31 (MaxPoolin  (None, 10, 10, 32)       0         \n",
      " g2D)                                                            \n",
      "                                                                 \n",
      " conv2d_32 (Conv2D)          (None, 10, 10, 64)        18496     \n",
      "                                                                 \n",
      " max_pooling2d_32 (MaxPoolin  (None, 5, 5, 64)         0         \n",
      " g2D)                                                            \n",
      "                                                                 \n",
      " flatten_12 (Flatten)        (None, 1600)              0         \n",
      "                                                                 \n",
      " dense_24 (Dense)            (None, 32)                51232     \n",
      "                                                                 \n",
      " dropout_12 (Dropout)        (None, 32)                0         \n",
      "                                                                 \n",
      " dense_25 (Dense)            (None, 1)                 33        \n",
      "                                                                 \n",
      "=================================================================\n",
      "Total params: 75,793\n",
      "Trainable params: 75,793\n",
      "Non-trainable params: 0\n",
      "_________________________________________________________________\n"
     ]
    }
   ],
   "source": [
    "model = keras.Sequential()\n",
    "model.add(keras.layers.Conv2D(8, kernel_size = 3, activation = \"relu\", padding = \"same\",\n",
    "                              input_shape = (80,80, 3)))\n",
    "model.add(keras.layers.MaxPool2D(2))\n",
    "\n",
    "model.add(keras.layers.Conv2D(16, kernel_size = 3, activation = \"relu\", padding = \"same\"))\n",
    "model.add(keras.layers.MaxPool2D(2))\n",
    "\n",
    "model.add(keras.layers.Conv2D(32, kernel_size = 3, activation = \"relu\", padding = \"same\"))\n",
    "model.add(keras.layers.MaxPool2D(2))\n",
    "\n",
    "model.add(keras.layers.Conv2D(64, kernel_size = 3, activation = \"relu\", padding = \"same\"))\n",
    "model.add(keras.layers.MaxPool2D(2))\n",
    "\n",
    "model.add(keras.layers.Flatten())\n",
    "\n",
    "model.add(keras.layers.Dense(32, activation = \"relu\"))\n",
    "\n",
    "model.add(keras.layers.Dropout(0.4))\n",
    "\n",
    "model.add(keras.layers.Dense(1, activation = \"sigmoid\"))\n",
    "model.summary()"
   ]
  },
  {
   "cell_type": "code",
   "execution_count": 137,
   "id": "77d99acb",
   "metadata": {
    "ExecuteTime": {
     "end_time": "2023-02-07T10:24:06.818644Z",
     "start_time": "2023-02-07T10:24:06.814839Z"
    }
   },
   "outputs": [],
   "source": [
    "checkpoint_cb = keras.callbacks.ModelCheckpoint(\"./model/best-cnn-4model.h5\", save_best_only = True)\n",
    "early_stopping_cb = keras.callbacks.EarlyStopping(patience = 3, restore_best_weights = True)"
   ]
  },
  {
   "cell_type": "code",
   "execution_count": 138,
   "id": "2eedfe5a",
   "metadata": {
    "ExecuteTime": {
     "end_time": "2023-02-07T10:24:06.946874Z",
     "start_time": "2023-02-07T10:24:06.937197Z"
    }
   },
   "outputs": [],
   "source": [
    "model.compile(optimizer = \"adam\", loss = \"binary_crossentropy\", metrics = \"accuracy\")"
   ]
  },
  {
   "cell_type": "code",
   "execution_count": 139,
   "id": "e2a863e2",
   "metadata": {
    "ExecuteTime": {
     "end_time": "2023-02-07T11:06:44.337984Z",
     "start_time": "2023-02-07T10:24:07.073414Z"
    },
    "scrolled": true
   },
   "outputs": [
    {
     "name": "stdout",
     "output_type": "stream",
     "text": [
      "Epoch 1/100\n",
      "225/225 [==============================] - 120s 522ms/step - loss: 0.6370 - accuracy: 0.6335 - val_loss: 0.5885 - val_accuracy: 0.6856\n",
      "Epoch 2/100\n",
      "225/225 [==============================] - 118s 524ms/step - loss: 0.5753 - accuracy: 0.7006 - val_loss: 0.5464 - val_accuracy: 0.7212\n",
      "Epoch 3/100\n",
      "225/225 [==============================] - 116s 517ms/step - loss: 0.5470 - accuracy: 0.7256 - val_loss: 0.5324 - val_accuracy: 0.7232\n",
      "Epoch 4/100\n",
      "225/225 [==============================] - 115s 513ms/step - loss: 0.5135 - accuracy: 0.7524 - val_loss: 0.4785 - val_accuracy: 0.7676\n",
      "Epoch 5/100\n",
      "225/225 [==============================] - 116s 515ms/step - loss: 0.4935 - accuracy: 0.7656 - val_loss: 0.4567 - val_accuracy: 0.7836\n",
      "Epoch 6/100\n",
      "225/225 [==============================] - 116s 514ms/step - loss: 0.4697 - accuracy: 0.7833 - val_loss: 0.4358 - val_accuracy: 0.8008\n",
      "Epoch 7/100\n",
      "225/225 [==============================] - 116s 514ms/step - loss: 0.4515 - accuracy: 0.7947 - val_loss: 0.4313 - val_accuracy: 0.7916\n",
      "Epoch 8/100\n",
      "225/225 [==============================] - 116s 515ms/step - loss: 0.4397 - accuracy: 0.7996 - val_loss: 0.4150 - val_accuracy: 0.8120\n",
      "Epoch 9/100\n",
      "225/225 [==============================] - 116s 513ms/step - loss: 0.4275 - accuracy: 0.8088 - val_loss: 0.4302 - val_accuracy: 0.8048\n",
      "Epoch 10/100\n",
      "225/225 [==============================] - 116s 514ms/step - loss: 0.4103 - accuracy: 0.8183 - val_loss: 0.3786 - val_accuracy: 0.8216\n",
      "Epoch 11/100\n",
      "225/225 [==============================] - 116s 514ms/step - loss: 0.3957 - accuracy: 0.8260 - val_loss: 0.3783 - val_accuracy: 0.8268\n",
      "Epoch 12/100\n",
      "225/225 [==============================] - 116s 514ms/step - loss: 0.3774 - accuracy: 0.8340 - val_loss: 0.3691 - val_accuracy: 0.8332\n",
      "Epoch 13/100\n",
      "225/225 [==============================] - 116s 514ms/step - loss: 0.3729 - accuracy: 0.8397 - val_loss: 0.3667 - val_accuracy: 0.8352\n",
      "Epoch 14/100\n",
      "225/225 [==============================] - 116s 513ms/step - loss: 0.3631 - accuracy: 0.8397 - val_loss: 0.3715 - val_accuracy: 0.8296\n",
      "Epoch 15/100\n",
      "225/225 [==============================] - 116s 514ms/step - loss: 0.3560 - accuracy: 0.8495 - val_loss: 0.3625 - val_accuracy: 0.8412\n",
      "Epoch 16/100\n",
      "225/225 [==============================] - 116s 515ms/step - loss: 0.3470 - accuracy: 0.8520 - val_loss: 0.3178 - val_accuracy: 0.8596\n",
      "Epoch 17/100\n",
      "225/225 [==============================] - 118s 524ms/step - loss: 0.3402 - accuracy: 0.8566 - val_loss: 0.3333 - val_accuracy: 0.8496\n",
      "Epoch 18/100\n",
      "225/225 [==============================] - 117s 519ms/step - loss: 0.3225 - accuracy: 0.8671 - val_loss: 0.3352 - val_accuracy: 0.8572\n",
      "Epoch 19/100\n",
      "225/225 [==============================] - 117s 519ms/step - loss: 0.3219 - accuracy: 0.8667 - val_loss: 0.3137 - val_accuracy: 0.8616\n",
      "Epoch 20/100\n",
      "225/225 [==============================] - 116s 514ms/step - loss: 0.3176 - accuracy: 0.8670 - val_loss: 0.3205 - val_accuracy: 0.8604\n",
      "Epoch 21/100\n",
      "225/225 [==============================] - 116s 514ms/step - loss: 0.3127 - accuracy: 0.8703 - val_loss: 0.3470 - val_accuracy: 0.8400\n",
      "Epoch 22/100\n",
      "225/225 [==============================] - 116s 514ms/step - loss: 0.3065 - accuracy: 0.8686 - val_loss: 0.3150 - val_accuracy: 0.8648\n"
     ]
    }
   ],
   "source": [
    "history = model.fit(train_dataset, epochs = 100, validation_data = val_dataset,\n",
    "                    callbacks = [checkpoint_cb, early_stopping_cb])\n",
    "model.save_weights(\"4model.h5\")"
   ]
  },
  {
   "cell_type": "code",
   "execution_count": 140,
   "id": "31e5531f",
   "metadata": {
    "ExecuteTime": {
     "end_time": "2023-02-07T11:07:16.493592Z",
     "start_time": "2023-02-07T11:06:44.341088Z"
    }
   },
   "outputs": [
    {
     "name": "stdout",
     "output_type": "stream",
     "text": [
      "125/125 [==============================] - 32s 253ms/step\n"
     ]
    }
   ],
   "source": [
    "pred = model.predict(test_dataset)"
   ]
  },
  {
   "cell_type": "code",
   "execution_count": 141,
   "id": "bd5bb621",
   "metadata": {
    "ExecuteTime": {
     "end_time": "2023-02-07T11:07:16.570061Z",
     "start_time": "2023-02-07T11:07:16.495652Z"
    }
   },
   "outputs": [
    {
     "name": "stdout",
     "output_type": "stream",
     "text": [
      "third_model.csv Saved!\n"
     ]
    }
   ],
   "source": [
    "save_preds(pred, \"third_model.csv\")"
   ]
  },
  {
   "cell_type": "markdown",
   "id": "65ddb9e3",
   "metadata": {},
   "source": [
    "# model(5)\n",
    "\n",
    "- conv2d -> Dropout -> batchnorm -> acti -> pool 적용"
   ]
  },
  {
   "cell_type": "markdown",
   "id": "9097cd0f",
   "metadata": {},
   "source": [
    "## Score: 0.44185"
   ]
  },
  {
   "cell_type": "code",
   "execution_count": 142,
   "id": "94e6d85b",
   "metadata": {
    "ExecuteTime": {
     "end_time": "2023-02-07T11:07:16.838335Z",
     "start_time": "2023-02-07T11:07:16.574403Z"
    },
    "scrolled": true
   },
   "outputs": [
    {
     "name": "stdout",
     "output_type": "stream",
     "text": [
      "Model: \"sequential_14\"\n",
      "_________________________________________________________________\n",
      " Layer (type)                Output Shape              Param #   \n",
      "=================================================================\n",
      " conv2d_33 (Conv2D)          (None, 80, 80, 8)         224       \n",
      "                                                                 \n",
      " dropout_13 (Dropout)        (None, 80, 80, 8)         0         \n",
      "                                                                 \n",
      " batch_normalization (BatchN  (None, 80, 80, 8)        32        \n",
      " ormalization)                                                   \n",
      "                                                                 \n",
      " activation (Activation)     (None, 80, 80, 8)         0         \n",
      "                                                                 \n",
      " max_pooling2d_33 (MaxPoolin  (None, 40, 40, 8)        0         \n",
      " g2D)                                                            \n",
      "                                                                 \n",
      " conv2d_34 (Conv2D)          (None, 40, 40, 16)        1168      \n",
      "                                                                 \n",
      " dropout_14 (Dropout)        (None, 40, 40, 16)        0         \n",
      "                                                                 \n",
      " batch_normalization_1 (Batc  (None, 40, 40, 16)       64        \n",
      " hNormalization)                                                 \n",
      "                                                                 \n",
      " activation_1 (Activation)   (None, 40, 40, 16)        0         \n",
      "                                                                 \n",
      " max_pooling2d_34 (MaxPoolin  (None, 20, 20, 16)       0         \n",
      " g2D)                                                            \n",
      "                                                                 \n",
      " conv2d_35 (Conv2D)          (None, 20, 20, 32)        4640      \n",
      "                                                                 \n",
      " dropout_15 (Dropout)        (None, 20, 20, 32)        0         \n",
      "                                                                 \n",
      " batch_normalization_2 (Batc  (None, 20, 20, 32)       128       \n",
      " hNormalization)                                                 \n",
      "                                                                 \n",
      " activation_2 (Activation)   (None, 20, 20, 32)        0         \n",
      "                                                                 \n",
      " max_pooling2d_35 (MaxPoolin  (None, 10, 10, 32)       0         \n",
      " g2D)                                                            \n",
      "                                                                 \n",
      " conv2d_36 (Conv2D)          (None, 10, 10, 64)        18496     \n",
      "                                                                 \n",
      " dropout_16 (Dropout)        (None, 10, 10, 64)        0         \n",
      "                                                                 \n",
      " batch_normalization_3 (Batc  (None, 10, 10, 64)       256       \n",
      " hNormalization)                                                 \n",
      "                                                                 \n",
      " activation_3 (Activation)   (None, 10, 10, 64)        0         \n",
      "                                                                 \n",
      " max_pooling2d_36 (MaxPoolin  (None, 5, 5, 64)         0         \n",
      " g2D)                                                            \n",
      "                                                                 \n",
      " flatten_13 (Flatten)        (None, 1600)              0         \n",
      "                                                                 \n",
      " dense_26 (Dense)            (None, 32)                51232     \n",
      "                                                                 \n",
      " dropout_17 (Dropout)        (None, 32)                0         \n",
      "                                                                 \n",
      " dense_27 (Dense)            (None, 1)                 33        \n",
      "                                                                 \n",
      "=================================================================\n",
      "Total params: 76,273\n",
      "Trainable params: 76,033\n",
      "Non-trainable params: 240\n",
      "_________________________________________________________________\n"
     ]
    }
   ],
   "source": [
    "model = keras.Sequential()\n",
    "model.add(keras.layers.Conv2D(8, kernel_size = 3,  padding = \"same\",\n",
    "                              input_shape = (80,80, 3)))\n",
    "model.add(keras.layers.Dropout(0.3))\n",
    "model.add(keras.layers.BatchNormalization())\n",
    "model.add(keras.layers.Activation(\"relu\"))\n",
    "model.add(keras.layers.MaxPool2D(2))\n",
    "\n",
    "model.add(keras.layers.Conv2D(16, kernel_size = 3,  padding = \"same\"))\n",
    "model.add(keras.layers.Dropout(0.3))\n",
    "model.add(keras.layers.BatchNormalization())\n",
    "model.add(keras.layers.Activation(\"relu\"))\n",
    "model.add(keras.layers.MaxPool2D(2))\n",
    "\n",
    "model.add(keras.layers.Conv2D(32, kernel_size = 3,  padding = \"same\"))\n",
    "model.add(keras.layers.Dropout(0.3))\n",
    "model.add(keras.layers.BatchNormalization())\n",
    "model.add(keras.layers.Activation(\"relu\"))\n",
    "model.add(keras.layers.MaxPool2D(2))\n",
    "\n",
    "model.add(keras.layers.Conv2D(64, kernel_size = 3,  padding = \"same\"))\n",
    "model.add(keras.layers.Dropout(0.3))\n",
    "model.add(keras.layers.BatchNormalization())\n",
    "model.add(keras.layers.Activation(\"relu\"))\n",
    "model.add(keras.layers.MaxPool2D(2))\n",
    "\n",
    "\n",
    "model.add(keras.layers.Flatten())\n",
    "\n",
    "model.add(keras.layers.Dense(32, activation = \"relu\"))\n",
    "model.add(keras.layers.Dropout(0.4))\n",
    "model.add(keras.layers.Dense(1, activation = \"sigmoid\"))\n",
    "model.summary()"
   ]
  },
  {
   "cell_type": "code",
   "execution_count": 143,
   "id": "f91ae134",
   "metadata": {
    "ExecuteTime": {
     "end_time": "2023-02-07T11:07:16.851849Z",
     "start_time": "2023-02-07T11:07:16.846067Z"
    }
   },
   "outputs": [],
   "source": [
    "checkpoint_cb = keras.callbacks.ModelCheckpoint(\"./model/best-cnn-5model.h5\", save_best_only = True)\n",
    "early_stopping_cb = keras.callbacks.EarlyStopping(patience = 3, restore_best_weights = True)"
   ]
  },
  {
   "cell_type": "code",
   "execution_count": 144,
   "id": "243059b2",
   "metadata": {
    "ExecuteTime": {
     "end_time": "2023-02-07T11:07:16.871794Z",
     "start_time": "2023-02-07T11:07:16.855682Z"
    }
   },
   "outputs": [],
   "source": [
    "model.compile(optimizer = \"adam\", loss = \"binary_crossentropy\", metrics = \"accuracy\")"
   ]
  },
  {
   "cell_type": "code",
   "execution_count": 145,
   "id": "73e8545c",
   "metadata": {
    "ExecuteTime": {
     "end_time": "2023-02-07T11:51:45.976809Z",
     "start_time": "2023-02-07T11:07:16.877112Z"
    },
    "scrolled": true
   },
   "outputs": [
    {
     "name": "stdout",
     "output_type": "stream",
     "text": [
      "Epoch 1/100\n",
      "225/225 [==============================] - 131s 570ms/step - loss: 0.6555 - accuracy: 0.6061 - val_loss: 0.7492 - val_accuracy: 0.5000\n",
      "Epoch 2/100\n",
      "225/225 [==============================] - 128s 567ms/step - loss: 0.6028 - accuracy: 0.6721 - val_loss: 0.8097 - val_accuracy: 0.5008\n",
      "Epoch 3/100\n",
      "225/225 [==============================] - 127s 566ms/step - loss: 0.5676 - accuracy: 0.7048 - val_loss: 0.7531 - val_accuracy: 0.5212\n",
      "Epoch 4/100\n",
      "225/225 [==============================] - 128s 567ms/step - loss: 0.5360 - accuracy: 0.7329 - val_loss: 0.6136 - val_accuracy: 0.6448\n",
      "Epoch 5/100\n",
      "225/225 [==============================] - 127s 566ms/step - loss: 0.5104 - accuracy: 0.7503 - val_loss: 0.5656 - val_accuracy: 0.7044\n",
      "Epoch 6/100\n",
      "225/225 [==============================] - 128s 566ms/step - loss: 0.4975 - accuracy: 0.7596 - val_loss: 0.5224 - val_accuracy: 0.7796\n",
      "Epoch 7/100\n",
      "225/225 [==============================] - 127s 563ms/step - loss: 0.4824 - accuracy: 0.7717 - val_loss: 0.5198 - val_accuracy: 0.7632\n",
      "Epoch 8/100\n",
      "225/225 [==============================] - 126s 561ms/step - loss: 0.4735 - accuracy: 0.7759 - val_loss: 0.5395 - val_accuracy: 0.7520\n",
      "Epoch 9/100\n",
      "225/225 [==============================] - 127s 563ms/step - loss: 0.4651 - accuracy: 0.7857 - val_loss: 0.4966 - val_accuracy: 0.7948\n",
      "Epoch 10/100\n",
      "225/225 [==============================] - 127s 563ms/step - loss: 0.4569 - accuracy: 0.7854 - val_loss: 0.4879 - val_accuracy: 0.7868\n",
      "Epoch 11/100\n",
      "225/225 [==============================] - 127s 563ms/step - loss: 0.4512 - accuracy: 0.7917 - val_loss: 0.5208 - val_accuracy: 0.7412\n",
      "Epoch 12/100\n",
      "225/225 [==============================] - 127s 563ms/step - loss: 0.4421 - accuracy: 0.7966 - val_loss: 0.4774 - val_accuracy: 0.7928\n",
      "Epoch 13/100\n",
      "225/225 [==============================] - 127s 562ms/step - loss: 0.4335 - accuracy: 0.7994 - val_loss: 0.4742 - val_accuracy: 0.7900\n",
      "Epoch 14/100\n",
      "225/225 [==============================] - 126s 560ms/step - loss: 0.4312 - accuracy: 0.7972 - val_loss: 0.5358 - val_accuracy: 0.7104\n",
      "Epoch 15/100\n",
      "225/225 [==============================] - 127s 563ms/step - loss: 0.4178 - accuracy: 0.8052 - val_loss: 0.4736 - val_accuracy: 0.7744\n",
      "Epoch 16/100\n",
      "225/225 [==============================] - 127s 564ms/step - loss: 0.4092 - accuracy: 0.8089 - val_loss: 0.4679 - val_accuracy: 0.7728\n",
      "Epoch 17/100\n",
      "225/225 [==============================] - 127s 562ms/step - loss: 0.4057 - accuracy: 0.8114 - val_loss: 0.4862 - val_accuracy: 0.7648\n",
      "Epoch 18/100\n",
      "225/225 [==============================] - 127s 562ms/step - loss: 0.4016 - accuracy: 0.8122 - val_loss: 0.4497 - val_accuracy: 0.7952\n",
      "Epoch 19/100\n",
      "225/225 [==============================] - 126s 562ms/step - loss: 0.3966 - accuracy: 0.8137 - val_loss: 0.5279 - val_accuracy: 0.7252\n",
      "Epoch 20/100\n",
      "225/225 [==============================] - 127s 562ms/step - loss: 0.3895 - accuracy: 0.8172 - val_loss: 0.4763 - val_accuracy: 0.7648\n",
      "Epoch 21/100\n",
      "225/225 [==============================] - 127s 563ms/step - loss: 0.3863 - accuracy: 0.8202 - val_loss: 0.4835 - val_accuracy: 0.7704\n"
     ]
    }
   ],
   "source": [
    "history = model.fit(train_dataset, epochs = 100, validation_data = val_dataset,\n",
    "                    callbacks = [checkpoint_cb, early_stopping_cb])\n",
    "model.save_weights(\"5model.h5\")"
   ]
  },
  {
   "cell_type": "code",
   "execution_count": 146,
   "id": "3f6430c9",
   "metadata": {
    "ExecuteTime": {
     "end_time": "2023-02-07T11:52:19.591739Z",
     "start_time": "2023-02-07T11:51:45.979527Z"
    }
   },
   "outputs": [
    {
     "name": "stdout",
     "output_type": "stream",
     "text": [
      "125/125 [==============================] - 33s 264ms/step\n"
     ]
    }
   ],
   "source": [
    "pred = model.predict(test_dataset)"
   ]
  },
  {
   "cell_type": "code",
   "execution_count": 147,
   "id": "bee0860f",
   "metadata": {
    "ExecuteTime": {
     "end_time": "2023-02-07T11:52:19.662615Z",
     "start_time": "2023-02-07T11:52:19.593816Z"
    }
   },
   "outputs": [
    {
     "name": "stdout",
     "output_type": "stream",
     "text": [
      "4_model.csv Saved!\n"
     ]
    }
   ],
   "source": [
    "save_preds(pred, \"4_model.csv\")"
   ]
  },
  {
   "cell_type": "markdown",
   "id": "0bd0515a",
   "metadata": {},
   "source": [
    "# model(6)"
   ]
  },
  {
   "cell_type": "markdown",
   "id": "902444fe",
   "metadata": {},
   "source": [
    "## Score: 0.47804"
   ]
  },
  {
   "cell_type": "code",
   "execution_count": 148,
   "id": "fafca34e",
   "metadata": {
    "ExecuteTime": {
     "end_time": "2023-02-07T11:52:19.926877Z",
     "start_time": "2023-02-07T11:52:19.667275Z"
    },
    "scrolled": true
   },
   "outputs": [
    {
     "name": "stdout",
     "output_type": "stream",
     "text": [
      "Model: \"sequential_15\"\n",
      "_________________________________________________________________\n",
      " Layer (type)                Output Shape              Param #   \n",
      "=================================================================\n",
      " conv2d_37 (Conv2D)          (None, 80, 80, 8)         224       \n",
      "                                                                 \n",
      " dropout_18 (Dropout)        (None, 80, 80, 8)         0         \n",
      "                                                                 \n",
      " batch_normalization_4 (Batc  (None, 80, 80, 8)        32        \n",
      " hNormalization)                                                 \n",
      "                                                                 \n",
      " activation_4 (Activation)   (None, 80, 80, 8)         0         \n",
      "                                                                 \n",
      " max_pooling2d_37 (MaxPoolin  (None, 40, 40, 8)        0         \n",
      " g2D)                                                            \n",
      "                                                                 \n",
      " conv2d_38 (Conv2D)          (None, 40, 40, 16)        1168      \n",
      "                                                                 \n",
      " dropout_19 (Dropout)        (None, 40, 40, 16)        0         \n",
      "                                                                 \n",
      " batch_normalization_5 (Batc  (None, 40, 40, 16)       64        \n",
      " hNormalization)                                                 \n",
      "                                                                 \n",
      " activation_5 (Activation)   (None, 40, 40, 16)        0         \n",
      "                                                                 \n",
      " max_pooling2d_38 (MaxPoolin  (None, 20, 20, 16)       0         \n",
      " g2D)                                                            \n",
      "                                                                 \n",
      " conv2d_39 (Conv2D)          (None, 20, 20, 32)        4640      \n",
      "                                                                 \n",
      " dropout_20 (Dropout)        (None, 20, 20, 32)        0         \n",
      "                                                                 \n",
      " batch_normalization_6 (Batc  (None, 20, 20, 32)       128       \n",
      " hNormalization)                                                 \n",
      "                                                                 \n",
      " activation_6 (Activation)   (None, 20, 20, 32)        0         \n",
      "                                                                 \n",
      " max_pooling2d_39 (MaxPoolin  (None, 10, 10, 32)       0         \n",
      " g2D)                                                            \n",
      "                                                                 \n",
      " conv2d_40 (Conv2D)          (None, 10, 10, 64)        18496     \n",
      "                                                                 \n",
      " dropout_21 (Dropout)        (None, 10, 10, 64)        0         \n",
      "                                                                 \n",
      " batch_normalization_7 (Batc  (None, 10, 10, 64)       256       \n",
      " hNormalization)                                                 \n",
      "                                                                 \n",
      " activation_7 (Activation)   (None, 10, 10, 64)        0         \n",
      "                                                                 \n",
      " max_pooling2d_40 (MaxPoolin  (None, 5, 5, 64)         0         \n",
      " g2D)                                                            \n",
      "                                                                 \n",
      " flatten_14 (Flatten)        (None, 1600)              0         \n",
      "                                                                 \n",
      " dense_28 (Dense)            (None, 16)                25616     \n",
      "                                                                 \n",
      " dense_29 (Dense)            (None, 32)                544       \n",
      "                                                                 \n",
      " dropout_22 (Dropout)        (None, 32)                0         \n",
      "                                                                 \n",
      " dense_30 (Dense)            (None, 1)                 33        \n",
      "                                                                 \n",
      "=================================================================\n",
      "Total params: 51,201\n",
      "Trainable params: 50,961\n",
      "Non-trainable params: 240\n",
      "_________________________________________________________________\n"
     ]
    }
   ],
   "source": [
    "model = keras.Sequential()\n",
    "model.add(keras.layers.Conv2D(8, kernel_size = 3,  padding = \"same\",\n",
    "                              input_shape = (80,80, 3)))\n",
    "model.add(keras.layers.Dropout(0.3))\n",
    "model.add(keras.layers.BatchNormalization())\n",
    "model.add(keras.layers.Activation(\"relu\"))\n",
    "model.add(keras.layers.MaxPool2D(2))\n",
    "\n",
    "model.add(keras.layers.Conv2D(16, kernel_size = 3,  padding = \"same\"))\n",
    "model.add(keras.layers.Dropout(0.3))\n",
    "model.add(keras.layers.BatchNormalization())\n",
    "model.add(keras.layers.Activation(\"relu\"))\n",
    "model.add(keras.layers.MaxPool2D(2))\n",
    "\n",
    "model.add(keras.layers.Conv2D(32, kernel_size = 3,  padding = \"same\"))\n",
    "model.add(keras.layers.Dropout(0.3))\n",
    "model.add(keras.layers.BatchNormalization())\n",
    "model.add(keras.layers.Activation(\"relu\"))\n",
    "model.add(keras.layers.MaxPool2D(2))\n",
    "\n",
    "model.add(keras.layers.Conv2D(64, kernel_size = 3,  padding = \"same\"))\n",
    "model.add(keras.layers.Dropout(0.3))\n",
    "model.add(keras.layers.BatchNormalization())\n",
    "model.add(keras.layers.Activation(\"relu\"))\n",
    "model.add(keras.layers.MaxPool2D(2))\n",
    "\n",
    "\n",
    "model.add(keras.layers.Flatten())\n",
    "\n",
    "model.add(keras.layers.Dense(16, activation = \"relu\"))\n",
    "\n",
    "model.add(keras.layers.Dense(32, activation = \"relu\"))\n",
    "\n",
    "model.add(keras.layers.Dropout(0.4))\n",
    "model.add(keras.layers.Dense(1, activation = \"sigmoid\"))\n",
    "model.summary()"
   ]
  },
  {
   "cell_type": "code",
   "execution_count": 149,
   "id": "06013b7a",
   "metadata": {
    "ExecuteTime": {
     "end_time": "2023-02-07T11:52:19.935488Z",
     "start_time": "2023-02-07T11:52:19.930619Z"
    }
   },
   "outputs": [],
   "source": [
    "checkpoint_cb = keras.callbacks.ModelCheckpoint(\"./model/best-cnn-6model.h5\", save_best_only = True)\n",
    "early_stopping_cb = keras.callbacks.EarlyStopping(patience = 3, restore_best_weights = True)"
   ]
  },
  {
   "cell_type": "code",
   "execution_count": 150,
   "id": "23bd71e5",
   "metadata": {
    "ExecuteTime": {
     "end_time": "2023-02-07T11:52:19.951896Z",
     "start_time": "2023-02-07T11:52:19.938248Z"
    }
   },
   "outputs": [],
   "source": [
    "model.compile(optimizer = \"adam\", loss = \"binary_crossentropy\", metrics = \"accuracy\")"
   ]
  },
  {
   "cell_type": "code",
   "execution_count": 151,
   "id": "0cef2c6a",
   "metadata": {
    "ExecuteTime": {
     "end_time": "2023-02-07T12:17:41.772048Z",
     "start_time": "2023-02-07T11:52:19.954666Z"
    },
    "scrolled": true
   },
   "outputs": [
    {
     "name": "stdout",
     "output_type": "stream",
     "text": [
      "Epoch 1/100\n",
      "225/225 [==============================] - 130s 568ms/step - loss: 0.6777 - accuracy: 0.5754 - val_loss: 0.6971 - val_accuracy: 0.5000\n",
      "Epoch 2/100\n",
      "225/225 [==============================] - 127s 563ms/step - loss: 0.6215 - accuracy: 0.6706 - val_loss: 1.0180 - val_accuracy: 0.5004\n",
      "Epoch 3/100\n",
      "225/225 [==============================] - 126s 559ms/step - loss: 0.5762 - accuracy: 0.7064 - val_loss: 0.9160 - val_accuracy: 0.5124\n",
      "Epoch 4/100\n",
      "225/225 [==============================] - 127s 564ms/step - loss: 0.5348 - accuracy: 0.7376 - val_loss: 0.6933 - val_accuracy: 0.6180\n",
      "Epoch 5/100\n",
      "225/225 [==============================] - 127s 562ms/step - loss: 0.5115 - accuracy: 0.7543 - val_loss: 0.5742 - val_accuracy: 0.7240\n",
      "Epoch 6/100\n",
      "225/225 [==============================] - 127s 563ms/step - loss: 0.4874 - accuracy: 0.7715 - val_loss: 0.6829 - val_accuracy: 0.5968\n",
      "Epoch 7/100\n",
      "225/225 [==============================] - 126s 561ms/step - loss: 0.4715 - accuracy: 0.7805 - val_loss: 0.6198 - val_accuracy: 0.6472\n",
      "Epoch 8/100\n",
      "225/225 [==============================] - 126s 560ms/step - loss: 0.4577 - accuracy: 0.7882 - val_loss: 0.5483 - val_accuracy: 0.7080\n",
      "Epoch 9/100\n",
      "225/225 [==============================] - 126s 560ms/step - loss: 0.4433 - accuracy: 0.7967 - val_loss: 0.5025 - val_accuracy: 0.7536\n",
      "Epoch 10/100\n",
      "225/225 [==============================] - 126s 560ms/step - loss: 0.4349 - accuracy: 0.8000 - val_loss: 0.5167 - val_accuracy: 0.7344\n",
      "Epoch 11/100\n",
      "225/225 [==============================] - 127s 563ms/step - loss: 0.4239 - accuracy: 0.8067 - val_loss: 0.5346 - val_accuracy: 0.7356\n",
      "Epoch 12/100\n",
      "225/225 [==============================] - 126s 561ms/step - loss: 0.4131 - accuracy: 0.8131 - val_loss: 0.5816 - val_accuracy: 0.6432\n"
     ]
    }
   ],
   "source": [
    "history = model.fit(train_dataset, epochs = 100, validation_data = val_dataset,\n",
    "                    callbacks = [checkpoint_cb, early_stopping_cb])\n",
    "model.save_weights(\"6model.h5\")"
   ]
  },
  {
   "cell_type": "code",
   "execution_count": 152,
   "id": "dd75d178",
   "metadata": {
    "ExecuteTime": {
     "end_time": "2023-02-07T12:18:15.217155Z",
     "start_time": "2023-02-07T12:17:41.776805Z"
    }
   },
   "outputs": [
    {
     "name": "stdout",
     "output_type": "stream",
     "text": [
      "125/125 [==============================] - 33s 263ms/step\n"
     ]
    }
   ],
   "source": [
    "pred = model.predict(test_dataset)"
   ]
  },
  {
   "cell_type": "code",
   "execution_count": 153,
   "id": "788485af",
   "metadata": {
    "ExecuteTime": {
     "end_time": "2023-02-07T12:18:15.336799Z",
     "start_time": "2023-02-07T12:18:15.219675Z"
    }
   },
   "outputs": [
    {
     "name": "stdout",
     "output_type": "stream",
     "text": [
      "5_model.csv Saved!\n"
     ]
    }
   ],
   "source": [
    "save_preds(pred, \"5_model.csv\")"
   ]
  },
  {
   "cell_type": "markdown",
   "id": "58f9ef09",
   "metadata": {},
   "source": [
    "# model(7) - model(3)의 사이즈 128이 가장 좋은 모델"
   ]
  },
  {
   "cell_type": "markdown",
   "id": "22b935cf",
   "metadata": {},
   "source": [
    "## Score: 0.26587  - 836등"
   ]
  },
  {
   "cell_type": "code",
   "execution_count": 156,
   "id": "66712a61",
   "metadata": {
    "ExecuteTime": {
     "end_time": "2023-02-07T13:40:50.982077Z",
     "start_time": "2023-02-07T13:40:50.827149Z"
    },
    "scrolled": true
   },
   "outputs": [
    {
     "name": "stdout",
     "output_type": "stream",
     "text": [
      "Model: \"sequential_17\"\n",
      "_________________________________________________________________\n",
      " Layer (type)                Output Shape              Param #   \n",
      "=================================================================\n",
      " conv2d_46 (Conv2D)          (None, 128, 128, 8)       224       \n",
      "                                                                 \n",
      " max_pooling2d_46 (MaxPoolin  (None, 64, 64, 8)        0         \n",
      " g2D)                                                            \n",
      "                                                                 \n",
      " conv2d_47 (Conv2D)          (None, 64, 64, 16)        1168      \n",
      "                                                                 \n",
      " max_pooling2d_47 (MaxPoolin  (None, 32, 32, 16)       0         \n",
      " g2D)                                                            \n",
      "                                                                 \n",
      " conv2d_48 (Conv2D)          (None, 32, 32, 32)        4640      \n",
      "                                                                 \n",
      " max_pooling2d_48 (MaxPoolin  (None, 16, 16, 32)       0         \n",
      " g2D)                                                            \n",
      "                                                                 \n",
      " conv2d_49 (Conv2D)          (None, 16, 16, 64)        18496     \n",
      "                                                                 \n",
      " max_pooling2d_49 (MaxPoolin  (None, 8, 8, 64)         0         \n",
      " g2D)                                                            \n",
      "                                                                 \n",
      " conv2d_50 (Conv2D)          (None, 8, 8, 128)         73856     \n",
      "                                                                 \n",
      " max_pooling2d_50 (MaxPoolin  (None, 4, 4, 128)        0         \n",
      " g2D)                                                            \n",
      "                                                                 \n",
      " flatten_16 (Flatten)        (None, 2048)              0         \n",
      "                                                                 \n",
      " dense_33 (Dense)            (None, 32)                65568     \n",
      "                                                                 \n",
      " dropout_24 (Dropout)        (None, 32)                0         \n",
      "                                                                 \n",
      " dense_34 (Dense)            (None, 1)                 33        \n",
      "                                                                 \n",
      "=================================================================\n",
      "Total params: 163,985\n",
      "Trainable params: 163,985\n",
      "Non-trainable params: 0\n",
      "_________________________________________________________________\n"
     ]
    }
   ],
   "source": [
    "model = keras.Sequential()\n",
    "model.add(keras.layers.Conv2D(8, kernel_size = 3, activation = \"relu\", padding = \"same\",\n",
    "                              input_shape = (128,128, 3)))\n",
    "model.add(keras.layers.MaxPool2D(2))\n",
    "\n",
    "model.add(keras.layers.Conv2D(16, kernel_size = 3, activation = \"relu\", padding = \"same\"))\n",
    "model.add(keras.layers.MaxPool2D(2))\n",
    "\n",
    "model.add(keras.layers.Conv2D(32, kernel_size = 3, activation = \"relu\", padding = \"same\"))\n",
    "model.add(keras.layers.MaxPool2D(2))\n",
    "\n",
    "model.add(keras.layers.Conv2D(64, kernel_size = 3, activation = \"relu\", padding = \"same\"))\n",
    "model.add(keras.layers.MaxPool2D(2))\n",
    "\n",
    "model.add(keras.layers.Conv2D(128, kernel_size = 3, activation = \"relu\", padding = \"same\"))\n",
    "model.add(keras.layers.MaxPool2D(2))\n",
    "\n",
    "model.add(keras.layers.Flatten())\n",
    "\n",
    "model.add(keras.layers.Dense(32, activation = \"relu\"))\n",
    "\n",
    "model.add(keras.layers.Dropout(0.4))\n",
    "\n",
    "model.add(keras.layers.Dense(1, activation = \"sigmoid\"))\n",
    "model.summary()"
   ]
  },
  {
   "cell_type": "code",
   "execution_count": 157,
   "id": "6e10c122",
   "metadata": {
    "ExecuteTime": {
     "end_time": "2023-02-07T13:40:50.999738Z",
     "start_time": "2023-02-07T13:40:50.995928Z"
    }
   },
   "outputs": [],
   "source": [
    "checkpoint_cb = keras.callbacks.ModelCheckpoint(\"./model/best-cnn-7model.h5\", save_best_only = True)\n",
    "early_stopping_cb = keras.callbacks.EarlyStopping(patience = 3, restore_best_weights = True)"
   ]
  },
  {
   "cell_type": "code",
   "execution_count": 158,
   "id": "8db92e3c",
   "metadata": {
    "ExecuteTime": {
     "end_time": "2023-02-07T13:40:51.167535Z",
     "start_time": "2023-02-07T13:40:51.155800Z"
    }
   },
   "outputs": [],
   "source": [
    "model.compile(optimizer = \"adam\", loss = \"binary_crossentropy\", metrics = \"accuracy\")"
   ]
  },
  {
   "cell_type": "code",
   "execution_count": 159,
   "id": "89af87b5",
   "metadata": {
    "ExecuteTime": {
     "end_time": "2023-02-07T14:36:25.598882Z",
     "start_time": "2023-02-07T13:40:51.304023Z"
    },
    "scrolled": true
   },
   "outputs": [
    {
     "name": "stdout",
     "output_type": "stream",
     "text": [
      "Epoch 1/100\n",
      "225/225 [==============================] - 187s 825ms/step - loss: 0.6488 - accuracy: 0.6126 - val_loss: 0.5702 - val_accuracy: 0.7096\n",
      "Epoch 2/100\n",
      "225/225 [==============================] - 185s 822ms/step - loss: 0.5608 - accuracy: 0.7178 - val_loss: 0.5053 - val_accuracy: 0.7496\n",
      "Epoch 3/100\n",
      "225/225 [==============================] - 185s 820ms/step - loss: 0.5008 - accuracy: 0.7596 - val_loss: 0.4578 - val_accuracy: 0.7804\n",
      "Epoch 4/100\n",
      "225/225 [==============================] - 184s 819ms/step - loss: 0.4550 - accuracy: 0.7929 - val_loss: 0.3913 - val_accuracy: 0.8224\n",
      "Epoch 5/100\n",
      "225/225 [==============================] - 185s 823ms/step - loss: 0.4206 - accuracy: 0.8130 - val_loss: 0.3757 - val_accuracy: 0.8220\n",
      "Epoch 6/100\n",
      "225/225 [==============================] - 186s 825ms/step - loss: 0.3945 - accuracy: 0.8255 - val_loss: 0.3390 - val_accuracy: 0.8532\n",
      "Epoch 7/100\n",
      "225/225 [==============================] - 186s 826ms/step - loss: 0.3618 - accuracy: 0.8455 - val_loss: 0.3215 - val_accuracy: 0.8648\n",
      "Epoch 8/100\n",
      "225/225 [==============================] - 186s 824ms/step - loss: 0.3443 - accuracy: 0.8545 - val_loss: 0.3225 - val_accuracy: 0.8604\n",
      "Epoch 9/100\n",
      "225/225 [==============================] - 185s 823ms/step - loss: 0.3225 - accuracy: 0.8657 - val_loss: 0.2907 - val_accuracy: 0.8776\n",
      "Epoch 10/100\n",
      "225/225 [==============================] - 186s 825ms/step - loss: 0.2997 - accuracy: 0.8742 - val_loss: 0.2956 - val_accuracy: 0.8708\n",
      "Epoch 11/100\n",
      "225/225 [==============================] - 186s 826ms/step - loss: 0.2895 - accuracy: 0.8787 - val_loss: 0.2847 - val_accuracy: 0.8800\n",
      "Epoch 12/100\n",
      "225/225 [==============================] - 185s 820ms/step - loss: 0.2667 - accuracy: 0.8890 - val_loss: 0.2713 - val_accuracy: 0.8868\n",
      "Epoch 13/100\n",
      "225/225 [==============================] - 184s 818ms/step - loss: 0.2648 - accuracy: 0.8900 - val_loss: 0.2750 - val_accuracy: 0.8848\n",
      "Epoch 14/100\n",
      "225/225 [==============================] - 185s 823ms/step - loss: 0.2561 - accuracy: 0.8950 - val_loss: 0.2702 - val_accuracy: 0.8856\n",
      "Epoch 15/100\n",
      "225/225 [==============================] - 184s 818ms/step - loss: 0.2473 - accuracy: 0.8999 - val_loss: 0.2491 - val_accuracy: 0.9004\n",
      "Epoch 16/100\n",
      "225/225 [==============================] - 185s 820ms/step - loss: 0.2332 - accuracy: 0.9054 - val_loss: 0.2672 - val_accuracy: 0.8880\n",
      "Epoch 17/100\n",
      "225/225 [==============================] - 185s 821ms/step - loss: 0.2329 - accuracy: 0.9061 - val_loss: 0.2889 - val_accuracy: 0.8848\n",
      "Epoch 18/100\n",
      "225/225 [==============================] - 185s 822ms/step - loss: 0.2201 - accuracy: 0.9105 - val_loss: 0.2625 - val_accuracy: 0.8892\n"
     ]
    }
   ],
   "source": [
    "history = model.fit(train_dataset, epochs = 100, validation_data = val_dataset,\n",
    "                    callbacks = [checkpoint_cb, early_stopping_cb])\n",
    "model.save_weights(\"7model.h5\")"
   ]
  },
  {
   "cell_type": "code",
   "execution_count": 160,
   "id": "a719adc8",
   "metadata": {
    "ExecuteTime": {
     "end_time": "2023-02-07T14:37:02.594082Z",
     "start_time": "2023-02-07T14:36:25.601944Z"
    }
   },
   "outputs": [
    {
     "name": "stdout",
     "output_type": "stream",
     "text": [
      "125/125 [==============================] - 37s 291ms/step\n"
     ]
    }
   ],
   "source": [
    "pred = model.predict(test_dataset)"
   ]
  },
  {
   "cell_type": "code",
   "execution_count": 161,
   "id": "0e38b814",
   "metadata": {
    "ExecuteTime": {
     "end_time": "2023-02-07T14:37:02.707934Z",
     "start_time": "2023-02-07T14:37:02.596377Z"
    }
   },
   "outputs": [
    {
     "name": "stdout",
     "output_type": "stream",
     "text": [
      "6_model.csv Saved!\n"
     ]
    }
   ],
   "source": [
    "save_preds(pred, \"6_model.csv\")"
   ]
  },
  {
   "cell_type": "markdown",
   "id": "3a492f7b",
   "metadata": {},
   "source": [
    "# model(8)\n",
    "\n",
    "- model(7)에 dense 16 추가"
   ]
  },
  {
   "cell_type": "markdown",
   "id": "5597a185",
   "metadata": {},
   "source": [
    "## Score: 0.33196"
   ]
  },
  {
   "cell_type": "code",
   "execution_count": 163,
   "id": "bbb752d6",
   "metadata": {
    "ExecuteTime": {
     "end_time": "2023-02-07T15:33:35.618505Z",
     "start_time": "2023-02-07T15:33:35.457526Z"
    },
    "scrolled": true
   },
   "outputs": [
    {
     "name": "stdout",
     "output_type": "stream",
     "text": [
      "Model: \"sequential_19\"\n",
      "_________________________________________________________________\n",
      " Layer (type)                Output Shape              Param #   \n",
      "=================================================================\n",
      " conv2d_58 (Conv2D)          (None, 128, 128, 8)       224       \n",
      "                                                                 \n",
      " max_pooling2d_58 (MaxPoolin  (None, 64, 64, 8)        0         \n",
      " g2D)                                                            \n",
      "                                                                 \n",
      " conv2d_59 (Conv2D)          (None, 64, 64, 16)        1168      \n",
      "                                                                 \n",
      " max_pooling2d_59 (MaxPoolin  (None, 32, 32, 16)       0         \n",
      " g2D)                                                            \n",
      "                                                                 \n",
      " conv2d_60 (Conv2D)          (None, 32, 32, 32)        4640      \n",
      "                                                                 \n",
      " max_pooling2d_60 (MaxPoolin  (None, 16, 16, 32)       0         \n",
      " g2D)                                                            \n",
      "                                                                 \n",
      " conv2d_61 (Conv2D)          (None, 16, 16, 64)        18496     \n",
      "                                                                 \n",
      " max_pooling2d_61 (MaxPoolin  (None, 8, 8, 64)         0         \n",
      " g2D)                                                            \n",
      "                                                                 \n",
      " conv2d_62 (Conv2D)          (None, 8, 8, 128)         73856     \n",
      "                                                                 \n",
      " max_pooling2d_62 (MaxPoolin  (None, 4, 4, 128)        0         \n",
      " g2D)                                                            \n",
      "                                                                 \n",
      " flatten_18 (Flatten)        (None, 2048)              0         \n",
      "                                                                 \n",
      " dense_37 (Dense)            (None, 32)                65568     \n",
      "                                                                 \n",
      " dense_38 (Dense)            (None, 16)                528       \n",
      "                                                                 \n",
      " dropout_26 (Dropout)        (None, 16)                0         \n",
      "                                                                 \n",
      " dense_39 (Dense)            (None, 1)                 17        \n",
      "                                                                 \n",
      "=================================================================\n",
      "Total params: 164,497\n",
      "Trainable params: 164,497\n",
      "Non-trainable params: 0\n",
      "_________________________________________________________________\n"
     ]
    }
   ],
   "source": [
    "model = keras.Sequential()\n",
    "model.add(keras.layers.Conv2D(8, kernel_size = 3, activation = \"relu\", padding = \"same\",\n",
    "                              input_shape = (128,128, 3)))\n",
    "model.add(keras.layers.MaxPool2D(2))\n",
    "\n",
    "model.add(keras.layers.Conv2D(16, kernel_size = 3, activation = \"relu\", padding = \"same\"))\n",
    "model.add(keras.layers.MaxPool2D(2))\n",
    "\n",
    "model.add(keras.layers.Conv2D(32, kernel_size = 3, activation = \"relu\", padding = \"same\"))\n",
    "model.add(keras.layers.MaxPool2D(2))\n",
    "\n",
    "model.add(keras.layers.Conv2D(64, kernel_size = 3, activation = \"relu\", padding = \"same\"))\n",
    "model.add(keras.layers.MaxPool2D(2))\n",
    "\n",
    "model.add(keras.layers.Conv2D(128, kernel_size = 3, activation = \"relu\", padding = \"same\"))\n",
    "model.add(keras.layers.MaxPool2D(2))\n",
    "\n",
    "model.add(keras.layers.Flatten())\n",
    "\n",
    "model.add(keras.layers.Dense(32, activation = \"relu\"))\n",
    "\n",
    "model.add(keras.layers.Dense(16, activation = \"relu\"))\n",
    "\n",
    "model.add(keras.layers.Dropout(0.4))\n",
    "\n",
    "model.add(keras.layers.Dense(1, activation = \"sigmoid\"))\n",
    "model.summary()"
   ]
  },
  {
   "cell_type": "code",
   "execution_count": 164,
   "id": "f72440b4",
   "metadata": {
    "ExecuteTime": {
     "end_time": "2023-02-07T15:33:35.626974Z",
     "start_time": "2023-02-07T15:33:35.622082Z"
    }
   },
   "outputs": [],
   "source": [
    "checkpoint_cb = keras.callbacks.ModelCheckpoint(\"./model/best-cnn-8model.h5\", save_best_only = True)\n",
    "early_stopping_cb = keras.callbacks.EarlyStopping(patience = 3, restore_best_weights = True)"
   ]
  },
  {
   "cell_type": "code",
   "execution_count": 165,
   "id": "2b1e395a",
   "metadata": {
    "ExecuteTime": {
     "end_time": "2023-02-07T15:33:35.661885Z",
     "start_time": "2023-02-07T15:33:35.649643Z"
    }
   },
   "outputs": [],
   "source": [
    "model.compile(optimizer = \"adam\", loss = \"binary_crossentropy\", metrics = \"accuracy\")"
   ]
  },
  {
   "cell_type": "code",
   "execution_count": 166,
   "id": "62b42fbc",
   "metadata": {
    "ExecuteTime": {
     "end_time": "2023-02-07T16:07:46.260618Z",
     "start_time": "2023-02-07T15:33:35.703196Z"
    },
    "scrolled": true
   },
   "outputs": [
    {
     "name": "stdout",
     "output_type": "stream",
     "text": [
      "Epoch 1/100\n",
      "225/225 [==============================] - 191s 834ms/step - loss: 0.6698 - accuracy: 0.5770 - val_loss: 0.6776 - val_accuracy: 0.5804\n",
      "Epoch 2/100\n",
      "225/225 [==============================] - 186s 827ms/step - loss: 0.5946 - accuracy: 0.6924 - val_loss: 0.5095 - val_accuracy: 0.7552\n",
      "Epoch 3/100\n",
      "225/225 [==============================] - 185s 823ms/step - loss: 0.5180 - accuracy: 0.7530 - val_loss: 0.4685 - val_accuracy: 0.7692\n",
      "Epoch 4/100\n",
      "225/225 [==============================] - 188s 835ms/step - loss: 0.4618 - accuracy: 0.7931 - val_loss: 0.4115 - val_accuracy: 0.8168\n",
      "Epoch 5/100\n",
      "225/225 [==============================] - 186s 827ms/step - loss: 0.4240 - accuracy: 0.8150 - val_loss: 0.4104 - val_accuracy: 0.8184\n",
      "Epoch 6/100\n",
      "225/225 [==============================] - 185s 824ms/step - loss: 0.3989 - accuracy: 0.8287 - val_loss: 0.3915 - val_accuracy: 0.8224\n",
      "Epoch 7/100\n",
      "225/225 [==============================] - 186s 825ms/step - loss: 0.3747 - accuracy: 0.8426 - val_loss: 0.3626 - val_accuracy: 0.8396\n",
      "Epoch 8/100\n",
      "225/225 [==============================] - 186s 825ms/step - loss: 0.3508 - accuracy: 0.8557 - val_loss: 0.3193 - val_accuracy: 0.8564\n",
      "Epoch 9/100\n",
      "225/225 [==============================] - 186s 825ms/step - loss: 0.3326 - accuracy: 0.8643 - val_loss: 0.3354 - val_accuracy: 0.8436\n",
      "Epoch 10/100\n",
      "225/225 [==============================] - 186s 824ms/step - loss: 0.3101 - accuracy: 0.8731 - val_loss: 0.3226 - val_accuracy: 0.8636\n",
      "Epoch 11/100\n",
      "225/225 [==============================] - 185s 823ms/step - loss: 0.2985 - accuracy: 0.8766 - val_loss: 0.3206 - val_accuracy: 0.8540\n"
     ]
    }
   ],
   "source": [
    "history = model.fit(train_dataset, epochs = 100, validation_data = val_dataset,\n",
    "                    callbacks = [checkpoint_cb, early_stopping_cb])\n",
    "model.save_weights(\"8model.h5\")"
   ]
  },
  {
   "cell_type": "code",
   "execution_count": 167,
   "id": "a400d3d3",
   "metadata": {
    "ExecuteTime": {
     "end_time": "2023-02-07T16:08:23.088889Z",
     "start_time": "2023-02-07T16:07:46.263586Z"
    }
   },
   "outputs": [
    {
     "name": "stdout",
     "output_type": "stream",
     "text": [
      "125/125 [==============================] - 36s 290ms/step\n"
     ]
    }
   ],
   "source": [
    "pred = model.predict(test_dataset)"
   ]
  },
  {
   "cell_type": "code",
   "execution_count": 168,
   "id": "f905f7ab",
   "metadata": {
    "ExecuteTime": {
     "end_time": "2023-02-07T16:08:23.212811Z",
     "start_time": "2023-02-07T16:08:23.091602Z"
    },
    "scrolled": true
   },
   "outputs": [
    {
     "name": "stdout",
     "output_type": "stream",
     "text": [
      "7_model.csv Saved!\n"
     ]
    }
   ],
   "source": [
    "save_preds(pred, \"7_model.csv\")"
   ]
  },
  {
   "cell_type": "markdown",
   "id": "2063790d",
   "metadata": {},
   "source": [
    "# model(9) - model(7)에 dense 16 상위에 추가"
   ]
  },
  {
   "cell_type": "markdown",
   "id": "0d1072db",
   "metadata": {},
   "source": [
    "## Score: 0.26122 - 833등"
   ]
  },
  {
   "cell_type": "code",
   "execution_count": 169,
   "id": "9dc0d226",
   "metadata": {
    "ExecuteTime": {
     "end_time": "2023-02-07T16:08:23.379856Z",
     "start_time": "2023-02-07T16:08:23.216416Z"
    },
    "scrolled": true
   },
   "outputs": [
    {
     "name": "stdout",
     "output_type": "stream",
     "text": [
      "Model: \"sequential_20\"\n",
      "_________________________________________________________________\n",
      " Layer (type)                Output Shape              Param #   \n",
      "=================================================================\n",
      " conv2d_63 (Conv2D)          (None, 128, 128, 8)       224       \n",
      "                                                                 \n",
      " max_pooling2d_63 (MaxPoolin  (None, 64, 64, 8)        0         \n",
      " g2D)                                                            \n",
      "                                                                 \n",
      " conv2d_64 (Conv2D)          (None, 64, 64, 16)        1168      \n",
      "                                                                 \n",
      " max_pooling2d_64 (MaxPoolin  (None, 32, 32, 16)       0         \n",
      " g2D)                                                            \n",
      "                                                                 \n",
      " conv2d_65 (Conv2D)          (None, 32, 32, 32)        4640      \n",
      "                                                                 \n",
      " max_pooling2d_65 (MaxPoolin  (None, 16, 16, 32)       0         \n",
      " g2D)                                                            \n",
      "                                                                 \n",
      " conv2d_66 (Conv2D)          (None, 16, 16, 64)        18496     \n",
      "                                                                 \n",
      " max_pooling2d_66 (MaxPoolin  (None, 8, 8, 64)         0         \n",
      " g2D)                                                            \n",
      "                                                                 \n",
      " conv2d_67 (Conv2D)          (None, 8, 8, 128)         73856     \n",
      "                                                                 \n",
      " max_pooling2d_67 (MaxPoolin  (None, 4, 4, 128)        0         \n",
      " g2D)                                                            \n",
      "                                                                 \n",
      " flatten_19 (Flatten)        (None, 2048)              0         \n",
      "                                                                 \n",
      " dense_40 (Dense)            (None, 16)                32784     \n",
      "                                                                 \n",
      " dense_41 (Dense)            (None, 32)                544       \n",
      "                                                                 \n",
      " dropout_27 (Dropout)        (None, 32)                0         \n",
      "                                                                 \n",
      " dense_42 (Dense)            (None, 1)                 33        \n",
      "                                                                 \n",
      "=================================================================\n",
      "Total params: 131,745\n",
      "Trainable params: 131,745\n",
      "Non-trainable params: 0\n",
      "_________________________________________________________________\n"
     ]
    }
   ],
   "source": [
    "model = keras.Sequential()\n",
    "model.add(keras.layers.Conv2D(8, kernel_size = 3, activation = \"relu\", padding = \"same\",\n",
    "                              input_shape = (128,128, 3)))\n",
    "model.add(keras.layers.MaxPool2D(2))\n",
    "\n",
    "model.add(keras.layers.Conv2D(16, kernel_size = 3, activation = \"relu\", padding = \"same\"))\n",
    "model.add(keras.layers.MaxPool2D(2))\n",
    "\n",
    "model.add(keras.layers.Conv2D(32, kernel_size = 3, activation = \"relu\", padding = \"same\"))\n",
    "model.add(keras.layers.MaxPool2D(2))\n",
    "\n",
    "model.add(keras.layers.Conv2D(64, kernel_size = 3, activation = \"relu\", padding = \"same\"))\n",
    "model.add(keras.layers.MaxPool2D(2))\n",
    "\n",
    "model.add(keras.layers.Conv2D(128, kernel_size = 3, activation = \"relu\", padding = \"same\"))\n",
    "model.add(keras.layers.MaxPool2D(2))\n",
    "\n",
    "model.add(keras.layers.Flatten())\n",
    "\n",
    "model.add(keras.layers.Dense(16, activation = \"relu\"))\n",
    "\n",
    "model.add(keras.layers.Dense(32, activation = \"relu\"))\n",
    "\n",
    "model.add(keras.layers.Dropout(0.4))\n",
    "\n",
    "model.add(keras.layers.Dense(1, activation = \"sigmoid\"))\n",
    "model.summary()"
   ]
  },
  {
   "cell_type": "code",
   "execution_count": 170,
   "id": "928d69b5",
   "metadata": {
    "ExecuteTime": {
     "end_time": "2023-02-07T16:08:23.386969Z",
     "start_time": "2023-02-07T16:08:23.382752Z"
    }
   },
   "outputs": [],
   "source": [
    "checkpoint_cb = keras.callbacks.ModelCheckpoint(\"./model/best-cnn-9model.h5\", save_best_only = True)\n",
    "early_stopping_cb = keras.callbacks.EarlyStopping(patience = 3, restore_best_weights = True)"
   ]
  },
  {
   "cell_type": "code",
   "execution_count": 171,
   "id": "0e26616b",
   "metadata": {
    "ExecuteTime": {
     "end_time": "2023-02-07T16:08:23.400161Z",
     "start_time": "2023-02-07T16:08:23.389269Z"
    }
   },
   "outputs": [],
   "source": [
    "model.compile(optimizer = \"adam\", loss = \"binary_crossentropy\", metrics = \"accuracy\")"
   ]
  },
  {
   "cell_type": "code",
   "execution_count": 172,
   "id": "f1345909",
   "metadata": {
    "ExecuteTime": {
     "end_time": "2023-02-07T17:18:43.513681Z",
     "start_time": "2023-02-07T16:08:23.404484Z"
    },
    "scrolled": true
   },
   "outputs": [
    {
     "name": "stdout",
     "output_type": "stream",
     "text": [
      "Epoch 1/100\n",
      "225/225 [==============================] - 188s 827ms/step - loss: 0.6731 - accuracy: 0.5819 - val_loss: 0.6335 - val_accuracy: 0.6736\n",
      "Epoch 2/100\n",
      "225/225 [==============================] - 186s 824ms/step - loss: 0.6035 - accuracy: 0.6884 - val_loss: 0.5943 - val_accuracy: 0.6816\n",
      "Epoch 3/100\n",
      "225/225 [==============================] - 185s 824ms/step - loss: 0.5313 - accuracy: 0.7488 - val_loss: 0.4803 - val_accuracy: 0.7688\n",
      "Epoch 4/100\n",
      "225/225 [==============================] - 186s 826ms/step - loss: 0.4759 - accuracy: 0.7834 - val_loss: 0.4551 - val_accuracy: 0.7832\n",
      "Epoch 5/100\n",
      "225/225 [==============================] - 186s 824ms/step - loss: 0.4347 - accuracy: 0.8065 - val_loss: 0.4154 - val_accuracy: 0.8156\n",
      "Epoch 6/100\n",
      "225/225 [==============================] - 185s 824ms/step - loss: 0.4044 - accuracy: 0.8237 - val_loss: 0.3889 - val_accuracy: 0.8272\n",
      "Epoch 7/100\n",
      "225/225 [==============================] - 186s 825ms/step - loss: 0.3687 - accuracy: 0.8426 - val_loss: 0.3579 - val_accuracy: 0.8392\n",
      "Epoch 8/100\n",
      "225/225 [==============================] - 185s 822ms/step - loss: 0.3456 - accuracy: 0.8561 - val_loss: 0.3483 - val_accuracy: 0.8452\n",
      "Epoch 9/100\n",
      "225/225 [==============================] - 186s 826ms/step - loss: 0.3289 - accuracy: 0.8618 - val_loss: 0.3404 - val_accuracy: 0.8464\n",
      "Epoch 10/100\n",
      "225/225 [==============================] - 186s 825ms/step - loss: 0.3180 - accuracy: 0.8683 - val_loss: 0.3063 - val_accuracy: 0.8660\n",
      "Epoch 11/100\n",
      "225/225 [==============================] - 186s 825ms/step - loss: 0.2977 - accuracy: 0.8760 - val_loss: 0.2960 - val_accuracy: 0.8760\n",
      "Epoch 12/100\n",
      "225/225 [==============================] - 185s 823ms/step - loss: 0.2879 - accuracy: 0.8813 - val_loss: 0.2892 - val_accuracy: 0.8772\n",
      "Epoch 13/100\n",
      "225/225 [==============================] - 199s 884ms/step - loss: 0.2745 - accuracy: 0.8872 - val_loss: 0.3147 - val_accuracy: 0.8560\n",
      "Epoch 14/100\n",
      "225/225 [==============================] - 199s 886ms/step - loss: 0.2670 - accuracy: 0.8926 - val_loss: 0.2665 - val_accuracy: 0.8804\n",
      "Epoch 15/100\n",
      "225/225 [==============================] - 200s 887ms/step - loss: 0.2533 - accuracy: 0.8968 - val_loss: 0.3066 - val_accuracy: 0.8668\n",
      "Epoch 16/100\n",
      "225/225 [==============================] - 199s 885ms/step - loss: 0.2471 - accuracy: 0.8980 - val_loss: 0.2672 - val_accuracy: 0.8820\n",
      "Epoch 17/100\n",
      "225/225 [==============================] - 199s 883ms/step - loss: 0.2344 - accuracy: 0.9059 - val_loss: 0.2636 - val_accuracy: 0.8840\n",
      "Epoch 18/100\n",
      "225/225 [==============================] - 199s 884ms/step - loss: 0.2306 - accuracy: 0.9062 - val_loss: 0.2769 - val_accuracy: 0.8876\n",
      "Epoch 19/100\n",
      "225/225 [==============================] - 199s 883ms/step - loss: 0.2244 - accuracy: 0.9116 - val_loss: 0.2492 - val_accuracy: 0.8984\n",
      "Epoch 20/100\n",
      "225/225 [==============================] - 199s 884ms/step - loss: 0.2188 - accuracy: 0.9114 - val_loss: 0.2768 - val_accuracy: 0.8960\n",
      "Epoch 21/100\n",
      "225/225 [==============================] - 199s 883ms/step - loss: 0.2147 - accuracy: 0.9122 - val_loss: 0.2602 - val_accuracy: 0.8952\n",
      "Epoch 22/100\n",
      "225/225 [==============================] - 198s 881ms/step - loss: 0.2068 - accuracy: 0.9178 - val_loss: 0.2617 - val_accuracy: 0.8864\n"
     ]
    }
   ],
   "source": [
    "history = model.fit(train_dataset, epochs = 100, validation_data = val_dataset,\n",
    "                    callbacks = [checkpoint_cb, early_stopping_cb])\n",
    "model.save_weights(\"9model.h5\")"
   ]
  },
  {
   "cell_type": "code",
   "execution_count": 173,
   "id": "44a1e288",
   "metadata": {
    "ExecuteTime": {
     "end_time": "2023-02-07T17:19:22.407664Z",
     "start_time": "2023-02-07T17:18:43.516111Z"
    }
   },
   "outputs": [
    {
     "name": "stdout",
     "output_type": "stream",
     "text": [
      "125/125 [==============================] - 39s 306ms/step\n"
     ]
    }
   ],
   "source": [
    "pred = model.predict(test_dataset)"
   ]
  },
  {
   "cell_type": "code",
   "execution_count": 174,
   "id": "5811126c",
   "metadata": {
    "ExecuteTime": {
     "end_time": "2023-02-07T17:19:22.485014Z",
     "start_time": "2023-02-07T17:19:22.410325Z"
    },
    "scrolled": true
   },
   "outputs": [
    {
     "name": "stdout",
     "output_type": "stream",
     "text": [
      "8_model.csv Saved!\n"
     ]
    }
   ],
   "source": [
    "save_preds(pred, \"8_model.csv\")"
   ]
  },
  {
   "cell_type": "markdown",
   "id": "1870f38d",
   "metadata": {},
   "source": [
    "# model(10)\n",
    "\n",
    "- model(8)에 dense 8 추가"
   ]
  },
  {
   "cell_type": "markdown",
   "id": "2180b302",
   "metadata": {},
   "source": [
    "## Score: 0.28973"
   ]
  },
  {
   "cell_type": "code",
   "execution_count": 175,
   "id": "be147521",
   "metadata": {
    "ExecuteTime": {
     "end_time": "2023-02-07T17:19:22.691867Z",
     "start_time": "2023-02-07T17:19:22.489877Z"
    },
    "scrolled": true
   },
   "outputs": [
    {
     "name": "stdout",
     "output_type": "stream",
     "text": [
      "Model: \"sequential_21\"\n",
      "_________________________________________________________________\n",
      " Layer (type)                Output Shape              Param #   \n",
      "=================================================================\n",
      " conv2d_68 (Conv2D)          (None, 128, 128, 8)       224       \n",
      "                                                                 \n",
      " max_pooling2d_68 (MaxPoolin  (None, 64, 64, 8)        0         \n",
      " g2D)                                                            \n",
      "                                                                 \n",
      " conv2d_69 (Conv2D)          (None, 64, 64, 16)        1168      \n",
      "                                                                 \n",
      " max_pooling2d_69 (MaxPoolin  (None, 32, 32, 16)       0         \n",
      " g2D)                                                            \n",
      "                                                                 \n",
      " conv2d_70 (Conv2D)          (None, 32, 32, 32)        4640      \n",
      "                                                                 \n",
      " max_pooling2d_70 (MaxPoolin  (None, 16, 16, 32)       0         \n",
      " g2D)                                                            \n",
      "                                                                 \n",
      " conv2d_71 (Conv2D)          (None, 16, 16, 64)        18496     \n",
      "                                                                 \n",
      " max_pooling2d_71 (MaxPoolin  (None, 8, 8, 64)         0         \n",
      " g2D)                                                            \n",
      "                                                                 \n",
      " conv2d_72 (Conv2D)          (None, 8, 8, 128)         73856     \n",
      "                                                                 \n",
      " max_pooling2d_72 (MaxPoolin  (None, 4, 4, 128)        0         \n",
      " g2D)                                                            \n",
      "                                                                 \n",
      " flatten_20 (Flatten)        (None, 2048)              0         \n",
      "                                                                 \n",
      " dense_43 (Dense)            (None, 32)                65568     \n",
      "                                                                 \n",
      " dense_44 (Dense)            (None, 16)                528       \n",
      "                                                                 \n",
      " dense_45 (Dense)            (None, 8)                 136       \n",
      "                                                                 \n",
      " dropout_28 (Dropout)        (None, 8)                 0         \n",
      "                                                                 \n",
      " dense_46 (Dense)            (None, 1)                 9         \n",
      "                                                                 \n",
      "=================================================================\n",
      "Total params: 164,625\n",
      "Trainable params: 164,625\n",
      "Non-trainable params: 0\n",
      "_________________________________________________________________\n"
     ]
    }
   ],
   "source": [
    "model = keras.Sequential()\n",
    "model.add(keras.layers.Conv2D(8, kernel_size = 3, activation = \"relu\", padding = \"same\",\n",
    "                              input_shape = (128,128, 3)))\n",
    "model.add(keras.layers.MaxPool2D(2))\n",
    "\n",
    "model.add(keras.layers.Conv2D(16, kernel_size = 3, activation = \"relu\", padding = \"same\"))\n",
    "model.add(keras.layers.MaxPool2D(2))\n",
    "\n",
    "model.add(keras.layers.Conv2D(32, kernel_size = 3, activation = \"relu\", padding = \"same\"))\n",
    "model.add(keras.layers.MaxPool2D(2))\n",
    "\n",
    "model.add(keras.layers.Conv2D(64, kernel_size = 3, activation = \"relu\", padding = \"same\"))\n",
    "model.add(keras.layers.MaxPool2D(2))\n",
    "\n",
    "model.add(keras.layers.Conv2D(128, kernel_size = 3, activation = \"relu\", padding = \"same\"))\n",
    "model.add(keras.layers.MaxPool2D(2))\n",
    "\n",
    "model.add(keras.layers.Flatten())\n",
    "\n",
    "model.add(keras.layers.Dense(32, activation = \"relu\"))\n",
    "\n",
    "model.add(keras.layers.Dense(16, activation = \"relu\"))\n",
    "\n",
    "model.add(keras.layers.Dense(8, activation = \"relu\"))\n",
    "\n",
    "model.add(keras.layers.Dropout(0.4))\n",
    "\n",
    "model.add(keras.layers.Dense(1, activation = \"sigmoid\"))\n",
    "model.summary()"
   ]
  },
  {
   "cell_type": "code",
   "execution_count": 176,
   "id": "74b749c4",
   "metadata": {
    "ExecuteTime": {
     "end_time": "2023-02-07T17:19:22.697285Z",
     "start_time": "2023-02-07T17:19:22.693979Z"
    }
   },
   "outputs": [],
   "source": [
    "checkpoint_cb = keras.callbacks.ModelCheckpoint(\"./model/best-cnn-10model.h5\", save_best_only = True)\n",
    "early_stopping_cb = keras.callbacks.EarlyStopping(patience = 3, restore_best_weights = True)"
   ]
  },
  {
   "cell_type": "code",
   "execution_count": 177,
   "id": "94c7fb16",
   "metadata": {
    "ExecuteTime": {
     "end_time": "2023-02-07T17:19:22.711003Z",
     "start_time": "2023-02-07T17:19:22.699523Z"
    }
   },
   "outputs": [],
   "source": [
    "model.compile(optimizer = \"adam\", loss = \"binary_crossentropy\", metrics = \"accuracy\")"
   ]
  },
  {
   "cell_type": "code",
   "execution_count": 178,
   "id": "0f04a663",
   "metadata": {
    "ExecuteTime": {
     "end_time": "2023-02-07T18:22:25.992294Z",
     "start_time": "2023-02-07T17:19:22.713413Z"
    },
    "scrolled": true
   },
   "outputs": [
    {
     "name": "stdout",
     "output_type": "stream",
     "text": [
      "Epoch 1/100\n",
      "225/225 [==============================] - 202s 887ms/step - loss: 0.6816 - accuracy: 0.5594 - val_loss: 0.6498 - val_accuracy: 0.6200\n",
      "Epoch 2/100\n",
      "225/225 [==============================] - 199s 884ms/step - loss: 0.6431 - accuracy: 0.6469 - val_loss: 0.5867 - val_accuracy: 0.6904\n",
      "Epoch 3/100\n",
      "225/225 [==============================] - 199s 883ms/step - loss: 0.5889 - accuracy: 0.7074 - val_loss: 0.5514 - val_accuracy: 0.7296\n",
      "Epoch 4/100\n",
      "225/225 [==============================] - 199s 884ms/step - loss: 0.5403 - accuracy: 0.7461 - val_loss: 0.4835 - val_accuracy: 0.7696\n",
      "Epoch 5/100\n",
      "225/225 [==============================] - 199s 882ms/step - loss: 0.5051 - accuracy: 0.7737 - val_loss: 0.4597 - val_accuracy: 0.7796\n",
      "Epoch 6/100\n",
      "225/225 [==============================] - 199s 882ms/step - loss: 0.4605 - accuracy: 0.8012 - val_loss: 0.4087 - val_accuracy: 0.8088\n",
      "Epoch 7/100\n",
      "225/225 [==============================] - 199s 884ms/step - loss: 0.4314 - accuracy: 0.8197 - val_loss: 0.4213 - val_accuracy: 0.8124\n",
      "Epoch 8/100\n",
      "225/225 [==============================] - 199s 884ms/step - loss: 0.4087 - accuracy: 0.8339 - val_loss: 0.3529 - val_accuracy: 0.8484\n",
      "Epoch 9/100\n",
      "225/225 [==============================] - 199s 884ms/step - loss: 0.3852 - accuracy: 0.8383 - val_loss: 0.3605 - val_accuracy: 0.8488\n",
      "Epoch 10/100\n",
      "225/225 [==============================] - 198s 881ms/step - loss: 0.3646 - accuracy: 0.8559 - val_loss: 0.3372 - val_accuracy: 0.8516\n",
      "Epoch 11/100\n",
      "225/225 [==============================] - 199s 886ms/step - loss: 0.3444 - accuracy: 0.8621 - val_loss: 0.3138 - val_accuracy: 0.8676\n",
      "Epoch 12/100\n",
      "225/225 [==============================] - 199s 883ms/step - loss: 0.3380 - accuracy: 0.8634 - val_loss: 0.3080 - val_accuracy: 0.8704\n",
      "Epoch 13/100\n",
      "225/225 [==============================] - 199s 884ms/step - loss: 0.3233 - accuracy: 0.8705 - val_loss: 0.3082 - val_accuracy: 0.8776\n",
      "Epoch 14/100\n",
      "225/225 [==============================] - 199s 885ms/step - loss: 0.3073 - accuracy: 0.8774 - val_loss: 0.2919 - val_accuracy: 0.8764\n",
      "Epoch 15/100\n",
      "225/225 [==============================] - 199s 882ms/step - loss: 0.3028 - accuracy: 0.8803 - val_loss: 0.3003 - val_accuracy: 0.8740\n",
      "Epoch 16/100\n",
      "225/225 [==============================] - 199s 885ms/step - loss: 0.2919 - accuracy: 0.8834 - val_loss: 0.2760 - val_accuracy: 0.8856\n",
      "Epoch 17/100\n",
      "225/225 [==============================] - 201s 891ms/step - loss: 0.2784 - accuracy: 0.8905 - val_loss: 0.3294 - val_accuracy: 0.8736\n",
      "Epoch 18/100\n",
      "225/225 [==============================] - 199s 884ms/step - loss: 0.2760 - accuracy: 0.8924 - val_loss: 0.2884 - val_accuracy: 0.8892\n",
      "Epoch 19/100\n",
      "225/225 [==============================] - 198s 879ms/step - loss: 0.2658 - accuracy: 0.8963 - val_loss: 0.3088 - val_accuracy: 0.8588\n"
     ]
    }
   ],
   "source": [
    "history = model.fit(train_dataset, epochs = 100, validation_data = val_dataset,\n",
    "                    callbacks = [checkpoint_cb, early_stopping_cb])\n",
    "model.save_weights(\"10model.h5\")"
   ]
  },
  {
   "cell_type": "code",
   "execution_count": 179,
   "id": "0127efd4",
   "metadata": {
    "ExecuteTime": {
     "end_time": "2023-02-07T18:23:13.531698Z",
     "start_time": "2023-02-07T18:22:25.994513Z"
    }
   },
   "outputs": [
    {
     "name": "stdout",
     "output_type": "stream",
     "text": [
      "125/125 [==============================] - 47s 376ms/step\n"
     ]
    }
   ],
   "source": [
    "pred = model.predict(test_dataset)"
   ]
  },
  {
   "cell_type": "code",
   "execution_count": 180,
   "id": "eda16dad",
   "metadata": {
    "ExecuteTime": {
     "end_time": "2023-02-07T18:23:13.650174Z",
     "start_time": "2023-02-07T18:23:13.534580Z"
    },
    "scrolled": true
   },
   "outputs": [
    {
     "name": "stdout",
     "output_type": "stream",
     "text": [
      "9_model.csv Saved!\n"
     ]
    }
   ],
   "source": [
    "save_preds(pred, \"9_model.csv\")"
   ]
  },
  {
   "cell_type": "markdown",
   "id": "17f8e534",
   "metadata": {},
   "source": [
    "# model(11)\n",
    "\n",
    "- model(9)에 dense 8 위로 추가"
   ]
  },
  {
   "cell_type": "markdown",
   "id": "67ff1720",
   "metadata": {},
   "source": [
    "## Score: 0.26639"
   ]
  },
  {
   "cell_type": "code",
   "execution_count": 181,
   "id": "8e7544c1",
   "metadata": {
    "ExecuteTime": {
     "end_time": "2023-02-07T18:23:13.847067Z",
     "start_time": "2023-02-07T18:23:13.652467Z"
    },
    "scrolled": true
   },
   "outputs": [
    {
     "name": "stdout",
     "output_type": "stream",
     "text": [
      "Model: \"sequential_22\"\n",
      "_________________________________________________________________\n",
      " Layer (type)                Output Shape              Param #   \n",
      "=================================================================\n",
      " conv2d_73 (Conv2D)          (None, 128, 128, 8)       224       \n",
      "                                                                 \n",
      " max_pooling2d_73 (MaxPoolin  (None, 64, 64, 8)        0         \n",
      " g2D)                                                            \n",
      "                                                                 \n",
      " conv2d_74 (Conv2D)          (None, 64, 64, 16)        1168      \n",
      "                                                                 \n",
      " max_pooling2d_74 (MaxPoolin  (None, 32, 32, 16)       0         \n",
      " g2D)                                                            \n",
      "                                                                 \n",
      " conv2d_75 (Conv2D)          (None, 32, 32, 32)        4640      \n",
      "                                                                 \n",
      " max_pooling2d_75 (MaxPoolin  (None, 16, 16, 32)       0         \n",
      " g2D)                                                            \n",
      "                                                                 \n",
      " conv2d_76 (Conv2D)          (None, 16, 16, 64)        18496     \n",
      "                                                                 \n",
      " max_pooling2d_76 (MaxPoolin  (None, 8, 8, 64)         0         \n",
      " g2D)                                                            \n",
      "                                                                 \n",
      " conv2d_77 (Conv2D)          (None, 8, 8, 128)         73856     \n",
      "                                                                 \n",
      " max_pooling2d_77 (MaxPoolin  (None, 4, 4, 128)        0         \n",
      " g2D)                                                            \n",
      "                                                                 \n",
      " flatten_21 (Flatten)        (None, 2048)              0         \n",
      "                                                                 \n",
      " dense_47 (Dense)            (None, 8)                 16392     \n",
      "                                                                 \n",
      " dense_48 (Dense)            (None, 16)                144       \n",
      "                                                                 \n",
      " dense_49 (Dense)            (None, 32)                544       \n",
      "                                                                 \n",
      " dropout_29 (Dropout)        (None, 32)                0         \n",
      "                                                                 \n",
      " dense_50 (Dense)            (None, 1)                 33        \n",
      "                                                                 \n",
      "=================================================================\n",
      "Total params: 115,497\n",
      "Trainable params: 115,497\n",
      "Non-trainable params: 0\n",
      "_________________________________________________________________\n"
     ]
    }
   ],
   "source": [
    "model = keras.Sequential()\n",
    "model.add(keras.layers.Conv2D(8, kernel_size = 3, activation = \"relu\", padding = \"same\",\n",
    "                              input_shape = (128,128, 3)))\n",
    "model.add(keras.layers.MaxPool2D(2))\n",
    "\n",
    "model.add(keras.layers.Conv2D(16, kernel_size = 3, activation = \"relu\", padding = \"same\"))\n",
    "model.add(keras.layers.MaxPool2D(2))\n",
    "\n",
    "model.add(keras.layers.Conv2D(32, kernel_size = 3, activation = \"relu\", padding = \"same\"))\n",
    "model.add(keras.layers.MaxPool2D(2))\n",
    "\n",
    "model.add(keras.layers.Conv2D(64, kernel_size = 3, activation = \"relu\", padding = \"same\"))\n",
    "model.add(keras.layers.MaxPool2D(2))\n",
    "\n",
    "model.add(keras.layers.Conv2D(128, kernel_size = 3, activation = \"relu\", padding = \"same\"))\n",
    "model.add(keras.layers.MaxPool2D(2))\n",
    "\n",
    "model.add(keras.layers.Flatten())\n",
    "\n",
    "model.add(keras.layers.Dense(8, activation = \"relu\"))\n",
    "\n",
    "model.add(keras.layers.Dense(16, activation = \"relu\"))\n",
    "\n",
    "model.add(keras.layers.Dense(32, activation = \"relu\"))\n",
    "\n",
    "model.add(keras.layers.Dropout(0.4))\n",
    "\n",
    "model.add(keras.layers.Dense(1, activation = \"sigmoid\"))\n",
    "model.summary()"
   ]
  },
  {
   "cell_type": "code",
   "execution_count": 182,
   "id": "4d71de86",
   "metadata": {
    "ExecuteTime": {
     "end_time": "2023-02-07T18:23:13.853315Z",
     "start_time": "2023-02-07T18:23:13.850170Z"
    }
   },
   "outputs": [],
   "source": [
    "checkpoint_cb = keras.callbacks.ModelCheckpoint(\"./model/best-cnn-11model.h5\", save_best_only = True)\n",
    "early_stopping_cb = keras.callbacks.EarlyStopping(patience = 3, restore_best_weights = True)"
   ]
  },
  {
   "cell_type": "code",
   "execution_count": 183,
   "id": "b6cb9505",
   "metadata": {
    "ExecuteTime": {
     "end_time": "2023-02-07T18:23:13.886875Z",
     "start_time": "2023-02-07T18:23:13.855928Z"
    }
   },
   "outputs": [],
   "source": [
    "model.compile(optimizer = \"adam\", loss = \"binary_crossentropy\", metrics = \"accuracy\")"
   ]
  },
  {
   "cell_type": "code",
   "execution_count": 184,
   "id": "d757281b",
   "metadata": {
    "ExecuteTime": {
     "end_time": "2023-02-07T19:26:20.000928Z",
     "start_time": "2023-02-07T18:23:13.891475Z"
    },
    "scrolled": true
   },
   "outputs": [
    {
     "name": "stdout",
     "output_type": "stream",
     "text": [
      "Epoch 1/100\n",
      "225/225 [==============================] - 201s 885ms/step - loss: 0.6618 - accuracy: 0.5991 - val_loss: 0.6335 - val_accuracy: 0.6444\n",
      "Epoch 2/100\n",
      "225/225 [==============================] - 199s 882ms/step - loss: 0.5909 - accuracy: 0.6973 - val_loss: 0.5352 - val_accuracy: 0.7400\n",
      "Epoch 3/100\n",
      "225/225 [==============================] - 199s 885ms/step - loss: 0.5227 - accuracy: 0.7542 - val_loss: 0.4951 - val_accuracy: 0.7596\n",
      "Epoch 4/100\n",
      "225/225 [==============================] - 199s 884ms/step - loss: 0.4682 - accuracy: 0.7879 - val_loss: 0.4195 - val_accuracy: 0.8088\n",
      "Epoch 5/100\n",
      "225/225 [==============================] - 199s 884ms/step - loss: 0.4400 - accuracy: 0.8080 - val_loss: 0.4066 - val_accuracy: 0.8192\n",
      "Epoch 6/100\n",
      "225/225 [==============================] - 199s 886ms/step - loss: 0.4122 - accuracy: 0.8215 - val_loss: 0.3797 - val_accuracy: 0.8340\n",
      "Epoch 7/100\n",
      "225/225 [==============================] - 199s 885ms/step - loss: 0.3792 - accuracy: 0.8366 - val_loss: 0.3394 - val_accuracy: 0.8608\n",
      "Epoch 8/100\n",
      "225/225 [==============================] - 199s 883ms/step - loss: 0.3570 - accuracy: 0.8469 - val_loss: 0.3503 - val_accuracy: 0.8488\n",
      "Epoch 9/100\n",
      "225/225 [==============================] - 199s 883ms/step - loss: 0.3339 - accuracy: 0.8637 - val_loss: 0.3176 - val_accuracy: 0.8660\n",
      "Epoch 10/100\n",
      "225/225 [==============================] - 199s 886ms/step - loss: 0.3138 - accuracy: 0.8741 - val_loss: 0.3176 - val_accuracy: 0.8652\n",
      "Epoch 11/100\n",
      "225/225 [==============================] - 199s 886ms/step - loss: 0.2987 - accuracy: 0.8802 - val_loss: 0.3002 - val_accuracy: 0.8748\n",
      "Epoch 12/100\n",
      "225/225 [==============================] - 199s 884ms/step - loss: 0.2885 - accuracy: 0.8852 - val_loss: 0.2977 - val_accuracy: 0.8808\n",
      "Epoch 13/100\n",
      "225/225 [==============================] - 199s 884ms/step - loss: 0.2720 - accuracy: 0.8913 - val_loss: 0.2803 - val_accuracy: 0.8808\n",
      "Epoch 14/100\n",
      "225/225 [==============================] - 200s 887ms/step - loss: 0.2554 - accuracy: 0.8985 - val_loss: 0.2851 - val_accuracy: 0.8868\n",
      "Epoch 15/100\n",
      "225/225 [==============================] - 199s 885ms/step - loss: 0.2553 - accuracy: 0.8986 - val_loss: 0.2782 - val_accuracy: 0.8860\n",
      "Epoch 16/100\n",
      "225/225 [==============================] - 199s 884ms/step - loss: 0.2408 - accuracy: 0.9060 - val_loss: 0.2494 - val_accuracy: 0.8988\n",
      "Epoch 17/100\n",
      "225/225 [==============================] - 199s 883ms/step - loss: 0.2353 - accuracy: 0.9080 - val_loss: 0.2741 - val_accuracy: 0.8876\n",
      "Epoch 18/100\n",
      "225/225 [==============================] - 199s 886ms/step - loss: 0.2305 - accuracy: 0.9094 - val_loss: 0.2644 - val_accuracy: 0.8892\n",
      "Epoch 19/100\n",
      "225/225 [==============================] - 199s 884ms/step - loss: 0.2182 - accuracy: 0.9148 - val_loss: 0.2672 - val_accuracy: 0.8888\n"
     ]
    }
   ],
   "source": [
    "history = model.fit(train_dataset, epochs = 100, validation_data = val_dataset,\n",
    "                    callbacks = [checkpoint_cb, early_stopping_cb])\n",
    "model.save_weights(\"11model.h5\")"
   ]
  },
  {
   "cell_type": "code",
   "execution_count": 185,
   "id": "df851256",
   "metadata": {
    "ExecuteTime": {
     "end_time": "2023-02-07T19:26:58.737808Z",
     "start_time": "2023-02-07T19:26:20.003144Z"
    }
   },
   "outputs": [
    {
     "name": "stdout",
     "output_type": "stream",
     "text": [
      "125/125 [==============================] - 38s 305ms/step\n"
     ]
    }
   ],
   "source": [
    "pred = model.predict(test_dataset)"
   ]
  },
  {
   "cell_type": "code",
   "execution_count": 186,
   "id": "29bebf2b",
   "metadata": {
    "ExecuteTime": {
     "end_time": "2023-02-07T19:26:58.810356Z",
     "start_time": "2023-02-07T19:26:58.740265Z"
    },
    "scrolled": true
   },
   "outputs": [
    {
     "name": "stdout",
     "output_type": "stream",
     "text": [
      "10_model.csv Saved!\n"
     ]
    }
   ],
   "source": [
    "save_preds(pred, \"10_model.csv\")"
   ]
  },
  {
   "cell_type": "markdown",
   "id": "d39fd8f3",
   "metadata": {},
   "source": [
    "# model(12)\n",
    "\n",
    "- model(9)에 dense 16을 빼고 64 추가"
   ]
  },
  {
   "cell_type": "markdown",
   "id": "2eec844f",
   "metadata": {},
   "source": [
    "## Score: 0.27733"
   ]
  },
  {
   "cell_type": "code",
   "execution_count": 187,
   "id": "75516d17",
   "metadata": {
    "ExecuteTime": {
     "end_time": "2023-02-08T02:18:02.879956Z",
     "start_time": "2023-02-08T02:18:02.721716Z"
    },
    "scrolled": true
   },
   "outputs": [
    {
     "name": "stdout",
     "output_type": "stream",
     "text": [
      "Model: \"sequential_23\"\n",
      "_________________________________________________________________\n",
      " Layer (type)                Output Shape              Param #   \n",
      "=================================================================\n",
      " conv2d_78 (Conv2D)          (None, 128, 128, 8)       224       \n",
      "                                                                 \n",
      " max_pooling2d_78 (MaxPoolin  (None, 64, 64, 8)        0         \n",
      " g2D)                                                            \n",
      "                                                                 \n",
      " conv2d_79 (Conv2D)          (None, 64, 64, 16)        1168      \n",
      "                                                                 \n",
      " max_pooling2d_79 (MaxPoolin  (None, 32, 32, 16)       0         \n",
      " g2D)                                                            \n",
      "                                                                 \n",
      " conv2d_80 (Conv2D)          (None, 32, 32, 32)        4640      \n",
      "                                                                 \n",
      " max_pooling2d_80 (MaxPoolin  (None, 16, 16, 32)       0         \n",
      " g2D)                                                            \n",
      "                                                                 \n",
      " conv2d_81 (Conv2D)          (None, 16, 16, 64)        18496     \n",
      "                                                                 \n",
      " max_pooling2d_81 (MaxPoolin  (None, 8, 8, 64)         0         \n",
      " g2D)                                                            \n",
      "                                                                 \n",
      " conv2d_82 (Conv2D)          (None, 8, 8, 128)         73856     \n",
      "                                                                 \n",
      " max_pooling2d_82 (MaxPoolin  (None, 4, 4, 128)        0         \n",
      " g2D)                                                            \n",
      "                                                                 \n",
      " flatten_22 (Flatten)        (None, 2048)              0         \n",
      "                                                                 \n",
      " dense_51 (Dense)            (None, 32)                65568     \n",
      "                                                                 \n",
      " dense_52 (Dense)            (None, 64)                2112      \n",
      "                                                                 \n",
      " dropout_30 (Dropout)        (None, 64)                0         \n",
      "                                                                 \n",
      " dense_53 (Dense)            (None, 1)                 65        \n",
      "                                                                 \n",
      "=================================================================\n",
      "Total params: 166,129\n",
      "Trainable params: 166,129\n",
      "Non-trainable params: 0\n",
      "_________________________________________________________________\n"
     ]
    }
   ],
   "source": [
    "model = keras.Sequential()\n",
    "model.add(keras.layers.Conv2D(8, kernel_size = 3, activation = \"relu\", padding = \"same\",\n",
    "                              input_shape = (128,128, 3)))\n",
    "model.add(keras.layers.MaxPool2D(2))\n",
    "\n",
    "model.add(keras.layers.Conv2D(16, kernel_size = 3, activation = \"relu\", padding = \"same\"))\n",
    "model.add(keras.layers.MaxPool2D(2))\n",
    "\n",
    "model.add(keras.layers.Conv2D(32, kernel_size = 3, activation = \"relu\", padding = \"same\"))\n",
    "model.add(keras.layers.MaxPool2D(2))\n",
    "\n",
    "model.add(keras.layers.Conv2D(64, kernel_size = 3, activation = \"relu\", padding = \"same\"))\n",
    "model.add(keras.layers.MaxPool2D(2))\n",
    "\n",
    "model.add(keras.layers.Conv2D(128, kernel_size = 3, activation = \"relu\", padding = \"same\"))\n",
    "model.add(keras.layers.MaxPool2D(2))\n",
    "\n",
    "model.add(keras.layers.Flatten())\n",
    "\n",
    "model.add(keras.layers.Dense(32, activation = \"relu\"))\n",
    "\n",
    "model.add(keras.layers.Dense(64, activation = \"relu\"))\n",
    "\n",
    "model.add(keras.layers.Dropout(0.4))\n",
    "\n",
    "model.add(keras.layers.Dense(1, activation = \"sigmoid\"))\n",
    "model.summary()"
   ]
  },
  {
   "cell_type": "code",
   "execution_count": 188,
   "id": "36498147",
   "metadata": {
    "ExecuteTime": {
     "end_time": "2023-02-08T02:18:02.886288Z",
     "start_time": "2023-02-08T02:18:02.882849Z"
    }
   },
   "outputs": [],
   "source": [
    "checkpoint_cb = keras.callbacks.ModelCheckpoint(\"./model/best-cnn-12model.h5\", save_best_only = True)\n",
    "early_stopping_cb = keras.callbacks.EarlyStopping(patience = 3, restore_best_weights = True)"
   ]
  },
  {
   "cell_type": "code",
   "execution_count": 189,
   "id": "cc60cf02",
   "metadata": {
    "ExecuteTime": {
     "end_time": "2023-02-08T02:18:02.999470Z",
     "start_time": "2023-02-08T02:18:02.990473Z"
    }
   },
   "outputs": [],
   "source": [
    "model.compile(optimizer = \"adam\", loss = \"binary_crossentropy\", metrics = \"accuracy\")"
   ]
  },
  {
   "cell_type": "code",
   "execution_count": 190,
   "id": "d5f918e4",
   "metadata": {
    "ExecuteTime": {
     "end_time": "2023-02-08T03:09:14.170267Z",
     "start_time": "2023-02-08T02:18:03.118731Z"
    },
    "scrolled": true
   },
   "outputs": [
    {
     "name": "stdout",
     "output_type": "stream",
     "text": [
      "Epoch 1/100\n",
      "225/225 [==============================] - 207s 908ms/step - loss: 0.6660 - accuracy: 0.5872 - val_loss: 0.6074 - val_accuracy: 0.6856\n",
      "Epoch 2/100\n",
      "225/225 [==============================] - 197s 877ms/step - loss: 0.5686 - accuracy: 0.7104 - val_loss: 0.5055 - val_accuracy: 0.7612\n",
      "Epoch 3/100\n",
      "225/225 [==============================] - 194s 861ms/step - loss: 0.4954 - accuracy: 0.7659 - val_loss: 0.4449 - val_accuracy: 0.7936\n",
      "Epoch 4/100\n",
      "225/225 [==============================] - 196s 873ms/step - loss: 0.4464 - accuracy: 0.7948 - val_loss: 0.3987 - val_accuracy: 0.8180\n",
      "Epoch 5/100\n",
      "225/225 [==============================] - 192s 854ms/step - loss: 0.3989 - accuracy: 0.8217 - val_loss: 0.3593 - val_accuracy: 0.8388\n",
      "Epoch 6/100\n",
      "225/225 [==============================] - 202s 896ms/step - loss: 0.3734 - accuracy: 0.8359 - val_loss: 0.3742 - val_accuracy: 0.8432\n",
      "Epoch 7/100\n",
      "225/225 [==============================] - 188s 834ms/step - loss: 0.3428 - accuracy: 0.8516 - val_loss: 0.3310 - val_accuracy: 0.8496\n",
      "Epoch 8/100\n",
      "225/225 [==============================] - 188s 837ms/step - loss: 0.3251 - accuracy: 0.8586 - val_loss: 0.3467 - val_accuracy: 0.8436\n",
      "Epoch 9/100\n",
      "225/225 [==============================] - 189s 841ms/step - loss: 0.3092 - accuracy: 0.8684 - val_loss: 0.3429 - val_accuracy: 0.8468\n",
      "Epoch 10/100\n",
      "225/225 [==============================] - 188s 836ms/step - loss: 0.2903 - accuracy: 0.8772 - val_loss: 0.3213 - val_accuracy: 0.8660\n",
      "Epoch 11/100\n",
      "225/225 [==============================] - 189s 838ms/step - loss: 0.2710 - accuracy: 0.8838 - val_loss: 0.2866 - val_accuracy: 0.8804\n",
      "Epoch 12/100\n",
      "225/225 [==============================] - 190s 845ms/step - loss: 0.2653 - accuracy: 0.8887 - val_loss: 0.3101 - val_accuracy: 0.8612\n",
      "Epoch 13/100\n",
      "225/225 [==============================] - 187s 832ms/step - loss: 0.2482 - accuracy: 0.8979 - val_loss: 0.2748 - val_accuracy: 0.8828\n",
      "Epoch 14/100\n",
      "225/225 [==============================] - 187s 831ms/step - loss: 0.2433 - accuracy: 0.8990 - val_loss: 0.2926 - val_accuracy: 0.8712\n",
      "Epoch 15/100\n",
      "225/225 [==============================] - 188s 835ms/step - loss: 0.2336 - accuracy: 0.9021 - val_loss: 0.2807 - val_accuracy: 0.8820\n",
      "Epoch 16/100\n",
      "225/225 [==============================] - 187s 831ms/step - loss: 0.2211 - accuracy: 0.9078 - val_loss: 0.2797 - val_accuracy: 0.8796\n"
     ]
    }
   ],
   "source": [
    "history = model.fit(train_dataset, epochs = 100, validation_data = val_dataset,\n",
    "                    callbacks = [checkpoint_cb, early_stopping_cb])\n",
    "model.save_weights(\"12model.h5\")"
   ]
  },
  {
   "cell_type": "code",
   "execution_count": 191,
   "id": "36f41d40",
   "metadata": {
    "ExecuteTime": {
     "end_time": "2023-02-08T03:10:02.501641Z",
     "start_time": "2023-02-08T03:09:14.173466Z"
    }
   },
   "outputs": [
    {
     "name": "stdout",
     "output_type": "stream",
     "text": [
      "125/125 [==============================] - 48s 382ms/step\n"
     ]
    }
   ],
   "source": [
    "pred = model.predict(test_dataset)"
   ]
  },
  {
   "cell_type": "code",
   "execution_count": 192,
   "id": "02cd7576",
   "metadata": {
    "ExecuteTime": {
     "end_time": "2023-02-08T03:10:02.602115Z",
     "start_time": "2023-02-08T03:10:02.504467Z"
    },
    "scrolled": true
   },
   "outputs": [
    {
     "name": "stdout",
     "output_type": "stream",
     "text": [
      "11_model.csv Saved!\n"
     ]
    }
   ],
   "source": [
    "save_preds(pred, \"11_model.csv\")"
   ]
  },
  {
   "cell_type": "markdown",
   "id": "79aa0d12",
   "metadata": {},
   "source": [
    "# model(13)\n",
    "\n",
    "- model(9)에 dropout 추가"
   ]
  },
  {
   "cell_type": "markdown",
   "id": "6b6a79af",
   "metadata": {},
   "source": [
    "## Score: 0.44345"
   ]
  },
  {
   "cell_type": "code",
   "execution_count": 193,
   "id": "df8a21ff",
   "metadata": {
    "ExecuteTime": {
     "end_time": "2023-02-08T03:10:02.790361Z",
     "start_time": "2023-02-08T03:10:02.605956Z"
    },
    "scrolled": true
   },
   "outputs": [
    {
     "name": "stdout",
     "output_type": "stream",
     "text": [
      "Model: \"sequential_24\"\n",
      "_________________________________________________________________\n",
      " Layer (type)                Output Shape              Param #   \n",
      "=================================================================\n",
      " conv2d_83 (Conv2D)          (None, 128, 128, 8)       224       \n",
      "                                                                 \n",
      " max_pooling2d_83 (MaxPoolin  (None, 64, 64, 8)        0         \n",
      " g2D)                                                            \n",
      "                                                                 \n",
      " dropout_31 (Dropout)        (None, 64, 64, 8)         0         \n",
      "                                                                 \n",
      " conv2d_84 (Conv2D)          (None, 64, 64, 16)        1168      \n",
      "                                                                 \n",
      " max_pooling2d_84 (MaxPoolin  (None, 32, 32, 16)       0         \n",
      " g2D)                                                            \n",
      "                                                                 \n",
      " conv2d_85 (Conv2D)          (None, 32, 32, 32)        4640      \n",
      "                                                                 \n",
      " max_pooling2d_85 (MaxPoolin  (None, 16, 16, 32)       0         \n",
      " g2D)                                                            \n",
      "                                                                 \n",
      " conv2d_86 (Conv2D)          (None, 16, 16, 64)        18496     \n",
      "                                                                 \n",
      " max_pooling2d_86 (MaxPoolin  (None, 8, 8, 64)         0         \n",
      " g2D)                                                            \n",
      "                                                                 \n",
      " conv2d_87 (Conv2D)          (None, 8, 8, 128)         73856     \n",
      "                                                                 \n",
      " max_pooling2d_87 (MaxPoolin  (None, 4, 4, 128)        0         \n",
      " g2D)                                                            \n",
      "                                                                 \n",
      " flatten_23 (Flatten)        (None, 2048)              0         \n",
      "                                                                 \n",
      " dense_54 (Dense)            (None, 16)                32784     \n",
      "                                                                 \n",
      " dense_55 (Dense)            (None, 32)                544       \n",
      "                                                                 \n",
      " dropout_32 (Dropout)        (None, 32)                0         \n",
      "                                                                 \n",
      " dense_56 (Dense)            (None, 1)                 33        \n",
      "                                                                 \n",
      "=================================================================\n",
      "Total params: 131,745\n",
      "Trainable params: 131,745\n",
      "Non-trainable params: 0\n",
      "_________________________________________________________________\n"
     ]
    }
   ],
   "source": [
    "model = keras.Sequential()\n",
    "model.add(keras.layers.Conv2D(8, kernel_size = 3, activation = \"relu\", padding = \"same\",\n",
    "                              input_shape = (128,128, 3)))\n",
    "model.add(keras.layers.MaxPool2D(2))\n",
    "\n",
    "model.add(keras.layers.Dropout(0.4))\n",
    "\n",
    "model.add(keras.layers.Conv2D(16, kernel_size = 3, activation = \"relu\", padding = \"same\"))\n",
    "model.add(keras.layers.MaxPool2D(2))\n",
    "\n",
    "model.add(keras.layers.Conv2D(32, kernel_size = 3, activation = \"relu\", padding = \"same\"))\n",
    "model.add(keras.layers.MaxPool2D(2))\n",
    "\n",
    "model.add(keras.layers.Conv2D(64, kernel_size = 3, activation = \"relu\", padding = \"same\"))\n",
    "model.add(keras.layers.MaxPool2D(2))\n",
    "\n",
    "model.add(keras.layers.Conv2D(128, kernel_size = 3, activation = \"relu\", padding = \"same\"))\n",
    "model.add(keras.layers.MaxPool2D(2))\n",
    "\n",
    "model.add(keras.layers.Flatten())\n",
    "\n",
    "model.add(keras.layers.Dense(16, activation = \"relu\"))\n",
    "\n",
    "model.add(keras.layers.Dense(32, activation = \"relu\"))\n",
    "\n",
    "model.add(keras.layers.Dropout(0.4))\n",
    "\n",
    "model.add(keras.layers.Dense(1, activation = \"sigmoid\"))\n",
    "model.summary()"
   ]
  },
  {
   "cell_type": "code",
   "execution_count": 194,
   "id": "45b5a735",
   "metadata": {
    "ExecuteTime": {
     "end_time": "2023-02-08T03:10:02.799634Z",
     "start_time": "2023-02-08T03:10:02.793799Z"
    }
   },
   "outputs": [],
   "source": [
    "checkpoint_cb = keras.callbacks.ModelCheckpoint(\"./model/best-cnn-13model.h5\", save_best_only = True)\n",
    "early_stopping_cb = keras.callbacks.EarlyStopping(patience = 3, restore_best_weights = True)"
   ]
  },
  {
   "cell_type": "code",
   "execution_count": 195,
   "id": "559cdedc",
   "metadata": {
    "ExecuteTime": {
     "end_time": "2023-02-08T03:10:02.820503Z",
     "start_time": "2023-02-08T03:10:02.804547Z"
    }
   },
   "outputs": [],
   "source": [
    "model.compile(optimizer = \"adam\", loss = \"binary_crossentropy\", metrics = \"accuracy\")"
   ]
  },
  {
   "cell_type": "code",
   "execution_count": 196,
   "id": "a9b308c1",
   "metadata": {
    "ExecuteTime": {
     "end_time": "2023-02-08T03:39:10.306397Z",
     "start_time": "2023-02-08T03:10:02.823790Z"
    },
    "scrolled": true
   },
   "outputs": [
    {
     "name": "stdout",
     "output_type": "stream",
     "text": [
      "Epoch 1/100\n",
      "225/225 [==============================] - 210s 924ms/step - loss: 0.6845 - accuracy: 0.5338 - val_loss: 0.6676 - val_accuracy: 0.5752\n",
      "Epoch 2/100\n",
      "225/225 [==============================] - 201s 891ms/step - loss: 0.6165 - accuracy: 0.6575 - val_loss: 0.5767 - val_accuracy: 0.7160\n",
      "Epoch 3/100\n",
      "225/225 [==============================] - 202s 899ms/step - loss: 0.5570 - accuracy: 0.7176 - val_loss: 0.5659 - val_accuracy: 0.7032\n",
      "Epoch 4/100\n",
      "225/225 [==============================] - 190s 843ms/step - loss: 0.5078 - accuracy: 0.7527 - val_loss: 0.5032 - val_accuracy: 0.7540\n",
      "Epoch 5/100\n",
      "225/225 [==============================] - 188s 837ms/step - loss: 0.4683 - accuracy: 0.7777 - val_loss: 0.5605 - val_accuracy: 0.6984\n",
      "Epoch 6/100\n",
      "225/225 [==============================] - 188s 835ms/step - loss: 0.4442 - accuracy: 0.7916 - val_loss: 0.4451 - val_accuracy: 0.7828\n",
      "Epoch 7/100\n",
      "225/225 [==============================] - 190s 843ms/step - loss: 0.4225 - accuracy: 0.8077 - val_loss: 0.5017 - val_accuracy: 0.7320\n",
      "Epoch 8/100\n",
      "225/225 [==============================] - 189s 840ms/step - loss: 0.4095 - accuracy: 0.8138 - val_loss: 0.4854 - val_accuracy: 0.7552\n",
      "Epoch 9/100\n",
      "225/225 [==============================] - 189s 838ms/step - loss: 0.3891 - accuracy: 0.8281 - val_loss: 0.4607 - val_accuracy: 0.7604\n"
     ]
    }
   ],
   "source": [
    "history = model.fit(train_dataset, epochs = 100, validation_data = val_dataset,\n",
    "                    callbacks = [checkpoint_cb, early_stopping_cb])\n",
    "model.save_weights(\"13model.h5\")"
   ]
  },
  {
   "cell_type": "code",
   "execution_count": 197,
   "id": "eb628efd",
   "metadata": {
    "ExecuteTime": {
     "end_time": "2023-02-08T03:39:58.539795Z",
     "start_time": "2023-02-08T03:39:10.309192Z"
    }
   },
   "outputs": [
    {
     "name": "stdout",
     "output_type": "stream",
     "text": [
      "125/125 [==============================] - 48s 382ms/step\n"
     ]
    }
   ],
   "source": [
    "pred = model.predict(test_dataset)"
   ]
  },
  {
   "cell_type": "code",
   "execution_count": 198,
   "id": "a694557b",
   "metadata": {
    "ExecuteTime": {
     "end_time": "2023-02-08T03:39:58.661129Z",
     "start_time": "2023-02-08T03:39:58.542033Z"
    },
    "scrolled": true
   },
   "outputs": [
    {
     "name": "stdout",
     "output_type": "stream",
     "text": [
      "12_model.csv Saved!\n"
     ]
    }
   ],
   "source": [
    "save_preds(pred, \"12_model.csv\")"
   ]
  },
  {
   "cell_type": "markdown",
   "id": "38122460",
   "metadata": {},
   "source": [
    "# model(14)\n",
    "\n",
    "- model(12)에 dropout 추가"
   ]
  },
  {
   "cell_type": "markdown",
   "id": "f2f860ee",
   "metadata": {},
   "source": [
    "## Score: 0.46512"
   ]
  },
  {
   "cell_type": "code",
   "execution_count": 199,
   "id": "a95fee75",
   "metadata": {
    "ExecuteTime": {
     "end_time": "2023-02-08T03:39:58.851451Z",
     "start_time": "2023-02-08T03:39:58.667368Z"
    },
    "scrolled": true
   },
   "outputs": [
    {
     "name": "stdout",
     "output_type": "stream",
     "text": [
      "Model: \"sequential_25\"\n",
      "_________________________________________________________________\n",
      " Layer (type)                Output Shape              Param #   \n",
      "=================================================================\n",
      " conv2d_88 (Conv2D)          (None, 128, 128, 8)       224       \n",
      "                                                                 \n",
      " max_pooling2d_88 (MaxPoolin  (None, 64, 64, 8)        0         \n",
      " g2D)                                                            \n",
      "                                                                 \n",
      " dropout_33 (Dropout)        (None, 64, 64, 8)         0         \n",
      "                                                                 \n",
      " conv2d_89 (Conv2D)          (None, 64, 64, 16)        1168      \n",
      "                                                                 \n",
      " max_pooling2d_89 (MaxPoolin  (None, 32, 32, 16)       0         \n",
      " g2D)                                                            \n",
      "                                                                 \n",
      " conv2d_90 (Conv2D)          (None, 32, 32, 32)        4640      \n",
      "                                                                 \n",
      " max_pooling2d_90 (MaxPoolin  (None, 16, 16, 32)       0         \n",
      " g2D)                                                            \n",
      "                                                                 \n",
      " conv2d_91 (Conv2D)          (None, 16, 16, 64)        18496     \n",
      "                                                                 \n",
      " max_pooling2d_91 (MaxPoolin  (None, 8, 8, 64)         0         \n",
      " g2D)                                                            \n",
      "                                                                 \n",
      " conv2d_92 (Conv2D)          (None, 8, 8, 128)         73856     \n",
      "                                                                 \n",
      " max_pooling2d_92 (MaxPoolin  (None, 4, 4, 128)        0         \n",
      " g2D)                                                            \n",
      "                                                                 \n",
      " flatten_24 (Flatten)        (None, 2048)              0         \n",
      "                                                                 \n",
      " dense_57 (Dense)            (None, 32)                65568     \n",
      "                                                                 \n",
      " dense_58 (Dense)            (None, 64)                2112      \n",
      "                                                                 \n",
      " dropout_34 (Dropout)        (None, 64)                0         \n",
      "                                                                 \n",
      " dense_59 (Dense)            (None, 1)                 65        \n",
      "                                                                 \n",
      "=================================================================\n",
      "Total params: 166,129\n",
      "Trainable params: 166,129\n",
      "Non-trainable params: 0\n",
      "_________________________________________________________________\n"
     ]
    }
   ],
   "source": [
    "model = keras.Sequential()\n",
    "model.add(keras.layers.Conv2D(8, kernel_size = 3, activation = \"relu\", padding = \"same\",\n",
    "                              input_shape = (128,128, 3)))\n",
    "model.add(keras.layers.MaxPool2D(2))\n",
    "\n",
    "model.add(keras.layers.Dropout(0.4))\n",
    "\n",
    "model.add(keras.layers.Conv2D(16, kernel_size = 3, activation = \"relu\", padding = \"same\"))\n",
    "model.add(keras.layers.MaxPool2D(2))\n",
    "\n",
    "model.add(keras.layers.Conv2D(32, kernel_size = 3, activation = \"relu\", padding = \"same\"))\n",
    "model.add(keras.layers.MaxPool2D(2))\n",
    "\n",
    "model.add(keras.layers.Conv2D(64, kernel_size = 3, activation = \"relu\", padding = \"same\"))\n",
    "model.add(keras.layers.MaxPool2D(2))\n",
    "\n",
    "model.add(keras.layers.Conv2D(128, kernel_size = 3, activation = \"relu\", padding = \"same\"))\n",
    "model.add(keras.layers.MaxPool2D(2))\n",
    "\n",
    "model.add(keras.layers.Flatten())\n",
    "\n",
    "model.add(keras.layers.Dense(32, activation = \"relu\"))\n",
    "\n",
    "model.add(keras.layers.Dense(64, activation = \"relu\"))\n",
    "\n",
    "model.add(keras.layers.Dropout(0.4))\n",
    "\n",
    "model.add(keras.layers.Dense(1, activation = \"sigmoid\"))\n",
    "model.summary()"
   ]
  },
  {
   "cell_type": "code",
   "execution_count": 200,
   "id": "1bda614e",
   "metadata": {
    "ExecuteTime": {
     "end_time": "2023-02-08T03:39:58.857467Z",
     "start_time": "2023-02-08T03:39:58.853997Z"
    }
   },
   "outputs": [],
   "source": [
    "checkpoint_cb = keras.callbacks.ModelCheckpoint(\"./model/best-cnn-14model.h5\", save_best_only = True)\n",
    "early_stopping_cb = keras.callbacks.EarlyStopping(patience = 3, restore_best_weights = True)"
   ]
  },
  {
   "cell_type": "code",
   "execution_count": 201,
   "id": "92fec30a",
   "metadata": {
    "ExecuteTime": {
     "end_time": "2023-02-08T03:39:58.880408Z",
     "start_time": "2023-02-08T03:39:58.863441Z"
    }
   },
   "outputs": [],
   "source": [
    "model.compile(optimizer = \"adam\", loss = \"binary_crossentropy\", metrics = \"accuracy\")"
   ]
  },
  {
   "cell_type": "code",
   "execution_count": 202,
   "id": "d6f060fb",
   "metadata": {
    "ExecuteTime": {
     "end_time": "2023-02-08T04:02:12.920430Z",
     "start_time": "2023-02-08T03:39:58.883695Z"
    },
    "scrolled": true
   },
   "outputs": [
    {
     "name": "stdout",
     "output_type": "stream",
     "text": [
      "Epoch 1/100\n",
      "225/225 [==============================] - 190s 835ms/step - loss: 0.6484 - accuracy: 0.6071 - val_loss: 0.6072 - val_accuracy: 0.6704\n",
      "Epoch 2/100\n",
      "225/225 [==============================] - 198s 881ms/step - loss: 0.5626 - accuracy: 0.7093 - val_loss: 0.6119 - val_accuracy: 0.6440\n",
      "Epoch 3/100\n",
      "225/225 [==============================] - 191s 849ms/step - loss: 0.5070 - accuracy: 0.7530 - val_loss: 0.6003 - val_accuracy: 0.6856\n",
      "Epoch 4/100\n",
      "225/225 [==============================] - 189s 839ms/step - loss: 0.4717 - accuracy: 0.7787 - val_loss: 0.4995 - val_accuracy: 0.7400\n",
      "Epoch 5/100\n",
      "225/225 [==============================] - 188s 836ms/step - loss: 0.4418 - accuracy: 0.7949 - val_loss: 0.5565 - val_accuracy: 0.7232\n",
      "Epoch 6/100\n",
      "225/225 [==============================] - 188s 836ms/step - loss: 0.4130 - accuracy: 0.8145 - val_loss: 0.5028 - val_accuracy: 0.7420\n",
      "Epoch 7/100\n",
      "225/225 [==============================] - 188s 837ms/step - loss: 0.3923 - accuracy: 0.8228 - val_loss: 0.5105 - val_accuracy: 0.7380\n"
     ]
    }
   ],
   "source": [
    "history = model.fit(train_dataset, epochs = 100, validation_data = val_dataset,\n",
    "                    callbacks = [checkpoint_cb, early_stopping_cb])\n",
    "model.save_weights(\"14model.h5\")"
   ]
  },
  {
   "cell_type": "code",
   "execution_count": 203,
   "id": "3fd6fd5d",
   "metadata": {
    "ExecuteTime": {
     "end_time": "2023-02-08T04:03:01.798796Z",
     "start_time": "2023-02-08T04:02:12.922604Z"
    }
   },
   "outputs": [
    {
     "name": "stdout",
     "output_type": "stream",
     "text": [
      "125/125 [==============================] - 49s 388ms/step\n"
     ]
    }
   ],
   "source": [
    "pred = model.predict(test_dataset)"
   ]
  },
  {
   "cell_type": "code",
   "execution_count": 204,
   "id": "3995df60",
   "metadata": {
    "ExecuteTime": {
     "end_time": "2023-02-08T04:03:01.918473Z",
     "start_time": "2023-02-08T04:03:01.801126Z"
    },
    "scrolled": true
   },
   "outputs": [
    {
     "name": "stdout",
     "output_type": "stream",
     "text": [
      "13_model.csv Saved!\n"
     ]
    }
   ],
   "source": [
    "save_preds(pred, \"13_model.csv\")"
   ]
  },
  {
   "cell_type": "markdown",
   "id": "d70dd985",
   "metadata": {},
   "source": [
    "# model(15)\n",
    "\n",
    "- model(9)의 activate = \"leakyrelu\"로 변경"
   ]
  },
  {
   "cell_type": "markdown",
   "id": "caa5ae18",
   "metadata": {},
   "source": [
    "## Score: 0.27665"
   ]
  },
  {
   "cell_type": "code",
   "execution_count": 207,
   "id": "eea9998f",
   "metadata": {
    "ExecuteTime": {
     "end_time": "2023-02-08T04:47:25.122504Z",
     "start_time": "2023-02-08T04:47:24.969505Z"
    },
    "scrolled": true
   },
   "outputs": [
    {
     "name": "stdout",
     "output_type": "stream",
     "text": [
      "Model: \"sequential_28\"\n",
      "_________________________________________________________________\n",
      " Layer (type)                Output Shape              Param #   \n",
      "=================================================================\n",
      " conv2d_98 (Conv2D)          (None, 128, 128, 8)       224       \n",
      "                                                                 \n",
      " max_pooling2d_98 (MaxPoolin  (None, 64, 64, 8)        0         \n",
      " g2D)                                                            \n",
      "                                                                 \n",
      " conv2d_99 (Conv2D)          (None, 64, 64, 16)        1168      \n",
      "                                                                 \n",
      " max_pooling2d_99 (MaxPoolin  (None, 32, 32, 16)       0         \n",
      " g2D)                                                            \n",
      "                                                                 \n",
      " conv2d_100 (Conv2D)         (None, 32, 32, 32)        4640      \n",
      "                                                                 \n",
      " max_pooling2d_100 (MaxPooli  (None, 16, 16, 32)       0         \n",
      " ng2D)                                                           \n",
      "                                                                 \n",
      " conv2d_101 (Conv2D)         (None, 16, 16, 64)        18496     \n",
      "                                                                 \n",
      " max_pooling2d_101 (MaxPooli  (None, 8, 8, 64)         0         \n",
      " ng2D)                                                           \n",
      "                                                                 \n",
      " conv2d_102 (Conv2D)         (None, 8, 8, 128)         73856     \n",
      "                                                                 \n",
      " max_pooling2d_102 (MaxPooli  (None, 4, 4, 128)        0         \n",
      " ng2D)                                                           \n",
      "                                                                 \n",
      " flatten_26 (Flatten)        (None, 2048)              0         \n",
      "                                                                 \n",
      " dense_63 (Dense)            (None, 16)                32784     \n",
      "                                                                 \n",
      " dense_64 (Dense)            (None, 32)                544       \n",
      "                                                                 \n",
      " dropout_36 (Dropout)        (None, 32)                0         \n",
      "                                                                 \n",
      " dense_65 (Dense)            (None, 1)                 33        \n",
      "                                                                 \n",
      "=================================================================\n",
      "Total params: 131,745\n",
      "Trainable params: 131,745\n",
      "Non-trainable params: 0\n",
      "_________________________________________________________________\n"
     ]
    }
   ],
   "source": [
    "model = keras.Sequential()\n",
    "model.add(keras.layers.Conv2D(8, kernel_size = 3, activation = \"leaky_relu\", padding = \"same\",\n",
    "                              input_shape = (128,128, 3)))\n",
    "model.add(keras.layers.MaxPool2D(2))\n",
    "\n",
    "model.add(keras.layers.Conv2D(16, kernel_size = 3, activation = \"relu\", padding = \"same\"))\n",
    "model.add(keras.layers.MaxPool2D(2))\n",
    "\n",
    "model.add(keras.layers.Conv2D(32, kernel_size = 3, activation = \"relu\", padding = \"same\"))\n",
    "model.add(keras.layers.MaxPool2D(2))\n",
    "\n",
    "model.add(keras.layers.Conv2D(64, kernel_size = 3, activation = \"relu\", padding = \"same\"))\n",
    "model.add(keras.layers.MaxPool2D(2))\n",
    "\n",
    "model.add(keras.layers.Conv2D(128, kernel_size = 3, activation = \"relu\", padding = \"same\"))\n",
    "model.add(keras.layers.MaxPool2D(2))\n",
    "\n",
    "model.add(keras.layers.Flatten())\n",
    "\n",
    "model.add(keras.layers.Dense(16, activation = \"relu\"))\n",
    "\n",
    "model.add(keras.layers.Dense(32, activation = \"relu\"))\n",
    "\n",
    "model.add(keras.layers.Dropout(0.4))\n",
    "\n",
    "model.add(keras.layers.Dense(1, activation = \"sigmoid\"))\n",
    "model.summary()"
   ]
  },
  {
   "cell_type": "code",
   "execution_count": 208,
   "id": "cfbc7532",
   "metadata": {
    "ExecuteTime": {
     "end_time": "2023-02-08T04:47:25.128479Z",
     "start_time": "2023-02-08T04:47:25.125459Z"
    }
   },
   "outputs": [],
   "source": [
    "checkpoint_cb = keras.callbacks.ModelCheckpoint(\"./model/best-cnn-15model.h5\", save_best_only = True)\n",
    "early_stopping_cb = keras.callbacks.EarlyStopping(patience = 3, restore_best_weights = True)"
   ]
  },
  {
   "cell_type": "code",
   "execution_count": 209,
   "id": "ac4b92c8",
   "metadata": {
    "ExecuteTime": {
     "end_time": "2023-02-08T04:47:25.208583Z",
     "start_time": "2023-02-08T04:47:25.199398Z"
    }
   },
   "outputs": [],
   "source": [
    "model.compile(optimizer = \"adam\", loss = \"binary_crossentropy\", metrics = \"accuracy\")"
   ]
  },
  {
   "cell_type": "code",
   "execution_count": 210,
   "id": "0cff8b43",
   "metadata": {
    "ExecuteTime": {
     "end_time": "2023-02-08T05:33:15.706483Z",
     "start_time": "2023-02-08T04:47:25.291436Z"
    },
    "scrolled": true
   },
   "outputs": [
    {
     "name": "stdout",
     "output_type": "stream",
     "text": [
      "Epoch 1/100\n",
      "225/225 [==============================] - 191s 842ms/step - loss: 0.6585 - accuracy: 0.5952 - val_loss: 0.5898 - val_accuracy: 0.6776\n",
      "Epoch 2/100\n",
      "225/225 [==============================] - 188s 836ms/step - loss: 0.5614 - accuracy: 0.7172 - val_loss: 0.5119 - val_accuracy: 0.7480\n",
      "Epoch 3/100\n",
      "225/225 [==============================] - 188s 836ms/step - loss: 0.4900 - accuracy: 0.7691 - val_loss: 0.4699 - val_accuracy: 0.7724\n",
      "Epoch 4/100\n",
      "225/225 [==============================] - 188s 833ms/step - loss: 0.4398 - accuracy: 0.8028 - val_loss: 0.4452 - val_accuracy: 0.7832\n",
      "Epoch 5/100\n",
      "225/225 [==============================] - 188s 834ms/step - loss: 0.4004 - accuracy: 0.8234 - val_loss: 0.3677 - val_accuracy: 0.8324\n",
      "Epoch 6/100\n",
      "225/225 [==============================] - 189s 842ms/step - loss: 0.3731 - accuracy: 0.8379 - val_loss: 0.3620 - val_accuracy: 0.8408\n",
      "Epoch 7/100\n",
      "225/225 [==============================] - 207s 921ms/step - loss: 0.3404 - accuracy: 0.8560 - val_loss: 0.3251 - val_accuracy: 0.8576\n",
      "Epoch 8/100\n",
      "225/225 [==============================] - 192s 851ms/step - loss: 0.3166 - accuracy: 0.8662 - val_loss: 0.3155 - val_accuracy: 0.8624\n",
      "Epoch 9/100\n",
      "225/225 [==============================] - 188s 835ms/step - loss: 0.3052 - accuracy: 0.8725 - val_loss: 0.2891 - val_accuracy: 0.8704\n",
      "Epoch 10/100\n",
      "225/225 [==============================] - 189s 839ms/step - loss: 0.2899 - accuracy: 0.8811 - val_loss: 0.2824 - val_accuracy: 0.8800\n",
      "Epoch 11/100\n",
      "225/225 [==============================] - 194s 863ms/step - loss: 0.2688 - accuracy: 0.8884 - val_loss: 0.2607 - val_accuracy: 0.8892\n",
      "Epoch 12/100\n",
      "225/225 [==============================] - 203s 902ms/step - loss: 0.2514 - accuracy: 0.8957 - val_loss: 0.2803 - val_accuracy: 0.8820\n",
      "Epoch 13/100\n",
      "225/225 [==============================] - 224s 995ms/step - loss: 0.2485 - accuracy: 0.8965 - val_loss: 0.2681 - val_accuracy: 0.8920\n",
      "Epoch 14/100\n",
      "225/225 [==============================] - 220s 979ms/step - loss: 0.2403 - accuracy: 0.9015 - val_loss: 0.2654 - val_accuracy: 0.8924\n"
     ]
    }
   ],
   "source": [
    "history = model.fit(train_dataset, epochs = 100, validation_data = val_dataset,\n",
    "                    callbacks = [checkpoint_cb, early_stopping_cb])\n",
    "model.save_weights(\"15model.h5\")"
   ]
  },
  {
   "cell_type": "code",
   "execution_count": 211,
   "id": "3edf5250",
   "metadata": {
    "ExecuteTime": {
     "end_time": "2023-02-08T05:34:04.671482Z",
     "start_time": "2023-02-08T05:33:15.709295Z"
    }
   },
   "outputs": [
    {
     "name": "stdout",
     "output_type": "stream",
     "text": [
      "125/125 [==============================] - 49s 387ms/step\n"
     ]
    }
   ],
   "source": [
    "pred = model.predict(test_dataset)"
   ]
  },
  {
   "cell_type": "code",
   "execution_count": 212,
   "id": "474428ae",
   "metadata": {
    "ExecuteTime": {
     "end_time": "2023-02-08T05:34:04.798287Z",
     "start_time": "2023-02-08T05:34:04.674648Z"
    },
    "scrolled": true
   },
   "outputs": [
    {
     "name": "stdout",
     "output_type": "stream",
     "text": [
      "14_model.csv Saved!\n"
     ]
    }
   ],
   "source": [
    "save_preds(pred, \"14_model.csv\")"
   ]
  },
  {
   "cell_type": "markdown",
   "id": "0a8570ae",
   "metadata": {},
   "source": [
    "# model(16)\n",
    "\n",
    "- leaky_relu 2개 추가"
   ]
  },
  {
   "cell_type": "markdown",
   "id": "b614312c",
   "metadata": {},
   "source": [
    "## Score: 0.28635"
   ]
  },
  {
   "cell_type": "code",
   "execution_count": 213,
   "id": "f171237f",
   "metadata": {
    "ExecuteTime": {
     "end_time": "2023-02-08T05:34:04.988133Z",
     "start_time": "2023-02-08T05:34:04.803876Z"
    },
    "scrolled": true
   },
   "outputs": [
    {
     "name": "stdout",
     "output_type": "stream",
     "text": [
      "Model: \"sequential_29\"\n",
      "_________________________________________________________________\n",
      " Layer (type)                Output Shape              Param #   \n",
      "=================================================================\n",
      " conv2d_103 (Conv2D)         (None, 128, 128, 8)       224       \n",
      "                                                                 \n",
      " max_pooling2d_103 (MaxPooli  (None, 64, 64, 8)        0         \n",
      " ng2D)                                                           \n",
      "                                                                 \n",
      " conv2d_104 (Conv2D)         (None, 64, 64, 16)        1168      \n",
      "                                                                 \n",
      " max_pooling2d_104 (MaxPooli  (None, 32, 32, 16)       0         \n",
      " ng2D)                                                           \n",
      "                                                                 \n",
      " conv2d_105 (Conv2D)         (None, 32, 32, 32)        4640      \n",
      "                                                                 \n",
      " max_pooling2d_105 (MaxPooli  (None, 16, 16, 32)       0         \n",
      " ng2D)                                                           \n",
      "                                                                 \n",
      " conv2d_106 (Conv2D)         (None, 16, 16, 64)        18496     \n",
      "                                                                 \n",
      " max_pooling2d_106 (MaxPooli  (None, 8, 8, 64)         0         \n",
      " ng2D)                                                           \n",
      "                                                                 \n",
      " conv2d_107 (Conv2D)         (None, 8, 8, 128)         73856     \n",
      "                                                                 \n",
      " max_pooling2d_107 (MaxPooli  (None, 4, 4, 128)        0         \n",
      " ng2D)                                                           \n",
      "                                                                 \n",
      " flatten_27 (Flatten)        (None, 2048)              0         \n",
      "                                                                 \n",
      " dense_66 (Dense)            (None, 16)                32784     \n",
      "                                                                 \n",
      " dense_67 (Dense)            (None, 32)                544       \n",
      "                                                                 \n",
      " dropout_37 (Dropout)        (None, 32)                0         \n",
      "                                                                 \n",
      " dense_68 (Dense)            (None, 1)                 33        \n",
      "                                                                 \n",
      "=================================================================\n",
      "Total params: 131,745\n",
      "Trainable params: 131,745\n",
      "Non-trainable params: 0\n",
      "_________________________________________________________________\n"
     ]
    }
   ],
   "source": [
    "model = keras.Sequential()\n",
    "model.add(keras.layers.Conv2D(8, kernel_size = 3, activation = \"leaky_relu\", padding = \"same\",\n",
    "                              input_shape = (128,128, 3)))\n",
    "model.add(keras.layers.MaxPool2D(2))\n",
    "\n",
    "model.add(keras.layers.Conv2D(16, kernel_size = 3, activation = \"leaky_relu\", padding = \"same\"))\n",
    "model.add(keras.layers.MaxPool2D(2))\n",
    "\n",
    "model.add(keras.layers.Conv2D(32, kernel_size = 3, activation = \"relu\", padding = \"same\"))\n",
    "model.add(keras.layers.MaxPool2D(2))\n",
    "\n",
    "model.add(keras.layers.Conv2D(64, kernel_size = 3, activation = \"relu\", padding = \"same\"))\n",
    "model.add(keras.layers.MaxPool2D(2))\n",
    "\n",
    "model.add(keras.layers.Conv2D(128, kernel_size = 3, activation = \"relu\", padding = \"same\"))\n",
    "model.add(keras.layers.MaxPool2D(2))\n",
    "\n",
    "model.add(keras.layers.Flatten())\n",
    "\n",
    "model.add(keras.layers.Dense(16, activation = \"relu\"))\n",
    "\n",
    "model.add(keras.layers.Dense(32, activation = \"relu\"))\n",
    "\n",
    "model.add(keras.layers.Dropout(0.4))\n",
    "\n",
    "model.add(keras.layers.Dense(1, activation = \"sigmoid\"))\n",
    "model.summary()"
   ]
  },
  {
   "cell_type": "code",
   "execution_count": 214,
   "id": "4756a2de",
   "metadata": {
    "ExecuteTime": {
     "end_time": "2023-02-08T05:34:04.994160Z",
     "start_time": "2023-02-08T05:34:04.990556Z"
    }
   },
   "outputs": [],
   "source": [
    "checkpoint_cb = keras.callbacks.ModelCheckpoint(\"./model/best-cnn-16model.h5\", save_best_only = True)\n",
    "early_stopping_cb = keras.callbacks.EarlyStopping(patience = 3, restore_best_weights = True)"
   ]
  },
  {
   "cell_type": "code",
   "execution_count": 215,
   "id": "9b3877ad",
   "metadata": {
    "ExecuteTime": {
     "end_time": "2023-02-08T05:34:05.012389Z",
     "start_time": "2023-02-08T05:34:04.996613Z"
    }
   },
   "outputs": [],
   "source": [
    "model.compile(optimizer = \"adam\", loss = \"binary_crossentropy\", metrics = \"accuracy\")"
   ]
  },
  {
   "cell_type": "code",
   "execution_count": 216,
   "id": "3c2a0a9b",
   "metadata": {
    "ExecuteTime": {
     "end_time": "2023-02-08T06:49:22.498553Z",
     "start_time": "2023-02-08T05:34:05.015525Z"
    },
    "scrolled": true
   },
   "outputs": [
    {
     "name": "stdout",
     "output_type": "stream",
     "text": [
      "Epoch 1/100\n",
      "225/225 [==============================] - 228s 1s/step - loss: 0.6848 - accuracy: 0.5372 - val_loss: 0.6575 - val_accuracy: 0.6272\n",
      "Epoch 2/100\n",
      "225/225 [==============================] - 216s 958ms/step - loss: 0.6130 - accuracy: 0.6761 - val_loss: 0.5727 - val_accuracy: 0.7196\n",
      "Epoch 3/100\n",
      "225/225 [==============================] - 213s 948ms/step - loss: 0.5512 - accuracy: 0.7328 - val_loss: 0.4842 - val_accuracy: 0.7780\n",
      "Epoch 4/100\n",
      "225/225 [==============================] - 213s 945ms/step - loss: 0.4940 - accuracy: 0.7752 - val_loss: 0.4535 - val_accuracy: 0.8008\n",
      "Epoch 5/100\n",
      "225/225 [==============================] - 213s 945ms/step - loss: 0.4463 - accuracy: 0.8010 - val_loss: 0.4275 - val_accuracy: 0.8012\n",
      "Epoch 6/100\n",
      "225/225 [==============================] - 212s 941ms/step - loss: 0.4110 - accuracy: 0.8218 - val_loss: 0.3593 - val_accuracy: 0.8440\n",
      "Epoch 7/100\n",
      "225/225 [==============================] - 213s 944ms/step - loss: 0.3868 - accuracy: 0.8356 - val_loss: 0.3487 - val_accuracy: 0.8452\n",
      "Epoch 8/100\n",
      "225/225 [==============================] - 212s 942ms/step - loss: 0.3497 - accuracy: 0.8552 - val_loss: 0.3710 - val_accuracy: 0.8364\n",
      "Epoch 9/100\n",
      "225/225 [==============================] - 214s 951ms/step - loss: 0.3247 - accuracy: 0.8644 - val_loss: 0.3186 - val_accuracy: 0.8596\n",
      "Epoch 10/100\n",
      "225/225 [==============================] - 214s 952ms/step - loss: 0.3039 - accuracy: 0.8716 - val_loss: 0.2980 - val_accuracy: 0.8712\n",
      "Epoch 11/100\n",
      "225/225 [==============================] - 214s 952ms/step - loss: 0.2889 - accuracy: 0.8813 - val_loss: 0.2886 - val_accuracy: 0.8772\n",
      "Epoch 12/100\n",
      "225/225 [==============================] - 216s 959ms/step - loss: 0.2738 - accuracy: 0.8877 - val_loss: 0.2877 - val_accuracy: 0.8776\n",
      "Epoch 13/100\n",
      "225/225 [==============================] - 217s 965ms/step - loss: 0.2612 - accuracy: 0.8934 - val_loss: 0.3155 - val_accuracy: 0.8648\n",
      "Epoch 14/100\n",
      "225/225 [==============================] - 218s 969ms/step - loss: 0.2501 - accuracy: 0.8980 - val_loss: 0.2633 - val_accuracy: 0.8924\n",
      "Epoch 15/100\n",
      "225/225 [==============================] - 215s 956ms/step - loss: 0.2441 - accuracy: 0.8996 - val_loss: 0.2788 - val_accuracy: 0.8756\n",
      "Epoch 16/100\n",
      "225/225 [==============================] - 218s 969ms/step - loss: 0.2259 - accuracy: 0.9087 - val_loss: 0.2955 - val_accuracy: 0.8760\n",
      "Epoch 17/100\n",
      "225/225 [==============================] - 219s 973ms/step - loss: 0.2258 - accuracy: 0.9080 - val_loss: 0.2610 - val_accuracy: 0.8892\n",
      "Epoch 18/100\n",
      "225/225 [==============================] - 224s 996ms/step - loss: 0.2138 - accuracy: 0.9118 - val_loss: 0.2533 - val_accuracy: 0.8920\n",
      "Epoch 19/100\n",
      "225/225 [==============================] - 206s 916ms/step - loss: 0.2129 - accuracy: 0.9168 - val_loss: 0.2588 - val_accuracy: 0.8956\n",
      "Epoch 20/100\n",
      "225/225 [==============================] - 207s 921ms/step - loss: 0.1984 - accuracy: 0.9212 - val_loss: 0.2590 - val_accuracy: 0.8892\n",
      "Epoch 21/100\n",
      "225/225 [==============================] - 213s 948ms/step - loss: 0.1984 - accuracy: 0.9202 - val_loss: 0.2628 - val_accuracy: 0.8892\n"
     ]
    }
   ],
   "source": [
    "history = model.fit(train_dataset, epochs = 100, validation_data = val_dataset,\n",
    "                    callbacks = [checkpoint_cb, early_stopping_cb])\n",
    "model.save_weights(\"16model.h5\")"
   ]
  },
  {
   "cell_type": "code",
   "execution_count": 217,
   "id": "422d36c6",
   "metadata": {
    "ExecuteTime": {
     "end_time": "2023-02-08T06:50:11.241603Z",
     "start_time": "2023-02-08T06:49:22.501127Z"
    }
   },
   "outputs": [
    {
     "name": "stdout",
     "output_type": "stream",
     "text": [
      "125/125 [==============================] - 48s 378ms/step\n"
     ]
    }
   ],
   "source": [
    "pred = model.predict(test_dataset)"
   ]
  },
  {
   "cell_type": "code",
   "execution_count": 218,
   "id": "38ea485b",
   "metadata": {
    "ExecuteTime": {
     "end_time": "2023-02-08T06:50:11.364845Z",
     "start_time": "2023-02-08T06:50:11.243887Z"
    },
    "scrolled": true
   },
   "outputs": [
    {
     "name": "stdout",
     "output_type": "stream",
     "text": [
      "15_model.csv Saved!\n"
     ]
    }
   ],
   "source": [
    "save_preds(pred, \"15_model.csv\")"
   ]
  },
  {
   "cell_type": "markdown",
   "id": "7dea0ac6",
   "metadata": {},
   "source": [
    "# model(17) - model(9)에서 첫번째 maxpool을 제거"
   ]
  },
  {
   "cell_type": "markdown",
   "id": "dff30592",
   "metadata": {},
   "source": [
    "## Score: 0.24516 - 821등"
   ]
  },
  {
   "cell_type": "code",
   "execution_count": 220,
   "id": "0f5bcc97",
   "metadata": {
    "ExecuteTime": {
     "end_time": "2023-02-08T06:52:28.414227Z",
     "start_time": "2023-02-08T06:52:28.259655Z"
    },
    "scrolled": false
   },
   "outputs": [
    {
     "name": "stdout",
     "output_type": "stream",
     "text": [
      "Model: \"sequential_31\"\n",
      "_________________________________________________________________\n",
      " Layer (type)                Output Shape              Param #   \n",
      "=================================================================\n",
      " conv2d_113 (Conv2D)         (None, 128, 128, 8)       224       \n",
      "                                                                 \n",
      " conv2d_114 (Conv2D)         (None, 128, 128, 16)      1168      \n",
      "                                                                 \n",
      " max_pooling2d_112 (MaxPooli  (None, 64, 64, 16)       0         \n",
      " ng2D)                                                           \n",
      "                                                                 \n",
      " conv2d_115 (Conv2D)         (None, 64, 64, 32)        4640      \n",
      "                                                                 \n",
      " max_pooling2d_113 (MaxPooli  (None, 32, 32, 32)       0         \n",
      " ng2D)                                                           \n",
      "                                                                 \n",
      " conv2d_116 (Conv2D)         (None, 32, 32, 64)        18496     \n",
      "                                                                 \n",
      " max_pooling2d_114 (MaxPooli  (None, 16, 16, 64)       0         \n",
      " ng2D)                                                           \n",
      "                                                                 \n",
      " conv2d_117 (Conv2D)         (None, 16, 16, 128)       73856     \n",
      "                                                                 \n",
      " max_pooling2d_115 (MaxPooli  (None, 8, 8, 128)        0         \n",
      " ng2D)                                                           \n",
      "                                                                 \n",
      " flatten_29 (Flatten)        (None, 8192)              0         \n",
      "                                                                 \n",
      " dense_72 (Dense)            (None, 16)                131088    \n",
      "                                                                 \n",
      " dense_73 (Dense)            (None, 32)                544       \n",
      "                                                                 \n",
      " dropout_39 (Dropout)        (None, 32)                0         \n",
      "                                                                 \n",
      " dense_74 (Dense)            (None, 1)                 33        \n",
      "                                                                 \n",
      "=================================================================\n",
      "Total params: 230,049\n",
      "Trainable params: 230,049\n",
      "Non-trainable params: 0\n",
      "_________________________________________________________________\n"
     ]
    }
   ],
   "source": [
    "model = keras.Sequential()\n",
    "model.add(keras.layers.Conv2D(8, kernel_size = 3, activation = \"relu\", padding = \"same\",\n",
    "                              input_shape = (128,128, 3)))\n",
    "\n",
    "\n",
    "model.add(keras.layers.Conv2D(16, kernel_size = 3, activation = \"relu\", padding = \"same\"))\n",
    "model.add(keras.layers.MaxPool2D(2))\n",
    "\n",
    "model.add(keras.layers.Conv2D(32, kernel_size = 3, activation = \"relu\", padding = \"same\"))\n",
    "model.add(keras.layers.MaxPool2D(2))\n",
    "\n",
    "model.add(keras.layers.Conv2D(64, kernel_size = 3, activation = \"relu\", padding = \"same\"))\n",
    "model.add(keras.layers.MaxPool2D(2))\n",
    "\n",
    "model.add(keras.layers.Conv2D(128, kernel_size = 3, activation = \"relu\", padding = \"same\"))\n",
    "model.add(keras.layers.MaxPool2D(2))\n",
    "\n",
    "model.add(keras.layers.Flatten())\n",
    "\n",
    "model.add(keras.layers.Dense(16, activation = \"relu\"))\n",
    "\n",
    "model.add(keras.layers.Dense(32, activation = \"relu\"))\n",
    "\n",
    "model.add(keras.layers.Dropout(0.4))\n",
    "\n",
    "model.add(keras.layers.Dense(1, activation = \"sigmoid\"))\n",
    "model.summary()"
   ]
  },
  {
   "cell_type": "code",
   "execution_count": 221,
   "id": "61df67da",
   "metadata": {
    "ExecuteTime": {
     "end_time": "2023-02-08T06:52:28.425310Z",
     "start_time": "2023-02-08T06:52:28.421997Z"
    }
   },
   "outputs": [],
   "source": [
    "checkpoint_cb = keras.callbacks.ModelCheckpoint(\"./model/best-cnn-17model.h5\", save_best_only = True)\n",
    "early_stopping_cb = keras.callbacks.EarlyStopping(patience = 3, restore_best_weights = True)"
   ]
  },
  {
   "cell_type": "code",
   "execution_count": 222,
   "id": "06295fda",
   "metadata": {
    "ExecuteTime": {
     "end_time": "2023-02-08T06:52:28.587127Z",
     "start_time": "2023-02-08T06:52:28.575614Z"
    }
   },
   "outputs": [],
   "source": [
    "model.compile(optimizer = \"adam\", loss = \"binary_crossentropy\", metrics = \"accuracy\")"
   ]
  },
  {
   "cell_type": "code",
   "execution_count": 223,
   "id": "f569239d",
   "metadata": {
    "ExecuteTime": {
     "end_time": "2023-02-08T08:11:18.734048Z",
     "start_time": "2023-02-08T06:52:28.741355Z"
    },
    "scrolled": false
   },
   "outputs": [
    {
     "name": "stdout",
     "output_type": "stream",
     "text": [
      "Epoch 1/100\n",
      "225/225 [==============================] - 255s 1s/step - loss: 0.6669 - accuracy: 0.5753 - val_loss: 0.6183 - val_accuracy: 0.6536\n",
      "Epoch 2/100\n",
      "225/225 [==============================] - 241s 1s/step - loss: 0.5649 - accuracy: 0.7063 - val_loss: 0.5162 - val_accuracy: 0.7436\n",
      "Epoch 3/100\n",
      "225/225 [==============================] - 256s 1s/step - loss: 0.5051 - accuracy: 0.7588 - val_loss: 0.4709 - val_accuracy: 0.7768\n",
      "Epoch 4/100\n",
      "225/225 [==============================] - 265s 1s/step - loss: 0.4597 - accuracy: 0.7868 - val_loss: 0.4561 - val_accuracy: 0.7752\n",
      "Epoch 5/100\n",
      "225/225 [==============================] - 272s 1s/step - loss: 0.4109 - accuracy: 0.8167 - val_loss: 0.4625 - val_accuracy: 0.7816\n",
      "Epoch 6/100\n",
      "225/225 [==============================] - 284s 1s/step - loss: 0.3866 - accuracy: 0.8308 - val_loss: 0.3634 - val_accuracy: 0.8356\n",
      "Epoch 7/100\n",
      "225/225 [==============================] - 280s 1s/step - loss: 0.3485 - accuracy: 0.8511 - val_loss: 0.3618 - val_accuracy: 0.8396\n",
      "Epoch 8/100\n",
      "225/225 [==============================] - 270s 1s/step - loss: 0.3273 - accuracy: 0.8598 - val_loss: 0.3088 - val_accuracy: 0.8628\n",
      "Epoch 9/100\n",
      "225/225 [==============================] - 255s 1s/step - loss: 0.2992 - accuracy: 0.8747 - val_loss: 0.3023 - val_accuracy: 0.8688\n",
      "Epoch 10/100\n",
      "225/225 [==============================] - 260s 1s/step - loss: 0.2808 - accuracy: 0.8830 - val_loss: 0.3646 - val_accuracy: 0.8440\n",
      "Epoch 11/100\n",
      "225/225 [==============================] - 271s 1s/step - loss: 0.2711 - accuracy: 0.8892 - val_loss: 0.2820 - val_accuracy: 0.8820\n",
      "Epoch 12/100\n",
      "225/225 [==============================] - 276s 1s/step - loss: 0.2533 - accuracy: 0.8939 - val_loss: 0.2748 - val_accuracy: 0.8840\n",
      "Epoch 13/100\n",
      "225/225 [==============================] - 269s 1s/step - loss: 0.2412 - accuracy: 0.9030 - val_loss: 0.2526 - val_accuracy: 0.8976\n",
      "Epoch 14/100\n",
      "225/225 [==============================] - 264s 1s/step - loss: 0.2286 - accuracy: 0.9070 - val_loss: 0.2747 - val_accuracy: 0.8848\n",
      "Epoch 15/100\n",
      "225/225 [==============================] - 255s 1s/step - loss: 0.2146 - accuracy: 0.9140 - val_loss: 0.2315 - val_accuracy: 0.9008\n",
      "Epoch 16/100\n",
      "225/225 [==============================] - 252s 1s/step - loss: 0.2124 - accuracy: 0.9150 - val_loss: 0.2386 - val_accuracy: 0.9068\n",
      "Epoch 17/100\n",
      "225/225 [==============================] - 251s 1s/step - loss: 0.1974 - accuracy: 0.9206 - val_loss: 0.2790 - val_accuracy: 0.8916\n",
      "Epoch 18/100\n",
      "225/225 [==============================] - 251s 1s/step - loss: 0.1921 - accuracy: 0.9229 - val_loss: 0.2571 - val_accuracy: 0.8856\n"
     ]
    }
   ],
   "source": [
    "history = model.fit(train_dataset, epochs = 100, validation_data = val_dataset,\n",
    "                    callbacks = [checkpoint_cb, early_stopping_cb])\n",
    "model.save_weights(\"17model.h5\")"
   ]
  },
  {
   "cell_type": "code",
   "execution_count": 224,
   "id": "9113bb84",
   "metadata": {
    "ExecuteTime": {
     "end_time": "2023-02-08T08:12:12.621389Z",
     "start_time": "2023-02-08T08:11:18.737476Z"
    }
   },
   "outputs": [
    {
     "name": "stdout",
     "output_type": "stream",
     "text": [
      "125/125 [==============================] - 53s 426ms/step\n"
     ]
    }
   ],
   "source": [
    "pred = model.predict(test_dataset)"
   ]
  },
  {
   "cell_type": "code",
   "execution_count": 225,
   "id": "f9658a6e",
   "metadata": {
    "ExecuteTime": {
     "end_time": "2023-02-08T08:12:12.742190Z",
     "start_time": "2023-02-08T08:12:12.624594Z"
    },
    "scrolled": true
   },
   "outputs": [
    {
     "name": "stdout",
     "output_type": "stream",
     "text": [
      "16_model.csv Saved!\n"
     ]
    }
   ],
   "source": [
    "save_preds(pred, \"16_model.csv\")"
   ]
  },
  {
   "cell_type": "markdown",
   "id": "c92bc79b",
   "metadata": {},
   "source": [
    "# model(18)\n",
    "\n",
    "- model(17)에 reduce를 걸어봄"
   ]
  },
  {
   "cell_type": "markdown",
   "id": "4b609b59",
   "metadata": {},
   "source": [
    "## Score: 0.28464"
   ]
  },
  {
   "cell_type": "code",
   "execution_count": 230,
   "id": "dd36afb2",
   "metadata": {
    "ExecuteTime": {
     "end_time": "2023-02-08T08:14:47.332198Z",
     "start_time": "2023-02-08T08:14:47.175127Z"
    },
    "scrolled": true
   },
   "outputs": [
    {
     "name": "stdout",
     "output_type": "stream",
     "text": [
      "Model: \"sequential_33\"\n",
      "_________________________________________________________________\n",
      " Layer (type)                Output Shape              Param #   \n",
      "=================================================================\n",
      " conv2d_123 (Conv2D)         (None, 128, 128, 8)       224       \n",
      "                                                                 \n",
      " conv2d_124 (Conv2D)         (None, 128, 128, 16)      1168      \n",
      "                                                                 \n",
      " max_pooling2d_120 (MaxPooli  (None, 64, 64, 16)       0         \n",
      " ng2D)                                                           \n",
      "                                                                 \n",
      " conv2d_125 (Conv2D)         (None, 64, 64, 32)        4640      \n",
      "                                                                 \n",
      " max_pooling2d_121 (MaxPooli  (None, 32, 32, 32)       0         \n",
      " ng2D)                                                           \n",
      "                                                                 \n",
      " conv2d_126 (Conv2D)         (None, 32, 32, 64)        18496     \n",
      "                                                                 \n",
      " max_pooling2d_122 (MaxPooli  (None, 16, 16, 64)       0         \n",
      " ng2D)                                                           \n",
      "                                                                 \n",
      " conv2d_127 (Conv2D)         (None, 16, 16, 128)       73856     \n",
      "                                                                 \n",
      " max_pooling2d_123 (MaxPooli  (None, 8, 8, 128)        0         \n",
      " ng2D)                                                           \n",
      "                                                                 \n",
      " flatten_31 (Flatten)        (None, 8192)              0         \n",
      "                                                                 \n",
      " dense_78 (Dense)            (None, 16)                131088    \n",
      "                                                                 \n",
      " dense_79 (Dense)            (None, 32)                544       \n",
      "                                                                 \n",
      " dropout_41 (Dropout)        (None, 32)                0         \n",
      "                                                                 \n",
      " dense_80 (Dense)            (None, 1)                 33        \n",
      "                                                                 \n",
      "=================================================================\n",
      "Total params: 230,049\n",
      "Trainable params: 230,049\n",
      "Non-trainable params: 0\n",
      "_________________________________________________________________\n"
     ]
    }
   ],
   "source": [
    "model = keras.Sequential()\n",
    "model.add(keras.layers.Conv2D(8, kernel_size = 3, activation = \"relu\", padding = \"same\",\n",
    "                              input_shape = (128,128, 3)))\n",
    "\n",
    "\n",
    "model.add(keras.layers.Conv2D(16, kernel_size = 3, activation = \"relu\", padding = \"same\"))\n",
    "model.add(keras.layers.MaxPool2D(2))\n",
    "\n",
    "model.add(keras.layers.Conv2D(32, kernel_size = 3, activation = \"relu\", padding = \"same\"))\n",
    "model.add(keras.layers.MaxPool2D(2))\n",
    "\n",
    "model.add(keras.layers.Conv2D(64, kernel_size = 3, activation = \"relu\", padding = \"same\"))\n",
    "model.add(keras.layers.MaxPool2D(2))\n",
    "\n",
    "model.add(keras.layers.Conv2D(128, kernel_size = 3, activation = \"relu\", padding = \"same\"))\n",
    "model.add(keras.layers.MaxPool2D(2))\n",
    "\n",
    "model.add(keras.layers.Flatten())\n",
    "\n",
    "model.add(keras.layers.Dense(16, activation = \"relu\"))\n",
    "\n",
    "model.add(keras.layers.Dense(32, activation = \"relu\"))\n",
    "\n",
    "model.add(keras.layers.Dropout(0.4))\n",
    "\n",
    "model.add(keras.layers.Dense(1, activation = \"sigmoid\"))\n",
    "model.summary()"
   ]
  },
  {
   "cell_type": "code",
   "execution_count": 231,
   "id": "fe59f2b2",
   "metadata": {
    "ExecuteTime": {
     "end_time": "2023-02-08T08:14:47.342987Z",
     "start_time": "2023-02-08T08:14:47.338174Z"
    }
   },
   "outputs": [],
   "source": [
    "checkpoint_cb = keras.callbacks.ModelCheckpoint(\"./model/best-cnn-18model.h5\", save_best_only = True)\n",
    "early_stopping_cb = keras.callbacks.EarlyStopping(patience = 3, restore_best_weights = True)\n",
    "reducelr_cb = keras.callbacks.ReduceLROnPlateau(monitor = \"val_loss\", factor = .5, patience = 3)"
   ]
  },
  {
   "cell_type": "code",
   "execution_count": 232,
   "id": "5b10dfcb",
   "metadata": {
    "ExecuteTime": {
     "end_time": "2023-02-08T08:14:47.506734Z",
     "start_time": "2023-02-08T08:14:47.496376Z"
    }
   },
   "outputs": [],
   "source": [
    "model.compile(optimizer = \"adam\", loss = \"binary_crossentropy\", metrics = \"accuracy\")"
   ]
  },
  {
   "cell_type": "code",
   "execution_count": 233,
   "id": "0676c51c",
   "metadata": {
    "ExecuteTime": {
     "end_time": "2023-02-08T09:43:31.062742Z",
     "start_time": "2023-02-08T08:14:47.657163Z"
    },
    "scrolled": false
   },
   "outputs": [
    {
     "name": "stdout",
     "output_type": "stream",
     "text": [
      "Epoch 1/100\n",
      "225/225 [==============================] - 260s 1s/step - loss: 0.6767 - accuracy: 0.5736 - val_loss: 0.6277 - val_accuracy: 0.6700 - lr: 0.0010\n",
      "Epoch 2/100\n",
      "225/225 [==============================] - 253s 1s/step - loss: 0.5983 - accuracy: 0.6965 - val_loss: 0.5690 - val_accuracy: 0.7164 - lr: 0.0010\n",
      "Epoch 3/100\n",
      "225/225 [==============================] - 253s 1s/step - loss: 0.5389 - accuracy: 0.7408 - val_loss: 0.4806 - val_accuracy: 0.7788 - lr: 0.0010\n",
      "Epoch 4/100\n",
      "225/225 [==============================] - 254s 1s/step - loss: 0.4953 - accuracy: 0.7690 - val_loss: 0.4411 - val_accuracy: 0.7956 - lr: 0.0010\n",
      "Epoch 5/100\n",
      "225/225 [==============================] - 253s 1s/step - loss: 0.4444 - accuracy: 0.8000 - val_loss: 0.4114 - val_accuracy: 0.8120 - lr: 0.0010\n",
      "Epoch 6/100\n",
      "225/225 [==============================] - 250s 1s/step - loss: 0.4083 - accuracy: 0.8211 - val_loss: 0.3676 - val_accuracy: 0.8392 - lr: 0.0010\n",
      "Epoch 7/100\n",
      "225/225 [==============================] - 252s 1s/step - loss: 0.3744 - accuracy: 0.8397 - val_loss: 0.3979 - val_accuracy: 0.8208 - lr: 0.0010\n",
      "Epoch 8/100\n",
      "225/225 [==============================] - 252s 1s/step - loss: 0.3621 - accuracy: 0.8470 - val_loss: 0.3240 - val_accuracy: 0.8632 - lr: 0.0010\n",
      "Epoch 9/100\n",
      "225/225 [==============================] - 252s 1s/step - loss: 0.3384 - accuracy: 0.8605 - val_loss: 0.3327 - val_accuracy: 0.8528 - lr: 0.0010\n",
      "Epoch 10/100\n",
      "225/225 [==============================] - 252s 1s/step - loss: 0.3043 - accuracy: 0.8728 - val_loss: 0.2895 - val_accuracy: 0.8724 - lr: 0.0010\n",
      "Epoch 11/100\n",
      "225/225 [==============================] - 258s 1s/step - loss: 0.2978 - accuracy: 0.8772 - val_loss: 0.3112 - val_accuracy: 0.8668 - lr: 0.0010\n",
      "Epoch 12/100\n",
      "225/225 [==============================] - 255s 1s/step - loss: 0.2801 - accuracy: 0.8863 - val_loss: 0.2666 - val_accuracy: 0.8896 - lr: 0.0010\n",
      "Epoch 13/100\n",
      "225/225 [==============================] - 254s 1s/step - loss: 0.2611 - accuracy: 0.8957 - val_loss: 0.2589 - val_accuracy: 0.8924 - lr: 0.0010\n",
      "Epoch 14/100\n",
      "225/225 [==============================] - 256s 1s/step - loss: 0.2494 - accuracy: 0.9018 - val_loss: 0.2821 - val_accuracy: 0.8840 - lr: 0.0010\n",
      "Epoch 15/100\n",
      "225/225 [==============================] - 255s 1s/step - loss: 0.2404 - accuracy: 0.9050 - val_loss: 0.2562 - val_accuracy: 0.8880 - lr: 0.0010\n",
      "Epoch 16/100\n",
      "225/225 [==============================] - 248s 1s/step - loss: 0.2236 - accuracy: 0.9104 - val_loss: 0.2635 - val_accuracy: 0.8956 - lr: 0.0010\n",
      "Epoch 17/100\n",
      "225/225 [==============================] - 260s 1s/step - loss: 0.2213 - accuracy: 0.9118 - val_loss: 0.2517 - val_accuracy: 0.9004 - lr: 0.0010\n",
      "Epoch 18/100\n",
      "225/225 [==============================] - 260s 1s/step - loss: 0.1997 - accuracy: 0.9210 - val_loss: 0.2496 - val_accuracy: 0.8976 - lr: 0.0010\n",
      "Epoch 19/100\n",
      "225/225 [==============================] - 246s 1s/step - loss: 0.2011 - accuracy: 0.9219 - val_loss: 0.2561 - val_accuracy: 0.8972 - lr: 0.0010\n",
      "Epoch 20/100\n",
      "225/225 [==============================] - 246s 1s/step - loss: 0.1921 - accuracy: 0.9242 - val_loss: 0.2682 - val_accuracy: 0.8992 - lr: 0.0010\n",
      "Epoch 21/100\n",
      "225/225 [==============================] - 250s 1s/step - loss: 0.1886 - accuracy: 0.9278 - val_loss: 0.3239 - val_accuracy: 0.8840 - lr: 0.0010\n"
     ]
    }
   ],
   "source": [
    "history = model.fit(train_dataset, epochs = 100, validation_data = val_dataset,\n",
    "                    callbacks = [checkpoint_cb, early_stopping_cb, reducelr_cb])\n",
    "model.save_weights(\"18model.h5\")"
   ]
  },
  {
   "cell_type": "code",
   "execution_count": 234,
   "id": "14245361",
   "metadata": {
    "ExecuteTime": {
     "end_time": "2023-02-08T09:44:24.479014Z",
     "start_time": "2023-02-08T09:43:31.065994Z"
    }
   },
   "outputs": [
    {
     "name": "stdout",
     "output_type": "stream",
     "text": [
      "125/125 [==============================] - 53s 422ms/step\n"
     ]
    }
   ],
   "source": [
    "pred = model.predict(test_dataset)"
   ]
  },
  {
   "cell_type": "code",
   "execution_count": 235,
   "id": "ed1e3ffb",
   "metadata": {
    "ExecuteTime": {
     "end_time": "2023-02-08T09:44:24.610384Z",
     "start_time": "2023-02-08T09:44:24.481568Z"
    },
    "scrolled": true
   },
   "outputs": [
    {
     "name": "stdout",
     "output_type": "stream",
     "text": [
      "17_model.csv Saved!\n"
     ]
    }
   ],
   "source": [
    "save_preds(pred, \"17_model.csv\")"
   ]
  },
  {
   "cell_type": "markdown",
   "id": "71d4ac5e",
   "metadata": {},
   "source": [
    "# model(19) -dropout(0.25) 추가"
   ]
  },
  {
   "cell_type": "markdown",
   "id": "86b1948d",
   "metadata": {},
   "source": [
    "## Score: 0.27115"
   ]
  },
  {
   "cell_type": "code",
   "execution_count": 236,
   "id": "623ac4e2",
   "metadata": {
    "ExecuteTime": {
     "end_time": "2023-02-08T11:05:59.816743Z",
     "start_time": "2023-02-08T11:05:59.652578Z"
    },
    "scrolled": true
   },
   "outputs": [
    {
     "name": "stdout",
     "output_type": "stream",
     "text": [
      "Model: \"sequential_34\"\n",
      "_________________________________________________________________\n",
      " Layer (type)                Output Shape              Param #   \n",
      "=================================================================\n",
      " conv2d_128 (Conv2D)         (None, 128, 128, 8)       224       \n",
      "                                                                 \n",
      " dropout_42 (Dropout)        (None, 128, 128, 8)       0         \n",
      "                                                                 \n",
      " conv2d_129 (Conv2D)         (None, 128, 128, 16)      1168      \n",
      "                                                                 \n",
      " max_pooling2d_124 (MaxPooli  (None, 64, 64, 16)       0         \n",
      " ng2D)                                                           \n",
      "                                                                 \n",
      " conv2d_130 (Conv2D)         (None, 64, 64, 32)        4640      \n",
      "                                                                 \n",
      " max_pooling2d_125 (MaxPooli  (None, 32, 32, 32)       0         \n",
      " ng2D)                                                           \n",
      "                                                                 \n",
      " conv2d_131 (Conv2D)         (None, 32, 32, 64)        18496     \n",
      "                                                                 \n",
      " max_pooling2d_126 (MaxPooli  (None, 16, 16, 64)       0         \n",
      " ng2D)                                                           \n",
      "                                                                 \n",
      " conv2d_132 (Conv2D)         (None, 16, 16, 128)       73856     \n",
      "                                                                 \n",
      " max_pooling2d_127 (MaxPooli  (None, 8, 8, 128)        0         \n",
      " ng2D)                                                           \n",
      "                                                                 \n",
      " flatten_32 (Flatten)        (None, 8192)              0         \n",
      "                                                                 \n",
      " dense_81 (Dense)            (None, 16)                131088    \n",
      "                                                                 \n",
      " dense_82 (Dense)            (None, 32)                544       \n",
      "                                                                 \n",
      " dropout_43 (Dropout)        (None, 32)                0         \n",
      "                                                                 \n",
      " dense_83 (Dense)            (None, 1)                 33        \n",
      "                                                                 \n",
      "=================================================================\n",
      "Total params: 230,049\n",
      "Trainable params: 230,049\n",
      "Non-trainable params: 0\n",
      "_________________________________________________________________\n"
     ]
    }
   ],
   "source": [
    "model = keras.Sequential()\n",
    "model.add(keras.layers.Conv2D(8, kernel_size = 3, activation = \"relu\", padding = \"same\",\n",
    "                              input_shape = (128,128, 3)))\n",
    "\n",
    "model.add(keras.layers.Dropout(0.25))\n",
    "\n",
    "model.add(keras.layers.Conv2D(16, kernel_size = 3, activation = \"relu\", padding = \"same\"))\n",
    "model.add(keras.layers.MaxPool2D(2))\n",
    "\n",
    "model.add(keras.layers.Conv2D(32, kernel_size = 3, activation = \"relu\", padding = \"same\"))\n",
    "model.add(keras.layers.MaxPool2D(2))\n",
    "\n",
    "model.add(keras.layers.Conv2D(64, kernel_size = 3, activation = \"relu\", padding = \"same\"))\n",
    "model.add(keras.layers.MaxPool2D(2))\n",
    "\n",
    "model.add(keras.layers.Conv2D(128, kernel_size = 3, activation = \"relu\", padding = \"same\"))\n",
    "model.add(keras.layers.MaxPool2D(2))\n",
    "\n",
    "model.add(keras.layers.Flatten())\n",
    "\n",
    "model.add(keras.layers.Dense(16, activation = \"relu\"))\n",
    "\n",
    "model.add(keras.layers.Dense(32, activation = \"relu\"))\n",
    "\n",
    "model.add(keras.layers.Dropout(0.4))\n",
    "\n",
    "model.add(keras.layers.Dense(1, activation = \"sigmoid\"))\n",
    "model.summary()"
   ]
  },
  {
   "cell_type": "code",
   "execution_count": 237,
   "id": "76a3b01e",
   "metadata": {
    "ExecuteTime": {
     "end_time": "2023-02-08T11:05:59.825298Z",
     "start_time": "2023-02-08T11:05:59.820392Z"
    }
   },
   "outputs": [],
   "source": [
    "checkpoint_cb = keras.callbacks.ModelCheckpoint(\"./model/best-cnn-19model.h5\", save_best_only = True)\n",
    "early_stopping_cb = keras.callbacks.EarlyStopping(patience = 3, restore_best_weights = True)\n",
    "reducelr_cb = keras.callbacks.ReduceLROnPlateau(monitor = \"val_loss\", factor = .5, patience = 3)"
   ]
  },
  {
   "cell_type": "code",
   "execution_count": 238,
   "id": "6ff643e9",
   "metadata": {
    "ExecuteTime": {
     "end_time": "2023-02-08T11:05:59.899140Z",
     "start_time": "2023-02-08T11:05:59.889988Z"
    }
   },
   "outputs": [],
   "source": [
    "model.compile(optimizer = \"adam\", loss = \"binary_crossentropy\", metrics = \"accuracy\")"
   ]
  },
  {
   "cell_type": "code",
   "execution_count": 239,
   "id": "7cdf9645",
   "metadata": {
    "ExecuteTime": {
     "end_time": "2023-02-08T12:43:35.673443Z",
     "start_time": "2023-02-08T11:05:59.978045Z"
    },
    "scrolled": true
   },
   "outputs": [
    {
     "name": "stdout",
     "output_type": "stream",
     "text": [
      "Epoch 1/100\n",
      "225/225 [==============================] - 277s 1s/step - loss: 0.6843 - accuracy: 0.5460 - val_loss: 0.7119 - val_accuracy: 0.5244 - lr: 0.0010\n",
      "Epoch 2/100\n",
      "225/225 [==============================] - 265s 1s/step - loss: 0.6082 - accuracy: 0.6787 - val_loss: 0.5918 - val_accuracy: 0.6756 - lr: 0.0010\n",
      "Epoch 3/100\n",
      "225/225 [==============================] - 265s 1s/step - loss: 0.5538 - accuracy: 0.7223 - val_loss: 0.5151 - val_accuracy: 0.7432 - lr: 0.0010\n",
      "Epoch 4/100\n",
      "225/225 [==============================] - 266s 1s/step - loss: 0.4960 - accuracy: 0.7654 - val_loss: 0.4596 - val_accuracy: 0.7812 - lr: 0.0010\n",
      "Epoch 5/100\n",
      "225/225 [==============================] - 266s 1s/step - loss: 0.4590 - accuracy: 0.7877 - val_loss: 0.4259 - val_accuracy: 0.8012 - lr: 0.0010\n",
      "Epoch 6/100\n",
      "225/225 [==============================] - 266s 1s/step - loss: 0.4216 - accuracy: 0.8085 - val_loss: 0.3906 - val_accuracy: 0.8232 - lr: 0.0010\n",
      "Epoch 7/100\n",
      "225/225 [==============================] - 266s 1s/step - loss: 0.3989 - accuracy: 0.8231 - val_loss: 0.3784 - val_accuracy: 0.8376 - lr: 0.0010\n",
      "Epoch 8/100\n",
      "225/225 [==============================] - 265s 1s/step - loss: 0.3651 - accuracy: 0.8399 - val_loss: 0.3495 - val_accuracy: 0.8408 - lr: 0.0010\n",
      "Epoch 9/100\n",
      "225/225 [==============================] - 265s 1s/step - loss: 0.3484 - accuracy: 0.8479 - val_loss: 0.3306 - val_accuracy: 0.8560 - lr: 0.0010\n",
      "Epoch 10/100\n",
      "225/225 [==============================] - 266s 1s/step - loss: 0.3291 - accuracy: 0.8585 - val_loss: 0.3304 - val_accuracy: 0.8540 - lr: 0.0010\n",
      "Epoch 11/100\n",
      "225/225 [==============================] - 266s 1s/step - loss: 0.3145 - accuracy: 0.8676 - val_loss: 0.3206 - val_accuracy: 0.8600 - lr: 0.0010\n",
      "Epoch 12/100\n",
      "225/225 [==============================] - 266s 1s/step - loss: 0.2909 - accuracy: 0.8784 - val_loss: 0.2979 - val_accuracy: 0.8716 - lr: 0.0010\n",
      "Epoch 13/100\n",
      "225/225 [==============================] - 266s 1s/step - loss: 0.2815 - accuracy: 0.8850 - val_loss: 0.2885 - val_accuracy: 0.8776 - lr: 0.0010\n",
      "Epoch 14/100\n",
      "225/225 [==============================] - 267s 1s/step - loss: 0.2704 - accuracy: 0.8900 - val_loss: 0.2750 - val_accuracy: 0.8868 - lr: 0.0010\n",
      "Epoch 15/100\n",
      "225/225 [==============================] - 266s 1s/step - loss: 0.2576 - accuracy: 0.8928 - val_loss: 0.2831 - val_accuracy: 0.8800 - lr: 0.0010\n",
      "Epoch 16/100\n",
      "225/225 [==============================] - 266s 1s/step - loss: 0.2464 - accuracy: 0.8993 - val_loss: 0.2727 - val_accuracy: 0.8836 - lr: 0.0010\n",
      "Epoch 17/100\n",
      "225/225 [==============================] - 265s 1s/step - loss: 0.2409 - accuracy: 0.9037 - val_loss: 0.2688 - val_accuracy: 0.8940 - lr: 0.0010\n",
      "Epoch 18/100\n",
      "225/225 [==============================] - 264s 1s/step - loss: 0.2338 - accuracy: 0.9049 - val_loss: 0.3294 - val_accuracy: 0.8576 - lr: 0.0010\n",
      "Epoch 19/100\n",
      "225/225 [==============================] - 265s 1s/step - loss: 0.2269 - accuracy: 0.9061 - val_loss: 0.2534 - val_accuracy: 0.8932 - lr: 0.0010\n",
      "Epoch 20/100\n",
      "225/225 [==============================] - 265s 1s/step - loss: 0.2194 - accuracy: 0.9117 - val_loss: 0.2722 - val_accuracy: 0.8812 - lr: 0.0010\n",
      "Epoch 21/100\n",
      "225/225 [==============================] - 267s 1s/step - loss: 0.2068 - accuracy: 0.9156 - val_loss: 0.2719 - val_accuracy: 0.8924 - lr: 0.0010\n",
      "Epoch 22/100\n",
      "225/225 [==============================] - 266s 1s/step - loss: 0.2132 - accuracy: 0.9126 - val_loss: 0.3011 - val_accuracy: 0.8676 - lr: 0.0010\n"
     ]
    }
   ],
   "source": [
    "history = model.fit(train_dataset, epochs = 100, validation_data = val_dataset,\n",
    "                    callbacks = [checkpoint_cb, early_stopping_cb, reducelr_cb])\n",
    "model.save_weights(\"19model.h5\")"
   ]
  },
  {
   "cell_type": "code",
   "execution_count": 240,
   "id": "955beee5",
   "metadata": {
    "ExecuteTime": {
     "end_time": "2023-02-08T12:44:29.433557Z",
     "start_time": "2023-02-08T12:43:35.675998Z"
    }
   },
   "outputs": [
    {
     "name": "stdout",
     "output_type": "stream",
     "text": [
      "125/125 [==============================] - 53s 425ms/step\n"
     ]
    }
   ],
   "source": [
    "pred = model.predict(test_dataset)"
   ]
  },
  {
   "cell_type": "code",
   "execution_count": 241,
   "id": "0f8a3eac",
   "metadata": {
    "ExecuteTime": {
     "end_time": "2023-02-08T12:44:29.567842Z",
     "start_time": "2023-02-08T12:44:29.435912Z"
    },
    "scrolled": true
   },
   "outputs": [
    {
     "name": "stdout",
     "output_type": "stream",
     "text": [
      "18_model.csv Saved!\n"
     ]
    }
   ],
   "source": [
    "save_preds(pred, \"18_model.csv\")"
   ]
  },
  {
   "cell_type": "markdown",
   "id": "1c41bf2f",
   "metadata": {},
   "source": [
    "# model(20) - dropout(0.25)추가"
   ]
  },
  {
   "cell_type": "markdown",
   "id": "5a023e21",
   "metadata": {},
   "source": [
    "## Score: 0.24134 - 821등"
   ]
  },
  {
   "cell_type": "code",
   "execution_count": 246,
   "id": "26d0b4fb",
   "metadata": {
    "ExecuteTime": {
     "end_time": "2023-02-08T15:27:11.234729Z",
     "start_time": "2023-02-08T15:27:11.030342Z"
    },
    "scrolled": true
   },
   "outputs": [
    {
     "name": "stdout",
     "output_type": "stream",
     "text": [
      "Model: \"sequential_36\"\n",
      "_________________________________________________________________\n",
      " Layer (type)                Output Shape              Param #   \n",
      "=================================================================\n",
      " conv2d_138 (Conv2D)         (None, 128, 128, 8)       224       \n",
      "                                                                 \n",
      " conv2d_139 (Conv2D)         (None, 128, 128, 16)      1168      \n",
      "                                                                 \n",
      " max_pooling2d_132 (MaxPooli  (None, 64, 64, 16)       0         \n",
      " ng2D)                                                           \n",
      "                                                                 \n",
      " dropout_46 (Dropout)        (None, 64, 64, 16)        0         \n",
      "                                                                 \n",
      " conv2d_140 (Conv2D)         (None, 64, 64, 32)        4640      \n",
      "                                                                 \n",
      " max_pooling2d_133 (MaxPooli  (None, 32, 32, 32)       0         \n",
      " ng2D)                                                           \n",
      "                                                                 \n",
      " conv2d_141 (Conv2D)         (None, 32, 32, 64)        18496     \n",
      "                                                                 \n",
      " max_pooling2d_134 (MaxPooli  (None, 16, 16, 64)       0         \n",
      " ng2D)                                                           \n",
      "                                                                 \n",
      " conv2d_142 (Conv2D)         (None, 16, 16, 128)       73856     \n",
      "                                                                 \n",
      " max_pooling2d_135 (MaxPooli  (None, 8, 8, 128)        0         \n",
      " ng2D)                                                           \n",
      "                                                                 \n",
      " flatten_34 (Flatten)        (None, 8192)              0         \n",
      "                                                                 \n",
      " dense_87 (Dense)            (None, 16)                131088    \n",
      "                                                                 \n",
      " dense_88 (Dense)            (None, 32)                544       \n",
      "                                                                 \n",
      " dropout_47 (Dropout)        (None, 32)                0         \n",
      "                                                                 \n",
      " dense_89 (Dense)            (None, 1)                 33        \n",
      "                                                                 \n",
      "=================================================================\n",
      "Total params: 230,049\n",
      "Trainable params: 230,049\n",
      "Non-trainable params: 0\n",
      "_________________________________________________________________\n"
     ]
    }
   ],
   "source": [
    "model = keras.Sequential()\n",
    "model.add(keras.layers.Conv2D(8, kernel_size = 3, activation = \"relu\", padding = \"same\",\n",
    "                              input_shape = (128,128, 3)))\n",
    "\n",
    "\n",
    "model.add(keras.layers.Conv2D(16, kernel_size = 3, activation = \"relu\", padding = \"same\"))\n",
    "model.add(keras.layers.MaxPool2D(2))\n",
    "\n",
    "model.add(keras.layers.Dropout(0.25))\n",
    "\n",
    "model.add(keras.layers.Conv2D(32, kernel_size = 3, activation = \"relu\", padding = \"same\"))\n",
    "model.add(keras.layers.MaxPool2D(2))\n",
    "\n",
    "model.add(keras.layers.Conv2D(64, kernel_size = 3, activation = \"relu\", padding = \"same\"))\n",
    "model.add(keras.layers.MaxPool2D(2))\n",
    "\n",
    "model.add(keras.layers.Conv2D(128, kernel_size = 3, activation = \"relu\", padding = \"same\"))\n",
    "model.add(keras.layers.MaxPool2D(2))\n",
    "\n",
    "model.add(keras.layers.Flatten())\n",
    "\n",
    "model.add(keras.layers.Dense(16, activation = \"relu\"))\n",
    "\n",
    "model.add(keras.layers.Dense(32, activation = \"relu\"))\n",
    "\n",
    "model.add(keras.layers.Dropout(0.4))\n",
    "\n",
    "model.add(keras.layers.Dense(1, activation = \"sigmoid\"))\n",
    "model.summary()"
   ]
  },
  {
   "cell_type": "code",
   "execution_count": 247,
   "id": "67c3c601",
   "metadata": {
    "ExecuteTime": {
     "end_time": "2023-02-08T15:27:11.245356Z",
     "start_time": "2023-02-08T15:27:11.239314Z"
    }
   },
   "outputs": [],
   "source": [
    "checkpoint_cb = keras.callbacks.ModelCheckpoint(\"./model/best-cnn-20model.h5\", save_best_only = True)\n",
    "early_stopping_cb = keras.callbacks.EarlyStopping(patience = 3, restore_best_weights = True)\n",
    "reducelr_cb = keras.callbacks.ReduceLROnPlateau(monitor = \"val_loss\", factor = .5, patience = 3)"
   ]
  },
  {
   "cell_type": "code",
   "execution_count": 248,
   "id": "9339c928",
   "metadata": {
    "ExecuteTime": {
     "end_time": "2023-02-08T15:27:11.274523Z",
     "start_time": "2023-02-08T15:27:11.261625Z"
    }
   },
   "outputs": [],
   "source": [
    "model.compile(optimizer = \"adam\", loss = \"binary_crossentropy\", metrics = \"accuracy\")"
   ]
  },
  {
   "cell_type": "code",
   "execution_count": 249,
   "id": "f118fc8d",
   "metadata": {
    "ExecuteTime": {
     "end_time": "2023-02-08T17:07:07.727593Z",
     "start_time": "2023-02-08T15:27:11.345845Z"
    },
    "scrolled": true
   },
   "outputs": [
    {
     "name": "stdout",
     "output_type": "stream",
     "text": [
      "Epoch 1/100\n",
      "225/225 [==============================] - 263s 1s/step - loss: 0.6787 - accuracy: 0.5692 - val_loss: 0.6520 - val_accuracy: 0.6280 - lr: 0.0010\n",
      "Epoch 2/100\n",
      "225/225 [==============================] - 248s 1s/step - loss: 0.5937 - accuracy: 0.6884 - val_loss: 0.5469 - val_accuracy: 0.7352 - lr: 0.0010\n",
      "Epoch 3/100\n",
      "225/225 [==============================] - 245s 1s/step - loss: 0.5172 - accuracy: 0.7533 - val_loss: 0.4686 - val_accuracy: 0.7732 - lr: 0.0010\n",
      "Epoch 4/100\n",
      "225/225 [==============================] - 247s 1s/step - loss: 0.4595 - accuracy: 0.7879 - val_loss: 0.4079 - val_accuracy: 0.8136 - lr: 0.0010\n",
      "Epoch 5/100\n",
      "225/225 [==============================] - 245s 1s/step - loss: 0.4221 - accuracy: 0.8096 - val_loss: 0.4151 - val_accuracy: 0.8120 - lr: 0.0010\n",
      "Epoch 6/100\n",
      "225/225 [==============================] - 244s 1s/step - loss: 0.3877 - accuracy: 0.8291 - val_loss: 0.4020 - val_accuracy: 0.8192 - lr: 0.0010\n",
      "Epoch 7/100\n",
      "225/225 [==============================] - 246s 1s/step - loss: 0.3692 - accuracy: 0.8405 - val_loss: 0.3663 - val_accuracy: 0.8312 - lr: 0.0010\n",
      "Epoch 8/100\n",
      "225/225 [==============================] - 247s 1s/step - loss: 0.3401 - accuracy: 0.8553 - val_loss: 0.3559 - val_accuracy: 0.8384 - lr: 0.0010\n",
      "Epoch 9/100\n",
      "225/225 [==============================] - 248s 1s/step - loss: 0.3243 - accuracy: 0.8621 - val_loss: 0.3221 - val_accuracy: 0.8540 - lr: 0.0010\n",
      "Epoch 10/100\n",
      "225/225 [==============================] - 248s 1s/step - loss: 0.3024 - accuracy: 0.8752 - val_loss: 0.3168 - val_accuracy: 0.8628 - lr: 0.0010\n",
      "Epoch 11/100\n",
      "225/225 [==============================] - 248s 1s/step - loss: 0.2936 - accuracy: 0.8778 - val_loss: 0.2889 - val_accuracy: 0.8748 - lr: 0.0010\n",
      "Epoch 12/100\n",
      "225/225 [==============================] - 249s 1s/step - loss: 0.2786 - accuracy: 0.8847 - val_loss: 0.2731 - val_accuracy: 0.8808 - lr: 0.0010\n",
      "Epoch 13/100\n",
      "225/225 [==============================] - 249s 1s/step - loss: 0.2630 - accuracy: 0.8900 - val_loss: 0.2634 - val_accuracy: 0.8860 - lr: 0.0010\n",
      "Epoch 14/100\n",
      "225/225 [==============================] - 249s 1s/step - loss: 0.2506 - accuracy: 0.8967 - val_loss: 0.2403 - val_accuracy: 0.8912 - lr: 0.0010\n",
      "Epoch 15/100\n",
      "225/225 [==============================] - 273s 1s/step - loss: 0.2442 - accuracy: 0.8999 - val_loss: 0.2722 - val_accuracy: 0.8916 - lr: 0.0010\n",
      "Epoch 16/100\n",
      "225/225 [==============================] - 313s 1s/step - loss: 0.2358 - accuracy: 0.9061 - val_loss: 0.2430 - val_accuracy: 0.8920 - lr: 0.0010\n",
      "Epoch 17/100\n",
      "225/225 [==============================] - 317s 1s/step - loss: 0.2235 - accuracy: 0.9104 - val_loss: 0.2371 - val_accuracy: 0.9004 - lr: 0.0010\n",
      "Epoch 18/100\n",
      "225/225 [==============================] - 321s 1s/step - loss: 0.2158 - accuracy: 0.9120 - val_loss: 0.2857 - val_accuracy: 0.8800 - lr: 0.0010\n",
      "Epoch 19/100\n",
      "225/225 [==============================] - 322s 1s/step - loss: 0.2120 - accuracy: 0.9159 - val_loss: 0.2303 - val_accuracy: 0.9060 - lr: 0.0010\n",
      "Epoch 20/100\n",
      "225/225 [==============================] - 323s 1s/step - loss: 0.2020 - accuracy: 0.9183 - val_loss: 0.2348 - val_accuracy: 0.9032 - lr: 0.0010\n",
      "Epoch 21/100\n",
      "225/225 [==============================] - 326s 1s/step - loss: 0.1961 - accuracy: 0.9206 - val_loss: 0.2628 - val_accuracy: 0.8896 - lr: 0.0010\n",
      "Epoch 22/100\n",
      "225/225 [==============================] - 323s 1s/step - loss: 0.1948 - accuracy: 0.9216 - val_loss: 0.2893 - val_accuracy: 0.8856 - lr: 0.0010\n"
     ]
    }
   ],
   "source": [
    "history = model.fit(train_dataset, epochs = 100, validation_data = val_dataset,\n",
    "                    callbacks = [checkpoint_cb, early_stopping_cb, reducelr_cb])\n",
    "model.save_weights(\"20model.h5\")"
   ]
  },
  {
   "cell_type": "code",
   "execution_count": 250,
   "id": "b01d02a5",
   "metadata": {
    "ExecuteTime": {
     "end_time": "2023-02-08T17:08:03.549798Z",
     "start_time": "2023-02-08T17:07:07.730974Z"
    }
   },
   "outputs": [
    {
     "name": "stdout",
     "output_type": "stream",
     "text": [
      "125/125 [==============================] - 55s 441ms/step\n"
     ]
    }
   ],
   "source": [
    "pred = model.predict(test_dataset)"
   ]
  },
  {
   "cell_type": "code",
   "execution_count": 251,
   "id": "ae98f930",
   "metadata": {
    "ExecuteTime": {
     "end_time": "2023-02-08T17:08:03.673086Z",
     "start_time": "2023-02-08T17:08:03.551833Z"
    },
    "scrolled": true
   },
   "outputs": [
    {
     "name": "stdout",
     "output_type": "stream",
     "text": [
      "19_model.csv Saved!\n"
     ]
    }
   ],
   "source": [
    "save_preds(pred, \"19_model.csv\")"
   ]
  },
  {
   "cell_type": "markdown",
   "id": "93e6e615",
   "metadata": {},
   "source": [
    "# model(21) - dropout(0.25) 추가"
   ]
  },
  {
   "cell_type": "markdown",
   "id": "518714b9",
   "metadata": {},
   "source": [
    "## Score: 0.32030"
   ]
  },
  {
   "cell_type": "code",
   "execution_count": 252,
   "id": "bf95a612",
   "metadata": {
    "ExecuteTime": {
     "end_time": "2023-02-08T17:08:03.834994Z",
     "start_time": "2023-02-08T17:08:03.677149Z"
    },
    "scrolled": true
   },
   "outputs": [
    {
     "name": "stdout",
     "output_type": "stream",
     "text": [
      "Model: \"sequential_37\"\n",
      "_________________________________________________________________\n",
      " Layer (type)                Output Shape              Param #   \n",
      "=================================================================\n",
      " conv2d_143 (Conv2D)         (None, 128, 128, 8)       224       \n",
      "                                                                 \n",
      " conv2d_144 (Conv2D)         (None, 128, 128, 16)      1168      \n",
      "                                                                 \n",
      " max_pooling2d_136 (MaxPooli  (None, 64, 64, 16)       0         \n",
      " ng2D)                                                           \n",
      "                                                                 \n",
      " conv2d_145 (Conv2D)         (None, 64, 64, 32)        4640      \n",
      "                                                                 \n",
      " max_pooling2d_137 (MaxPooli  (None, 32, 32, 32)       0         \n",
      " ng2D)                                                           \n",
      "                                                                 \n",
      " dropout_48 (Dropout)        (None, 32, 32, 32)        0         \n",
      "                                                                 \n",
      " conv2d_146 (Conv2D)         (None, 32, 32, 64)        18496     \n",
      "                                                                 \n",
      " max_pooling2d_138 (MaxPooli  (None, 16, 16, 64)       0         \n",
      " ng2D)                                                           \n",
      "                                                                 \n",
      " conv2d_147 (Conv2D)         (None, 16, 16, 128)       73856     \n",
      "                                                                 \n",
      " max_pooling2d_139 (MaxPooli  (None, 8, 8, 128)        0         \n",
      " ng2D)                                                           \n",
      "                                                                 \n",
      " flatten_35 (Flatten)        (None, 8192)              0         \n",
      "                                                                 \n",
      " dense_90 (Dense)            (None, 16)                131088    \n",
      "                                                                 \n",
      " dense_91 (Dense)            (None, 32)                544       \n",
      "                                                                 \n",
      " dropout_49 (Dropout)        (None, 32)                0         \n",
      "                                                                 \n",
      " dense_92 (Dense)            (None, 1)                 33        \n",
      "                                                                 \n",
      "=================================================================\n",
      "Total params: 230,049\n",
      "Trainable params: 230,049\n",
      "Non-trainable params: 0\n",
      "_________________________________________________________________\n"
     ]
    }
   ],
   "source": [
    "model = keras.Sequential()\n",
    "model.add(keras.layers.Conv2D(8, kernel_size = 3, activation = \"relu\", padding = \"same\",\n",
    "                              input_shape = (128,128, 3)))\n",
    "\n",
    "\n",
    "model.add(keras.layers.Conv2D(16, kernel_size = 3, activation = \"relu\", padding = \"same\"))\n",
    "model.add(keras.layers.MaxPool2D(2))\n",
    "\n",
    "model.add(keras.layers.Conv2D(32, kernel_size = 3, activation = \"relu\", padding = \"same\"))\n",
    "model.add(keras.layers.MaxPool2D(2))\n",
    "\n",
    "model.add(keras.layers.Dropout(0.25))\n",
    "\n",
    "model.add(keras.layers.Conv2D(64, kernel_size = 3, activation = \"relu\", padding = \"same\"))\n",
    "model.add(keras.layers.MaxPool2D(2))\n",
    "\n",
    "model.add(keras.layers.Conv2D(128, kernel_size = 3, activation = \"relu\", padding = \"same\"))\n",
    "model.add(keras.layers.MaxPool2D(2))\n",
    "\n",
    "model.add(keras.layers.Flatten())\n",
    "\n",
    "model.add(keras.layers.Dense(16, activation = \"relu\"))\n",
    "\n",
    "model.add(keras.layers.Dense(32, activation = \"relu\"))\n",
    "\n",
    "model.add(keras.layers.Dropout(0.4))\n",
    "\n",
    "model.add(keras.layers.Dense(1, activation = \"sigmoid\"))\n",
    "model.summary()"
   ]
  },
  {
   "cell_type": "code",
   "execution_count": 253,
   "id": "4ffe0ba3",
   "metadata": {
    "ExecuteTime": {
     "end_time": "2023-02-08T17:08:03.841454Z",
     "start_time": "2023-02-08T17:08:03.837132Z"
    }
   },
   "outputs": [],
   "source": [
    "checkpoint_cb = keras.callbacks.ModelCheckpoint(\"./model/best-cnn-21model.h5\", save_best_only = True)\n",
    "early_stopping_cb = keras.callbacks.EarlyStopping(patience = 3, restore_best_weights = True)\n",
    "reducelr_cb = keras.callbacks.ReduceLROnPlateau(monitor = \"val_loss\", factor = .5, patience = 3)"
   ]
  },
  {
   "cell_type": "code",
   "execution_count": 254,
   "id": "0455fd72",
   "metadata": {
    "ExecuteTime": {
     "end_time": "2023-02-08T17:08:03.854838Z",
     "start_time": "2023-02-08T17:08:03.843980Z"
    }
   },
   "outputs": [],
   "source": [
    "model.compile(optimizer = \"adam\", loss = \"binary_crossentropy\", metrics = \"accuracy\")"
   ]
  },
  {
   "cell_type": "code",
   "execution_count": 255,
   "id": "2ae89275",
   "metadata": {
    "ExecuteTime": {
     "end_time": "2023-02-08T18:44:33.061230Z",
     "start_time": "2023-02-08T17:08:03.857736Z"
    },
    "scrolled": true
   },
   "outputs": [
    {
     "name": "stdout",
     "output_type": "stream",
     "text": [
      "Epoch 1/100\n",
      "225/225 [==============================] - 324s 1s/step - loss: 0.6936 - accuracy: 0.4989 - val_loss: 0.6927 - val_accuracy: 0.5080 - lr: 0.0010\n",
      "Epoch 2/100\n",
      "225/225 [==============================] - 320s 1s/step - loss: 0.6831 - accuracy: 0.5615 - val_loss: 0.6774 - val_accuracy: 0.5660 - lr: 0.0010\n",
      "Epoch 3/100\n",
      "225/225 [==============================] - 319s 1s/step - loss: 0.6353 - accuracy: 0.6313 - val_loss: 0.5497 - val_accuracy: 0.7144 - lr: 0.0010\n",
      "Epoch 4/100\n",
      "225/225 [==============================] - 321s 1s/step - loss: 0.5591 - accuracy: 0.7136 - val_loss: 0.5055 - val_accuracy: 0.7564 - lr: 0.0010\n",
      "Epoch 5/100\n",
      "225/225 [==============================] - 321s 1s/step - loss: 0.5161 - accuracy: 0.7479 - val_loss: 0.4689 - val_accuracy: 0.7772 - lr: 0.0010\n",
      "Epoch 6/100\n",
      "225/225 [==============================] - 321s 1s/step - loss: 0.4884 - accuracy: 0.7696 - val_loss: 0.4460 - val_accuracy: 0.7928 - lr: 0.0010\n",
      "Epoch 7/100\n",
      "225/225 [==============================] - 320s 1s/step - loss: 0.4620 - accuracy: 0.7839 - val_loss: 0.4347 - val_accuracy: 0.7952 - lr: 0.0010\n",
      "Epoch 8/100\n",
      "225/225 [==============================] - 322s 1s/step - loss: 0.4374 - accuracy: 0.8012 - val_loss: 0.4024 - val_accuracy: 0.8064 - lr: 0.0010\n",
      "Epoch 9/100\n",
      "225/225 [==============================] - 320s 1s/step - loss: 0.4190 - accuracy: 0.8135 - val_loss: 0.3842 - val_accuracy: 0.8232 - lr: 0.0010\n",
      "Epoch 10/100\n",
      "225/225 [==============================] - 320s 1s/step - loss: 0.3967 - accuracy: 0.8264 - val_loss: 0.3818 - val_accuracy: 0.8220 - lr: 0.0010\n",
      "Epoch 11/100\n",
      "225/225 [==============================] - 322s 1s/step - loss: 0.3789 - accuracy: 0.8352 - val_loss: 0.3802 - val_accuracy: 0.8320 - lr: 0.0010\n",
      "Epoch 12/100\n",
      "225/225 [==============================] - 321s 1s/step - loss: 0.3585 - accuracy: 0.8448 - val_loss: 0.3277 - val_accuracy: 0.8560 - lr: 0.0010\n",
      "Epoch 13/100\n",
      "225/225 [==============================] - 322s 1s/step - loss: 0.3464 - accuracy: 0.8517 - val_loss: 0.3375 - val_accuracy: 0.8516 - lr: 0.0010\n",
      "Epoch 14/100\n",
      "225/225 [==============================] - 324s 1s/step - loss: 0.3319 - accuracy: 0.8578 - val_loss: 0.3197 - val_accuracy: 0.8672 - lr: 0.0010\n",
      "Epoch 15/100\n",
      "225/225 [==============================] - 321s 1s/step - loss: 0.3213 - accuracy: 0.8655 - val_loss: 0.2957 - val_accuracy: 0.8756 - lr: 0.0010\n",
      "Epoch 16/100\n",
      "225/225 [==============================] - 322s 1s/step - loss: 0.3094 - accuracy: 0.8695 - val_loss: 0.3231 - val_accuracy: 0.8564 - lr: 0.0010\n",
      "Epoch 17/100\n",
      "225/225 [==============================] - 323s 1s/step - loss: 0.3005 - accuracy: 0.8733 - val_loss: 0.3144 - val_accuracy: 0.8656 - lr: 0.0010\n",
      "Epoch 18/100\n",
      "225/225 [==============================] - 325s 1s/step - loss: 0.2880 - accuracy: 0.8813 - val_loss: 0.2987 - val_accuracy: 0.8760 - lr: 0.0010\n"
     ]
    }
   ],
   "source": [
    "history = model.fit(train_dataset, epochs = 100, validation_data = val_dataset,\n",
    "                    callbacks = [checkpoint_cb, early_stopping_cb, reducelr_cb])\n",
    "model.save_weights(\"21model.h5\")"
   ]
  },
  {
   "cell_type": "code",
   "execution_count": 256,
   "id": "a80fbf59",
   "metadata": {
    "ExecuteTime": {
     "end_time": "2023-02-08T18:45:29.097712Z",
     "start_time": "2023-02-08T18:44:33.063647Z"
    }
   },
   "outputs": [
    {
     "name": "stdout",
     "output_type": "stream",
     "text": [
      "125/125 [==============================] - 56s 443ms/step\n"
     ]
    }
   ],
   "source": [
    "pred = model.predict(test_dataset)"
   ]
  },
  {
   "cell_type": "code",
   "execution_count": 257,
   "id": "86c489c2",
   "metadata": {
    "ExecuteTime": {
     "end_time": "2023-02-08T18:45:29.237002Z",
     "start_time": "2023-02-08T18:45:29.100244Z"
    },
    "scrolled": true
   },
   "outputs": [
    {
     "name": "stdout",
     "output_type": "stream",
     "text": [
      "20_model.csv Saved!\n"
     ]
    }
   ],
   "source": [
    "save_preds(pred, \"20_model.csv\")"
   ]
  },
  {
   "cell_type": "markdown",
   "id": "3b53a2f2",
   "metadata": {},
   "source": [
    "# model(22) - dropout(0.25) 추가"
   ]
  },
  {
   "cell_type": "markdown",
   "id": "227adc0e",
   "metadata": {},
   "source": [
    "## Score: 0.22391 - 807등"
   ]
  },
  {
   "cell_type": "code",
   "execution_count": 258,
   "id": "dc3b87f8",
   "metadata": {
    "ExecuteTime": {
     "end_time": "2023-02-08T18:45:29.428938Z",
     "start_time": "2023-02-08T18:45:29.242284Z"
    },
    "scrolled": false
   },
   "outputs": [
    {
     "name": "stdout",
     "output_type": "stream",
     "text": [
      "Model: \"sequential_38\"\n",
      "_________________________________________________________________\n",
      " Layer (type)                Output Shape              Param #   \n",
      "=================================================================\n",
      " conv2d_148 (Conv2D)         (None, 128, 128, 8)       224       \n",
      "                                                                 \n",
      " conv2d_149 (Conv2D)         (None, 128, 128, 16)      1168      \n",
      "                                                                 \n",
      " max_pooling2d_140 (MaxPooli  (None, 64, 64, 16)       0         \n",
      " ng2D)                                                           \n",
      "                                                                 \n",
      " conv2d_150 (Conv2D)         (None, 64, 64, 32)        4640      \n",
      "                                                                 \n",
      " max_pooling2d_141 (MaxPooli  (None, 32, 32, 32)       0         \n",
      " ng2D)                                                           \n",
      "                                                                 \n",
      " conv2d_151 (Conv2D)         (None, 32, 32, 64)        18496     \n",
      "                                                                 \n",
      " max_pooling2d_142 (MaxPooli  (None, 16, 16, 64)       0         \n",
      " ng2D)                                                           \n",
      "                                                                 \n",
      " dropout_50 (Dropout)        (None, 16, 16, 64)        0         \n",
      "                                                                 \n",
      " conv2d_152 (Conv2D)         (None, 16, 16, 128)       73856     \n",
      "                                                                 \n",
      " max_pooling2d_143 (MaxPooli  (None, 8, 8, 128)        0         \n",
      " ng2D)                                                           \n",
      "                                                                 \n",
      " flatten_36 (Flatten)        (None, 8192)              0         \n",
      "                                                                 \n",
      " dense_93 (Dense)            (None, 16)                131088    \n",
      "                                                                 \n",
      " dense_94 (Dense)            (None, 32)                544       \n",
      "                                                                 \n",
      " dropout_51 (Dropout)        (None, 32)                0         \n",
      "                                                                 \n",
      " dense_95 (Dense)            (None, 1)                 33        \n",
      "                                                                 \n",
      "=================================================================\n",
      "Total params: 230,049\n",
      "Trainable params: 230,049\n",
      "Non-trainable params: 0\n",
      "_________________________________________________________________\n"
     ]
    }
   ],
   "source": [
    "model = keras.Sequential()\n",
    "model.add(keras.layers.Conv2D(8, kernel_size = 3, activation = \"relu\", padding = \"same\",\n",
    "                              input_shape = (128,128, 3)))\n",
    "\n",
    "\n",
    "model.add(keras.layers.Conv2D(16, kernel_size = 3, activation = \"relu\", padding = \"same\"))\n",
    "model.add(keras.layers.MaxPool2D(2))\n",
    "\n",
    "model.add(keras.layers.Conv2D(32, kernel_size = 3, activation = \"relu\", padding = \"same\"))\n",
    "model.add(keras.layers.MaxPool2D(2))\n",
    "\n",
    "model.add(keras.layers.Conv2D(64, kernel_size = 3, activation = \"relu\", padding = \"same\"))\n",
    "model.add(keras.layers.MaxPool2D(2))\n",
    "\n",
    "model.add(keras.layers.Dropout(0.25))\n",
    "\n",
    "model.add(keras.layers.Conv2D(128, kernel_size = 3, activation = \"relu\", padding = \"same\"))\n",
    "model.add(keras.layers.MaxPool2D(2))\n",
    "\n",
    "model.add(keras.layers.Flatten())\n",
    "\n",
    "model.add(keras.layers.Dense(16, activation = \"relu\"))\n",
    "\n",
    "model.add(keras.layers.Dense(32, activation = \"relu\"))\n",
    "\n",
    "model.add(keras.layers.Dropout(0.4))\n",
    "\n",
    "model.add(keras.layers.Dense(1, activation = \"sigmoid\"))\n",
    "model.summary()"
   ]
  },
  {
   "cell_type": "code",
   "execution_count": 259,
   "id": "b92194c9",
   "metadata": {
    "ExecuteTime": {
     "end_time": "2023-02-08T18:45:29.440232Z",
     "start_time": "2023-02-08T18:45:29.434132Z"
    }
   },
   "outputs": [],
   "source": [
    "checkpoint_cb = keras.callbacks.ModelCheckpoint(\"./model/best-cnn-22model.h5\", save_best_only = True)\n",
    "early_stopping_cb = keras.callbacks.EarlyStopping(patience = 3, restore_best_weights = True)\n",
    "reducelr_cb = keras.callbacks.ReduceLROnPlateau(monitor = \"val_loss\", factor = .5, patience = 3)"
   ]
  },
  {
   "cell_type": "code",
   "execution_count": 260,
   "id": "c18d6142",
   "metadata": {
    "ExecuteTime": {
     "end_time": "2023-02-08T18:45:29.462056Z",
     "start_time": "2023-02-08T18:45:29.443937Z"
    }
   },
   "outputs": [],
   "source": [
    "model.compile(optimizer = \"adam\", loss = \"binary_crossentropy\", metrics = \"accuracy\")"
   ]
  },
  {
   "cell_type": "code",
   "execution_count": 261,
   "id": "12161d02",
   "metadata": {
    "ExecuteTime": {
     "end_time": "2023-02-08T21:05:30.670122Z",
     "start_time": "2023-02-08T18:45:29.466773Z"
    },
    "scrolled": true
   },
   "outputs": [
    {
     "name": "stdout",
     "output_type": "stream",
     "text": [
      "Epoch 1/100\n",
      "225/225 [==============================] - 327s 1s/step - loss: 0.6752 - accuracy: 0.5662 - val_loss: 0.6386 - val_accuracy: 0.6096 - lr: 0.0010\n",
      "Epoch 2/100\n",
      "225/225 [==============================] - 323s 1s/step - loss: 0.5969 - accuracy: 0.6888 - val_loss: 0.5092 - val_accuracy: 0.7452 - lr: 0.0010\n",
      "Epoch 3/100\n",
      "225/225 [==============================] - 324s 1s/step - loss: 0.4992 - accuracy: 0.7624 - val_loss: 0.4693 - val_accuracy: 0.7776 - lr: 0.0010\n",
      "Epoch 4/100\n",
      "225/225 [==============================] - 324s 1s/step - loss: 0.4491 - accuracy: 0.7957 - val_loss: 0.4109 - val_accuracy: 0.8160 - lr: 0.0010\n",
      "Epoch 5/100\n",
      "225/225 [==============================] - 323s 1s/step - loss: 0.4105 - accuracy: 0.8168 - val_loss: 0.3782 - val_accuracy: 0.8392 - lr: 0.0010\n",
      "Epoch 6/100\n",
      "225/225 [==============================] - 321s 1s/step - loss: 0.3753 - accuracy: 0.8353 - val_loss: 0.3689 - val_accuracy: 0.8228 - lr: 0.0010\n",
      "Epoch 7/100\n",
      "225/225 [==============================] - 325s 1s/step - loss: 0.3569 - accuracy: 0.8440 - val_loss: 0.3868 - val_accuracy: 0.8332 - lr: 0.0010\n",
      "Epoch 8/100\n",
      "225/225 [==============================] - 322s 1s/step - loss: 0.3385 - accuracy: 0.8540 - val_loss: 0.3121 - val_accuracy: 0.8596 - lr: 0.0010\n",
      "Epoch 9/100\n",
      "225/225 [==============================] - 322s 1s/step - loss: 0.3111 - accuracy: 0.8693 - val_loss: 0.3105 - val_accuracy: 0.8672 - lr: 0.0010\n",
      "Epoch 10/100\n",
      "225/225 [==============================] - 324s 1s/step - loss: 0.2991 - accuracy: 0.8740 - val_loss: 0.2986 - val_accuracy: 0.8648 - lr: 0.0010\n",
      "Epoch 11/100\n",
      "225/225 [==============================] - 324s 1s/step - loss: 0.2818 - accuracy: 0.8874 - val_loss: 0.3354 - val_accuracy: 0.8428 - lr: 0.0010\n",
      "Epoch 12/100\n",
      "225/225 [==============================] - 321s 1s/step - loss: 0.2689 - accuracy: 0.8908 - val_loss: 0.2536 - val_accuracy: 0.8908 - lr: 0.0010\n",
      "Epoch 13/100\n",
      "225/225 [==============================] - 323s 1s/step - loss: 0.2659 - accuracy: 0.8903 - val_loss: 0.2883 - val_accuracy: 0.8724 - lr: 0.0010\n",
      "Epoch 14/100\n",
      "225/225 [==============================] - 324s 1s/step - loss: 0.2484 - accuracy: 0.8984 - val_loss: 0.2542 - val_accuracy: 0.8884 - lr: 0.0010\n",
      "Epoch 15/100\n",
      "225/225 [==============================] - 323s 1s/step - loss: 0.2400 - accuracy: 0.9037 - val_loss: 0.2403 - val_accuracy: 0.8948 - lr: 0.0010\n",
      "Epoch 16/100\n",
      "225/225 [==============================] - 323s 1s/step - loss: 0.2295 - accuracy: 0.9052 - val_loss: 0.2385 - val_accuracy: 0.8984 - lr: 0.0010\n",
      "Epoch 17/100\n",
      "225/225 [==============================] - 322s 1s/step - loss: 0.2262 - accuracy: 0.9083 - val_loss: 0.2442 - val_accuracy: 0.8904 - lr: 0.0010\n",
      "Epoch 18/100\n",
      "225/225 [==============================] - 323s 1s/step - loss: 0.2144 - accuracy: 0.9132 - val_loss: 0.2301 - val_accuracy: 0.9004 - lr: 0.0010\n",
      "Epoch 19/100\n",
      "225/225 [==============================] - 322s 1s/step - loss: 0.2070 - accuracy: 0.9157 - val_loss: 0.2450 - val_accuracy: 0.8968 - lr: 0.0010\n",
      "Epoch 20/100\n",
      "225/225 [==============================] - 323s 1s/step - loss: 0.2000 - accuracy: 0.9211 - val_loss: 0.2272 - val_accuracy: 0.8976 - lr: 0.0010\n",
      "Epoch 21/100\n",
      "225/225 [==============================] - 323s 1s/step - loss: 0.2064 - accuracy: 0.9164 - val_loss: 0.2430 - val_accuracy: 0.9000 - lr: 0.0010\n",
      "Epoch 22/100\n",
      "225/225 [==============================] - 323s 1s/step - loss: 0.1935 - accuracy: 0.9225 - val_loss: 0.2395 - val_accuracy: 0.9040 - lr: 0.0010\n",
      "Epoch 23/100\n",
      "225/225 [==============================] - 323s 1s/step - loss: 0.1903 - accuracy: 0.9234 - val_loss: 0.2112 - val_accuracy: 0.9148 - lr: 0.0010\n",
      "Epoch 24/100\n",
      "225/225 [==============================] - 323s 1s/step - loss: 0.1864 - accuracy: 0.9248 - val_loss: 0.2136 - val_accuracy: 0.9092 - lr: 0.0010\n",
      "Epoch 25/100\n",
      "225/225 [==============================] - 323s 1s/step - loss: 0.1822 - accuracy: 0.9252 - val_loss: 0.2153 - val_accuracy: 0.9140 - lr: 0.0010\n",
      "Epoch 26/100\n",
      "225/225 [==============================] - 324s 1s/step - loss: 0.1840 - accuracy: 0.9268 - val_loss: 0.2129 - val_accuracy: 0.9152 - lr: 0.0010\n"
     ]
    }
   ],
   "source": [
    "history = model.fit(train_dataset, epochs = 100, validation_data = val_dataset,\n",
    "                    callbacks = [checkpoint_cb, early_stopping_cb, reducelr_cb])\n",
    "model.save_weights(\"22model.h5\")"
   ]
  },
  {
   "cell_type": "code",
   "execution_count": 262,
   "id": "6d31b790",
   "metadata": {
    "ExecuteTime": {
     "end_time": "2023-02-08T21:06:26.950351Z",
     "start_time": "2023-02-08T21:05:30.672565Z"
    }
   },
   "outputs": [
    {
     "name": "stdout",
     "output_type": "stream",
     "text": [
      "125/125 [==============================] - 56s 445ms/step\n"
     ]
    }
   ],
   "source": [
    "pred = model.predict(test_dataset)"
   ]
  },
  {
   "cell_type": "code",
   "execution_count": 263,
   "id": "c184ddfb",
   "metadata": {
    "ExecuteTime": {
     "end_time": "2023-02-08T21:06:27.080497Z",
     "start_time": "2023-02-08T21:06:26.952781Z"
    },
    "scrolled": true
   },
   "outputs": [
    {
     "name": "stdout",
     "output_type": "stream",
     "text": [
      "21_model.csv Saved!\n"
     ]
    }
   ],
   "source": [
    "save_preds(pred, \"21_model.csv\")"
   ]
  },
  {
   "cell_type": "markdown",
   "id": "ac4649a1",
   "metadata": {},
   "source": [
    "# model(23) - dropout(0.25) 추가"
   ]
  },
  {
   "cell_type": "markdown",
   "id": "0e79d7f8",
   "metadata": {},
   "source": [
    "## Score: 0.23165"
   ]
  },
  {
   "cell_type": "code",
   "execution_count": 264,
   "id": "d3faa5e8",
   "metadata": {
    "ExecuteTime": {
     "end_time": "2023-02-08T21:06:27.240802Z",
     "start_time": "2023-02-08T21:06:27.083107Z"
    },
    "scrolled": true
   },
   "outputs": [
    {
     "name": "stdout",
     "output_type": "stream",
     "text": [
      "Model: \"sequential_39\"\n",
      "_________________________________________________________________\n",
      " Layer (type)                Output Shape              Param #   \n",
      "=================================================================\n",
      " conv2d_153 (Conv2D)         (None, 128, 128, 8)       224       \n",
      "                                                                 \n",
      " conv2d_154 (Conv2D)         (None, 128, 128, 16)      1168      \n",
      "                                                                 \n",
      " max_pooling2d_144 (MaxPooli  (None, 64, 64, 16)       0         \n",
      " ng2D)                                                           \n",
      "                                                                 \n",
      " conv2d_155 (Conv2D)         (None, 64, 64, 32)        4640      \n",
      "                                                                 \n",
      " max_pooling2d_145 (MaxPooli  (None, 32, 32, 32)       0         \n",
      " ng2D)                                                           \n",
      "                                                                 \n",
      " conv2d_156 (Conv2D)         (None, 32, 32, 64)        18496     \n",
      "                                                                 \n",
      " max_pooling2d_146 (MaxPooli  (None, 16, 16, 64)       0         \n",
      " ng2D)                                                           \n",
      "                                                                 \n",
      " conv2d_157 (Conv2D)         (None, 16, 16, 128)       73856     \n",
      "                                                                 \n",
      " max_pooling2d_147 (MaxPooli  (None, 8, 8, 128)        0         \n",
      " ng2D)                                                           \n",
      "                                                                 \n",
      " dropout_52 (Dropout)        (None, 8, 8, 128)         0         \n",
      "                                                                 \n",
      " flatten_37 (Flatten)        (None, 8192)              0         \n",
      "                                                                 \n",
      " dense_96 (Dense)            (None, 16)                131088    \n",
      "                                                                 \n",
      " dense_97 (Dense)            (None, 32)                544       \n",
      "                                                                 \n",
      " dropout_53 (Dropout)        (None, 32)                0         \n",
      "                                                                 \n",
      " dense_98 (Dense)            (None, 1)                 33        \n",
      "                                                                 \n",
      "=================================================================\n",
      "Total params: 230,049\n",
      "Trainable params: 230,049\n",
      "Non-trainable params: 0\n",
      "_________________________________________________________________\n"
     ]
    }
   ],
   "source": [
    "model = keras.Sequential()\n",
    "model.add(keras.layers.Conv2D(8, kernel_size = 3, activation = \"relu\", padding = \"same\",\n",
    "                              input_shape = (128,128, 3)))\n",
    "\n",
    "\n",
    "model.add(keras.layers.Conv2D(16, kernel_size = 3, activation = \"relu\", padding = \"same\"))\n",
    "model.add(keras.layers.MaxPool2D(2))\n",
    "\n",
    "model.add(keras.layers.Conv2D(32, kernel_size = 3, activation = \"relu\", padding = \"same\"))\n",
    "model.add(keras.layers.MaxPool2D(2))\n",
    "\n",
    "model.add(keras.layers.Conv2D(64, kernel_size = 3, activation = \"relu\", padding = \"same\"))\n",
    "model.add(keras.layers.MaxPool2D(2))\n",
    "\n",
    "model.add(keras.layers.Conv2D(128, kernel_size = 3, activation = \"relu\", padding = \"same\"))\n",
    "model.add(keras.layers.MaxPool2D(2))\n",
    "\n",
    "model.add(keras.layers.Dropout(0.25))\n",
    "\n",
    "model.add(keras.layers.Flatten())\n",
    "\n",
    "model.add(keras.layers.Dense(16, activation = \"relu\"))\n",
    "\n",
    "model.add(keras.layers.Dense(32, activation = \"relu\"))\n",
    "\n",
    "model.add(keras.layers.Dropout(0.4))\n",
    "\n",
    "model.add(keras.layers.Dense(1, activation = \"sigmoid\"))\n",
    "model.summary()"
   ]
  },
  {
   "cell_type": "code",
   "execution_count": 265,
   "id": "2accbfba",
   "metadata": {
    "ExecuteTime": {
     "end_time": "2023-02-08T21:06:27.282137Z",
     "start_time": "2023-02-08T21:06:27.243814Z"
    }
   },
   "outputs": [],
   "source": [
    "checkpoint_cb = keras.callbacks.ModelCheckpoint(\"./model/best-cnn-23model.h5\", save_best_only = True)\n",
    "early_stopping_cb = keras.callbacks.EarlyStopping(patience = 3, restore_best_weights = True)\n",
    "reducelr_cb = keras.callbacks.ReduceLROnPlateau(monitor = \"val_loss\", factor = .5, patience = 3)"
   ]
  },
  {
   "cell_type": "code",
   "execution_count": 266,
   "id": "9042f078",
   "metadata": {
    "ExecuteTime": {
     "end_time": "2023-02-08T21:06:27.300302Z",
     "start_time": "2023-02-08T21:06:27.284864Z"
    }
   },
   "outputs": [],
   "source": [
    "model.compile(optimizer = \"adam\", loss = \"binary_crossentropy\", metrics = \"accuracy\")"
   ]
  },
  {
   "cell_type": "code",
   "execution_count": 267,
   "id": "68a33ba3",
   "metadata": {
    "ExecuteTime": {
     "end_time": "2023-02-08T23:10:05.106838Z",
     "start_time": "2023-02-08T21:06:27.303477Z"
    },
    "scrolled": true
   },
   "outputs": [
    {
     "name": "stdout",
     "output_type": "stream",
     "text": [
      "Epoch 1/100\n",
      "225/225 [==============================] - 327s 1s/step - loss: 0.6663 - accuracy: 0.5785 - val_loss: 0.5962 - val_accuracy: 0.6616 - lr: 0.0010\n",
      "Epoch 2/100\n",
      "225/225 [==============================] - 323s 1s/step - loss: 0.5742 - accuracy: 0.6966 - val_loss: 0.5385 - val_accuracy: 0.7228 - lr: 0.0010\n",
      "Epoch 3/100\n",
      "225/225 [==============================] - 323s 1s/step - loss: 0.5172 - accuracy: 0.7448 - val_loss: 0.4825 - val_accuracy: 0.7580 - lr: 0.0010\n",
      "Epoch 4/100\n",
      "225/225 [==============================] - 322s 1s/step - loss: 0.4614 - accuracy: 0.7880 - val_loss: 0.4041 - val_accuracy: 0.8132 - lr: 0.0010\n",
      "Epoch 5/100\n",
      "225/225 [==============================] - 321s 1s/step - loss: 0.4279 - accuracy: 0.8075 - val_loss: 0.3990 - val_accuracy: 0.8188 - lr: 0.0010\n",
      "Epoch 6/100\n",
      "225/225 [==============================] - 321s 1s/step - loss: 0.3973 - accuracy: 0.8217 - val_loss: 0.3815 - val_accuracy: 0.8236 - lr: 0.0010\n",
      "Epoch 7/100\n",
      "225/225 [==============================] - 323s 1s/step - loss: 0.3711 - accuracy: 0.8376 - val_loss: 0.3914 - val_accuracy: 0.8232 - lr: 0.0010\n",
      "Epoch 8/100\n",
      "225/225 [==============================] - 322s 1s/step - loss: 0.3513 - accuracy: 0.8467 - val_loss: 0.3618 - val_accuracy: 0.8384 - lr: 0.0010\n",
      "Epoch 9/100\n",
      "225/225 [==============================] - 324s 1s/step - loss: 0.3290 - accuracy: 0.8604 - val_loss: 0.3305 - val_accuracy: 0.8524 - lr: 0.0010\n",
      "Epoch 10/100\n",
      "225/225 [==============================] - 323s 1s/step - loss: 0.3069 - accuracy: 0.8683 - val_loss: 0.3285 - val_accuracy: 0.8580 - lr: 0.0010\n",
      "Epoch 11/100\n",
      "225/225 [==============================] - 323s 1s/step - loss: 0.2856 - accuracy: 0.8805 - val_loss: 0.2821 - val_accuracy: 0.8832 - lr: 0.0010\n",
      "Epoch 12/100\n",
      "225/225 [==============================] - 322s 1s/step - loss: 0.2766 - accuracy: 0.8839 - val_loss: 0.2791 - val_accuracy: 0.8792 - lr: 0.0010\n",
      "Epoch 13/100\n",
      "225/225 [==============================] - 324s 1s/step - loss: 0.2644 - accuracy: 0.8888 - val_loss: 0.2641 - val_accuracy: 0.8876 - lr: 0.0010\n",
      "Epoch 14/100\n",
      "225/225 [==============================] - 323s 1s/step - loss: 0.2455 - accuracy: 0.9013 - val_loss: 0.2445 - val_accuracy: 0.8984 - lr: 0.0010\n",
      "Epoch 15/100\n",
      "225/225 [==============================] - 323s 1s/step - loss: 0.2434 - accuracy: 0.9004 - val_loss: 0.2642 - val_accuracy: 0.8912 - lr: 0.0010\n",
      "Epoch 16/100\n",
      "225/225 [==============================] - 323s 1s/step - loss: 0.2282 - accuracy: 0.9044 - val_loss: 0.2376 - val_accuracy: 0.9012 - lr: 0.0010\n",
      "Epoch 17/100\n",
      "225/225 [==============================] - 323s 1s/step - loss: 0.2147 - accuracy: 0.9140 - val_loss: 0.2356 - val_accuracy: 0.9028 - lr: 0.0010\n",
      "Epoch 18/100\n",
      "225/225 [==============================] - 322s 1s/step - loss: 0.2061 - accuracy: 0.9161 - val_loss: 0.2612 - val_accuracy: 0.8924 - lr: 0.0010\n",
      "Epoch 19/100\n",
      "225/225 [==============================] - 323s 1s/step - loss: 0.2128 - accuracy: 0.9132 - val_loss: 0.2249 - val_accuracy: 0.9032 - lr: 0.0010\n",
      "Epoch 20/100\n",
      "225/225 [==============================] - 271s 1s/step - loss: 0.1996 - accuracy: 0.9192 - val_loss: 0.2386 - val_accuracy: 0.8956 - lr: 0.0010\n",
      "Epoch 21/100\n",
      "225/225 [==============================] - 254s 1s/step - loss: 0.1930 - accuracy: 0.9231 - val_loss: 0.2176 - val_accuracy: 0.9124 - lr: 0.0010\n",
      "Epoch 22/100\n",
      "225/225 [==============================] - 252s 1s/step - loss: 0.1888 - accuracy: 0.9213 - val_loss: 0.2335 - val_accuracy: 0.9084 - lr: 0.0010\n",
      "Epoch 23/100\n",
      "225/225 [==============================] - 252s 1s/step - loss: 0.1852 - accuracy: 0.9256 - val_loss: 0.2484 - val_accuracy: 0.8904 - lr: 0.0010\n",
      "Epoch 24/100\n",
      "225/225 [==============================] - 252s 1s/step - loss: 0.1810 - accuracy: 0.9298 - val_loss: 0.2252 - val_accuracy: 0.9096 - lr: 0.0010\n"
     ]
    }
   ],
   "source": [
    "history = model.fit(train_dataset, epochs = 100, validation_data = val_dataset,\n",
    "                    callbacks = [checkpoint_cb, early_stopping_cb, reducelr_cb])\n",
    "model.save_weights(\"23model.h5\")"
   ]
  },
  {
   "cell_type": "code",
   "execution_count": 268,
   "id": "db8271a9",
   "metadata": {
    "ExecuteTime": {
     "end_time": "2023-02-08T23:10:57.512148Z",
     "start_time": "2023-02-08T23:10:05.109921Z"
    }
   },
   "outputs": [
    {
     "name": "stdout",
     "output_type": "stream",
     "text": [
      "125/125 [==============================] - 52s 414ms/step\n"
     ]
    }
   ],
   "source": [
    "pred = model.predict(test_dataset)"
   ]
  },
  {
   "cell_type": "code",
   "execution_count": 269,
   "id": "9fc98ebe",
   "metadata": {
    "ExecuteTime": {
     "end_time": "2023-02-08T23:10:57.645373Z",
     "start_time": "2023-02-08T23:10:57.514989Z"
    },
    "scrolled": true
   },
   "outputs": [
    {
     "name": "stdout",
     "output_type": "stream",
     "text": [
      "22_model.csv Saved!\n"
     ]
    }
   ],
   "source": [
    "save_preds(pred, \"22_model.csv\")"
   ]
  },
  {
   "cell_type": "markdown",
   "id": "85a18536",
   "metadata": {},
   "source": [
    "# model(24) - model(22)에 dense층에 leaky_relu로 변경"
   ]
  },
  {
   "cell_type": "markdown",
   "id": "d547e706",
   "metadata": {},
   "source": [
    "## Score: 0.24751"
   ]
  },
  {
   "cell_type": "code",
   "execution_count": 11,
   "id": "3cf67782",
   "metadata": {
    "ExecuteTime": {
     "end_time": "2023-02-09T02:14:03.698926Z",
     "start_time": "2023-02-09T02:14:03.475887Z"
    },
    "scrolled": false
   },
   "outputs": [
    {
     "name": "stdout",
     "output_type": "stream",
     "text": [
      "Model: \"sequential\"\n",
      "_________________________________________________________________\n",
      " Layer (type)                Output Shape              Param #   \n",
      "=================================================================\n",
      " conv2d (Conv2D)             (None, 128, 128, 8)       224       \n",
      "                                                                 \n",
      " conv2d_1 (Conv2D)           (None, 128, 128, 16)      1168      \n",
      "                                                                 \n",
      " max_pooling2d (MaxPooling2D  (None, 64, 64, 16)       0         \n",
      " )                                                               \n",
      "                                                                 \n",
      " conv2d_2 (Conv2D)           (None, 64, 64, 32)        4640      \n",
      "                                                                 \n",
      " max_pooling2d_1 (MaxPooling  (None, 32, 32, 32)       0         \n",
      " 2D)                                                             \n",
      "                                                                 \n",
      " conv2d_3 (Conv2D)           (None, 32, 32, 64)        18496     \n",
      "                                                                 \n",
      " max_pooling2d_2 (MaxPooling  (None, 16, 16, 64)       0         \n",
      " 2D)                                                             \n",
      "                                                                 \n",
      " dropout (Dropout)           (None, 16, 16, 64)        0         \n",
      "                                                                 \n",
      " conv2d_4 (Conv2D)           (None, 16, 16, 128)       73856     \n",
      "                                                                 \n",
      " max_pooling2d_3 (MaxPooling  (None, 8, 8, 128)        0         \n",
      " 2D)                                                             \n",
      "                                                                 \n",
      " flatten (Flatten)           (None, 8192)              0         \n",
      "                                                                 \n",
      " dense (Dense)               (None, 16)                131088    \n",
      "                                                                 \n",
      " dense_1 (Dense)             (None, 32)                544       \n",
      "                                                                 \n",
      " dropout_1 (Dropout)         (None, 32)                0         \n",
      "                                                                 \n",
      " dense_2 (Dense)             (None, 1)                 33        \n",
      "                                                                 \n",
      "=================================================================\n",
      "Total params: 230,049\n",
      "Trainable params: 230,049\n",
      "Non-trainable params: 0\n",
      "_________________________________________________________________\n"
     ]
    },
    {
     "name": "stderr",
     "output_type": "stream",
     "text": [
      "2023-02-09 11:14:03.489431: I tensorflow/core/platform/cpu_feature_guard.cc:193] This TensorFlow binary is optimized with oneAPI Deep Neural Network Library (oneDNN) to use the following CPU instructions in performance-critical operations:  AVX2 FMA\n",
      "To enable them in other operations, rebuild TensorFlow with the appropriate compiler flags.\n"
     ]
    }
   ],
   "source": [
    "model = keras.Sequential()\n",
    "model.add(keras.layers.Conv2D(8, kernel_size = 3, activation = \"relu\", padding = \"same\",\n",
    "                              input_shape = (128,128, 3)))\n",
    "\n",
    "\n",
    "model.add(keras.layers.Conv2D(16, kernel_size = 3, activation = \"relu\", padding = \"same\"))\n",
    "model.add(keras.layers.MaxPool2D(2))\n",
    "\n",
    "model.add(keras.layers.Conv2D(32, kernel_size = 3, activation = \"relu\", padding = \"same\"))\n",
    "model.add(keras.layers.MaxPool2D(2))\n",
    "\n",
    "model.add(keras.layers.Conv2D(64, kernel_size = 3, activation = \"relu\", padding = \"same\"))\n",
    "model.add(keras.layers.MaxPool2D(2))\n",
    "\n",
    "model.add(keras.layers.Dropout(0.25))\n",
    "\n",
    "model.add(keras.layers.Conv2D(128, kernel_size = 3, activation = \"relu\", padding = \"same\"))\n",
    "model.add(keras.layers.MaxPool2D(2))\n",
    "\n",
    "model.add(keras.layers.Flatten())\n",
    "\n",
    "model.add(keras.layers.Dense(16, activation = \"leaky_relu\"))\n",
    "\n",
    "model.add(keras.layers.Dense(32, activation = \"leaky_relu\"))\n",
    "\n",
    "model.add(keras.layers.Dropout(0.4))\n",
    "\n",
    "model.add(keras.layers.Dense(1, activation = \"sigmoid\"))\n",
    "model.summary()"
   ]
  },
  {
   "cell_type": "code",
   "execution_count": 12,
   "id": "520521e1",
   "metadata": {
    "ExecuteTime": {
     "end_time": "2023-02-09T02:14:05.784164Z",
     "start_time": "2023-02-09T02:14:05.780134Z"
    }
   },
   "outputs": [],
   "source": [
    "checkpoint_cb = keras.callbacks.ModelCheckpoint(\"./model/best-cnn-224model.h5\", save_best_only = True)\n",
    "early_stopping_cb = keras.callbacks.EarlyStopping(patience = 3, restore_best_weights = True)\n",
    "reducelr_cb = keras.callbacks.ReduceLROnPlateau(monitor = \"val_loss\", factor = .5, patience = 3)"
   ]
  },
  {
   "cell_type": "code",
   "execution_count": 13,
   "id": "6d7c4001",
   "metadata": {
    "ExecuteTime": {
     "end_time": "2023-02-09T02:14:06.680766Z",
     "start_time": "2023-02-09T02:14:06.667736Z"
    }
   },
   "outputs": [],
   "source": [
    "model.compile(optimizer = \"adam\", loss = \"binary_crossentropy\", metrics = \"accuracy\")"
   ]
  },
  {
   "cell_type": "code",
   "execution_count": 14,
   "id": "8006f36b",
   "metadata": {
    "ExecuteTime": {
     "end_time": "2023-02-09T04:14:34.117128Z",
     "start_time": "2023-02-09T02:14:07.200730Z"
    },
    "scrolled": true
   },
   "outputs": [
    {
     "name": "stdout",
     "output_type": "stream",
     "text": [
      "Epoch 1/100\n",
      "225/225 [==============================] - 259s 1s/step - loss: 0.6549 - accuracy: 0.5933 - val_loss: 0.5954 - val_accuracy: 0.6796 - lr: 0.0010\n",
      "Epoch 2/100\n",
      "225/225 [==============================] - 249s 1s/step - loss: 0.5620 - accuracy: 0.7085 - val_loss: 0.5062 - val_accuracy: 0.7396 - lr: 0.0010\n",
      "Epoch 3/100\n",
      "225/225 [==============================] - 250s 1s/step - loss: 0.5033 - accuracy: 0.7533 - val_loss: 0.4709 - val_accuracy: 0.7740 - lr: 0.0010\n",
      "Epoch 4/100\n",
      "225/225 [==============================] - 250s 1s/step - loss: 0.4570 - accuracy: 0.7868 - val_loss: 0.4292 - val_accuracy: 0.8084 - lr: 0.0010\n",
      "Epoch 5/100\n",
      "225/225 [==============================] - 251s 1s/step - loss: 0.4076 - accuracy: 0.8150 - val_loss: 0.4459 - val_accuracy: 0.7848 - lr: 0.0010\n",
      "Epoch 6/100\n",
      "225/225 [==============================] - 251s 1s/step - loss: 0.3725 - accuracy: 0.8356 - val_loss: 0.3708 - val_accuracy: 0.8356 - lr: 0.0010\n",
      "Epoch 7/100\n",
      "225/225 [==============================] - 273s 1s/step - loss: 0.3377 - accuracy: 0.8548 - val_loss: 0.3342 - val_accuracy: 0.8508 - lr: 0.0010\n",
      "Epoch 8/100\n",
      "225/225 [==============================] - 248s 1s/step - loss: 0.3210 - accuracy: 0.8614 - val_loss: 0.3014 - val_accuracy: 0.8684 - lr: 0.0010\n",
      "Epoch 9/100\n",
      "225/225 [==============================] - 248s 1s/step - loss: 0.2935 - accuracy: 0.8776 - val_loss: 0.2788 - val_accuracy: 0.8788 - lr: 0.0010\n",
      "Epoch 10/100\n",
      "225/225 [==============================] - 248s 1s/step - loss: 0.2859 - accuracy: 0.8789 - val_loss: 0.2826 - val_accuracy: 0.8796 - lr: 0.0010\n",
      "Epoch 11/100\n",
      "225/225 [==============================] - 248s 1s/step - loss: 0.2673 - accuracy: 0.8860 - val_loss: 0.2743 - val_accuracy: 0.8824 - lr: 0.0010\n",
      "Epoch 12/100\n",
      "225/225 [==============================] - 249s 1s/step - loss: 0.2497 - accuracy: 0.8949 - val_loss: 0.2717 - val_accuracy: 0.8856 - lr: 0.0010\n",
      "Epoch 13/100\n",
      "225/225 [==============================] - 267s 1s/step - loss: 0.2482 - accuracy: 0.8968 - val_loss: 0.2687 - val_accuracy: 0.8820 - lr: 0.0010\n",
      "Epoch 14/100\n",
      "225/225 [==============================] - 272s 1s/step - loss: 0.2285 - accuracy: 0.9037 - val_loss: 0.2683 - val_accuracy: 0.8820 - lr: 0.0010\n",
      "Epoch 15/100\n",
      "225/225 [==============================] - 255s 1s/step - loss: 0.2149 - accuracy: 0.9116 - val_loss: 0.2521 - val_accuracy: 0.8936 - lr: 0.0010\n",
      "Epoch 16/100\n",
      "225/225 [==============================] - 254s 1s/step - loss: 0.2127 - accuracy: 0.9124 - val_loss: 0.2705 - val_accuracy: 0.8852 - lr: 0.0010\n",
      "Epoch 17/100\n",
      "225/225 [==============================] - 279s 1s/step - loss: 0.2027 - accuracy: 0.9155 - val_loss: 0.2418 - val_accuracy: 0.9016 - lr: 0.0010\n",
      "Epoch 18/100\n",
      "225/225 [==============================] - 276s 1s/step - loss: 0.2049 - accuracy: 0.9158 - val_loss: 0.2291 - val_accuracy: 0.9064 - lr: 0.0010\n",
      "Epoch 19/100\n",
      "225/225 [==============================] - 264s 1s/step - loss: 0.1924 - accuracy: 0.9197 - val_loss: 0.2304 - val_accuracy: 0.9052 - lr: 0.0010\n",
      "Epoch 20/100\n",
      "225/225 [==============================] - 282s 1s/step - loss: 0.1836 - accuracy: 0.9239 - val_loss: 0.2304 - val_accuracy: 0.9016 - lr: 0.0010\n",
      "Epoch 21/100\n",
      "225/225 [==============================] - 271s 1s/step - loss: 0.1753 - accuracy: 0.9302 - val_loss: 0.2274 - val_accuracy: 0.9048 - lr: 0.0010\n",
      "Epoch 22/100\n",
      "225/225 [==============================] - 261s 1s/step - loss: 0.1804 - accuracy: 0.9272 - val_loss: 0.2267 - val_accuracy: 0.9044 - lr: 0.0010\n",
      "Epoch 23/100\n",
      "225/225 [==============================] - 257s 1s/step - loss: 0.1748 - accuracy: 0.9266 - val_loss: 0.2066 - val_accuracy: 0.9124 - lr: 0.0010\n",
      "Epoch 24/100\n",
      "225/225 [==============================] - 254s 1s/step - loss: 0.1668 - accuracy: 0.9319 - val_loss: 0.2158 - val_accuracy: 0.9148 - lr: 0.0010\n",
      "Epoch 25/100\n",
      "225/225 [==============================] - 252s 1s/step - loss: 0.1630 - accuracy: 0.9344 - val_loss: 0.2064 - val_accuracy: 0.9164 - lr: 0.0010\n",
      "Epoch 26/100\n",
      "225/225 [==============================] - 252s 1s/step - loss: 0.1684 - accuracy: 0.9312 - val_loss: 0.2144 - val_accuracy: 0.9180 - lr: 0.0010\n",
      "Epoch 27/100\n",
      "225/225 [==============================] - 252s 1s/step - loss: 0.1585 - accuracy: 0.9355 - val_loss: 0.2403 - val_accuracy: 0.8960 - lr: 0.0010\n",
      "Epoch 28/100\n",
      "225/225 [==============================] - 252s 1s/step - loss: 0.1597 - accuracy: 0.9375 - val_loss: 0.2155 - val_accuracy: 0.9116 - lr: 0.0010\n"
     ]
    }
   ],
   "source": [
    "history = model.fit(train_dataset, epochs = 100, validation_data = val_dataset,\n",
    "                    callbacks = [checkpoint_cb, early_stopping_cb, reducelr_cb])\n",
    "model.save_weights(\"24model.h5\")"
   ]
  },
  {
   "cell_type": "code",
   "execution_count": 15,
   "id": "faba2651",
   "metadata": {
    "ExecuteTime": {
     "end_time": "2023-02-09T04:15:21.838548Z",
     "start_time": "2023-02-09T04:14:34.119970Z"
    }
   },
   "outputs": [
    {
     "name": "stdout",
     "output_type": "stream",
     "text": [
      "125/125 [==============================] - 47s 376ms/step\n"
     ]
    }
   ],
   "source": [
    "pred = model.predict(test_dataset)"
   ]
  },
  {
   "cell_type": "code",
   "execution_count": 16,
   "id": "03655092",
   "metadata": {
    "ExecuteTime": {
     "end_time": "2023-02-09T04:15:21.946104Z",
     "start_time": "2023-02-09T04:15:21.840796Z"
    },
    "scrolled": true
   },
   "outputs": [
    {
     "name": "stdout",
     "output_type": "stream",
     "text": [
      "23_model.csv Saved!\n"
     ]
    }
   ],
   "source": [
    "save_preds(pred, \"23_model.csv\")"
   ]
  },
  {
   "cell_type": "markdown",
   "id": "b996144f",
   "metadata": {},
   "source": [
    "# model(25) - model(24)에 leaky_relu 추가"
   ]
  },
  {
   "cell_type": "markdown",
   "id": "238520f4",
   "metadata": {},
   "source": [
    "## Score: 0.22939"
   ]
  },
  {
   "cell_type": "code",
   "execution_count": 17,
   "id": "296e4806",
   "metadata": {
    "ExecuteTime": {
     "end_time": "2023-02-09T04:15:22.103723Z",
     "start_time": "2023-02-09T04:15:21.949326Z"
    },
    "scrolled": false
   },
   "outputs": [
    {
     "name": "stdout",
     "output_type": "stream",
     "text": [
      "Model: \"sequential_1\"\n",
      "_________________________________________________________________\n",
      " Layer (type)                Output Shape              Param #   \n",
      "=================================================================\n",
      " conv2d_5 (Conv2D)           (None, 128, 128, 8)       224       \n",
      "                                                                 \n",
      " conv2d_6 (Conv2D)           (None, 128, 128, 16)      1168      \n",
      "                                                                 \n",
      " max_pooling2d_4 (MaxPooling  (None, 64, 64, 16)       0         \n",
      " 2D)                                                             \n",
      "                                                                 \n",
      " conv2d_7 (Conv2D)           (None, 64, 64, 32)        4640      \n",
      "                                                                 \n",
      " max_pooling2d_5 (MaxPooling  (None, 32, 32, 32)       0         \n",
      " 2D)                                                             \n",
      "                                                                 \n",
      " conv2d_8 (Conv2D)           (None, 32, 32, 64)        18496     \n",
      "                                                                 \n",
      " max_pooling2d_6 (MaxPooling  (None, 16, 16, 64)       0         \n",
      " 2D)                                                             \n",
      "                                                                 \n",
      " dropout_2 (Dropout)         (None, 16, 16, 64)        0         \n",
      "                                                                 \n",
      " conv2d_9 (Conv2D)           (None, 16, 16, 128)       73856     \n",
      "                                                                 \n",
      " max_pooling2d_7 (MaxPooling  (None, 8, 8, 128)        0         \n",
      " 2D)                                                             \n",
      "                                                                 \n",
      " flatten_1 (Flatten)         (None, 8192)              0         \n",
      "                                                                 \n",
      " dense_3 (Dense)             (None, 16)                131088    \n",
      "                                                                 \n",
      " dense_4 (Dense)             (None, 32)                544       \n",
      "                                                                 \n",
      " dropout_3 (Dropout)         (None, 32)                0         \n",
      "                                                                 \n",
      " dense_5 (Dense)             (None, 1)                 33        \n",
      "                                                                 \n",
      "=================================================================\n",
      "Total params: 230,049\n",
      "Trainable params: 230,049\n",
      "Non-trainable params: 0\n",
      "_________________________________________________________________\n"
     ]
    }
   ],
   "source": [
    "model = keras.Sequential()\n",
    "model.add(keras.layers.Conv2D(8, kernel_size = 3, activation = \"leaky_relu\", padding = \"same\",\n",
    "                              input_shape = (128,128, 3)))\n",
    "\n",
    "\n",
    "model.add(keras.layers.Conv2D(16, kernel_size = 3, activation = \"relu\", padding = \"same\"))\n",
    "model.add(keras.layers.MaxPool2D(2))\n",
    "\n",
    "model.add(keras.layers.Conv2D(32, kernel_size = 3, activation = \"relu\", padding = \"same\"))\n",
    "model.add(keras.layers.MaxPool2D(2))\n",
    "\n",
    "model.add(keras.layers.Conv2D(64, kernel_size = 3, activation = \"relu\", padding = \"same\"))\n",
    "model.add(keras.layers.MaxPool2D(2))\n",
    "\n",
    "model.add(keras.layers.Dropout(0.25))\n",
    "\n",
    "model.add(keras.layers.Conv2D(128, kernel_size = 3, activation = \"relu\", padding = \"same\"))\n",
    "model.add(keras.layers.MaxPool2D(2))\n",
    "\n",
    "model.add(keras.layers.Flatten())\n",
    "\n",
    "model.add(keras.layers.Dense(16, activation = \"leaky_relu\"))\n",
    "\n",
    "model.add(keras.layers.Dense(32, activation = \"leaky_relu\"))\n",
    "\n",
    "model.add(keras.layers.Dropout(0.4))\n",
    "\n",
    "model.add(keras.layers.Dense(1, activation = \"sigmoid\"))\n",
    "model.summary()"
   ]
  },
  {
   "cell_type": "code",
   "execution_count": 18,
   "id": "dad2889d",
   "metadata": {
    "ExecuteTime": {
     "end_time": "2023-02-09T04:15:22.110950Z",
     "start_time": "2023-02-09T04:15:22.106439Z"
    }
   },
   "outputs": [],
   "source": [
    "checkpoint_cb = keras.callbacks.ModelCheckpoint(\"./model/best-cnn-25model.h5\", save_best_only = True)\n",
    "early_stopping_cb = keras.callbacks.EarlyStopping(patience = 3, restore_best_weights = True)\n",
    "reducelr_cb = keras.callbacks.ReduceLROnPlateau(monitor = \"val_loss\", factor = .5, patience = 3)"
   ]
  },
  {
   "cell_type": "code",
   "execution_count": 19,
   "id": "f4e861fa",
   "metadata": {
    "ExecuteTime": {
     "end_time": "2023-02-09T04:15:22.127148Z",
     "start_time": "2023-02-09T04:15:22.114307Z"
    }
   },
   "outputs": [],
   "source": [
    "model.compile(optimizer = \"adam\", loss = \"binary_crossentropy\", metrics = \"accuracy\")"
   ]
  },
  {
   "cell_type": "code",
   "execution_count": 20,
   "id": "2f44eaf5",
   "metadata": {
    "ExecuteTime": {
     "end_time": "2023-02-09T05:43:14.216743Z",
     "start_time": "2023-02-09T04:15:22.135062Z"
    },
    "scrolled": true
   },
   "outputs": [
    {
     "name": "stdout",
     "output_type": "stream",
     "text": [
      "Epoch 1/100\n",
      "225/225 [==============================] - 257s 1s/step - loss: 0.6314 - accuracy: 0.6268 - val_loss: 0.5347 - val_accuracy: 0.7300 - lr: 0.0010\n",
      "Epoch 2/100\n",
      "225/225 [==============================] - 256s 1s/step - loss: 0.5428 - accuracy: 0.7283 - val_loss: 0.4988 - val_accuracy: 0.7620 - lr: 0.0010\n",
      "Epoch 3/100\n",
      "225/225 [==============================] - 259s 1s/step - loss: 0.4826 - accuracy: 0.7730 - val_loss: 0.4342 - val_accuracy: 0.7932 - lr: 0.0010\n",
      "Epoch 4/100\n",
      "225/225 [==============================] - 259s 1s/step - loss: 0.4268 - accuracy: 0.8033 - val_loss: 0.4014 - val_accuracy: 0.8212 - lr: 0.0010\n",
      "Epoch 5/100\n",
      "225/225 [==============================] - 258s 1s/step - loss: 0.3941 - accuracy: 0.8240 - val_loss: 0.3581 - val_accuracy: 0.8372 - lr: 0.0010\n",
      "Epoch 6/100\n",
      "225/225 [==============================] - 259s 1s/step - loss: 0.3582 - accuracy: 0.8435 - val_loss: 0.3308 - val_accuracy: 0.8504 - lr: 0.0010\n",
      "Epoch 7/100\n",
      "225/225 [==============================] - 259s 1s/step - loss: 0.3273 - accuracy: 0.8560 - val_loss: 0.3282 - val_accuracy: 0.8564 - lr: 0.0010\n",
      "Epoch 8/100\n",
      "225/225 [==============================] - 264s 1s/step - loss: 0.3020 - accuracy: 0.8688 - val_loss: 0.2962 - val_accuracy: 0.8684 - lr: 0.0010\n",
      "Epoch 9/100\n",
      "225/225 [==============================] - 302s 1s/step - loss: 0.2802 - accuracy: 0.8822 - val_loss: 0.2954 - val_accuracy: 0.8732 - lr: 0.0010\n",
      "Epoch 10/100\n",
      "225/225 [==============================] - 304s 1s/step - loss: 0.2698 - accuracy: 0.8850 - val_loss: 0.2682 - val_accuracy: 0.8856 - lr: 0.0010\n",
      "Epoch 11/100\n",
      "225/225 [==============================] - 273s 1s/step - loss: 0.2428 - accuracy: 0.8990 - val_loss: 0.2525 - val_accuracy: 0.8880 - lr: 0.0010\n",
      "Epoch 12/100\n",
      "225/225 [==============================] - 275s 1s/step - loss: 0.2365 - accuracy: 0.9027 - val_loss: 0.2440 - val_accuracy: 0.9016 - lr: 0.0010\n",
      "Epoch 13/100\n",
      "225/225 [==============================] - 266s 1s/step - loss: 0.2202 - accuracy: 0.9102 - val_loss: 0.2329 - val_accuracy: 0.8996 - lr: 0.0010\n",
      "Epoch 14/100\n",
      "225/225 [==============================] - 275s 1s/step - loss: 0.2086 - accuracy: 0.9147 - val_loss: 0.2507 - val_accuracy: 0.8936 - lr: 0.0010\n",
      "Epoch 15/100\n",
      "225/225 [==============================] - 306s 1s/step - loss: 0.2016 - accuracy: 0.9166 - val_loss: 0.2285 - val_accuracy: 0.9028 - lr: 0.0010\n",
      "Epoch 16/100\n",
      "225/225 [==============================] - 284s 1s/step - loss: 0.1919 - accuracy: 0.9217 - val_loss: 0.2074 - val_accuracy: 0.9104 - lr: 0.0010\n",
      "Epoch 17/100\n",
      "225/225 [==============================] - 312s 1s/step - loss: 0.1891 - accuracy: 0.9236 - val_loss: 0.2236 - val_accuracy: 0.9096 - lr: 0.0010\n",
      "Epoch 18/100\n",
      "225/225 [==============================] - 314s 1s/step - loss: 0.1792 - accuracy: 0.9272 - val_loss: 0.2270 - val_accuracy: 0.9044 - lr: 0.0010\n",
      "Epoch 19/100\n",
      "225/225 [==============================] - 288s 1s/step - loss: 0.1770 - accuracy: 0.9264 - val_loss: 0.2543 - val_accuracy: 0.8928 - lr: 0.0010\n"
     ]
    }
   ],
   "source": [
    "history = model.fit(train_dataset, epochs = 100, validation_data = val_dataset,\n",
    "                    callbacks = [checkpoint_cb, early_stopping_cb, reducelr_cb])\n",
    "model.save_weights(\"25model.h5\")"
   ]
  },
  {
   "cell_type": "code",
   "execution_count": 21,
   "id": "2887e882",
   "metadata": {
    "ExecuteTime": {
     "end_time": "2023-02-09T05:44:02.223075Z",
     "start_time": "2023-02-09T05:43:14.219609Z"
    }
   },
   "outputs": [
    {
     "name": "stdout",
     "output_type": "stream",
     "text": [
      "125/125 [==============================] - 48s 379ms/step\n"
     ]
    }
   ],
   "source": [
    "pred = model.predict(test_dataset)"
   ]
  },
  {
   "cell_type": "code",
   "execution_count": 22,
   "id": "508a32be",
   "metadata": {
    "ExecuteTime": {
     "end_time": "2023-02-09T05:44:02.326454Z",
     "start_time": "2023-02-09T05:44:02.225380Z"
    },
    "scrolled": true
   },
   "outputs": [
    {
     "name": "stdout",
     "output_type": "stream",
     "text": [
      "24_model.csv Saved!\n"
     ]
    }
   ],
   "source": [
    "save_preds(pred, \"24_model.csv\")"
   ]
  },
  {
   "cell_type": "markdown",
   "id": "c0d33182",
   "metadata": {},
   "source": [
    "# model(26) - model(25)에 leaky_relu 하나 더 추가"
   ]
  },
  {
   "cell_type": "markdown",
   "id": "f2a53d51",
   "metadata": {},
   "source": [
    "## Score: 0.22229 - 804등"
   ]
  },
  {
   "cell_type": "code",
   "execution_count": 27,
   "id": "7bd73a0c",
   "metadata": {
    "ExecuteTime": {
     "end_time": "2023-02-09T05:47:23.816272Z",
     "start_time": "2023-02-09T05:47:23.658561Z"
    },
    "scrolled": false
   },
   "outputs": [
    {
     "name": "stdout",
     "output_type": "stream",
     "text": [
      "Model: \"sequential_3\"\n",
      "_________________________________________________________________\n",
      " Layer (type)                Output Shape              Param #   \n",
      "=================================================================\n",
      " conv2d_15 (Conv2D)          (None, 128, 128, 8)       224       \n",
      "                                                                 \n",
      " conv2d_16 (Conv2D)          (None, 128, 128, 16)      1168      \n",
      "                                                                 \n",
      " max_pooling2d_12 (MaxPoolin  (None, 64, 64, 16)       0         \n",
      " g2D)                                                            \n",
      "                                                                 \n",
      " conv2d_17 (Conv2D)          (None, 64, 64, 32)        4640      \n",
      "                                                                 \n",
      " max_pooling2d_13 (MaxPoolin  (None, 32, 32, 32)       0         \n",
      " g2D)                                                            \n",
      "                                                                 \n",
      " conv2d_18 (Conv2D)          (None, 32, 32, 64)        18496     \n",
      "                                                                 \n",
      " max_pooling2d_14 (MaxPoolin  (None, 16, 16, 64)       0         \n",
      " g2D)                                                            \n",
      "                                                                 \n",
      " dropout_6 (Dropout)         (None, 16, 16, 64)        0         \n",
      "                                                                 \n",
      " conv2d_19 (Conv2D)          (None, 16, 16, 128)       73856     \n",
      "                                                                 \n",
      " max_pooling2d_15 (MaxPoolin  (None, 8, 8, 128)        0         \n",
      " g2D)                                                            \n",
      "                                                                 \n",
      " flatten_3 (Flatten)         (None, 8192)              0         \n",
      "                                                                 \n",
      " dense_9 (Dense)             (None, 16)                131088    \n",
      "                                                                 \n",
      " dense_10 (Dense)            (None, 32)                544       \n",
      "                                                                 \n",
      " dropout_7 (Dropout)         (None, 32)                0         \n",
      "                                                                 \n",
      " dense_11 (Dense)            (None, 1)                 33        \n",
      "                                                                 \n",
      "=================================================================\n",
      "Total params: 230,049\n",
      "Trainable params: 230,049\n",
      "Non-trainable params: 0\n",
      "_________________________________________________________________\n"
     ]
    }
   ],
   "source": [
    "model = keras.Sequential()\n",
    "model.add(keras.layers.Conv2D(8, kernel_size = 3, activation = \"leaky_relu\", padding = \"same\",\n",
    "                              input_shape = (128,128, 3)))\n",
    "\n",
    "\n",
    "model.add(keras.layers.Conv2D(16, kernel_size = 3, activation = \"leaky_relu\", padding = \"same\"))\n",
    "model.add(keras.layers.MaxPool2D(2))\n",
    "\n",
    "model.add(keras.layers.Conv2D(32, kernel_size = 3, activation = \"relu\", padding = \"same\"))\n",
    "model.add(keras.layers.MaxPool2D(2))\n",
    "\n",
    "model.add(keras.layers.Conv2D(64, kernel_size = 3, activation = \"relu\", padding = \"same\"))\n",
    "model.add(keras.layers.MaxPool2D(2))\n",
    "\n",
    "model.add(keras.layers.Dropout(0.25))\n",
    "\n",
    "model.add(keras.layers.Conv2D(128, kernel_size = 3, activation = \"relu\", padding = \"same\"))\n",
    "model.add(keras.layers.MaxPool2D(2))\n",
    "\n",
    "model.add(keras.layers.Flatten())\n",
    "\n",
    "model.add(keras.layers.Dense(16, activation = \"leaky_relu\"))\n",
    "\n",
    "model.add(keras.layers.Dense(32, activation = \"leaky_relu\"))\n",
    "\n",
    "model.add(keras.layers.Dropout(0.4))\n",
    "\n",
    "model.add(keras.layers.Dense(1, activation = \"sigmoid\"))\n",
    "model.summary()"
   ]
  },
  {
   "cell_type": "code",
   "execution_count": 28,
   "id": "39144641",
   "metadata": {
    "ExecuteTime": {
     "end_time": "2023-02-09T05:47:23.822758Z",
     "start_time": "2023-02-09T05:47:23.819302Z"
    }
   },
   "outputs": [],
   "source": [
    "checkpoint_cb = keras.callbacks.ModelCheckpoint(\"./model/best-cnn-26model.h5\", save_best_only = True)\n",
    "early_stopping_cb = keras.callbacks.EarlyStopping(patience = 3, restore_best_weights = True)\n",
    "reducelr_cb = keras.callbacks.ReduceLROnPlateau(monitor = \"val_loss\", factor = .5, patience = 3)"
   ]
  },
  {
   "cell_type": "code",
   "execution_count": 29,
   "id": "f4e2a36a",
   "metadata": {
    "ExecuteTime": {
     "end_time": "2023-02-09T05:47:23.974446Z",
     "start_time": "2023-02-09T05:47:23.965357Z"
    }
   },
   "outputs": [],
   "source": [
    "model.compile(optimizer = \"adam\", loss = \"binary_crossentropy\", metrics = \"accuracy\")"
   ]
  },
  {
   "cell_type": "code",
   "execution_count": 30,
   "id": "433579c1",
   "metadata": {
    "ExecuteTime": {
     "end_time": "2023-02-09T07:45:01.780994Z",
     "start_time": "2023-02-09T05:47:24.124146Z"
    },
    "scrolled": true
   },
   "outputs": [
    {
     "name": "stdout",
     "output_type": "stream",
     "text": [
      "Epoch 1/100\n",
      "225/225 [==============================] - 278s 1s/step - loss: 0.6767 - accuracy: 0.5483 - val_loss: 0.6160 - val_accuracy: 0.6468 - lr: 0.0010\n",
      "Epoch 2/100\n",
      "225/225 [==============================] - 273s 1s/step - loss: 0.5667 - accuracy: 0.7025 - val_loss: 0.5034 - val_accuracy: 0.7468 - lr: 0.0010\n",
      "Epoch 3/100\n",
      "225/225 [==============================] - 270s 1s/step - loss: 0.4992 - accuracy: 0.7552 - val_loss: 0.4544 - val_accuracy: 0.7836 - lr: 0.0010\n",
      "Epoch 4/100\n",
      "225/225 [==============================] - 272s 1s/step - loss: 0.4378 - accuracy: 0.7972 - val_loss: 0.4023 - val_accuracy: 0.8204 - lr: 0.0010\n",
      "Epoch 5/100\n",
      "225/225 [==============================] - 272s 1s/step - loss: 0.3943 - accuracy: 0.8229 - val_loss: 0.3785 - val_accuracy: 0.8276 - lr: 0.0010\n",
      "Epoch 6/100\n",
      "225/225 [==============================] - 271s 1s/step - loss: 0.3550 - accuracy: 0.8430 - val_loss: 0.3409 - val_accuracy: 0.8460 - lr: 0.0010\n",
      "Epoch 7/100\n",
      "225/225 [==============================] - 273s 1s/step - loss: 0.3322 - accuracy: 0.8584 - val_loss: 0.3215 - val_accuracy: 0.8536 - lr: 0.0010\n",
      "Epoch 8/100\n",
      "225/225 [==============================] - 273s 1s/step - loss: 0.3044 - accuracy: 0.8714 - val_loss: 0.2803 - val_accuracy: 0.8784 - lr: 0.0010\n",
      "Epoch 9/100\n",
      "225/225 [==============================] - 273s 1s/step - loss: 0.2867 - accuracy: 0.8788 - val_loss: 0.2915 - val_accuracy: 0.8748 - lr: 0.0010\n",
      "Epoch 10/100\n",
      "225/225 [==============================] - 295s 1s/step - loss: 0.2707 - accuracy: 0.8866 - val_loss: 0.2652 - val_accuracy: 0.8816 - lr: 0.0010\n",
      "Epoch 11/100\n",
      "225/225 [==============================] - 289s 1s/step - loss: 0.2505 - accuracy: 0.8962 - val_loss: 0.2591 - val_accuracy: 0.8840 - lr: 0.0010\n",
      "Epoch 12/100\n",
      "225/225 [==============================] - 276s 1s/step - loss: 0.2484 - accuracy: 0.8942 - val_loss: 0.3378 - val_accuracy: 0.8600 - lr: 0.0010\n",
      "Epoch 13/100\n",
      "225/225 [==============================] - 275s 1s/step - loss: 0.2367 - accuracy: 0.9005 - val_loss: 0.2542 - val_accuracy: 0.8960 - lr: 0.0010\n",
      "Epoch 14/100\n",
      "225/225 [==============================] - 276s 1s/step - loss: 0.2191 - accuracy: 0.9083 - val_loss: 0.2529 - val_accuracy: 0.8888 - lr: 0.0010\n",
      "Epoch 15/100\n",
      "225/225 [==============================] - 282s 1s/step - loss: 0.2147 - accuracy: 0.9114 - val_loss: 0.2249 - val_accuracy: 0.9060 - lr: 0.0010\n",
      "Epoch 16/100\n",
      "225/225 [==============================] - 285s 1s/step - loss: 0.2068 - accuracy: 0.9124 - val_loss: 0.2308 - val_accuracy: 0.8992 - lr: 0.0010\n",
      "Epoch 17/100\n",
      "225/225 [==============================] - 277s 1s/step - loss: 0.2007 - accuracy: 0.9181 - val_loss: 0.2378 - val_accuracy: 0.9008 - lr: 0.0010\n",
      "Epoch 18/100\n",
      "225/225 [==============================] - 266s 1s/step - loss: 0.1970 - accuracy: 0.9181 - val_loss: 0.2229 - val_accuracy: 0.9068 - lr: 0.0010\n",
      "Epoch 19/100\n",
      "225/225 [==============================] - 290s 1s/step - loss: 0.1862 - accuracy: 0.9238 - val_loss: 0.2195 - val_accuracy: 0.9112 - lr: 0.0010\n",
      "Epoch 20/100\n",
      "225/225 [==============================] - 290s 1s/step - loss: 0.1847 - accuracy: 0.9244 - val_loss: 0.2122 - val_accuracy: 0.9136 - lr: 0.0010\n",
      "Epoch 21/100\n",
      "225/225 [==============================] - 285s 1s/step - loss: 0.1815 - accuracy: 0.9254 - val_loss: 0.2020 - val_accuracy: 0.9156 - lr: 0.0010\n",
      "Epoch 22/100\n",
      "225/225 [==============================] - 306s 1s/step - loss: 0.1755 - accuracy: 0.9282 - val_loss: 0.1980 - val_accuracy: 0.9204 - lr: 0.0010\n",
      "Epoch 23/100\n",
      "225/225 [==============================] - 306s 1s/step - loss: 0.1651 - accuracy: 0.9340 - val_loss: 0.2344 - val_accuracy: 0.9032 - lr: 0.0010\n",
      "Epoch 24/100\n",
      "225/225 [==============================] - 308s 1s/step - loss: 0.1666 - accuracy: 0.9320 - val_loss: 0.2418 - val_accuracy: 0.9036 - lr: 0.0010\n",
      "Epoch 25/100\n",
      "225/225 [==============================] - 298s 1s/step - loss: 0.1652 - accuracy: 0.9320 - val_loss: 0.2152 - val_accuracy: 0.9080 - lr: 0.0010\n"
     ]
    }
   ],
   "source": [
    "history = model.fit(train_dataset, epochs = 100, validation_data = val_dataset,\n",
    "                    callbacks = [checkpoint_cb, early_stopping_cb, reducelr_cb])\n",
    "model.save_weights(\"26model.h5\")"
   ]
  },
  {
   "cell_type": "code",
   "execution_count": 31,
   "id": "d4c14c27",
   "metadata": {
    "ExecuteTime": {
     "end_time": "2023-02-09T07:45:52.470722Z",
     "start_time": "2023-02-09T07:45:01.785190Z"
    }
   },
   "outputs": [
    {
     "name": "stdout",
     "output_type": "stream",
     "text": [
      "125/125 [==============================] - 50s 400ms/step\n"
     ]
    }
   ],
   "source": [
    "pred = model.predict(test_dataset)"
   ]
  },
  {
   "cell_type": "code",
   "execution_count": 32,
   "id": "34e794e3",
   "metadata": {
    "ExecuteTime": {
     "end_time": "2023-02-09T07:45:52.612847Z",
     "start_time": "2023-02-09T07:45:52.472977Z"
    },
    "scrolled": true
   },
   "outputs": [
    {
     "name": "stdout",
     "output_type": "stream",
     "text": [
      "25_model.csv Saved!\n"
     ]
    }
   ],
   "source": [
    "save_preds(pred, \"25_model.csv\")"
   ]
  },
  {
   "cell_type": "markdown",
   "id": "34de4f61",
   "metadata": {},
   "source": [
    "# model(27) - model(25)에 leaky_relu 자리 바꿔서 추가"
   ]
  },
  {
   "cell_type": "markdown",
   "id": "d9bb519f",
   "metadata": {},
   "source": [
    "## Score: 0.21764 - 799등"
   ]
  },
  {
   "cell_type": "code",
   "execution_count": 33,
   "id": "5587bd95",
   "metadata": {
    "ExecuteTime": {
     "end_time": "2023-02-09T07:45:52.800978Z",
     "start_time": "2023-02-09T07:45:52.617279Z"
    },
    "scrolled": false
   },
   "outputs": [
    {
     "name": "stdout",
     "output_type": "stream",
     "text": [
      "Model: \"sequential_4\"\n",
      "_________________________________________________________________\n",
      " Layer (type)                Output Shape              Param #   \n",
      "=================================================================\n",
      " conv2d_20 (Conv2D)          (None, 128, 128, 8)       224       \n",
      "                                                                 \n",
      " conv2d_21 (Conv2D)          (None, 128, 128, 16)      1168      \n",
      "                                                                 \n",
      " max_pooling2d_16 (MaxPoolin  (None, 64, 64, 16)       0         \n",
      " g2D)                                                            \n",
      "                                                                 \n",
      " conv2d_22 (Conv2D)          (None, 64, 64, 32)        4640      \n",
      "                                                                 \n",
      " max_pooling2d_17 (MaxPoolin  (None, 32, 32, 32)       0         \n",
      " g2D)                                                            \n",
      "                                                                 \n",
      " conv2d_23 (Conv2D)          (None, 32, 32, 64)        18496     \n",
      "                                                                 \n",
      " max_pooling2d_18 (MaxPoolin  (None, 16, 16, 64)       0         \n",
      " g2D)                                                            \n",
      "                                                                 \n",
      " dropout_8 (Dropout)         (None, 16, 16, 64)        0         \n",
      "                                                                 \n",
      " conv2d_24 (Conv2D)          (None, 16, 16, 128)       73856     \n",
      "                                                                 \n",
      " max_pooling2d_19 (MaxPoolin  (None, 8, 8, 128)        0         \n",
      " g2D)                                                            \n",
      "                                                                 \n",
      " flatten_4 (Flatten)         (None, 8192)              0         \n",
      "                                                                 \n",
      " dense_12 (Dense)            (None, 16)                131088    \n",
      "                                                                 \n",
      " dense_13 (Dense)            (None, 32)                544       \n",
      "                                                                 \n",
      " dropout_9 (Dropout)         (None, 32)                0         \n",
      "                                                                 \n",
      " dense_14 (Dense)            (None, 1)                 33        \n",
      "                                                                 \n",
      "=================================================================\n",
      "Total params: 230,049\n",
      "Trainable params: 230,049\n",
      "Non-trainable params: 0\n",
      "_________________________________________________________________\n"
     ]
    }
   ],
   "source": [
    "model = keras.Sequential()\n",
    "model.add(keras.layers.Conv2D(8, kernel_size = 3, activation = \"leaky_relu\", padding = \"same\",\n",
    "                              input_shape = (128,128, 3)))\n",
    "\n",
    "\n",
    "model.add(keras.layers.Conv2D(16, kernel_size = 3, activation = \"relu\", padding = \"same\"))\n",
    "model.add(keras.layers.MaxPool2D(2))\n",
    "\n",
    "model.add(keras.layers.Conv2D(32, kernel_size = 3, activation = \"leaky_relu\", padding = \"same\"))\n",
    "model.add(keras.layers.MaxPool2D(2))\n",
    "\n",
    "model.add(keras.layers.Conv2D(64, kernel_size = 3, activation = \"relu\", padding = \"same\"))\n",
    "model.add(keras.layers.MaxPool2D(2))\n",
    "\n",
    "model.add(keras.layers.Dropout(0.25))\n",
    "\n",
    "model.add(keras.layers.Conv2D(128, kernel_size = 3, activation = \"relu\", padding = \"same\"))\n",
    "model.add(keras.layers.MaxPool2D(2))\n",
    "\n",
    "model.add(keras.layers.Flatten())\n",
    "\n",
    "model.add(keras.layers.Dense(16, activation = \"leaky_relu\"))\n",
    "\n",
    "model.add(keras.layers.Dense(32, activation = \"leaky_relu\"))\n",
    "\n",
    "model.add(keras.layers.Dropout(0.4))\n",
    "\n",
    "model.add(keras.layers.Dense(1, activation = \"sigmoid\"))\n",
    "model.summary()"
   ]
  },
  {
   "cell_type": "code",
   "execution_count": 34,
   "id": "ae11914d",
   "metadata": {
    "ExecuteTime": {
     "end_time": "2023-02-09T07:45:52.807612Z",
     "start_time": "2023-02-09T07:45:52.803999Z"
    }
   },
   "outputs": [],
   "source": [
    "checkpoint_cb = keras.callbacks.ModelCheckpoint(\"./model/best-cnn-27model.h5\", save_best_only = True)\n",
    "early_stopping_cb = keras.callbacks.EarlyStopping(patience = 3, restore_best_weights = True)\n",
    "reducelr_cb = keras.callbacks.ReduceLROnPlateau(monitor = \"val_loss\", factor = .5, patience = 3)"
   ]
  },
  {
   "cell_type": "code",
   "execution_count": 35,
   "id": "0fc0988f",
   "metadata": {
    "ExecuteTime": {
     "end_time": "2023-02-09T07:45:52.825398Z",
     "start_time": "2023-02-09T07:45:52.810280Z"
    }
   },
   "outputs": [],
   "source": [
    "model.compile(optimizer = \"adam\", loss = \"binary_crossentropy\", metrics = \"accuracy\")"
   ]
  },
  {
   "cell_type": "code",
   "execution_count": 36,
   "id": "e29c77e5",
   "metadata": {
    "ExecuteTime": {
     "end_time": "2023-02-09T10:21:42.127290Z",
     "start_time": "2023-02-09T07:45:52.828337Z"
    },
    "scrolled": true
   },
   "outputs": [
    {
     "name": "stdout",
     "output_type": "stream",
     "text": [
      "Epoch 1/100\n",
      "225/225 [==============================] - 301s 1s/step - loss: 0.6780 - accuracy: 0.5586 - val_loss: 0.6095 - val_accuracy: 0.6560 - lr: 0.0010\n",
      "Epoch 2/100\n",
      "225/225 [==============================] - 277s 1s/step - loss: 0.5722 - accuracy: 0.7054 - val_loss: 0.5089 - val_accuracy: 0.7508 - lr: 0.0010\n",
      "Epoch 3/100\n",
      "225/225 [==============================] - 266s 1s/step - loss: 0.4792 - accuracy: 0.7748 - val_loss: 0.4325 - val_accuracy: 0.7960 - lr: 0.0010\n",
      "Epoch 4/100\n",
      "225/225 [==============================] - 269s 1s/step - loss: 0.4296 - accuracy: 0.8058 - val_loss: 0.3953 - val_accuracy: 0.8100 - lr: 0.0010\n",
      "Epoch 5/100\n",
      "225/225 [==============================] - 291s 1s/step - loss: 0.3874 - accuracy: 0.8298 - val_loss: 0.3561 - val_accuracy: 0.8460 - lr: 0.0010\n",
      "Epoch 6/100\n",
      "225/225 [==============================] - 274s 1s/step - loss: 0.3539 - accuracy: 0.8449 - val_loss: 0.3400 - val_accuracy: 0.8516 - lr: 0.0010\n",
      "Epoch 7/100\n",
      "225/225 [==============================] - 275s 1s/step - loss: 0.3268 - accuracy: 0.8627 - val_loss: 0.3287 - val_accuracy: 0.8576 - lr: 0.0010\n",
      "Epoch 8/100\n",
      "225/225 [==============================] - 296s 1s/step - loss: 0.3009 - accuracy: 0.8706 - val_loss: 0.2783 - val_accuracy: 0.8812 - lr: 0.0010\n",
      "Epoch 9/100\n",
      "225/225 [==============================] - 280s 1s/step - loss: 0.2796 - accuracy: 0.8824 - val_loss: 0.2814 - val_accuracy: 0.8784 - lr: 0.0010\n",
      "Epoch 10/100\n",
      "225/225 [==============================] - 278s 1s/step - loss: 0.2624 - accuracy: 0.8893 - val_loss: 0.2716 - val_accuracy: 0.8848 - lr: 0.0010\n",
      "Epoch 11/100\n",
      "225/225 [==============================] - 277s 1s/step - loss: 0.2484 - accuracy: 0.8949 - val_loss: 0.2536 - val_accuracy: 0.8920 - lr: 0.0010\n",
      "Epoch 12/100\n",
      "225/225 [==============================] - 276s 1s/step - loss: 0.2292 - accuracy: 0.9033 - val_loss: 0.2373 - val_accuracy: 0.8992 - lr: 0.0010\n",
      "Epoch 13/100\n",
      "225/225 [==============================] - 276s 1s/step - loss: 0.2241 - accuracy: 0.9082 - val_loss: 0.2887 - val_accuracy: 0.8808 - lr: 0.0010\n",
      "Epoch 14/100\n",
      "225/225 [==============================] - 281s 1s/step - loss: 0.2144 - accuracy: 0.9113 - val_loss: 0.2430 - val_accuracy: 0.8976 - lr: 0.0010\n",
      "Epoch 15/100\n",
      "225/225 [==============================] - 277s 1s/step - loss: 0.2060 - accuracy: 0.9147 - val_loss: 0.2143 - val_accuracy: 0.9020 - lr: 0.0010\n",
      "Epoch 16/100\n",
      "225/225 [==============================] - 275s 1s/step - loss: 0.1919 - accuracy: 0.9200 - val_loss: 0.2200 - val_accuracy: 0.9048 - lr: 0.0010\n",
      "Epoch 17/100\n",
      "225/225 [==============================] - 276s 1s/step - loss: 0.1928 - accuracy: 0.9206 - val_loss: 0.2163 - val_accuracy: 0.9076 - lr: 0.0010\n",
      "Epoch 18/100\n",
      "225/225 [==============================] - 272s 1s/step - loss: 0.1840 - accuracy: 0.9241 - val_loss: 0.2135 - val_accuracy: 0.9144 - lr: 0.0010\n",
      "Epoch 19/100\n",
      "225/225 [==============================] - 251s 1s/step - loss: 0.1804 - accuracy: 0.9275 - val_loss: 0.2451 - val_accuracy: 0.8876 - lr: 0.0010\n",
      "Epoch 20/100\n",
      "225/225 [==============================] - 251s 1s/step - loss: 0.1739 - accuracy: 0.9292 - val_loss: 0.2113 - val_accuracy: 0.9156 - lr: 0.0010\n",
      "Epoch 21/100\n",
      "225/225 [==============================] - 251s 1s/step - loss: 0.1666 - accuracy: 0.9316 - val_loss: 0.2271 - val_accuracy: 0.9068 - lr: 0.0010\n",
      "Epoch 22/100\n",
      "225/225 [==============================] - 252s 1s/step - loss: 0.1609 - accuracy: 0.9341 - val_loss: 0.2028 - val_accuracy: 0.9168 - lr: 0.0010\n",
      "Epoch 23/100\n",
      "225/225 [==============================] - 253s 1s/step - loss: 0.1612 - accuracy: 0.9356 - val_loss: 0.1995 - val_accuracy: 0.9200 - lr: 0.0010\n",
      "Epoch 24/100\n",
      "225/225 [==============================] - 253s 1s/step - loss: 0.1572 - accuracy: 0.9345 - val_loss: 0.1931 - val_accuracy: 0.9208 - lr: 0.0010\n",
      "Epoch 25/100\n",
      "225/225 [==============================] - 253s 1s/step - loss: 0.1461 - accuracy: 0.9404 - val_loss: 0.2011 - val_accuracy: 0.9252 - lr: 0.0010\n",
      "Epoch 26/100\n",
      "225/225 [==============================] - 255s 1s/step - loss: 0.1473 - accuracy: 0.9386 - val_loss: 0.2041 - val_accuracy: 0.9240 - lr: 0.0010\n",
      "Epoch 27/100\n",
      "225/225 [==============================] - 256s 1s/step - loss: 0.1459 - accuracy: 0.9417 - val_loss: 0.1924 - val_accuracy: 0.9248 - lr: 0.0010\n",
      "Epoch 28/100\n",
      "225/225 [==============================] - 256s 1s/step - loss: 0.1391 - accuracy: 0.9414 - val_loss: 0.2056 - val_accuracy: 0.9164 - lr: 0.0010\n",
      "Epoch 29/100\n",
      "225/225 [==============================] - 257s 1s/step - loss: 0.1392 - accuracy: 0.9440 - val_loss: 0.1834 - val_accuracy: 0.9248 - lr: 0.0010\n",
      "Epoch 30/100\n",
      "225/225 [==============================] - 256s 1s/step - loss: 0.1339 - accuracy: 0.9468 - val_loss: 0.2057 - val_accuracy: 0.9148 - lr: 0.0010\n",
      "Epoch 31/100\n",
      "225/225 [==============================] - 255s 1s/step - loss: 0.1301 - accuracy: 0.9478 - val_loss: 0.1886 - val_accuracy: 0.9288 - lr: 0.0010\n",
      "Epoch 32/100\n",
      "225/225 [==============================] - 256s 1s/step - loss: 0.1300 - accuracy: 0.9473 - val_loss: 0.1818 - val_accuracy: 0.9236 - lr: 0.0010\n",
      "Epoch 33/100\n",
      "225/225 [==============================] - 257s 1s/step - loss: 0.1283 - accuracy: 0.9480 - val_loss: 0.1835 - val_accuracy: 0.9268 - lr: 0.0010\n",
      "Epoch 34/100\n",
      "225/225 [==============================] - 258s 1s/step - loss: 0.1218 - accuracy: 0.9500 - val_loss: 0.2144 - val_accuracy: 0.9132 - lr: 0.0010\n",
      "Epoch 35/100\n",
      "225/225 [==============================] - 259s 1s/step - loss: 0.1268 - accuracy: 0.9501 - val_loss: 0.1849 - val_accuracy: 0.9236 - lr: 0.0010\n"
     ]
    }
   ],
   "source": [
    "history = model.fit(train_dataset, epochs = 100, validation_data = val_dataset,\n",
    "                    callbacks = [checkpoint_cb, early_stopping_cb, reducelr_cb])\n",
    "model.save_weights(\"27model.h5\")"
   ]
  },
  {
   "cell_type": "code",
   "execution_count": 37,
   "id": "27633a00",
   "metadata": {
    "ExecuteTime": {
     "end_time": "2023-02-09T10:22:30.186091Z",
     "start_time": "2023-02-09T10:21:42.129891Z"
    }
   },
   "outputs": [
    {
     "name": "stdout",
     "output_type": "stream",
     "text": [
      "125/125 [==============================] - 48s 380ms/step\n"
     ]
    }
   ],
   "source": [
    "pred = model.predict(test_dataset)"
   ]
  },
  {
   "cell_type": "code",
   "execution_count": 38,
   "id": "c9086475",
   "metadata": {
    "ExecuteTime": {
     "end_time": "2023-02-09T10:22:30.318559Z",
     "start_time": "2023-02-09T10:22:30.188232Z"
    },
    "scrolled": true
   },
   "outputs": [
    {
     "name": "stdout",
     "output_type": "stream",
     "text": [
      "26_model.csv Saved!\n"
     ]
    }
   ],
   "source": [
    "save_preds(pred, \"26_model.csv\")"
   ]
  },
  {
   "cell_type": "markdown",
   "id": "91f9c1ff",
   "metadata": {},
   "source": [
    "# model(28) - model(27)에 dropout(0.25)를 Flatten 밑에 추가"
   ]
  },
  {
   "cell_type": "markdown",
   "id": "da435a1e",
   "metadata": {},
   "source": [
    "## Score: 0.19314 - 776등"
   ]
  },
  {
   "cell_type": "code",
   "execution_count": 39,
   "id": "bc62f18b",
   "metadata": {
    "ExecuteTime": {
     "end_time": "2023-02-09T15:22:37.665521Z",
     "start_time": "2023-02-09T15:22:36.810040Z"
    },
    "scrolled": false
   },
   "outputs": [
    {
     "name": "stdout",
     "output_type": "stream",
     "text": [
      "Model: \"sequential_5\"\n",
      "_________________________________________________________________\n",
      " Layer (type)                Output Shape              Param #   \n",
      "=================================================================\n",
      " conv2d_25 (Conv2D)          (None, 128, 128, 8)       224       \n",
      "                                                                 \n",
      " conv2d_26 (Conv2D)          (None, 128, 128, 16)      1168      \n",
      "                                                                 \n",
      " max_pooling2d_20 (MaxPoolin  (None, 64, 64, 16)       0         \n",
      " g2D)                                                            \n",
      "                                                                 \n",
      " conv2d_27 (Conv2D)          (None, 64, 64, 32)        4640      \n",
      "                                                                 \n",
      " max_pooling2d_21 (MaxPoolin  (None, 32, 32, 32)       0         \n",
      " g2D)                                                            \n",
      "                                                                 \n",
      " conv2d_28 (Conv2D)          (None, 32, 32, 64)        18496     \n",
      "                                                                 \n",
      " max_pooling2d_22 (MaxPoolin  (None, 16, 16, 64)       0         \n",
      " g2D)                                                            \n",
      "                                                                 \n",
      " dropout_10 (Dropout)        (None, 16, 16, 64)        0         \n",
      "                                                                 \n",
      " conv2d_29 (Conv2D)          (None, 16, 16, 128)       73856     \n",
      "                                                                 \n",
      " max_pooling2d_23 (MaxPoolin  (None, 8, 8, 128)        0         \n",
      " g2D)                                                            \n",
      "                                                                 \n",
      " flatten_5 (Flatten)         (None, 8192)              0         \n",
      "                                                                 \n",
      " dropout_11 (Dropout)        (None, 8192)              0         \n",
      "                                                                 \n",
      " dense_15 (Dense)            (None, 16)                131088    \n",
      "                                                                 \n",
      " dense_16 (Dense)            (None, 32)                544       \n",
      "                                                                 \n",
      " dropout_12 (Dropout)        (None, 32)                0         \n",
      "                                                                 \n",
      " dense_17 (Dense)            (None, 1)                 33        \n",
      "                                                                 \n",
      "=================================================================\n",
      "Total params: 230,049\n",
      "Trainable params: 230,049\n",
      "Non-trainable params: 0\n",
      "_________________________________________________________________\n"
     ]
    }
   ],
   "source": [
    "model = keras.Sequential()\n",
    "model.add(keras.layers.Conv2D(8, kernel_size = 3, activation = \"leaky_relu\", padding = \"same\",\n",
    "                              input_shape = (128,128, 3)))\n",
    "\n",
    "\n",
    "model.add(keras.layers.Conv2D(16, kernel_size = 3, activation = \"relu\", padding = \"same\"))\n",
    "model.add(keras.layers.MaxPool2D(2))\n",
    "\n",
    "model.add(keras.layers.Conv2D(32, kernel_size = 3, activation = \"leaky_relu\", padding = \"same\"))\n",
    "model.add(keras.layers.MaxPool2D(2))\n",
    "\n",
    "model.add(keras.layers.Conv2D(64, kernel_size = 3, activation = \"relu\", padding = \"same\"))\n",
    "model.add(keras.layers.MaxPool2D(2))\n",
    "\n",
    "model.add(keras.layers.Dropout(0.25))\n",
    "\n",
    "model.add(keras.layers.Conv2D(128, kernel_size = 3, activation = \"relu\", padding = \"same\"))\n",
    "model.add(keras.layers.MaxPool2D(2))\n",
    "\n",
    "model.add(keras.layers.Flatten())\n",
    "\n",
    "model.add(keras.layers.Dropout(0.25))\n",
    "\n",
    "model.add(keras.layers.Dense(16, activation = \"leaky_relu\"))\n",
    "\n",
    "model.add(keras.layers.Dense(32, activation = \"leaky_relu\"))\n",
    "\n",
    "model.add(keras.layers.Dropout(0.4))\n",
    "\n",
    "model.add(keras.layers.Dense(1, activation = \"sigmoid\"))\n",
    "model.summary()"
   ]
  },
  {
   "cell_type": "code",
   "execution_count": 40,
   "id": "ff2df605",
   "metadata": {
    "ExecuteTime": {
     "end_time": "2023-02-09T15:22:37.676950Z",
     "start_time": "2023-02-09T15:22:37.668967Z"
    }
   },
   "outputs": [],
   "source": [
    "checkpoint_cb = keras.callbacks.ModelCheckpoint(\"./model/best-cnn-28model.h5\", save_best_only = True)\n",
    "early_stopping_cb = keras.callbacks.EarlyStopping(patience = 3, restore_best_weights = True)\n",
    "reducelr_cb = keras.callbacks.ReduceLROnPlateau(monitor = \"val_loss\", factor = .5, patience = 3)"
   ]
  },
  {
   "cell_type": "code",
   "execution_count": 41,
   "id": "22be6464",
   "metadata": {
    "ExecuteTime": {
     "end_time": "2023-02-09T15:22:37.705828Z",
     "start_time": "2023-02-09T15:22:37.680555Z"
    }
   },
   "outputs": [],
   "source": [
    "model.compile(optimizer = \"adam\", loss = \"binary_crossentropy\", metrics = \"accuracy\")"
   ]
  },
  {
   "cell_type": "code",
   "execution_count": 42,
   "id": "cf08e822",
   "metadata": {
    "ExecuteTime": {
     "end_time": "2023-02-09T17:35:13.292145Z",
     "start_time": "2023-02-09T15:22:37.708470Z"
    },
    "scrolled": true
   },
   "outputs": [
    {
     "name": "stdout",
     "output_type": "stream",
     "text": [
      "Epoch 1/100\n",
      "225/225 [==============================] - 250s 1s/step - loss: 0.6734 - accuracy: 0.5680 - val_loss: 0.6091 - val_accuracy: 0.6780 - lr: 0.0010\n",
      "Epoch 2/100\n",
      "225/225 [==============================] - 232s 1s/step - loss: 0.5841 - accuracy: 0.6955 - val_loss: 0.5288 - val_accuracy: 0.7328 - lr: 0.0010\n",
      "Epoch 3/100\n",
      "225/225 [==============================] - 232s 1s/step - loss: 0.4974 - accuracy: 0.7576 - val_loss: 0.4565 - val_accuracy: 0.7768 - lr: 0.0010\n",
      "Epoch 4/100\n",
      "225/225 [==============================] - 232s 1s/step - loss: 0.4297 - accuracy: 0.8047 - val_loss: 0.4430 - val_accuracy: 0.7864 - lr: 0.0010\n",
      "Epoch 5/100\n",
      "225/225 [==============================] - 232s 1s/step - loss: 0.3917 - accuracy: 0.8264 - val_loss: 0.3520 - val_accuracy: 0.8420 - lr: 0.0010\n",
      "Epoch 6/100\n",
      "225/225 [==============================] - 233s 1s/step - loss: 0.3504 - accuracy: 0.8474 - val_loss: 0.3368 - val_accuracy: 0.8552 - lr: 0.0010\n",
      "Epoch 7/100\n",
      "225/225 [==============================] - 233s 1s/step - loss: 0.3276 - accuracy: 0.8592 - val_loss: 0.3131 - val_accuracy: 0.8628 - lr: 0.0010\n",
      "Epoch 8/100\n",
      "225/225 [==============================] - 233s 1s/step - loss: 0.3021 - accuracy: 0.8708 - val_loss: 0.3086 - val_accuracy: 0.8588 - lr: 0.0010\n",
      "Epoch 9/100\n",
      "225/225 [==============================] - 233s 1s/step - loss: 0.2843 - accuracy: 0.8797 - val_loss: 0.2884 - val_accuracy: 0.8788 - lr: 0.0010\n",
      "Epoch 10/100\n",
      "225/225 [==============================] - 234s 1s/step - loss: 0.2667 - accuracy: 0.8866 - val_loss: 0.2480 - val_accuracy: 0.8976 - lr: 0.0010\n",
      "Epoch 11/100\n",
      "225/225 [==============================] - 234s 1s/step - loss: 0.2523 - accuracy: 0.8949 - val_loss: 0.2626 - val_accuracy: 0.8908 - lr: 0.0010\n",
      "Epoch 12/100\n",
      "225/225 [==============================] - 234s 1s/step - loss: 0.2365 - accuracy: 0.9018 - val_loss: 0.2755 - val_accuracy: 0.8812 - lr: 0.0010\n",
      "Epoch 13/100\n",
      "225/225 [==============================] - 234s 1s/step - loss: 0.2380 - accuracy: 0.9001 - val_loss: 0.2241 - val_accuracy: 0.9028 - lr: 0.0010\n",
      "Epoch 14/100\n",
      "225/225 [==============================] - 234s 1s/step - loss: 0.2130 - accuracy: 0.9146 - val_loss: 0.2479 - val_accuracy: 0.8948 - lr: 0.0010\n",
      "Epoch 15/100\n",
      "225/225 [==============================] - 235s 1s/step - loss: 0.2024 - accuracy: 0.9165 - val_loss: 0.2105 - val_accuracy: 0.9108 - lr: 0.0010\n",
      "Epoch 16/100\n",
      "225/225 [==============================] - 250s 1s/step - loss: 0.1966 - accuracy: 0.9209 - val_loss: 0.2118 - val_accuracy: 0.9116 - lr: 0.0010\n",
      "Epoch 17/100\n",
      "225/225 [==============================] - 261s 1s/step - loss: 0.1950 - accuracy: 0.9220 - val_loss: 0.2105 - val_accuracy: 0.9184 - lr: 0.0010\n",
      "Epoch 18/100\n",
      "225/225 [==============================] - 262s 1s/step - loss: 0.1948 - accuracy: 0.9198 - val_loss: 0.2357 - val_accuracy: 0.8996 - lr: 0.0010\n",
      "Epoch 19/100\n",
      "225/225 [==============================] - 262s 1s/step - loss: 0.1715 - accuracy: 0.9322 - val_loss: 0.1917 - val_accuracy: 0.9204 - lr: 5.0000e-04\n",
      "Epoch 20/100\n",
      "225/225 [==============================] - 261s 1s/step - loss: 0.1618 - accuracy: 0.9351 - val_loss: 0.2039 - val_accuracy: 0.9132 - lr: 5.0000e-04\n",
      "Epoch 21/100\n",
      "225/225 [==============================] - 261s 1s/step - loss: 0.1588 - accuracy: 0.9363 - val_loss: 0.1977 - val_accuracy: 0.9220 - lr: 5.0000e-04\n",
      "Epoch 22/100\n",
      "225/225 [==============================] - 262s 1s/step - loss: 0.1568 - accuracy: 0.9362 - val_loss: 0.1886 - val_accuracy: 0.9256 - lr: 5.0000e-04\n",
      "Epoch 23/100\n",
      "225/225 [==============================] - 262s 1s/step - loss: 0.1527 - accuracy: 0.9395 - val_loss: 0.1890 - val_accuracy: 0.9288 - lr: 5.0000e-04\n",
      "Epoch 24/100\n",
      "225/225 [==============================] - 261s 1s/step - loss: 0.1528 - accuracy: 0.9386 - val_loss: 0.1861 - val_accuracy: 0.9196 - lr: 5.0000e-04\n",
      "Epoch 25/100\n",
      "225/225 [==============================] - 262s 1s/step - loss: 0.1475 - accuracy: 0.9413 - val_loss: 0.1902 - val_accuracy: 0.9216 - lr: 5.0000e-04\n",
      "Epoch 26/100\n",
      "225/225 [==============================] - 262s 1s/step - loss: 0.1505 - accuracy: 0.9409 - val_loss: 0.1841 - val_accuracy: 0.9316 - lr: 5.0000e-04\n",
      "Epoch 27/100\n",
      "225/225 [==============================] - 262s 1s/step - loss: 0.1447 - accuracy: 0.9419 - val_loss: 0.1878 - val_accuracy: 0.9256 - lr: 5.0000e-04\n",
      "Epoch 28/100\n",
      "225/225 [==============================] - 262s 1s/step - loss: 0.1401 - accuracy: 0.9442 - val_loss: 0.1889 - val_accuracy: 0.9220 - lr: 5.0000e-04\n",
      "Epoch 29/100\n",
      "225/225 [==============================] - 263s 1s/step - loss: 0.1407 - accuracy: 0.9443 - val_loss: 0.1747 - val_accuracy: 0.9284 - lr: 5.0000e-04\n",
      "Epoch 30/100\n",
      "225/225 [==============================] - 263s 1s/step - loss: 0.1368 - accuracy: 0.9457 - val_loss: 0.1819 - val_accuracy: 0.9244 - lr: 5.0000e-04\n",
      "Epoch 31/100\n",
      "225/225 [==============================] - 263s 1s/step - loss: 0.1299 - accuracy: 0.9486 - val_loss: 0.1843 - val_accuracy: 0.9252 - lr: 5.0000e-04\n",
      "Epoch 32/100\n",
      "225/225 [==============================] - 262s 1s/step - loss: 0.1293 - accuracy: 0.9480 - val_loss: 0.1835 - val_accuracy: 0.9248 - lr: 5.0000e-04\n"
     ]
    }
   ],
   "source": [
    "history = model.fit(train_dataset, epochs = 100, validation_data = val_dataset,\n",
    "                    callbacks = [checkpoint_cb, early_stopping_cb, reducelr_cb])\n",
    "model.save_weights(\"28model.h5\")"
   ]
  },
  {
   "cell_type": "code",
   "execution_count": 43,
   "id": "8bc8526f",
   "metadata": {
    "ExecuteTime": {
     "end_time": "2023-02-09T17:36:01.863171Z",
     "start_time": "2023-02-09T17:35:13.297242Z"
    }
   },
   "outputs": [
    {
     "name": "stdout",
     "output_type": "stream",
     "text": [
      "125/125 [==============================] - 48s 383ms/step\n"
     ]
    }
   ],
   "source": [
    "pred = model.predict(test_dataset)"
   ]
  },
  {
   "cell_type": "code",
   "execution_count": 44,
   "id": "7bcb81ea",
   "metadata": {
    "ExecuteTime": {
     "end_time": "2023-02-09T17:36:02.060101Z",
     "start_time": "2023-02-09T17:36:01.866022Z"
    },
    "scrolled": true
   },
   "outputs": [
    {
     "name": "stdout",
     "output_type": "stream",
     "text": [
      "27_model.csv Saved!\n"
     ]
    }
   ],
   "source": [
    "save_preds(pred, \"27_model.csv\")"
   ]
  },
  {
   "cell_type": "markdown",
   "id": "d5036981",
   "metadata": {},
   "source": [
    "# model(29)- model(27)에 dropout(0.25) 위치 바꿔서 추가"
   ]
  },
  {
   "cell_type": "markdown",
   "id": "6fdf43d8",
   "metadata": {},
   "source": [
    "## Score: 0.21283"
   ]
  },
  {
   "cell_type": "code",
   "execution_count": 45,
   "id": "c8e48faf",
   "metadata": {
    "ExecuteTime": {
     "end_time": "2023-02-09T17:36:02.222073Z",
     "start_time": "2023-02-09T17:36:02.062546Z"
    },
    "scrolled": false
   },
   "outputs": [
    {
     "name": "stdout",
     "output_type": "stream",
     "text": [
      "Model: \"sequential_6\"\n",
      "_________________________________________________________________\n",
      " Layer (type)                Output Shape              Param #   \n",
      "=================================================================\n",
      " conv2d_30 (Conv2D)          (None, 128, 128, 8)       224       \n",
      "                                                                 \n",
      " conv2d_31 (Conv2D)          (None, 128, 128, 16)      1168      \n",
      "                                                                 \n",
      " max_pooling2d_24 (MaxPoolin  (None, 64, 64, 16)       0         \n",
      " g2D)                                                            \n",
      "                                                                 \n",
      " conv2d_32 (Conv2D)          (None, 64, 64, 32)        4640      \n",
      "                                                                 \n",
      " max_pooling2d_25 (MaxPoolin  (None, 32, 32, 32)       0         \n",
      " g2D)                                                            \n",
      "                                                                 \n",
      " conv2d_33 (Conv2D)          (None, 32, 32, 64)        18496     \n",
      "                                                                 \n",
      " max_pooling2d_26 (MaxPoolin  (None, 16, 16, 64)       0         \n",
      " g2D)                                                            \n",
      "                                                                 \n",
      " dropout_13 (Dropout)        (None, 16, 16, 64)        0         \n",
      "                                                                 \n",
      " conv2d_34 (Conv2D)          (None, 16, 16, 128)       73856     \n",
      "                                                                 \n",
      " max_pooling2d_27 (MaxPoolin  (None, 8, 8, 128)        0         \n",
      " g2D)                                                            \n",
      "                                                                 \n",
      " dropout_14 (Dropout)        (None, 8, 8, 128)         0         \n",
      "                                                                 \n",
      " flatten_6 (Flatten)         (None, 8192)              0         \n",
      "                                                                 \n",
      " dense_18 (Dense)            (None, 16)                131088    \n",
      "                                                                 \n",
      " dense_19 (Dense)            (None, 32)                544       \n",
      "                                                                 \n",
      " dropout_15 (Dropout)        (None, 32)                0         \n",
      "                                                                 \n",
      " dense_20 (Dense)            (None, 1)                 33        \n",
      "                                                                 \n",
      "=================================================================\n",
      "Total params: 230,049\n",
      "Trainable params: 230,049\n",
      "Non-trainable params: 0\n",
      "_________________________________________________________________\n"
     ]
    }
   ],
   "source": [
    "model = keras.Sequential()\n",
    "model.add(keras.layers.Conv2D(8, kernel_size = 3, activation = \"leaky_relu\", padding = \"same\",\n",
    "                              input_shape = (128,128, 3)))\n",
    "\n",
    "\n",
    "model.add(keras.layers.Conv2D(16, kernel_size = 3, activation = \"relu\", padding = \"same\"))\n",
    "model.add(keras.layers.MaxPool2D(2))\n",
    "\n",
    "model.add(keras.layers.Conv2D(32, kernel_size = 3, activation = \"leaky_relu\", padding = \"same\"))\n",
    "model.add(keras.layers.MaxPool2D(2))\n",
    "\n",
    "model.add(keras.layers.Conv2D(64, kernel_size = 3, activation = \"relu\", padding = \"same\"))\n",
    "model.add(keras.layers.MaxPool2D(2))\n",
    "\n",
    "model.add(keras.layers.Dropout(0.25))\n",
    "\n",
    "model.add(keras.layers.Conv2D(128, kernel_size = 3, activation = \"relu\", padding = \"same\"))\n",
    "model.add(keras.layers.MaxPool2D(2))\n",
    "\n",
    "model.add(keras.layers.Dropout(0.25))\n",
    "\n",
    "model.add(keras.layers.Flatten())\n",
    "\n",
    "model.add(keras.layers.Dense(16, activation = \"leaky_relu\"))\n",
    "\n",
    "model.add(keras.layers.Dense(32, activation = \"leaky_relu\"))\n",
    "\n",
    "model.add(keras.layers.Dropout(0.4))\n",
    "\n",
    "model.add(keras.layers.Dense(1, activation = \"sigmoid\"))\n",
    "model.summary()"
   ]
  },
  {
   "cell_type": "code",
   "execution_count": 46,
   "id": "de3ab55e",
   "metadata": {
    "ExecuteTime": {
     "end_time": "2023-02-09T17:36:02.227759Z",
     "start_time": "2023-02-09T17:36:02.224427Z"
    }
   },
   "outputs": [],
   "source": [
    "checkpoint_cb = keras.callbacks.ModelCheckpoint(\"./model/best-cnn-29model.h5\", save_best_only = True)\n",
    "early_stopping_cb = keras.callbacks.EarlyStopping(patience = 3, restore_best_weights = True)\n",
    "reducelr_cb = keras.callbacks.ReduceLROnPlateau(monitor = \"val_loss\", factor = .5, patience = 3)"
   ]
  },
  {
   "cell_type": "code",
   "execution_count": 47,
   "id": "a9bca8df",
   "metadata": {
    "ExecuteTime": {
     "end_time": "2023-02-09T17:36:02.241521Z",
     "start_time": "2023-02-09T17:36:02.230896Z"
    }
   },
   "outputs": [],
   "source": [
    "model.compile(optimizer = \"adam\", loss = \"binary_crossentropy\", metrics = \"accuracy\")"
   ]
  },
  {
   "cell_type": "code",
   "execution_count": 48,
   "id": "571bf702",
   "metadata": {
    "ExecuteTime": {
     "end_time": "2023-02-09T19:25:13.919056Z",
     "start_time": "2023-02-09T17:36:02.244081Z"
    },
    "scrolled": true
   },
   "outputs": [
    {
     "name": "stdout",
     "output_type": "stream",
     "text": [
      "Epoch 1/100\n",
      "225/225 [==============================] - 263s 1s/step - loss: 0.6396 - accuracy: 0.6238 - val_loss: 0.5440 - val_accuracy: 0.7120 - lr: 0.0010\n",
      "Epoch 2/100\n",
      "225/225 [==============================] - 261s 1s/step - loss: 0.5145 - accuracy: 0.7481 - val_loss: 0.4535 - val_accuracy: 0.7836 - lr: 0.0010\n",
      "Epoch 3/100\n",
      "225/225 [==============================] - 261s 1s/step - loss: 0.4522 - accuracy: 0.7922 - val_loss: 0.4056 - val_accuracy: 0.8188 - lr: 0.0010\n",
      "Epoch 4/100\n",
      "225/225 [==============================] - 261s 1s/step - loss: 0.4056 - accuracy: 0.8157 - val_loss: 0.3561 - val_accuracy: 0.8416 - lr: 0.0010\n",
      "Epoch 5/100\n",
      "225/225 [==============================] - 262s 1s/step - loss: 0.3675 - accuracy: 0.8371 - val_loss: 0.3405 - val_accuracy: 0.8484 - lr: 0.0010\n",
      "Epoch 6/100\n",
      "225/225 [==============================] - 261s 1s/step - loss: 0.3315 - accuracy: 0.8537 - val_loss: 0.3060 - val_accuracy: 0.8712 - lr: 0.0010\n",
      "Epoch 7/100\n",
      "225/225 [==============================] - 262s 1s/step - loss: 0.3105 - accuracy: 0.8668 - val_loss: 0.3020 - val_accuracy: 0.8664 - lr: 0.0010\n",
      "Epoch 8/100\n",
      "225/225 [==============================] - 261s 1s/step - loss: 0.2838 - accuracy: 0.8784 - val_loss: 0.2718 - val_accuracy: 0.8808 - lr: 0.0010\n",
      "Epoch 9/100\n",
      "225/225 [==============================] - 261s 1s/step - loss: 0.2680 - accuracy: 0.8888 - val_loss: 0.2654 - val_accuracy: 0.8828 - lr: 0.0010\n",
      "Epoch 10/100\n",
      "225/225 [==============================] - 261s 1s/step - loss: 0.2500 - accuracy: 0.8951 - val_loss: 0.2415 - val_accuracy: 0.8972 - lr: 0.0010\n",
      "Epoch 11/100\n",
      "225/225 [==============================] - 262s 1s/step - loss: 0.2361 - accuracy: 0.9017 - val_loss: 0.2441 - val_accuracy: 0.8936 - lr: 0.0010\n",
      "Epoch 12/100\n",
      "225/225 [==============================] - 262s 1s/step - loss: 0.2260 - accuracy: 0.9084 - val_loss: 0.2143 - val_accuracy: 0.9080 - lr: 0.0010\n",
      "Epoch 13/100\n",
      "225/225 [==============================] - 261s 1s/step - loss: 0.2231 - accuracy: 0.9065 - val_loss: 0.2696 - val_accuracy: 0.8836 - lr: 0.0010\n",
      "Epoch 14/100\n",
      "225/225 [==============================] - 262s 1s/step - loss: 0.2096 - accuracy: 0.9120 - val_loss: 0.2323 - val_accuracy: 0.9044 - lr: 0.0010\n",
      "Epoch 15/100\n",
      "225/225 [==============================] - 262s 1s/step - loss: 0.2077 - accuracy: 0.9150 - val_loss: 0.2128 - val_accuracy: 0.9056 - lr: 0.0010\n",
      "Epoch 16/100\n",
      "225/225 [==============================] - 262s 1s/step - loss: 0.2018 - accuracy: 0.9162 - val_loss: 0.2382 - val_accuracy: 0.8972 - lr: 0.0010\n",
      "Epoch 17/100\n",
      "225/225 [==============================] - 262s 1s/step - loss: 0.1911 - accuracy: 0.9206 - val_loss: 0.2068 - val_accuracy: 0.9132 - lr: 0.0010\n",
      "Epoch 18/100\n",
      "225/225 [==============================] - 262s 1s/step - loss: 0.1887 - accuracy: 0.9244 - val_loss: 0.2003 - val_accuracy: 0.9176 - lr: 0.0010\n",
      "Epoch 19/100\n",
      "225/225 [==============================] - 262s 1s/step - loss: 0.1780 - accuracy: 0.9276 - val_loss: 0.2301 - val_accuracy: 0.8984 - lr: 0.0010\n",
      "Epoch 20/100\n",
      "225/225 [==============================] - 263s 1s/step - loss: 0.1783 - accuracy: 0.9256 - val_loss: 0.1924 - val_accuracy: 0.9220 - lr: 0.0010\n",
      "Epoch 21/100\n",
      "225/225 [==============================] - 263s 1s/step - loss: 0.1773 - accuracy: 0.9290 - val_loss: 0.2109 - val_accuracy: 0.9124 - lr: 0.0010\n",
      "Epoch 22/100\n",
      "225/225 [==============================] - 263s 1s/step - loss: 0.1729 - accuracy: 0.9323 - val_loss: 0.1800 - val_accuracy: 0.9256 - lr: 0.0010\n",
      "Epoch 23/100\n",
      "225/225 [==============================] - 263s 1s/step - loss: 0.1621 - accuracy: 0.9347 - val_loss: 0.1912 - val_accuracy: 0.9216 - lr: 0.0010\n",
      "Epoch 24/100\n",
      "225/225 [==============================] - 264s 1s/step - loss: 0.1609 - accuracy: 0.9350 - val_loss: 0.1814 - val_accuracy: 0.9292 - lr: 0.0010\n",
      "Epoch 25/100\n",
      "225/225 [==============================] - 264s 1s/step - loss: 0.1604 - accuracy: 0.9346 - val_loss: 0.1940 - val_accuracy: 0.9168 - lr: 0.0010\n"
     ]
    }
   ],
   "source": [
    "history = model.fit(train_dataset, epochs = 100, validation_data = val_dataset,\n",
    "                    callbacks = [checkpoint_cb, early_stopping_cb, reducelr_cb])\n",
    "model.save_weights(\"29model.h5\")"
   ]
  },
  {
   "cell_type": "code",
   "execution_count": 49,
   "id": "2fe7c805",
   "metadata": {
    "ExecuteTime": {
     "end_time": "2023-02-09T19:25:58.435377Z",
     "start_time": "2023-02-09T19:25:13.921740Z"
    }
   },
   "outputs": [
    {
     "name": "stdout",
     "output_type": "stream",
     "text": [
      "125/125 [==============================] - 44s 352ms/step\n"
     ]
    }
   ],
   "source": [
    "pred = model.predict(test_dataset)"
   ]
  },
  {
   "cell_type": "code",
   "execution_count": 50,
   "id": "de6cff75",
   "metadata": {
    "ExecuteTime": {
     "end_time": "2023-02-09T19:25:58.515629Z",
     "start_time": "2023-02-09T19:25:58.437565Z"
    },
    "scrolled": true
   },
   "outputs": [
    {
     "name": "stdout",
     "output_type": "stream",
     "text": [
      "28_model.csv Saved!\n"
     ]
    }
   ],
   "source": [
    "save_preds(pred, \"28_model.csv\")"
   ]
  },
  {
   "cell_type": "markdown",
   "id": "e4bb069a",
   "metadata": {},
   "source": [
    "# model(30)- model(28)에 maxpool 지우기"
   ]
  },
  {
   "cell_type": "markdown",
   "id": "89d70a9d",
   "metadata": {},
   "source": [
    "## Score: 0.25009"
   ]
  },
  {
   "cell_type": "code",
   "execution_count": 51,
   "id": "12a70440",
   "metadata": {
    "ExecuteTime": {
     "end_time": "2023-02-10T05:10:38.895546Z",
     "start_time": "2023-02-10T05:10:38.719086Z"
    },
    "scrolled": false
   },
   "outputs": [
    {
     "name": "stdout",
     "output_type": "stream",
     "text": [
      "Model: \"sequential_7\"\n",
      "_________________________________________________________________\n",
      " Layer (type)                Output Shape              Param #   \n",
      "=================================================================\n",
      " conv2d_35 (Conv2D)          (None, 128, 128, 8)       224       \n",
      "                                                                 \n",
      " conv2d_36 (Conv2D)          (None, 128, 128, 16)      1168      \n",
      "                                                                 \n",
      " conv2d_37 (Conv2D)          (None, 128, 128, 32)      4640      \n",
      "                                                                 \n",
      " max_pooling2d_28 (MaxPoolin  (None, 64, 64, 32)       0         \n",
      " g2D)                                                            \n",
      "                                                                 \n",
      " conv2d_38 (Conv2D)          (None, 64, 64, 64)        18496     \n",
      "                                                                 \n",
      " max_pooling2d_29 (MaxPoolin  (None, 32, 32, 64)       0         \n",
      " g2D)                                                            \n",
      "                                                                 \n",
      " dropout_16 (Dropout)        (None, 32, 32, 64)        0         \n",
      "                                                                 \n",
      " conv2d_39 (Conv2D)          (None, 32, 32, 128)       73856     \n",
      "                                                                 \n",
      " max_pooling2d_30 (MaxPoolin  (None, 16, 16, 128)      0         \n",
      " g2D)                                                            \n",
      "                                                                 \n",
      " flatten_7 (Flatten)         (None, 32768)             0         \n",
      "                                                                 \n",
      " dropout_17 (Dropout)        (None, 32768)             0         \n",
      "                                                                 \n",
      " dense_21 (Dense)            (None, 16)                524304    \n",
      "                                                                 \n",
      " dense_22 (Dense)            (None, 32)                544       \n",
      "                                                                 \n",
      " dropout_18 (Dropout)        (None, 32)                0         \n",
      "                                                                 \n",
      " dense_23 (Dense)            (None, 1)                 33        \n",
      "                                                                 \n",
      "=================================================================\n",
      "Total params: 623,265\n",
      "Trainable params: 623,265\n",
      "Non-trainable params: 0\n",
      "_________________________________________________________________\n"
     ]
    }
   ],
   "source": [
    "model = keras.Sequential()\n",
    "model.add(keras.layers.Conv2D(8, kernel_size = 3, activation = \"leaky_relu\", padding = \"same\",\n",
    "                              input_shape = (128,128, 3)))\n",
    "\n",
    "\n",
    "model.add(keras.layers.Conv2D(16, kernel_size = 3, activation = \"relu\", padding = \"same\"))\n",
    "\n",
    "\n",
    "model.add(keras.layers.Conv2D(32, kernel_size = 3, activation = \"leaky_relu\", padding = \"same\"))\n",
    "model.add(keras.layers.MaxPool2D(2))\n",
    "\n",
    "model.add(keras.layers.Conv2D(64, kernel_size = 3, activation = \"relu\", padding = \"same\"))\n",
    "model.add(keras.layers.MaxPool2D(2))\n",
    "\n",
    "model.add(keras.layers.Dropout(0.25))\n",
    "\n",
    "model.add(keras.layers.Conv2D(128, kernel_size = 3, activation = \"relu\", padding = \"same\"))\n",
    "model.add(keras.layers.MaxPool2D(2))\n",
    "\n",
    "model.add(keras.layers.Flatten())\n",
    "\n",
    "model.add(keras.layers.Dropout(0.25))\n",
    "\n",
    "model.add(keras.layers.Dense(16, activation = \"leaky_relu\"))\n",
    "\n",
    "model.add(keras.layers.Dense(32, activation = \"leaky_relu\"))\n",
    "\n",
    "model.add(keras.layers.Dropout(0.4))\n",
    "\n",
    "model.add(keras.layers.Dense(1, activation = \"sigmoid\"))\n",
    "model.summary()"
   ]
  },
  {
   "cell_type": "code",
   "execution_count": 52,
   "id": "924d3330",
   "metadata": {
    "ExecuteTime": {
     "end_time": "2023-02-10T05:10:38.903732Z",
     "start_time": "2023-02-10T05:10:38.898681Z"
    }
   },
   "outputs": [],
   "source": [
    "checkpoint_cb = keras.callbacks.ModelCheckpoint(\"./model/best-cnn-30model.h5\", save_best_only = True)\n",
    "early_stopping_cb = keras.callbacks.EarlyStopping(patience = 3, restore_best_weights = True)\n",
    "reducelr_cb = keras.callbacks.ReduceLROnPlateau(monitor = \"val_loss\", factor = .5, patience = 3)"
   ]
  },
  {
   "cell_type": "code",
   "execution_count": 53,
   "id": "560eccf9",
   "metadata": {
    "ExecuteTime": {
     "end_time": "2023-02-10T05:10:39.031055Z",
     "start_time": "2023-02-10T05:10:39.021872Z"
    }
   },
   "outputs": [],
   "source": [
    "model.compile(optimizer = \"adam\", loss = \"binary_crossentropy\", metrics = \"accuracy\")"
   ]
  },
  {
   "cell_type": "code",
   "execution_count": 54,
   "id": "ea00ac6e",
   "metadata": {
    "ExecuteTime": {
     "end_time": "2023-02-10T08:01:32.077277Z",
     "start_time": "2023-02-10T05:10:39.158727Z"
    },
    "scrolled": true
   },
   "outputs": [
    {
     "name": "stdout",
     "output_type": "stream",
     "text": [
      "Epoch 1/100\n",
      "225/225 [==============================] - 445s 2s/step - loss: 0.6879 - accuracy: 0.5426 - val_loss: 0.6801 - val_accuracy: 0.5732 - lr: 0.0010\n",
      "Epoch 2/100\n",
      "225/225 [==============================] - 447s 2s/step - loss: 0.6556 - accuracy: 0.6134 - val_loss: 0.6167 - val_accuracy: 0.6796 - lr: 0.0010\n",
      "Epoch 3/100\n",
      "225/225 [==============================] - 449s 2s/step - loss: 0.5884 - accuracy: 0.6925 - val_loss: 0.5343 - val_accuracy: 0.7368 - lr: 0.0010\n",
      "Epoch 4/100\n",
      "225/225 [==============================] - 465s 2s/step - loss: 0.5071 - accuracy: 0.7589 - val_loss: 0.4835 - val_accuracy: 0.7568 - lr: 0.0010\n",
      "Epoch 5/100\n",
      "225/225 [==============================] - 488s 2s/step - loss: 0.4549 - accuracy: 0.7880 - val_loss: 0.4419 - val_accuracy: 0.7904 - lr: 0.0010\n",
      "Epoch 6/100\n",
      "225/225 [==============================] - 490s 2s/step - loss: 0.4151 - accuracy: 0.8112 - val_loss: 0.3973 - val_accuracy: 0.8284 - lr: 0.0010\n",
      "Epoch 7/100\n",
      "225/225 [==============================] - 471s 2s/step - loss: 0.3792 - accuracy: 0.8346 - val_loss: 0.3804 - val_accuracy: 0.8364 - lr: 0.0010\n",
      "Epoch 8/100\n",
      "225/225 [==============================] - 499s 2s/step - loss: 0.3608 - accuracy: 0.8425 - val_loss: 0.3711 - val_accuracy: 0.8252 - lr: 0.0010\n",
      "Epoch 9/100\n",
      "225/225 [==============================] - 488s 2s/step - loss: 0.3355 - accuracy: 0.8564 - val_loss: 0.3331 - val_accuracy: 0.8500 - lr: 0.0010\n",
      "Epoch 10/100\n",
      "225/225 [==============================] - 500s 2s/step - loss: 0.3185 - accuracy: 0.8642 - val_loss: 0.2814 - val_accuracy: 0.8752 - lr: 0.0010\n",
      "Epoch 11/100\n",
      "225/225 [==============================] - 493s 2s/step - loss: 0.3036 - accuracy: 0.8705 - val_loss: 0.2993 - val_accuracy: 0.8660 - lr: 0.0010\n",
      "Epoch 12/100\n",
      "225/225 [==============================] - 499s 2s/step - loss: 0.2839 - accuracy: 0.8828 - val_loss: 0.2880 - val_accuracy: 0.8752 - lr: 0.0010\n",
      "Epoch 13/100\n",
      "225/225 [==============================] - 462s 2s/step - loss: 0.2722 - accuracy: 0.8833 - val_loss: 0.2676 - val_accuracy: 0.8868 - lr: 0.0010\n",
      "Epoch 14/100\n",
      "225/225 [==============================] - 475s 2s/step - loss: 0.2676 - accuracy: 0.8875 - val_loss: 0.2832 - val_accuracy: 0.8772 - lr: 0.0010\n",
      "Epoch 15/100\n",
      "225/225 [==============================] - 491s 2s/step - loss: 0.2576 - accuracy: 0.8938 - val_loss: 0.2606 - val_accuracy: 0.8900 - lr: 0.0010\n",
      "Epoch 16/100\n",
      "225/225 [==============================] - 508s 2s/step - loss: 0.2420 - accuracy: 0.9012 - val_loss: 0.3170 - val_accuracy: 0.8648 - lr: 0.0010\n",
      "Epoch 17/100\n",
      "225/225 [==============================] - 510s 2s/step - loss: 0.2373 - accuracy: 0.9039 - val_loss: 0.2608 - val_accuracy: 0.8888 - lr: 0.0010\n",
      "Epoch 18/100\n",
      "225/225 [==============================] - 531s 2s/step - loss: 0.2343 - accuracy: 0.9036 - val_loss: 0.2281 - val_accuracy: 0.9092 - lr: 0.0010\n",
      "Epoch 19/100\n",
      "225/225 [==============================] - 526s 2s/step - loss: 0.2212 - accuracy: 0.9099 - val_loss: 0.2464 - val_accuracy: 0.8916 - lr: 0.0010\n",
      "Epoch 20/100\n",
      "225/225 [==============================] - 536s 2s/step - loss: 0.2163 - accuracy: 0.9111 - val_loss: 0.2395 - val_accuracy: 0.9040 - lr: 0.0010\n",
      "Epoch 21/100\n",
      "225/225 [==============================] - 481s 2s/step - loss: 0.2106 - accuracy: 0.9154 - val_loss: 0.2311 - val_accuracy: 0.9000 - lr: 0.0010\n"
     ]
    }
   ],
   "source": [
    "history = model.fit(train_dataset, epochs = 100, validation_data = val_dataset,\n",
    "                    callbacks = [checkpoint_cb, early_stopping_cb, reducelr_cb])\n",
    "model.save_weights(\"30model.h5\")"
   ]
  },
  {
   "cell_type": "code",
   "execution_count": 55,
   "id": "6f1106ea",
   "metadata": {
    "ExecuteTime": {
     "end_time": "2023-02-10T08:02:39.953373Z",
     "start_time": "2023-02-10T08:01:32.080211Z"
    }
   },
   "outputs": [
    {
     "name": "stdout",
     "output_type": "stream",
     "text": [
      "125/125 [==============================] - 67s 537ms/step\n"
     ]
    }
   ],
   "source": [
    "pred = model.predict(test_dataset)"
   ]
  },
  {
   "cell_type": "code",
   "execution_count": 56,
   "id": "5bd985ef",
   "metadata": {
    "ExecuteTime": {
     "end_time": "2023-02-10T08:02:40.067019Z",
     "start_time": "2023-02-10T08:02:39.957313Z"
    },
    "scrolled": true
   },
   "outputs": [
    {
     "name": "stdout",
     "output_type": "stream",
     "text": [
      "29_model.csv Saved!\n"
     ]
    }
   ],
   "source": [
    "save_preds(pred, \"29_model.csv\")"
   ]
  },
  {
   "cell_type": "markdown",
   "id": "c7ebe81f",
   "metadata": {},
   "source": [
    "# model(31) - model(28)에 maxpool 지우기(2)"
   ]
  },
  {
   "cell_type": "markdown",
   "id": "b48eab2e",
   "metadata": {},
   "source": [
    "## Score: 0.23050"
   ]
  },
  {
   "cell_type": "code",
   "execution_count": 61,
   "id": "fd12a0a5",
   "metadata": {
    "ExecuteTime": {
     "end_time": "2023-02-10T15:35:29.541389Z",
     "start_time": "2023-02-10T15:35:28.998394Z"
    },
    "scrolled": false
   },
   "outputs": [
    {
     "name": "stdout",
     "output_type": "stream",
     "text": [
      "Model: \"sequential_9\"\n",
      "_________________________________________________________________\n",
      " Layer (type)                Output Shape              Param #   \n",
      "=================================================================\n",
      " conv2d_45 (Conv2D)          (None, 128, 128, 8)       224       \n",
      "                                                                 \n",
      " conv2d_46 (Conv2D)          (None, 128, 128, 16)      1168      \n",
      "                                                                 \n",
      " max_pooling2d_34 (MaxPoolin  (None, 64, 64, 16)       0         \n",
      " g2D)                                                            \n",
      "                                                                 \n",
      " conv2d_47 (Conv2D)          (None, 64, 64, 32)        4640      \n",
      "                                                                 \n",
      " conv2d_48 (Conv2D)          (None, 64, 64, 64)        18496     \n",
      "                                                                 \n",
      " max_pooling2d_35 (MaxPoolin  (None, 32, 32, 64)       0         \n",
      " g2D)                                                            \n",
      "                                                                 \n",
      " dropout_22 (Dropout)        (None, 32, 32, 64)        0         \n",
      "                                                                 \n",
      " conv2d_49 (Conv2D)          (None, 32, 32, 128)       73856     \n",
      "                                                                 \n",
      " max_pooling2d_36 (MaxPoolin  (None, 16, 16, 128)      0         \n",
      " g2D)                                                            \n",
      "                                                                 \n",
      " flatten_9 (Flatten)         (None, 32768)             0         \n",
      "                                                                 \n",
      " dropout_23 (Dropout)        (None, 32768)             0         \n",
      "                                                                 \n",
      " dense_27 (Dense)            (None, 16)                524304    \n",
      "                                                                 \n",
      " dense_28 (Dense)            (None, 32)                544       \n",
      "                                                                 \n",
      " dropout_24 (Dropout)        (None, 32)                0         \n",
      "                                                                 \n",
      " dense_29 (Dense)            (None, 1)                 33        \n",
      "                                                                 \n",
      "=================================================================\n",
      "Total params: 623,265\n",
      "Trainable params: 623,265\n",
      "Non-trainable params: 0\n",
      "_________________________________________________________________\n"
     ]
    }
   ],
   "source": [
    "model = keras.Sequential()\n",
    "model.add(keras.layers.Conv2D(8, kernel_size = 3, activation = \"leaky_relu\", padding = \"same\",\n",
    "                              input_shape = (128,128, 3)))\n",
    "\n",
    "\n",
    "model.add(keras.layers.Conv2D(16, kernel_size = 3, activation = \"relu\", padding = \"same\"))\n",
    "model.add(keras.layers.MaxPool2D(2))\n",
    "\n",
    "model.add(keras.layers.Conv2D(32, kernel_size = 3, activation = \"leaky_relu\", padding = \"same\"))\n",
    "\n",
    "\n",
    "model.add(keras.layers.Conv2D(64, kernel_size = 3, activation = \"relu\", padding = \"same\"))\n",
    "model.add(keras.layers.MaxPool2D(2))\n",
    "\n",
    "model.add(keras.layers.Dropout(0.25))\n",
    "\n",
    "model.add(keras.layers.Conv2D(128, kernel_size = 3, activation = \"relu\", padding = \"same\"))\n",
    "model.add(keras.layers.MaxPool2D(2))\n",
    "\n",
    "model.add(keras.layers.Flatten())\n",
    "\n",
    "model.add(keras.layers.Dropout(0.25))\n",
    "\n",
    "model.add(keras.layers.Dense(16, activation = \"leaky_relu\"))\n",
    "\n",
    "model.add(keras.layers.Dense(32, activation = \"leaky_relu\"))\n",
    "\n",
    "model.add(keras.layers.Dropout(0.4))\n",
    "\n",
    "model.add(keras.layers.Dense(1, activation = \"sigmoid\"))\n",
    "model.summary()"
   ]
  },
  {
   "cell_type": "code",
   "execution_count": 62,
   "id": "81dd1b10",
   "metadata": {
    "ExecuteTime": {
     "end_time": "2023-02-10T15:35:29.549918Z",
     "start_time": "2023-02-10T15:35:29.545234Z"
    }
   },
   "outputs": [],
   "source": [
    "checkpoint_cb = keras.callbacks.ModelCheckpoint(\"./model/best-cnn-31model.h5\", save_best_only = True)\n",
    "early_stopping_cb = keras.callbacks.EarlyStopping(patience = 3, restore_best_weights = True)\n",
    "reducelr_cb = keras.callbacks.ReduceLROnPlateau(monitor = \"val_loss\", factor = .5, patience = 3)"
   ]
  },
  {
   "cell_type": "code",
   "execution_count": 63,
   "id": "c414872b",
   "metadata": {
    "ExecuteTime": {
     "end_time": "2023-02-10T15:35:29.567161Z",
     "start_time": "2023-02-10T15:35:29.551958Z"
    }
   },
   "outputs": [],
   "source": [
    "model.compile(optimizer = \"adam\", loss = \"binary_crossentropy\", metrics = \"accuracy\")"
   ]
  },
  {
   "cell_type": "code",
   "execution_count": 64,
   "id": "4cde0b52",
   "metadata": {
    "ExecuteTime": {
     "end_time": "2023-02-10T18:54:19.991379Z",
     "start_time": "2023-02-10T15:35:29.570518Z"
    },
    "scrolled": true
   },
   "outputs": [
    {
     "name": "stdout",
     "output_type": "stream",
     "text": [
      "Epoch 1/100\n",
      "225/225 [==============================] - 324s 1s/step - loss: 0.6903 - accuracy: 0.5152 - val_loss: 0.6688 - val_accuracy: 0.6140 - lr: 0.0010\n",
      "Epoch 2/100\n",
      "225/225 [==============================] - 318s 1s/step - loss: 0.6134 - accuracy: 0.6567 - val_loss: 0.5503 - val_accuracy: 0.7124 - lr: 0.0010\n",
      "Epoch 3/100\n",
      "225/225 [==============================] - 322s 1s/step - loss: 0.5338 - accuracy: 0.7324 - val_loss: 0.4927 - val_accuracy: 0.7612 - lr: 0.0010\n",
      "Epoch 4/100\n",
      "225/225 [==============================] - 325s 1s/step - loss: 0.4891 - accuracy: 0.7631 - val_loss: 0.4637 - val_accuracy: 0.7824 - lr: 0.0010\n",
      "Epoch 5/100\n",
      "225/225 [==============================] - 326s 1s/step - loss: 0.4461 - accuracy: 0.7944 - val_loss: 0.4140 - val_accuracy: 0.8028 - lr: 0.0010\n",
      "Epoch 6/100\n",
      "225/225 [==============================] - 326s 1s/step - loss: 0.4224 - accuracy: 0.8076 - val_loss: 0.3957 - val_accuracy: 0.8224 - lr: 0.0010\n",
      "Epoch 7/100\n",
      "225/225 [==============================] - 327s 1s/step - loss: 0.3951 - accuracy: 0.8229 - val_loss: 0.3864 - val_accuracy: 0.8212 - lr: 0.0010\n",
      "Epoch 8/100\n",
      "225/225 [==============================] - 327s 1s/step - loss: 0.3591 - accuracy: 0.8400 - val_loss: 0.3562 - val_accuracy: 0.8408 - lr: 0.0010\n",
      "Epoch 9/100\n",
      "225/225 [==============================] - 329s 1s/step - loss: 0.3426 - accuracy: 0.8525 - val_loss: 0.3322 - val_accuracy: 0.8528 - lr: 0.0010\n",
      "Epoch 10/100\n",
      "225/225 [==============================] - 329s 1s/step - loss: 0.3261 - accuracy: 0.8567 - val_loss: 0.3615 - val_accuracy: 0.8344 - lr: 0.0010\n",
      "Epoch 11/100\n",
      "225/225 [==============================] - 331s 1s/step - loss: 0.3086 - accuracy: 0.8683 - val_loss: 0.3172 - val_accuracy: 0.8624 - lr: 0.0010\n",
      "Epoch 12/100\n",
      "225/225 [==============================] - 389s 2s/step - loss: 0.2878 - accuracy: 0.8793 - val_loss: 0.2757 - val_accuracy: 0.8712 - lr: 0.0010\n",
      "Epoch 13/100\n",
      "225/225 [==============================] - 395s 2s/step - loss: 0.2813 - accuracy: 0.8821 - val_loss: 0.3027 - val_accuracy: 0.8696 - lr: 0.0010\n",
      "Epoch 14/100\n",
      "225/225 [==============================] - 395s 2s/step - loss: 0.2706 - accuracy: 0.8857 - val_loss: 0.3149 - val_accuracy: 0.8616 - lr: 0.0010\n",
      "Epoch 15/100\n",
      "225/225 [==============================] - 395s 2s/step - loss: 0.2649 - accuracy: 0.8879 - val_loss: 0.2620 - val_accuracy: 0.8908 - lr: 0.0010\n",
      "Epoch 16/100\n",
      "225/225 [==============================] - 396s 2s/step - loss: 0.2555 - accuracy: 0.8943 - val_loss: 0.2977 - val_accuracy: 0.8780 - lr: 0.0010\n",
      "Epoch 17/100\n",
      "225/225 [==============================] - 397s 2s/step - loss: 0.2447 - accuracy: 0.8980 - val_loss: 0.2602 - val_accuracy: 0.8892 - lr: 0.0010\n",
      "Epoch 18/100\n",
      "225/225 [==============================] - 396s 2s/step - loss: 0.2311 - accuracy: 0.9036 - val_loss: 0.2611 - val_accuracy: 0.8928 - lr: 0.0010\n",
      "Epoch 19/100\n",
      "225/225 [==============================] - 397s 2s/step - loss: 0.2255 - accuracy: 0.9083 - val_loss: 0.2982 - val_accuracy: 0.8768 - lr: 0.0010\n",
      "Epoch 20/100\n",
      "225/225 [==============================] - 397s 2s/step - loss: 0.2217 - accuracy: 0.9082 - val_loss: 0.2372 - val_accuracy: 0.9008 - lr: 0.0010\n",
      "Epoch 21/100\n",
      "225/225 [==============================] - 399s 2s/step - loss: 0.2134 - accuracy: 0.9115 - val_loss: 0.2389 - val_accuracy: 0.8932 - lr: 0.0010\n",
      "Epoch 22/100\n",
      "225/225 [==============================] - 398s 2s/step - loss: 0.2069 - accuracy: 0.9155 - val_loss: 0.2511 - val_accuracy: 0.8940 - lr: 0.0010\n",
      "Epoch 23/100\n",
      "225/225 [==============================] - 399s 2s/step - loss: 0.2006 - accuracy: 0.9177 - val_loss: 0.2229 - val_accuracy: 0.9096 - lr: 0.0010\n",
      "Epoch 24/100\n",
      "225/225 [==============================] - 398s 2s/step - loss: 0.1988 - accuracy: 0.9184 - val_loss: 0.2289 - val_accuracy: 0.9068 - lr: 0.0010\n",
      "Epoch 25/100\n",
      "225/225 [==============================] - 400s 2s/step - loss: 0.1953 - accuracy: 0.9197 - val_loss: 0.2165 - val_accuracy: 0.9128 - lr: 0.0010\n",
      "Epoch 26/100\n",
      "225/225 [==============================] - 400s 2s/step - loss: 0.1872 - accuracy: 0.9240 - val_loss: 0.2156 - val_accuracy: 0.9140 - lr: 0.0010\n",
      "Epoch 27/100\n",
      "225/225 [==============================] - 400s 2s/step - loss: 0.1866 - accuracy: 0.9240 - val_loss: 0.2421 - val_accuracy: 0.8964 - lr: 0.0010\n",
      "Epoch 28/100\n",
      "225/225 [==============================] - 399s 2s/step - loss: 0.1768 - accuracy: 0.9275 - val_loss: 0.2166 - val_accuracy: 0.9084 - lr: 0.0010\n",
      "Epoch 29/100\n",
      "225/225 [==============================] - 399s 2s/step - loss: 0.1750 - accuracy: 0.9284 - val_loss: 0.1937 - val_accuracy: 0.9192 - lr: 0.0010\n",
      "Epoch 30/100\n",
      "225/225 [==============================] - 399s 2s/step - loss: 0.1674 - accuracy: 0.9333 - val_loss: 0.2380 - val_accuracy: 0.8952 - lr: 0.0010\n",
      "Epoch 31/100\n",
      "225/225 [==============================] - 399s 2s/step - loss: 0.1693 - accuracy: 0.9317 - val_loss: 0.2155 - val_accuracy: 0.9160 - lr: 0.0010\n",
      "Epoch 32/100\n",
      "225/225 [==============================] - 398s 2s/step - loss: 0.1665 - accuracy: 0.9316 - val_loss: 0.2071 - val_accuracy: 0.9108 - lr: 0.0010\n"
     ]
    }
   ],
   "source": [
    "history = model.fit(train_dataset, epochs = 100, validation_data = val_dataset,\n",
    "                    callbacks = [checkpoint_cb, early_stopping_cb, reducelr_cb])\n",
    "model.save_weights(\"31model.h5\")"
   ]
  },
  {
   "cell_type": "code",
   "execution_count": 65,
   "id": "da2030b2",
   "metadata": {
    "ExecuteTime": {
     "end_time": "2023-02-10T18:55:20.224966Z",
     "start_time": "2023-02-10T18:54:19.993375Z"
    }
   },
   "outputs": [
    {
     "name": "stdout",
     "output_type": "stream",
     "text": [
      "125/125 [==============================] - 60s 476ms/step\n"
     ]
    }
   ],
   "source": [
    "pred = model.predict(test_dataset)"
   ]
  },
  {
   "cell_type": "code",
   "execution_count": 66,
   "id": "9c7c8ada",
   "metadata": {
    "ExecuteTime": {
     "end_time": "2023-02-10T18:55:20.385925Z",
     "start_time": "2023-02-10T18:55:20.229395Z"
    },
    "scrolled": true
   },
   "outputs": [
    {
     "name": "stdout",
     "output_type": "stream",
     "text": [
      "30_model.csv Saved!\n"
     ]
    }
   ],
   "source": [
    "save_preds(pred, \"30_model.csv\")"
   ]
  },
  {
   "cell_type": "markdown",
   "id": "566190cc",
   "metadata": {},
   "source": [
    "# model(32) - model(31)에 early_stopping = 10으로"
   ]
  },
  {
   "cell_type": "markdown",
   "id": "23eeab7b",
   "metadata": {},
   "source": [
    "## Score: 0.24235"
   ]
  },
  {
   "cell_type": "code",
   "execution_count": 67,
   "id": "ba1c22a9",
   "metadata": {
    "ExecuteTime": {
     "end_time": "2023-02-10T18:55:20.553364Z",
     "start_time": "2023-02-10T18:55:20.389051Z"
    },
    "scrolled": false
   },
   "outputs": [
    {
     "name": "stdout",
     "output_type": "stream",
     "text": [
      "Model: \"sequential_10\"\n",
      "_________________________________________________________________\n",
      " Layer (type)                Output Shape              Param #   \n",
      "=================================================================\n",
      " conv2d_50 (Conv2D)          (None, 128, 128, 8)       224       \n",
      "                                                                 \n",
      " conv2d_51 (Conv2D)          (None, 128, 128, 16)      1168      \n",
      "                                                                 \n",
      " max_pooling2d_37 (MaxPoolin  (None, 64, 64, 16)       0         \n",
      " g2D)                                                            \n",
      "                                                                 \n",
      " conv2d_52 (Conv2D)          (None, 64, 64, 32)        4640      \n",
      "                                                                 \n",
      " conv2d_53 (Conv2D)          (None, 64, 64, 64)        18496     \n",
      "                                                                 \n",
      " max_pooling2d_38 (MaxPoolin  (None, 32, 32, 64)       0         \n",
      " g2D)                                                            \n",
      "                                                                 \n",
      " dropout_25 (Dropout)        (None, 32, 32, 64)        0         \n",
      "                                                                 \n",
      " conv2d_54 (Conv2D)          (None, 32, 32, 128)       73856     \n",
      "                                                                 \n",
      " max_pooling2d_39 (MaxPoolin  (None, 16, 16, 128)      0         \n",
      " g2D)                                                            \n",
      "                                                                 \n",
      " flatten_10 (Flatten)        (None, 32768)             0         \n",
      "                                                                 \n",
      " dropout_26 (Dropout)        (None, 32768)             0         \n",
      "                                                                 \n",
      " dense_30 (Dense)            (None, 16)                524304    \n",
      "                                                                 \n",
      " dense_31 (Dense)            (None, 32)                544       \n",
      "                                                                 \n",
      " dropout_27 (Dropout)        (None, 32)                0         \n",
      "                                                                 \n",
      " dense_32 (Dense)            (None, 1)                 33        \n",
      "                                                                 \n",
      "=================================================================\n",
      "Total params: 623,265\n",
      "Trainable params: 623,265\n",
      "Non-trainable params: 0\n",
      "_________________________________________________________________\n"
     ]
    }
   ],
   "source": [
    "model = keras.Sequential()\n",
    "model.add(keras.layers.Conv2D(8, kernel_size = 3, activation = \"leaky_relu\", padding = \"same\",\n",
    "                              input_shape = (128,128, 3)))\n",
    "\n",
    "\n",
    "model.add(keras.layers.Conv2D(16, kernel_size = 3, activation = \"relu\", padding = \"same\"))\n",
    "model.add(keras.layers.MaxPool2D(2))\n",
    "\n",
    "model.add(keras.layers.Conv2D(32, kernel_size = 3, activation = \"leaky_relu\", padding = \"same\"))\n",
    "\n",
    "\n",
    "model.add(keras.layers.Conv2D(64, kernel_size = 3, activation = \"relu\", padding = \"same\"))\n",
    "model.add(keras.layers.MaxPool2D(2))\n",
    "\n",
    "model.add(keras.layers.Dropout(0.25))\n",
    "\n",
    "model.add(keras.layers.Conv2D(128, kernel_size = 3, activation = \"relu\", padding = \"same\"))\n",
    "model.add(keras.layers.MaxPool2D(2))\n",
    "\n",
    "model.add(keras.layers.Flatten())\n",
    "\n",
    "model.add(keras.layers.Dropout(0.25))\n",
    "\n",
    "model.add(keras.layers.Dense(16, activation = \"leaky_relu\"))\n",
    "\n",
    "model.add(keras.layers.Dense(32, activation = \"leaky_relu\"))\n",
    "\n",
    "model.add(keras.layers.Dropout(0.4))\n",
    "\n",
    "model.add(keras.layers.Dense(1, activation = \"sigmoid\"))\n",
    "model.summary()"
   ]
  },
  {
   "cell_type": "code",
   "execution_count": 68,
   "id": "7a7697da",
   "metadata": {
    "ExecuteTime": {
     "end_time": "2023-02-10T18:55:20.560312Z",
     "start_time": "2023-02-10T18:55:20.556496Z"
    }
   },
   "outputs": [],
   "source": [
    "checkpoint_cb = keras.callbacks.ModelCheckpoint(\"./model/best-cnn-32model.h5\", save_best_only = True)\n",
    "early_stopping_cb = keras.callbacks.EarlyStopping(patience = 10, restore_best_weights = True)\n",
    "reducelr_cb = keras.callbacks.ReduceLROnPlateau(monitor = \"val_loss\", factor = .5, patience = 3)"
   ]
  },
  {
   "cell_type": "code",
   "execution_count": 69,
   "id": "b4969db7",
   "metadata": {
    "ExecuteTime": {
     "end_time": "2023-02-10T18:55:20.574732Z",
     "start_time": "2023-02-10T18:55:20.562668Z"
    }
   },
   "outputs": [],
   "source": [
    "model.compile(optimizer = \"adam\", loss = \"binary_crossentropy\", metrics = \"accuracy\")"
   ]
  },
  {
   "cell_type": "code",
   "execution_count": 70,
   "id": "c0e5201d",
   "metadata": {
    "ExecuteTime": {
     "end_time": "2023-02-11T01:19:49.062415Z",
     "start_time": "2023-02-10T18:55:20.577105Z"
    },
    "scrolled": false
   },
   "outputs": [
    {
     "name": "stdout",
     "output_type": "stream",
     "text": [
      "Epoch 1/200\n",
      "225/225 [==============================] - 403s 2s/step - loss: 0.6676 - accuracy: 0.5869 - val_loss: 0.6376 - val_accuracy: 0.6436 - lr: 0.0010\n",
      "Epoch 2/200\n",
      "225/225 [==============================] - 399s 2s/step - loss: 0.5710 - accuracy: 0.7104 - val_loss: 0.4892 - val_accuracy: 0.7636 - lr: 0.0010\n",
      "Epoch 3/200\n",
      "225/225 [==============================] - 398s 2s/step - loss: 0.4829 - accuracy: 0.7709 - val_loss: 0.4456 - val_accuracy: 0.7940 - lr: 0.0010\n",
      "Epoch 4/200\n",
      "225/225 [==============================] - 399s 2s/step - loss: 0.4402 - accuracy: 0.7972 - val_loss: 0.3976 - val_accuracy: 0.8196 - lr: 0.0010\n",
      "Epoch 5/200\n",
      "225/225 [==============================] - 398s 2s/step - loss: 0.4081 - accuracy: 0.8140 - val_loss: 0.3997 - val_accuracy: 0.8092 - lr: 0.0010\n",
      "Epoch 6/200\n",
      "225/225 [==============================] - 400s 2s/step - loss: 0.3747 - accuracy: 0.8345 - val_loss: 0.3534 - val_accuracy: 0.8384 - lr: 0.0010\n",
      "Epoch 7/200\n",
      "225/225 [==============================] - 401s 2s/step - loss: 0.3512 - accuracy: 0.8457 - val_loss: 0.3227 - val_accuracy: 0.8500 - lr: 0.0010\n",
      "Epoch 8/200\n",
      "225/225 [==============================] - 400s 2s/step - loss: 0.3322 - accuracy: 0.8544 - val_loss: 0.3090 - val_accuracy: 0.8664 - lr: 0.0010\n",
      "Epoch 9/200\n",
      "225/225 [==============================] - 400s 2s/step - loss: 0.3144 - accuracy: 0.8641 - val_loss: 0.3159 - val_accuracy: 0.8548 - lr: 0.0010\n",
      "Epoch 10/200\n",
      "225/225 [==============================] - 398s 2s/step - loss: 0.2996 - accuracy: 0.8732 - val_loss: 0.3363 - val_accuracy: 0.8480 - lr: 0.0010\n",
      "Epoch 11/200\n",
      "225/225 [==============================] - 397s 2s/step - loss: 0.2918 - accuracy: 0.8774 - val_loss: 0.3101 - val_accuracy: 0.8600 - lr: 0.0010\n",
      "Epoch 12/200\n",
      "225/225 [==============================] - 398s 2s/step - loss: 0.2598 - accuracy: 0.8903 - val_loss: 0.2711 - val_accuracy: 0.8800 - lr: 5.0000e-04\n",
      "Epoch 13/200\n",
      "225/225 [==============================] - 399s 2s/step - loss: 0.2457 - accuracy: 0.8994 - val_loss: 0.2728 - val_accuracy: 0.8860 - lr: 5.0000e-04\n",
      "Epoch 14/200\n",
      "225/225 [==============================] - 399s 2s/step - loss: 0.2370 - accuracy: 0.9020 - val_loss: 0.2622 - val_accuracy: 0.8888 - lr: 5.0000e-04\n",
      "Epoch 15/200\n",
      "225/225 [==============================] - 402s 2s/step - loss: 0.2320 - accuracy: 0.9041 - val_loss: 0.2480 - val_accuracy: 0.8944 - lr: 5.0000e-04\n",
      "Epoch 16/200\n",
      "225/225 [==============================] - 402s 2s/step - loss: 0.2225 - accuracy: 0.9080 - val_loss: 0.2422 - val_accuracy: 0.8948 - lr: 5.0000e-04\n",
      "Epoch 17/200\n",
      "225/225 [==============================] - 402s 2s/step - loss: 0.2158 - accuracy: 0.9099 - val_loss: 0.2403 - val_accuracy: 0.8976 - lr: 5.0000e-04\n",
      "Epoch 18/200\n",
      "225/225 [==============================] - 403s 2s/step - loss: 0.2112 - accuracy: 0.9131 - val_loss: 0.2489 - val_accuracy: 0.8908 - lr: 5.0000e-04\n",
      "Epoch 19/200\n",
      "225/225 [==============================] - 403s 2s/step - loss: 0.2101 - accuracy: 0.9142 - val_loss: 0.2328 - val_accuracy: 0.9032 - lr: 5.0000e-04\n",
      "Epoch 20/200\n",
      "225/225 [==============================] - 403s 2s/step - loss: 0.1996 - accuracy: 0.9180 - val_loss: 0.2237 - val_accuracy: 0.9064 - lr: 5.0000e-04\n",
      "Epoch 21/200\n",
      "225/225 [==============================] - 403s 2s/step - loss: 0.1991 - accuracy: 0.9196 - val_loss: 0.2172 - val_accuracy: 0.9088 - lr: 5.0000e-04\n",
      "Epoch 22/200\n",
      "225/225 [==============================] - 403s 2s/step - loss: 0.1927 - accuracy: 0.9220 - val_loss: 0.2295 - val_accuracy: 0.9044 - lr: 5.0000e-04\n",
      "Epoch 23/200\n",
      "225/225 [==============================] - 402s 2s/step - loss: 0.1894 - accuracy: 0.9223 - val_loss: 0.2286 - val_accuracy: 0.9072 - lr: 5.0000e-04\n",
      "Epoch 24/200\n",
      "225/225 [==============================] - 406s 2s/step - loss: 0.1877 - accuracy: 0.9232 - val_loss: 0.2244 - val_accuracy: 0.9080 - lr: 5.0000e-04\n",
      "Epoch 25/200\n",
      "225/225 [==============================] - 405s 2s/step - loss: 0.1704 - accuracy: 0.9323 - val_loss: 0.2134 - val_accuracy: 0.9084 - lr: 2.5000e-04\n",
      "Epoch 26/200\n",
      "225/225 [==============================] - 404s 2s/step - loss: 0.1659 - accuracy: 0.9324 - val_loss: 0.2201 - val_accuracy: 0.9080 - lr: 2.5000e-04\n",
      "Epoch 27/200\n",
      "225/225 [==============================] - 405s 2s/step - loss: 0.1635 - accuracy: 0.9340 - val_loss: 0.2145 - val_accuracy: 0.9124 - lr: 2.5000e-04\n",
      "Epoch 28/200\n",
      "225/225 [==============================] - 402s 2s/step - loss: 0.1606 - accuracy: 0.9358 - val_loss: 0.2177 - val_accuracy: 0.9148 - lr: 2.5000e-04\n",
      "Epoch 29/200\n",
      "225/225 [==============================] - 403s 2s/step - loss: 0.1483 - accuracy: 0.9407 - val_loss: 0.2096 - val_accuracy: 0.9208 - lr: 1.2500e-04\n",
      "Epoch 30/200\n",
      "225/225 [==============================] - 404s 2s/step - loss: 0.1486 - accuracy: 0.9395 - val_loss: 0.2106 - val_accuracy: 0.9176 - lr: 1.2500e-04\n",
      "Epoch 31/200\n",
      "225/225 [==============================] - 402s 2s/step - loss: 0.1472 - accuracy: 0.9418 - val_loss: 0.2125 - val_accuracy: 0.9180 - lr: 1.2500e-04\n",
      "Epoch 32/200\n",
      "225/225 [==============================] - 403s 2s/step - loss: 0.1482 - accuracy: 0.9405 - val_loss: 0.2109 - val_accuracy: 0.9164 - lr: 1.2500e-04\n",
      "Epoch 33/200\n",
      "225/225 [==============================] - 403s 2s/step - loss: 0.1391 - accuracy: 0.9448 - val_loss: 0.2069 - val_accuracy: 0.9152 - lr: 6.2500e-05\n",
      "Epoch 34/200\n",
      "225/225 [==============================] - 403s 2s/step - loss: 0.1384 - accuracy: 0.9453 - val_loss: 0.2038 - val_accuracy: 0.9140 - lr: 6.2500e-05\n",
      "Epoch 35/200\n",
      "225/225 [==============================] - 403s 2s/step - loss: 0.1384 - accuracy: 0.9428 - val_loss: 0.2022 - val_accuracy: 0.9180 - lr: 6.2500e-05\n",
      "Epoch 36/200\n",
      "225/225 [==============================] - 402s 2s/step - loss: 0.1375 - accuracy: 0.9444 - val_loss: 0.2112 - val_accuracy: 0.9196 - lr: 6.2500e-05\n",
      "Epoch 37/200\n",
      "225/225 [==============================] - 404s 2s/step - loss: 0.1392 - accuracy: 0.9437 - val_loss: 0.2061 - val_accuracy: 0.9172 - lr: 6.2500e-05\n",
      "Epoch 38/200\n",
      "225/225 [==============================] - 403s 2s/step - loss: 0.1372 - accuracy: 0.9452 - val_loss: 0.2026 - val_accuracy: 0.9144 - lr: 6.2500e-05\n",
      "Epoch 39/200\n",
      "225/225 [==============================] - 2212s 10s/step - loss: 0.1359 - accuracy: 0.9450 - val_loss: 0.1977 - val_accuracy: 0.9256 - lr: 3.1250e-05\n",
      "Epoch 40/200\n",
      "225/225 [==============================] - 327s 1s/step - loss: 0.1336 - accuracy: 0.9454 - val_loss: 0.2100 - val_accuracy: 0.9144 - lr: 3.1250e-05\n",
      "Epoch 41/200\n",
      "225/225 [==============================] - 326s 1s/step - loss: 0.1305 - accuracy: 0.9463 - val_loss: 0.2026 - val_accuracy: 0.9156 - lr: 3.1250e-05\n",
      "Epoch 42/200\n",
      "225/225 [==============================] - 328s 1s/step - loss: 0.1322 - accuracy: 0.9472 - val_loss: 0.2007 - val_accuracy: 0.9180 - lr: 3.1250e-05\n",
      "Epoch 43/200\n",
      "225/225 [==============================] - 327s 1s/step - loss: 0.1330 - accuracy: 0.9464 - val_loss: 0.2034 - val_accuracy: 0.9168 - lr: 1.5625e-05\n",
      "Epoch 44/200\n",
      "225/225 [==============================] - 327s 1s/step - loss: 0.1327 - accuracy: 0.9488 - val_loss: 0.2051 - val_accuracy: 0.9192 - lr: 1.5625e-05\n",
      "Epoch 45/200\n",
      "225/225 [==============================] - 328s 1s/step - loss: 0.1304 - accuracy: 0.9464 - val_loss: 0.2008 - val_accuracy: 0.9176 - lr: 1.5625e-05\n",
      "Epoch 46/200\n",
      "225/225 [==============================] - 326s 1s/step - loss: 0.1322 - accuracy: 0.9467 - val_loss: 0.1936 - val_accuracy: 0.9208 - lr: 7.8125e-06\n",
      "Epoch 47/200\n",
      "225/225 [==============================] - 327s 1s/step - loss: 0.1320 - accuracy: 0.9461 - val_loss: 0.2067 - val_accuracy: 0.9172 - lr: 7.8125e-06\n",
      "Epoch 48/200\n",
      "225/225 [==============================] - 327s 1s/step - loss: 0.1331 - accuracy: 0.9468 - val_loss: 0.2085 - val_accuracy: 0.9144 - lr: 7.8125e-06\n",
      "Epoch 49/200\n",
      "225/225 [==============================] - 327s 1s/step - loss: 0.1268 - accuracy: 0.9493 - val_loss: 0.2034 - val_accuracy: 0.9204 - lr: 7.8125e-06\n",
      "Epoch 50/200\n",
      "225/225 [==============================] - 326s 1s/step - loss: 0.1326 - accuracy: 0.9465 - val_loss: 0.2075 - val_accuracy: 0.9200 - lr: 3.9063e-06\n",
      "Epoch 51/200\n",
      "225/225 [==============================] - 328s 1s/step - loss: 0.1295 - accuracy: 0.9481 - val_loss: 0.1970 - val_accuracy: 0.9224 - lr: 3.9063e-06\n"
     ]
    },
    {
     "name": "stdout",
     "output_type": "stream",
     "text": [
      "Epoch 52/200\n",
      "225/225 [==============================] - 328s 1s/step - loss: 0.1342 - accuracy: 0.9463 - val_loss: 0.2070 - val_accuracy: 0.9160 - lr: 3.9063e-06\n",
      "Epoch 53/200\n",
      "225/225 [==============================] - 342s 2s/step - loss: 0.1322 - accuracy: 0.9471 - val_loss: 0.2071 - val_accuracy: 0.9188 - lr: 1.9531e-06\n",
      "Epoch 54/200\n",
      "225/225 [==============================] - 333s 1s/step - loss: 0.1280 - accuracy: 0.9482 - val_loss: 0.2057 - val_accuracy: 0.9200 - lr: 1.9531e-06\n",
      "Epoch 55/200\n",
      "225/225 [==============================] - 331s 1s/step - loss: 0.1299 - accuracy: 0.9489 - val_loss: 0.2031 - val_accuracy: 0.9216 - lr: 1.9531e-06\n",
      "Epoch 56/200\n",
      "225/225 [==============================] - 332s 1s/step - loss: 0.1293 - accuracy: 0.9492 - val_loss: 0.2056 - val_accuracy: 0.9228 - lr: 9.7656e-07\n"
     ]
    }
   ],
   "source": [
    "history = model.fit(train_dataset, epochs = 200, validation_data = val_dataset,\n",
    "                    callbacks = [checkpoint_cb, early_stopping_cb, reducelr_cb])\n",
    "model.save_weights(\"32model.h5\")"
   ]
  },
  {
   "cell_type": "code",
   "execution_count": 71,
   "id": "0a82de21",
   "metadata": {
    "ExecuteTime": {
     "end_time": "2023-02-11T01:20:41.698954Z",
     "start_time": "2023-02-11T01:19:49.076279Z"
    }
   },
   "outputs": [
    {
     "name": "stdout",
     "output_type": "stream",
     "text": [
      "125/125 [==============================] - 52s 415ms/step\n"
     ]
    }
   ],
   "source": [
    "pred = model.predict(test_dataset)"
   ]
  },
  {
   "cell_type": "code",
   "execution_count": 72,
   "id": "2ac12fae",
   "metadata": {
    "ExecuteTime": {
     "end_time": "2023-02-11T01:20:41.836934Z",
     "start_time": "2023-02-11T01:20:41.701798Z"
    },
    "scrolled": true
   },
   "outputs": [
    {
     "name": "stdout",
     "output_type": "stream",
     "text": [
      "31_model.csv Saved!\n"
     ]
    }
   ],
   "source": [
    "save_preds(pred, \"31_model.csv\")"
   ]
  },
  {
   "cell_type": "markdown",
   "id": "67dac423",
   "metadata": {},
   "source": [
    "# model(33) - model(28)에 early_stopping = 10으로"
   ]
  },
  {
   "cell_type": "markdown",
   "id": "e76918bf",
   "metadata": {},
   "source": [
    "## Score: 0.22116"
   ]
  },
  {
   "cell_type": "code",
   "execution_count": 77,
   "id": "5f318494",
   "metadata": {
    "ExecuteTime": {
     "end_time": "2023-02-11T04:14:53.459153Z",
     "start_time": "2023-02-11T04:14:52.671281Z"
    },
    "scrolled": false
   },
   "outputs": [
    {
     "name": "stdout",
     "output_type": "stream",
     "text": [
      "Model: \"sequential_12\"\n",
      "_________________________________________________________________\n",
      " Layer (type)                Output Shape              Param #   \n",
      "=================================================================\n",
      " conv2d_60 (Conv2D)          (None, 128, 128, 8)       224       \n",
      "                                                                 \n",
      " conv2d_61 (Conv2D)          (None, 128, 128, 16)      1168      \n",
      "                                                                 \n",
      " max_pooling2d_44 (MaxPoolin  (None, 64, 64, 16)       0         \n",
      " g2D)                                                            \n",
      "                                                                 \n",
      " conv2d_62 (Conv2D)          (None, 64, 64, 32)        4640      \n",
      "                                                                 \n",
      " max_pooling2d_45 (MaxPoolin  (None, 32, 32, 32)       0         \n",
      " g2D)                                                            \n",
      "                                                                 \n",
      " conv2d_63 (Conv2D)          (None, 32, 32, 64)        18496     \n",
      "                                                                 \n",
      " max_pooling2d_46 (MaxPoolin  (None, 16, 16, 64)       0         \n",
      " g2D)                                                            \n",
      "                                                                 \n",
      " dropout_31 (Dropout)        (None, 16, 16, 64)        0         \n",
      "                                                                 \n",
      " conv2d_64 (Conv2D)          (None, 16, 16, 128)       73856     \n",
      "                                                                 \n",
      " max_pooling2d_47 (MaxPoolin  (None, 8, 8, 128)        0         \n",
      " g2D)                                                            \n",
      "                                                                 \n",
      " flatten_12 (Flatten)        (None, 8192)              0         \n",
      "                                                                 \n",
      " dropout_32 (Dropout)        (None, 8192)              0         \n",
      "                                                                 \n",
      " dense_36 (Dense)            (None, 16)                131088    \n",
      "                                                                 \n",
      " dense_37 (Dense)            (None, 32)                544       \n",
      "                                                                 \n",
      " dropout_33 (Dropout)        (None, 32)                0         \n",
      "                                                                 \n",
      " dense_38 (Dense)            (None, 1)                 33        \n",
      "                                                                 \n",
      "=================================================================\n",
      "Total params: 230,049\n",
      "Trainable params: 230,049\n",
      "Non-trainable params: 0\n",
      "_________________________________________________________________\n"
     ]
    }
   ],
   "source": [
    "model = keras.Sequential()\n",
    "model.add(keras.layers.Conv2D(8, kernel_size = 3, activation = \"leaky_relu\", padding = \"same\",\n",
    "                              input_shape = (128,128, 3)))\n",
    "\n",
    "\n",
    "model.add(keras.layers.Conv2D(16, kernel_size = 3, activation = \"relu\", padding = \"same\"))\n",
    "model.add(keras.layers.MaxPool2D(2))\n",
    "\n",
    "model.add(keras.layers.Conv2D(32, kernel_size = 3, activation = \"leaky_relu\", padding = \"same\"))\n",
    "model.add(keras.layers.MaxPool2D(2))\n",
    "\n",
    "model.add(keras.layers.Conv2D(64, kernel_size = 3, activation = \"relu\", padding = \"same\"))\n",
    "model.add(keras.layers.MaxPool2D(2))\n",
    "\n",
    "model.add(keras.layers.Dropout(0.25))\n",
    "\n",
    "model.add(keras.layers.Conv2D(128, kernel_size = 3, activation = \"relu\", padding = \"same\"))\n",
    "model.add(keras.layers.MaxPool2D(2))\n",
    "\n",
    "model.add(keras.layers.Flatten())\n",
    "\n",
    "model.add(keras.layers.Dropout(0.25))\n",
    "\n",
    "model.add(keras.layers.Dense(16, activation = \"leaky_relu\"))\n",
    "\n",
    "model.add(keras.layers.Dense(32, activation = \"leaky_relu\"))\n",
    "\n",
    "model.add(keras.layers.Dropout(0.4))\n",
    "\n",
    "model.add(keras.layers.Dense(1, activation = \"sigmoid\"))\n",
    "model.summary()"
   ]
  },
  {
   "cell_type": "code",
   "execution_count": 78,
   "id": "f02fba0e",
   "metadata": {
    "ExecuteTime": {
     "end_time": "2023-02-11T04:14:53.467864Z",
     "start_time": "2023-02-11T04:14:53.463057Z"
    }
   },
   "outputs": [],
   "source": [
    "checkpoint_cb = keras.callbacks.ModelCheckpoint(\"./model/best-cnn-32model.h5\", save_best_only = True)\n",
    "early_stopping_cb = keras.callbacks.EarlyStopping(patience = 10, restore_best_weights = True)\n",
    "reducelr_cb = keras.callbacks.ReduceLROnPlateau(monitor = \"val_loss\", factor = .5, patience = 3)"
   ]
  },
  {
   "cell_type": "code",
   "execution_count": 79,
   "id": "285c3d55",
   "metadata": {
    "ExecuteTime": {
     "end_time": "2023-02-11T04:14:53.493852Z",
     "start_time": "2023-02-11T04:14:53.470117Z"
    }
   },
   "outputs": [],
   "source": [
    "model.compile(optimizer = \"adam\", loss = \"binary_crossentropy\", metrics = \"accuracy\")"
   ]
  },
  {
   "cell_type": "code",
   "execution_count": 80,
   "id": "c313cb69",
   "metadata": {
    "ExecuteTime": {
     "end_time": "2023-02-11T07:16:11.930973Z",
     "start_time": "2023-02-11T04:14:53.499726Z"
    },
    "scrolled": false
   },
   "outputs": [
    {
     "name": "stdout",
     "output_type": "stream",
     "text": [
      "Epoch 1/200\n",
      "225/225 [==============================] - 247s 1s/step - loss: 0.6701 - accuracy: 0.5752 - val_loss: 0.6089 - val_accuracy: 0.6608 - lr: 0.0010\n",
      "Epoch 2/200\n",
      "225/225 [==============================] - 230s 1s/step - loss: 0.5709 - accuracy: 0.7022 - val_loss: 0.5145 - val_accuracy: 0.7392 - lr: 0.0010\n",
      "Epoch 3/200\n",
      "225/225 [==============================] - 230s 1s/step - loss: 0.4986 - accuracy: 0.7586 - val_loss: 0.4289 - val_accuracy: 0.7940 - lr: 0.0010\n",
      "Epoch 4/200\n",
      "225/225 [==============================] - 230s 1s/step - loss: 0.4333 - accuracy: 0.8027 - val_loss: 0.3923 - val_accuracy: 0.8228 - lr: 0.0010\n",
      "Epoch 5/200\n",
      "225/225 [==============================] - 230s 1s/step - loss: 0.3822 - accuracy: 0.8303 - val_loss: 0.3540 - val_accuracy: 0.8356 - lr: 0.0010\n",
      "Epoch 6/200\n",
      "225/225 [==============================] - 231s 1s/step - loss: 0.3573 - accuracy: 0.8448 - val_loss: 0.3385 - val_accuracy: 0.8460 - lr: 0.0010\n",
      "Epoch 7/200\n",
      "225/225 [==============================] - 230s 1s/step - loss: 0.3227 - accuracy: 0.8608 - val_loss: 0.2944 - val_accuracy: 0.8720 - lr: 0.0010\n",
      "Epoch 8/200\n",
      "225/225 [==============================] - 231s 1s/step - loss: 0.3030 - accuracy: 0.8722 - val_loss: 0.2759 - val_accuracy: 0.8768 - lr: 0.0010\n",
      "Epoch 9/200\n",
      "225/225 [==============================] - 231s 1s/step - loss: 0.2742 - accuracy: 0.8828 - val_loss: 0.2749 - val_accuracy: 0.8792 - lr: 0.0010\n",
      "Epoch 10/200\n",
      "225/225 [==============================] - 231s 1s/step - loss: 0.2618 - accuracy: 0.8908 - val_loss: 0.2466 - val_accuracy: 0.8940 - lr: 0.0010\n",
      "Epoch 11/200\n",
      "225/225 [==============================] - 231s 1s/step - loss: 0.2473 - accuracy: 0.8980 - val_loss: 0.2605 - val_accuracy: 0.8908 - lr: 0.0010\n",
      "Epoch 12/200\n",
      "225/225 [==============================] - 231s 1s/step - loss: 0.2385 - accuracy: 0.9024 - val_loss: 0.2630 - val_accuracy: 0.8908 - lr: 0.0010\n",
      "Epoch 13/200\n",
      "225/225 [==============================] - 231s 1s/step - loss: 0.2273 - accuracy: 0.9040 - val_loss: 0.2402 - val_accuracy: 0.9012 - lr: 0.0010\n",
      "Epoch 14/200\n",
      "225/225 [==============================] - 231s 1s/step - loss: 0.2159 - accuracy: 0.9116 - val_loss: 0.2183 - val_accuracy: 0.9104 - lr: 0.0010\n",
      "Epoch 15/200\n",
      "225/225 [==============================] - 232s 1s/step - loss: 0.2092 - accuracy: 0.9139 - val_loss: 0.2252 - val_accuracy: 0.9088 - lr: 0.0010\n",
      "Epoch 16/200\n",
      "225/225 [==============================] - 241s 1s/step - loss: 0.2043 - accuracy: 0.9147 - val_loss: 0.1987 - val_accuracy: 0.9164 - lr: 0.0010\n",
      "Epoch 17/200\n",
      "225/225 [==============================] - 250s 1s/step - loss: 0.2006 - accuracy: 0.9168 - val_loss: 0.2271 - val_accuracy: 0.9052 - lr: 0.0010\n",
      "Epoch 18/200\n",
      "225/225 [==============================] - 238s 1s/step - loss: 0.1906 - accuracy: 0.9203 - val_loss: 0.1922 - val_accuracy: 0.9256 - lr: 0.0010\n",
      "Epoch 19/200\n",
      "225/225 [==============================] - 229s 1s/step - loss: 0.1917 - accuracy: 0.9207 - val_loss: 0.1910 - val_accuracy: 0.9196 - lr: 0.0010\n",
      "Epoch 20/200\n",
      "225/225 [==============================] - 229s 1s/step - loss: 0.1827 - accuracy: 0.9256 - val_loss: 0.1947 - val_accuracy: 0.9208 - lr: 0.0010\n",
      "Epoch 21/200\n",
      "225/225 [==============================] - 229s 1s/step - loss: 0.1788 - accuracy: 0.9260 - val_loss: 0.1899 - val_accuracy: 0.9192 - lr: 0.0010\n",
      "Epoch 22/200\n",
      "225/225 [==============================] - 229s 1s/step - loss: 0.1736 - accuracy: 0.9299 - val_loss: 0.1853 - val_accuracy: 0.9260 - lr: 0.0010\n",
      "Epoch 23/200\n",
      "225/225 [==============================] - 230s 1s/step - loss: 0.1694 - accuracy: 0.9307 - val_loss: 0.1765 - val_accuracy: 0.9276 - lr: 0.0010\n",
      "Epoch 24/200\n",
      "225/225 [==============================] - 230s 1s/step - loss: 0.1675 - accuracy: 0.9316 - val_loss: 0.1968 - val_accuracy: 0.9172 - lr: 0.0010\n",
      "Epoch 25/200\n",
      "225/225 [==============================] - 230s 1s/step - loss: 0.1672 - accuracy: 0.9303 - val_loss: 0.1777 - val_accuracy: 0.9300 - lr: 0.0010\n",
      "Epoch 26/200\n",
      "225/225 [==============================] - 230s 1s/step - loss: 0.1623 - accuracy: 0.9344 - val_loss: 0.1788 - val_accuracy: 0.9292 - lr: 0.0010\n",
      "Epoch 27/200\n",
      "225/225 [==============================] - 230s 1s/step - loss: 0.1434 - accuracy: 0.9433 - val_loss: 0.1743 - val_accuracy: 0.9304 - lr: 5.0000e-04\n",
      "Epoch 28/200\n",
      "225/225 [==============================] - 230s 1s/step - loss: 0.1347 - accuracy: 0.9469 - val_loss: 0.1636 - val_accuracy: 0.9356 - lr: 5.0000e-04\n",
      "Epoch 29/200\n",
      "225/225 [==============================] - 230s 1s/step - loss: 0.1337 - accuracy: 0.9443 - val_loss: 0.1673 - val_accuracy: 0.9384 - lr: 5.0000e-04\n",
      "Epoch 30/200\n",
      "225/225 [==============================] - 230s 1s/step - loss: 0.1341 - accuracy: 0.9462 - val_loss: 0.1606 - val_accuracy: 0.9364 - lr: 5.0000e-04\n",
      "Epoch 31/200\n",
      "225/225 [==============================] - 230s 1s/step - loss: 0.1339 - accuracy: 0.9470 - val_loss: 0.1575 - val_accuracy: 0.9392 - lr: 5.0000e-04\n",
      "Epoch 32/200\n",
      "225/225 [==============================] - 229s 1s/step - loss: 0.1305 - accuracy: 0.9487 - val_loss: 0.1591 - val_accuracy: 0.9368 - lr: 5.0000e-04\n",
      "Epoch 33/200\n",
      "225/225 [==============================] - 230s 1s/step - loss: 0.1324 - accuracy: 0.9448 - val_loss: 0.1597 - val_accuracy: 0.9360 - lr: 5.0000e-04\n",
      "Epoch 34/200\n",
      "225/225 [==============================] - 230s 1s/step - loss: 0.1243 - accuracy: 0.9485 - val_loss: 0.1539 - val_accuracy: 0.9384 - lr: 5.0000e-04\n",
      "Epoch 35/200\n",
      "225/225 [==============================] - 231s 1s/step - loss: 0.1244 - accuracy: 0.9503 - val_loss: 0.1732 - val_accuracy: 0.9304 - lr: 5.0000e-04\n",
      "Epoch 36/200\n",
      "225/225 [==============================] - 230s 1s/step - loss: 0.1161 - accuracy: 0.9524 - val_loss: 0.1657 - val_accuracy: 0.9372 - lr: 5.0000e-04\n",
      "Epoch 37/200\n",
      "225/225 [==============================] - 230s 1s/step - loss: 0.1234 - accuracy: 0.9486 - val_loss: 0.1502 - val_accuracy: 0.9416 - lr: 5.0000e-04\n",
      "Epoch 38/200\n",
      "225/225 [==============================] - 230s 1s/step - loss: 0.1202 - accuracy: 0.9516 - val_loss: 0.1699 - val_accuracy: 0.9328 - lr: 5.0000e-04\n",
      "Epoch 39/200\n",
      "225/225 [==============================] - 231s 1s/step - loss: 0.1164 - accuracy: 0.9554 - val_loss: 0.1654 - val_accuracy: 0.9432 - lr: 5.0000e-04\n",
      "Epoch 40/200\n",
      "225/225 [==============================] - 231s 1s/step - loss: 0.1175 - accuracy: 0.9527 - val_loss: 0.1560 - val_accuracy: 0.9420 - lr: 5.0000e-04\n",
      "Epoch 41/200\n",
      "225/225 [==============================] - 233s 1s/step - loss: 0.1076 - accuracy: 0.9555 - val_loss: 0.1602 - val_accuracy: 0.9348 - lr: 2.5000e-04\n",
      "Epoch 42/200\n",
      "225/225 [==============================] - 230s 1s/step - loss: 0.1044 - accuracy: 0.9601 - val_loss: 0.1524 - val_accuracy: 0.9456 - lr: 2.5000e-04\n",
      "Epoch 43/200\n",
      "225/225 [==============================] - 230s 1s/step - loss: 0.0992 - accuracy: 0.9614 - val_loss: 0.1594 - val_accuracy: 0.9416 - lr: 2.5000e-04\n",
      "Epoch 44/200\n",
      "225/225 [==============================] - 229s 1s/step - loss: 0.0983 - accuracy: 0.9605 - val_loss: 0.1579 - val_accuracy: 0.9392 - lr: 1.2500e-04\n",
      "Epoch 45/200\n",
      "225/225 [==============================] - 230s 1s/step - loss: 0.0985 - accuracy: 0.9606 - val_loss: 0.1533 - val_accuracy: 0.9428 - lr: 1.2500e-04\n",
      "Epoch 46/200\n",
      "225/225 [==============================] - 230s 1s/step - loss: 0.0949 - accuracy: 0.9630 - val_loss: 0.1605 - val_accuracy: 0.9404 - lr: 1.2500e-04\n",
      "Epoch 47/200\n",
      "225/225 [==============================] - 231s 1s/step - loss: 0.0917 - accuracy: 0.9636 - val_loss: 0.1540 - val_accuracy: 0.9412 - lr: 6.2500e-05\n"
     ]
    }
   ],
   "source": [
    "history = model.fit(train_dataset, epochs = 200, validation_data = val_dataset,\n",
    "                    callbacks = [checkpoint_cb, early_stopping_cb, reducelr_cb])\n",
    "model.save_weights(\"32model.h5\")"
   ]
  },
  {
   "cell_type": "code",
   "execution_count": 81,
   "id": "e656935e",
   "metadata": {
    "ExecuteTime": {
     "end_time": "2023-02-11T07:16:59.015674Z",
     "start_time": "2023-02-11T07:16:11.933407Z"
    }
   },
   "outputs": [
    {
     "name": "stdout",
     "output_type": "stream",
     "text": [
      "125/125 [==============================] - 47s 372ms/step\n"
     ]
    }
   ],
   "source": [
    "pred = model.predict(test_dataset)"
   ]
  },
  {
   "cell_type": "code",
   "execution_count": 82,
   "id": "66f840e8",
   "metadata": {
    "ExecuteTime": {
     "end_time": "2023-02-11T07:16:59.197778Z",
     "start_time": "2023-02-11T07:16:59.018353Z"
    },
    "scrolled": true
   },
   "outputs": [
    {
     "name": "stdout",
     "output_type": "stream",
     "text": [
      "31_model.csv Saved!\n"
     ]
    }
   ],
   "source": [
    "save_preds(pred, \"31_model.csv\")"
   ]
  },
  {
   "cell_type": "markdown",
   "id": "ad2c162c",
   "metadata": {},
   "source": [
    "# model(34) - model(28)에 conv2d 추가"
   ]
  },
  {
   "cell_type": "markdown",
   "id": "2579545d",
   "metadata": {},
   "source": [
    "## Score: 0.20791"
   ]
  },
  {
   "cell_type": "code",
   "execution_count": 83,
   "id": "22a33c2a",
   "metadata": {
    "ExecuteTime": {
     "end_time": "2023-02-11T17:15:19.484670Z",
     "start_time": "2023-02-11T17:15:19.059828Z"
    },
    "scrolled": false
   },
   "outputs": [
    {
     "name": "stdout",
     "output_type": "stream",
     "text": [
      "Model: \"sequential_13\"\n",
      "_________________________________________________________________\n",
      " Layer (type)                Output Shape              Param #   \n",
      "=================================================================\n",
      " conv2d_65 (Conv2D)          (None, 128, 128, 8)       224       \n",
      "                                                                 \n",
      " conv2d_66 (Conv2D)          (None, 128, 128, 8)       584       \n",
      "                                                                 \n",
      " conv2d_67 (Conv2D)          (None, 128, 128, 16)      1168      \n",
      "                                                                 \n",
      " max_pooling2d_48 (MaxPoolin  (None, 64, 64, 16)       0         \n",
      " g2D)                                                            \n",
      "                                                                 \n",
      " conv2d_68 (Conv2D)          (None, 64, 64, 32)        4640      \n",
      "                                                                 \n",
      " max_pooling2d_49 (MaxPoolin  (None, 32, 32, 32)       0         \n",
      " g2D)                                                            \n",
      "                                                                 \n",
      " conv2d_69 (Conv2D)          (None, 32, 32, 64)        18496     \n",
      "                                                                 \n",
      " max_pooling2d_50 (MaxPoolin  (None, 16, 16, 64)       0         \n",
      " g2D)                                                            \n",
      "                                                                 \n",
      " dropout_34 (Dropout)        (None, 16, 16, 64)        0         \n",
      "                                                                 \n",
      " conv2d_70 (Conv2D)          (None, 16, 16, 128)       73856     \n",
      "                                                                 \n",
      " max_pooling2d_51 (MaxPoolin  (None, 8, 8, 128)        0         \n",
      " g2D)                                                            \n",
      "                                                                 \n",
      " flatten_13 (Flatten)        (None, 8192)              0         \n",
      "                                                                 \n",
      " dropout_35 (Dropout)        (None, 8192)              0         \n",
      "                                                                 \n",
      " dense_39 (Dense)            (None, 16)                131088    \n",
      "                                                                 \n",
      " dense_40 (Dense)            (None, 32)                544       \n",
      "                                                                 \n",
      " dropout_36 (Dropout)        (None, 32)                0         \n",
      "                                                                 \n",
      " dense_41 (Dense)            (None, 1)                 33        \n",
      "                                                                 \n",
      "=================================================================\n",
      "Total params: 230,633\n",
      "Trainable params: 230,633\n",
      "Non-trainable params: 0\n",
      "_________________________________________________________________\n"
     ]
    }
   ],
   "source": [
    "model = keras.Sequential()\n",
    "model.add(keras.layers.Conv2D(8, kernel_size = 3, activation = \"leaky_relu\", padding = \"same\",\n",
    "                              input_shape = (128,128, 3)))\n",
    "\n",
    "model.add(keras.layers.Conv2D(8, kernel_size = 3, activation = \"relu\", padding = \"same\"))\n",
    "\n",
    "model.add(keras.layers.Conv2D(16, kernel_size = 3, activation = \"relu\", padding = \"same\"))\n",
    "model.add(keras.layers.MaxPool2D(2))\n",
    "\n",
    "model.add(keras.layers.Conv2D(32, kernel_size = 3, activation = \"leaky_relu\", padding = \"same\"))\n",
    "model.add(keras.layers.MaxPool2D(2))\n",
    "\n",
    "model.add(keras.layers.Conv2D(64, kernel_size = 3, activation = \"relu\", padding = \"same\"))\n",
    "model.add(keras.layers.MaxPool2D(2))\n",
    "\n",
    "model.add(keras.layers.Dropout(0.25))\n",
    "\n",
    "model.add(keras.layers.Conv2D(128, kernel_size = 3, activation = \"relu\", padding = \"same\"))\n",
    "model.add(keras.layers.MaxPool2D(2))\n",
    "\n",
    "model.add(keras.layers.Flatten())\n",
    "\n",
    "model.add(keras.layers.Dropout(0.25))\n",
    "\n",
    "model.add(keras.layers.Dense(16, activation = \"leaky_relu\"))\n",
    "\n",
    "model.add(keras.layers.Dense(32, activation = \"leaky_relu\"))\n",
    "\n",
    "model.add(keras.layers.Dropout(0.4))\n",
    "\n",
    "model.add(keras.layers.Dense(1, activation = \"sigmoid\"))\n",
    "model.summary()"
   ]
  },
  {
   "cell_type": "code",
   "execution_count": 84,
   "id": "798824bf",
   "metadata": {
    "ExecuteTime": {
     "end_time": "2023-02-11T17:15:19.493990Z",
     "start_time": "2023-02-11T17:15:19.487931Z"
    }
   },
   "outputs": [],
   "source": [
    "checkpoint_cb = keras.callbacks.ModelCheckpoint(\"./model/best-cnn-34model.h5\", save_best_only = True)\n",
    "early_stopping_cb = keras.callbacks.EarlyStopping(patience = 3, restore_best_weights = True)\n",
    "reducelr_cb = keras.callbacks.ReduceLROnPlateau(monitor = \"val_loss\", factor = .5, patience = 3)"
   ]
  },
  {
   "cell_type": "code",
   "execution_count": 85,
   "id": "247c2074",
   "metadata": {
    "ExecuteTime": {
     "end_time": "2023-02-11T17:15:19.509814Z",
     "start_time": "2023-02-11T17:15:19.496167Z"
    }
   },
   "outputs": [],
   "source": [
    "model.compile(optimizer = \"adam\", loss = \"binary_crossentropy\", metrics = \"accuracy\")"
   ]
  },
  {
   "cell_type": "code",
   "execution_count": 86,
   "id": "07b21953",
   "metadata": {
    "ExecuteTime": {
     "end_time": "2023-02-11T19:46:52.026829Z",
     "start_time": "2023-02-11T17:15:19.512767Z"
    },
    "scrolled": true
   },
   "outputs": [
    {
     "name": "stdout",
     "output_type": "stream",
     "text": [
      "Epoch 1/100\n",
      "225/225 [==============================] - 275s 1s/step - loss: 0.6595 - accuracy: 0.5925 - val_loss: 0.6057 - val_accuracy: 0.6760 - lr: 0.0010\n",
      "Epoch 2/100\n",
      "225/225 [==============================] - 263s 1s/step - loss: 0.5635 - accuracy: 0.7072 - val_loss: 0.4909 - val_accuracy: 0.7592 - lr: 0.0010\n",
      "Epoch 3/100\n",
      "225/225 [==============================] - 264s 1s/step - loss: 0.4959 - accuracy: 0.7607 - val_loss: 0.4450 - val_accuracy: 0.7824 - lr: 0.0010\n",
      "Epoch 4/100\n",
      "225/225 [==============================] - 266s 1s/step - loss: 0.4423 - accuracy: 0.7948 - val_loss: 0.4030 - val_accuracy: 0.8156 - lr: 0.0010\n",
      "Epoch 5/100\n",
      "225/225 [==============================] - 266s 1s/step - loss: 0.4082 - accuracy: 0.8156 - val_loss: 0.3850 - val_accuracy: 0.8284 - lr: 0.0010\n",
      "Epoch 6/100\n",
      "225/225 [==============================] - 266s 1s/step - loss: 0.3792 - accuracy: 0.8328 - val_loss: 0.3584 - val_accuracy: 0.8460 - lr: 0.0010\n",
      "Epoch 7/100\n",
      "225/225 [==============================] - 267s 1s/step - loss: 0.3439 - accuracy: 0.8496 - val_loss: 0.3197 - val_accuracy: 0.8600 - lr: 0.0010\n",
      "Epoch 8/100\n",
      "225/225 [==============================] - 269s 1s/step - loss: 0.3165 - accuracy: 0.8630 - val_loss: 0.2939 - val_accuracy: 0.8684 - lr: 0.0010\n",
      "Epoch 9/100\n",
      "225/225 [==============================] - 267s 1s/step - loss: 0.3003 - accuracy: 0.8720 - val_loss: 0.2869 - val_accuracy: 0.8732 - lr: 0.0010\n",
      "Epoch 10/100\n",
      "225/225 [==============================] - 267s 1s/step - loss: 0.2848 - accuracy: 0.8797 - val_loss: 0.3218 - val_accuracy: 0.8540 - lr: 0.0010\n",
      "Epoch 11/100\n",
      "225/225 [==============================] - 267s 1s/step - loss: 0.2660 - accuracy: 0.8867 - val_loss: 0.2608 - val_accuracy: 0.8940 - lr: 0.0010\n",
      "Epoch 12/100\n",
      "225/225 [==============================] - 267s 1s/step - loss: 0.2541 - accuracy: 0.8921 - val_loss: 0.2521 - val_accuracy: 0.8892 - lr: 0.0010\n",
      "Epoch 13/100\n",
      "225/225 [==============================] - 268s 1s/step - loss: 0.2441 - accuracy: 0.8968 - val_loss: 0.2620 - val_accuracy: 0.8912 - lr: 0.0010\n",
      "Epoch 14/100\n",
      "225/225 [==============================] - 296s 1s/step - loss: 0.2253 - accuracy: 0.9057 - val_loss: 0.2440 - val_accuracy: 0.8900 - lr: 0.0010\n",
      "Epoch 15/100\n",
      "225/225 [==============================] - 331s 1s/step - loss: 0.2191 - accuracy: 0.9092 - val_loss: 0.2521 - val_accuracy: 0.8964 - lr: 0.0010\n",
      "Epoch 16/100\n",
      "225/225 [==============================] - 331s 1s/step - loss: 0.2162 - accuracy: 0.9108 - val_loss: 0.2194 - val_accuracy: 0.9020 - lr: 0.0010\n",
      "Epoch 17/100\n",
      "225/225 [==============================] - 334s 1s/step - loss: 0.2059 - accuracy: 0.9138 - val_loss: 0.2240 - val_accuracy: 0.9012 - lr: 0.0010\n",
      "Epoch 18/100\n",
      "225/225 [==============================] - 332s 1s/step - loss: 0.2042 - accuracy: 0.9144 - val_loss: 0.2183 - val_accuracy: 0.9092 - lr: 0.0010\n",
      "Epoch 19/100\n",
      "225/225 [==============================] - 331s 1s/step - loss: 0.1892 - accuracy: 0.9233 - val_loss: 0.2126 - val_accuracy: 0.9096 - lr: 0.0010\n",
      "Epoch 20/100\n",
      "225/225 [==============================] - 335s 1s/step - loss: 0.1933 - accuracy: 0.9192 - val_loss: 0.2230 - val_accuracy: 0.9004 - lr: 0.0010\n",
      "Epoch 21/100\n",
      "225/225 [==============================] - 332s 1s/step - loss: 0.1827 - accuracy: 0.9248 - val_loss: 0.2048 - val_accuracy: 0.9184 - lr: 0.0010\n",
      "Epoch 22/100\n",
      "225/225 [==============================] - 334s 1s/step - loss: 0.1837 - accuracy: 0.9238 - val_loss: 0.2021 - val_accuracy: 0.9152 - lr: 0.0010\n",
      "Epoch 23/100\n",
      "225/225 [==============================] - 333s 1s/step - loss: 0.1762 - accuracy: 0.9274 - val_loss: 0.2093 - val_accuracy: 0.9160 - lr: 0.0010\n",
      "Epoch 24/100\n",
      "225/225 [==============================] - 334s 1s/step - loss: 0.1731 - accuracy: 0.9295 - val_loss: 0.2035 - val_accuracy: 0.9132 - lr: 0.0010\n",
      "Epoch 25/100\n",
      "225/225 [==============================] - 334s 1s/step - loss: 0.1704 - accuracy: 0.9307 - val_loss: 0.1913 - val_accuracy: 0.9264 - lr: 0.0010\n",
      "Epoch 26/100\n",
      "225/225 [==============================] - 332s 1s/step - loss: 0.1657 - accuracy: 0.9325 - val_loss: 0.1790 - val_accuracy: 0.9248 - lr: 0.0010\n",
      "Epoch 27/100\n",
      "225/225 [==============================] - 333s 1s/step - loss: 0.1638 - accuracy: 0.9347 - val_loss: 0.1781 - val_accuracy: 0.9284 - lr: 0.0010\n",
      "Epoch 28/100\n",
      "225/225 [==============================] - 333s 1s/step - loss: 0.1603 - accuracy: 0.9356 - val_loss: 0.1879 - val_accuracy: 0.9204 - lr: 0.0010\n",
      "Epoch 29/100\n",
      "225/225 [==============================] - 333s 1s/step - loss: 0.1572 - accuracy: 0.9366 - val_loss: 0.1864 - val_accuracy: 0.9224 - lr: 0.0010\n",
      "Epoch 30/100\n",
      "225/225 [==============================] - 331s 1s/step - loss: 0.1542 - accuracy: 0.9378 - val_loss: 0.1784 - val_accuracy: 0.9340 - lr: 0.0010\n"
     ]
    }
   ],
   "source": [
    "history = model.fit(train_dataset, epochs = 100, validation_data = val_dataset,\n",
    "                    callbacks = [checkpoint_cb, early_stopping_cb, reducelr_cb])\n",
    "model.save_weights(\"34model.h5\")"
   ]
  },
  {
   "cell_type": "code",
   "execution_count": 87,
   "id": "9a2159ec",
   "metadata": {
    "ExecuteTime": {
     "end_time": "2023-02-11T19:47:47.054582Z",
     "start_time": "2023-02-11T19:46:52.029736Z"
    }
   },
   "outputs": [
    {
     "name": "stdout",
     "output_type": "stream",
     "text": [
      "125/125 [==============================] - 55s 435ms/step\n"
     ]
    }
   ],
   "source": [
    "pred = model.predict(test_dataset)"
   ]
  },
  {
   "cell_type": "code",
   "execution_count": 88,
   "id": "8eb86bd8",
   "metadata": {
    "ExecuteTime": {
     "end_time": "2023-02-11T19:47:47.191797Z",
     "start_time": "2023-02-11T19:47:47.056728Z"
    },
    "scrolled": true
   },
   "outputs": [
    {
     "name": "stdout",
     "output_type": "stream",
     "text": [
      "34_model.csv Saved!\n"
     ]
    }
   ],
   "source": [
    "save_preds(pred, \"34_model.csv\")"
   ]
  },
  {
   "cell_type": "markdown",
   "id": "d3d96ea2",
   "metadata": {},
   "source": [
    "# model(35) - model(28)에 conv2d 추가, maxpool추가"
   ]
  },
  {
   "cell_type": "markdown",
   "id": "1d9d8735",
   "metadata": {},
   "source": [
    "## Score: 0.23956"
   ]
  },
  {
   "cell_type": "code",
   "execution_count": 89,
   "id": "3270907a",
   "metadata": {
    "ExecuteTime": {
     "end_time": "2023-02-11T19:47:47.386457Z",
     "start_time": "2023-02-11T19:47:47.195928Z"
    },
    "scrolled": false
   },
   "outputs": [
    {
     "name": "stdout",
     "output_type": "stream",
     "text": [
      "Model: \"sequential_14\"\n",
      "_________________________________________________________________\n",
      " Layer (type)                Output Shape              Param #   \n",
      "=================================================================\n",
      " conv2d_71 (Conv2D)          (None, 128, 128, 8)       224       \n",
      "                                                                 \n",
      " conv2d_72 (Conv2D)          (None, 128, 128, 8)       584       \n",
      "                                                                 \n",
      " max_pooling2d_52 (MaxPoolin  (None, 64, 64, 8)        0         \n",
      " g2D)                                                            \n",
      "                                                                 \n",
      " conv2d_73 (Conv2D)          (None, 64, 64, 16)        1168      \n",
      "                                                                 \n",
      " max_pooling2d_53 (MaxPoolin  (None, 32, 32, 16)       0         \n",
      " g2D)                                                            \n",
      "                                                                 \n",
      " conv2d_74 (Conv2D)          (None, 32, 32, 32)        4640      \n",
      "                                                                 \n",
      " max_pooling2d_54 (MaxPoolin  (None, 16, 16, 32)       0         \n",
      " g2D)                                                            \n",
      "                                                                 \n",
      " conv2d_75 (Conv2D)          (None, 16, 16, 64)        18496     \n",
      "                                                                 \n",
      " max_pooling2d_55 (MaxPoolin  (None, 8, 8, 64)         0         \n",
      " g2D)                                                            \n",
      "                                                                 \n",
      " dropout_37 (Dropout)        (None, 8, 8, 64)          0         \n",
      "                                                                 \n",
      " conv2d_76 (Conv2D)          (None, 8, 8, 128)         73856     \n",
      "                                                                 \n",
      " max_pooling2d_56 (MaxPoolin  (None, 4, 4, 128)        0         \n",
      " g2D)                                                            \n",
      "                                                                 \n",
      " flatten_14 (Flatten)        (None, 2048)              0         \n",
      "                                                                 \n",
      " dropout_38 (Dropout)        (None, 2048)              0         \n",
      "                                                                 \n",
      " dense_42 (Dense)            (None, 16)                32784     \n",
      "                                                                 \n",
      " dense_43 (Dense)            (None, 32)                544       \n",
      "                                                                 \n",
      " dropout_39 (Dropout)        (None, 32)                0         \n",
      "                                                                 \n",
      " dense_44 (Dense)            (None, 1)                 33        \n",
      "                                                                 \n",
      "=================================================================\n",
      "Total params: 132,329\n",
      "Trainable params: 132,329\n",
      "Non-trainable params: 0\n",
      "_________________________________________________________________\n"
     ]
    }
   ],
   "source": [
    "model = keras.Sequential()\n",
    "model.add(keras.layers.Conv2D(8, kernel_size = 3, activation = \"leaky_relu\", padding = \"same\",\n",
    "                              input_shape = (128,128, 3)))\n",
    "\n",
    "model.add(keras.layers.Conv2D(8, kernel_size = 3, activation = \"relu\", padding = \"same\"))\n",
    "model.add(keras.layers.MaxPool2D(2))\n",
    "\n",
    "model.add(keras.layers.Conv2D(16, kernel_size = 3, activation = \"relu\", padding = \"same\"))\n",
    "model.add(keras.layers.MaxPool2D(2))\n",
    "\n",
    "model.add(keras.layers.Conv2D(32, kernel_size = 3, activation = \"leaky_relu\", padding = \"same\"))\n",
    "model.add(keras.layers.MaxPool2D(2))\n",
    "\n",
    "model.add(keras.layers.Conv2D(64, kernel_size = 3, activation = \"relu\", padding = \"same\"))\n",
    "model.add(keras.layers.MaxPool2D(2))\n",
    "\n",
    "model.add(keras.layers.Dropout(0.25))\n",
    "\n",
    "model.add(keras.layers.Conv2D(128, kernel_size = 3, activation = \"relu\", padding = \"same\"))\n",
    "model.add(keras.layers.MaxPool2D(2))\n",
    "\n",
    "model.add(keras.layers.Flatten())\n",
    "\n",
    "model.add(keras.layers.Dropout(0.25))\n",
    "\n",
    "model.add(keras.layers.Dense(16, activation = \"leaky_relu\"))\n",
    "\n",
    "model.add(keras.layers.Dense(32, activation = \"leaky_relu\"))\n",
    "\n",
    "model.add(keras.layers.Dropout(0.4))\n",
    "\n",
    "model.add(keras.layers.Dense(1, activation = \"sigmoid\"))\n",
    "model.summary()"
   ]
  },
  {
   "cell_type": "code",
   "execution_count": 90,
   "id": "c43fdf2d",
   "metadata": {
    "ExecuteTime": {
     "end_time": "2023-02-11T19:47:47.393046Z",
     "start_time": "2023-02-11T19:47:47.388825Z"
    }
   },
   "outputs": [],
   "source": [
    "checkpoint_cb = keras.callbacks.ModelCheckpoint(\"./model/best-cnn-35model.h5\", save_best_only = True)\n",
    "early_stopping_cb = keras.callbacks.EarlyStopping(patience = 3, restore_best_weights = True)\n",
    "reducelr_cb = keras.callbacks.ReduceLROnPlateau(monitor = \"val_loss\", factor = .5, patience = 3)"
   ]
  },
  {
   "cell_type": "code",
   "execution_count": 91,
   "id": "67c1bcfe",
   "metadata": {
    "ExecuteTime": {
     "end_time": "2023-02-11T19:47:47.408670Z",
     "start_time": "2023-02-11T19:47:47.395538Z"
    }
   },
   "outputs": [],
   "source": [
    "model.compile(optimizer = \"adam\", loss = \"binary_crossentropy\", metrics = \"accuracy\")"
   ]
  },
  {
   "cell_type": "code",
   "execution_count": 92,
   "id": "5bd6ba23",
   "metadata": {
    "ExecuteTime": {
     "end_time": "2023-02-11T21:00:55.375656Z",
     "start_time": "2023-02-11T19:47:47.411306Z"
    },
    "scrolled": true
   },
   "outputs": [
    {
     "name": "stdout",
     "output_type": "stream",
     "text": [
      "Epoch 1/100\n",
      "225/225 [==============================] - 234s 1s/step - loss: 0.6565 - accuracy: 0.5987 - val_loss: 0.5748 - val_accuracy: 0.7016 - lr: 0.0010\n",
      "Epoch 2/100\n",
      "225/225 [==============================] - 230s 1s/step - loss: 0.5461 - accuracy: 0.7236 - val_loss: 0.4895 - val_accuracy: 0.7744 - lr: 0.0010\n",
      "Epoch 3/100\n",
      "225/225 [==============================] - 231s 1s/step - loss: 0.4726 - accuracy: 0.7767 - val_loss: 0.4465 - val_accuracy: 0.7912 - lr: 0.0010\n",
      "Epoch 4/100\n",
      "225/225 [==============================] - 231s 1s/step - loss: 0.4300 - accuracy: 0.8030 - val_loss: 0.4471 - val_accuracy: 0.7960 - lr: 0.0010\n",
      "Epoch 5/100\n",
      "225/225 [==============================] - 231s 1s/step - loss: 0.4069 - accuracy: 0.8172 - val_loss: 0.3767 - val_accuracy: 0.8260 - lr: 0.0010\n",
      "Epoch 6/100\n",
      "225/225 [==============================] - 231s 1s/step - loss: 0.3633 - accuracy: 0.8389 - val_loss: 0.3638 - val_accuracy: 0.8268 - lr: 0.0010\n",
      "Epoch 7/100\n",
      "225/225 [==============================] - 232s 1s/step - loss: 0.3383 - accuracy: 0.8508 - val_loss: 0.3187 - val_accuracy: 0.8672 - lr: 0.0010\n",
      "Epoch 8/100\n",
      "225/225 [==============================] - 231s 1s/step - loss: 0.3157 - accuracy: 0.8618 - val_loss: 0.3004 - val_accuracy: 0.8704 - lr: 0.0010\n",
      "Epoch 9/100\n",
      "225/225 [==============================] - 231s 1s/step - loss: 0.2958 - accuracy: 0.8734 - val_loss: 0.2792 - val_accuracy: 0.8828 - lr: 0.0010\n",
      "Epoch 10/100\n",
      "225/225 [==============================] - 231s 1s/step - loss: 0.2747 - accuracy: 0.8839 - val_loss: 0.3040 - val_accuracy: 0.8624 - lr: 0.0010\n",
      "Epoch 11/100\n",
      "225/225 [==============================] - 232s 1s/step - loss: 0.2686 - accuracy: 0.8842 - val_loss: 0.2508 - val_accuracy: 0.8888 - lr: 0.0010\n",
      "Epoch 12/100\n",
      "225/225 [==============================] - 230s 1s/step - loss: 0.2544 - accuracy: 0.8921 - val_loss: 0.2878 - val_accuracy: 0.8840 - lr: 0.0010\n",
      "Epoch 13/100\n",
      "225/225 [==============================] - 230s 1s/step - loss: 0.2461 - accuracy: 0.8949 - val_loss: 0.2497 - val_accuracy: 0.8872 - lr: 0.0010\n",
      "Epoch 14/100\n",
      "225/225 [==============================] - 231s 1s/step - loss: 0.2370 - accuracy: 0.9004 - val_loss: 0.2347 - val_accuracy: 0.9000 - lr: 0.0010\n",
      "Epoch 15/100\n",
      "225/225 [==============================] - 230s 1s/step - loss: 0.2272 - accuracy: 0.9032 - val_loss: 0.2344 - val_accuracy: 0.9000 - lr: 0.0010\n",
      "Epoch 16/100\n",
      "225/225 [==============================] - 231s 1s/step - loss: 0.2197 - accuracy: 0.9080 - val_loss: 0.2173 - val_accuracy: 0.9116 - lr: 0.0010\n",
      "Epoch 17/100\n",
      "225/225 [==============================] - 230s 1s/step - loss: 0.2125 - accuracy: 0.9125 - val_loss: 0.2360 - val_accuracy: 0.9020 - lr: 0.0010\n",
      "Epoch 18/100\n",
      "225/225 [==============================] - 230s 1s/step - loss: 0.2109 - accuracy: 0.9135 - val_loss: 0.2180 - val_accuracy: 0.9112 - lr: 0.0010\n",
      "Epoch 19/100\n",
      "225/225 [==============================] - 230s 1s/step - loss: 0.2083 - accuracy: 0.9150 - val_loss: 0.2215 - val_accuracy: 0.9056 - lr: 0.0010\n"
     ]
    }
   ],
   "source": [
    "history = model.fit(train_dataset, epochs = 100, validation_data = val_dataset,\n",
    "                    callbacks = [checkpoint_cb, early_stopping_cb, reducelr_cb])\n",
    "model.save_weights(\"35model.h5\")"
   ]
  },
  {
   "cell_type": "code",
   "execution_count": 93,
   "id": "93f81107",
   "metadata": {
    "ExecuteTime": {
     "end_time": "2023-02-11T21:01:36.072812Z",
     "start_time": "2023-02-11T21:00:55.378208Z"
    }
   },
   "outputs": [
    {
     "name": "stdout",
     "output_type": "stream",
     "text": [
      "125/125 [==============================] - 40s 321ms/step\n"
     ]
    }
   ],
   "source": [
    "pred = model.predict(test_dataset)"
   ]
  },
  {
   "cell_type": "code",
   "execution_count": 94,
   "id": "9b4494a9",
   "metadata": {
    "ExecuteTime": {
     "end_time": "2023-02-11T21:01:36.157007Z",
     "start_time": "2023-02-11T21:01:36.075609Z"
    },
    "scrolled": true
   },
   "outputs": [
    {
     "name": "stdout",
     "output_type": "stream",
     "text": [
      "35_model.csv Saved!\n"
     ]
    }
   ],
   "source": [
    "save_preds(pred, \"35_model.csv\")"
   ]
  },
  {
   "cell_type": "markdown",
   "id": "3d5f8c4d",
   "metadata": {},
   "source": [
    "# model(36) - model(28)에 conv2d 추가"
   ]
  },
  {
   "cell_type": "markdown",
   "id": "121465ee",
   "metadata": {},
   "source": [
    "## Score: 0.23347"
   ]
  },
  {
   "cell_type": "code",
   "execution_count": 95,
   "id": "0d6a1f26",
   "metadata": {
    "ExecuteTime": {
     "end_time": "2023-02-11T21:01:36.340133Z",
     "start_time": "2023-02-11T21:01:36.162784Z"
    },
    "scrolled": false
   },
   "outputs": [
    {
     "name": "stdout",
     "output_type": "stream",
     "text": [
      "Model: \"sequential_15\"\n",
      "_________________________________________________________________\n",
      " Layer (type)                Output Shape              Param #   \n",
      "=================================================================\n",
      " conv2d_77 (Conv2D)          (None, 128, 128, 8)       224       \n",
      "                                                                 \n",
      " conv2d_78 (Conv2D)          (None, 128, 128, 16)      1168      \n",
      "                                                                 \n",
      " max_pooling2d_57 (MaxPoolin  (None, 64, 64, 16)       0         \n",
      " g2D)                                                            \n",
      "                                                                 \n",
      " conv2d_79 (Conv2D)          (None, 64, 64, 16)        2320      \n",
      "                                                                 \n",
      " conv2d_80 (Conv2D)          (None, 64, 64, 32)        4640      \n",
      "                                                                 \n",
      " max_pooling2d_58 (MaxPoolin  (None, 32, 32, 32)       0         \n",
      " g2D)                                                            \n",
      "                                                                 \n",
      " conv2d_81 (Conv2D)          (None, 32, 32, 64)        18496     \n",
      "                                                                 \n",
      " max_pooling2d_59 (MaxPoolin  (None, 16, 16, 64)       0         \n",
      " g2D)                                                            \n",
      "                                                                 \n",
      " dropout_40 (Dropout)        (None, 16, 16, 64)        0         \n",
      "                                                                 \n",
      " conv2d_82 (Conv2D)          (None, 16, 16, 128)       73856     \n",
      "                                                                 \n",
      " max_pooling2d_60 (MaxPoolin  (None, 8, 8, 128)        0         \n",
      " g2D)                                                            \n",
      "                                                                 \n",
      " flatten_15 (Flatten)        (None, 8192)              0         \n",
      "                                                                 \n",
      " dropout_41 (Dropout)        (None, 8192)              0         \n",
      "                                                                 \n",
      " dense_45 (Dense)            (None, 16)                131088    \n",
      "                                                                 \n",
      " dense_46 (Dense)            (None, 32)                544       \n",
      "                                                                 \n",
      " dropout_42 (Dropout)        (None, 32)                0         \n",
      "                                                                 \n",
      " dense_47 (Dense)            (None, 1)                 33        \n",
      "                                                                 \n",
      "=================================================================\n",
      "Total params: 232,369\n",
      "Trainable params: 232,369\n",
      "Non-trainable params: 0\n",
      "_________________________________________________________________\n"
     ]
    }
   ],
   "source": [
    "model = keras.Sequential()\n",
    "model.add(keras.layers.Conv2D(8, kernel_size = 3, activation = \"leaky_relu\", padding = \"same\",\n",
    "                              input_shape = (128,128, 3)))\n",
    "\n",
    "model.add(keras.layers.Conv2D(16, kernel_size = 3, activation = \"relu\", padding = \"same\"))\n",
    "model.add(keras.layers.MaxPool2D(2))\n",
    "\n",
    "model.add(keras.layers.Conv2D(16, kernel_size = 3, activation = \"relu\", padding = \"same\"))\n",
    "\n",
    "model.add(keras.layers.Conv2D(32, kernel_size = 3, activation = \"leaky_relu\", padding = \"same\"))\n",
    "model.add(keras.layers.MaxPool2D(2))\n",
    "\n",
    "model.add(keras.layers.Conv2D(64, kernel_size = 3, activation = \"relu\", padding = \"same\"))\n",
    "model.add(keras.layers.MaxPool2D(2))\n",
    "\n",
    "model.add(keras.layers.Dropout(0.25))\n",
    "\n",
    "model.add(keras.layers.Conv2D(128, kernel_size = 3, activation = \"relu\", padding = \"same\"))\n",
    "model.add(keras.layers.MaxPool2D(2))\n",
    "\n",
    "model.add(keras.layers.Flatten())\n",
    "\n",
    "model.add(keras.layers.Dropout(0.25))\n",
    "\n",
    "model.add(keras.layers.Dense(16, activation = \"leaky_relu\"))\n",
    "\n",
    "model.add(keras.layers.Dense(32, activation = \"leaky_relu\"))\n",
    "\n",
    "model.add(keras.layers.Dropout(0.4))\n",
    "\n",
    "model.add(keras.layers.Dense(1, activation = \"sigmoid\"))\n",
    "model.summary()"
   ]
  },
  {
   "cell_type": "code",
   "execution_count": 96,
   "id": "d22d701d",
   "metadata": {
    "ExecuteTime": {
     "end_time": "2023-02-11T21:01:36.345920Z",
     "start_time": "2023-02-11T21:01:36.342069Z"
    }
   },
   "outputs": [],
   "source": [
    "checkpoint_cb = keras.callbacks.ModelCheckpoint(\"./model/best-cnn-36model.h5\", save_best_only = True)\n",
    "early_stopping_cb = keras.callbacks.EarlyStopping(patience = 3, restore_best_weights = True)\n",
    "reducelr_cb = keras.callbacks.ReduceLROnPlateau(monitor = \"val_loss\", factor = .5, patience = 3)"
   ]
  },
  {
   "cell_type": "code",
   "execution_count": 97,
   "id": "adb6ce69",
   "metadata": {
    "ExecuteTime": {
     "end_time": "2023-02-11T21:01:36.359361Z",
     "start_time": "2023-02-11T21:01:36.348478Z"
    }
   },
   "outputs": [],
   "source": [
    "model.compile(optimizer = \"adam\", loss = \"binary_crossentropy\", metrics = \"accuracy\")"
   ]
  },
  {
   "cell_type": "code",
   "execution_count": 98,
   "id": "7e129645",
   "metadata": {
    "ExecuteTime": {
     "end_time": "2023-02-11T23:05:16.298473Z",
     "start_time": "2023-02-11T21:01:36.361793Z"
    },
    "scrolled": true
   },
   "outputs": [
    {
     "name": "stdout",
     "output_type": "stream",
     "text": [
      "Epoch 1/100\n",
      "225/225 [==============================] - 309s 1s/step - loss: 0.6675 - accuracy: 0.5794 - val_loss: 0.6239 - val_accuracy: 0.6364 - lr: 0.0010\n",
      "Epoch 2/100\n",
      "225/225 [==============================] - 308s 1s/step - loss: 0.5814 - accuracy: 0.6894 - val_loss: 0.5333 - val_accuracy: 0.7312 - lr: 0.0010\n",
      "Epoch 3/100\n",
      "225/225 [==============================] - 308s 1s/step - loss: 0.5036 - accuracy: 0.7580 - val_loss: 0.4874 - val_accuracy: 0.7668 - lr: 0.0010\n",
      "Epoch 4/100\n",
      "225/225 [==============================] - 309s 1s/step - loss: 0.4596 - accuracy: 0.7857 - val_loss: 0.4369 - val_accuracy: 0.7948 - lr: 0.0010\n",
      "Epoch 5/100\n",
      "225/225 [==============================] - 308s 1s/step - loss: 0.4315 - accuracy: 0.8042 - val_loss: 0.4197 - val_accuracy: 0.8156 - lr: 0.0010\n",
      "Epoch 6/100\n",
      "225/225 [==============================] - 309s 1s/step - loss: 0.4000 - accuracy: 0.8228 - val_loss: 0.4094 - val_accuracy: 0.8152 - lr: 0.0010\n",
      "Epoch 7/100\n",
      "225/225 [==============================] - 308s 1s/step - loss: 0.3757 - accuracy: 0.8314 - val_loss: 0.3445 - val_accuracy: 0.8404 - lr: 0.0010\n",
      "Epoch 8/100\n",
      "225/225 [==============================] - 309s 1s/step - loss: 0.3492 - accuracy: 0.8486 - val_loss: 0.3219 - val_accuracy: 0.8652 - lr: 0.0010\n",
      "Epoch 9/100\n",
      "225/225 [==============================] - 308s 1s/step - loss: 0.3340 - accuracy: 0.8562 - val_loss: 0.3217 - val_accuracy: 0.8624 - lr: 0.0010\n",
      "Epoch 10/100\n",
      "225/225 [==============================] - 309s 1s/step - loss: 0.3059 - accuracy: 0.8711 - val_loss: 0.3221 - val_accuracy: 0.8608 - lr: 0.0010\n",
      "Epoch 11/100\n",
      "225/225 [==============================] - 309s 1s/step - loss: 0.2970 - accuracy: 0.8751 - val_loss: 0.2765 - val_accuracy: 0.8844 - lr: 0.0010\n",
      "Epoch 12/100\n",
      "225/225 [==============================] - 310s 1s/step - loss: 0.2835 - accuracy: 0.8807 - val_loss: 0.3179 - val_accuracy: 0.8652 - lr: 0.0010\n",
      "Epoch 13/100\n",
      "225/225 [==============================] - 311s 1s/step - loss: 0.2687 - accuracy: 0.8866 - val_loss: 0.2675 - val_accuracy: 0.8812 - lr: 0.0010\n",
      "Epoch 14/100\n",
      "225/225 [==============================] - 309s 1s/step - loss: 0.2576 - accuracy: 0.8929 - val_loss: 0.2533 - val_accuracy: 0.8976 - lr: 0.0010\n",
      "Epoch 15/100\n",
      "225/225 [==============================] - 309s 1s/step - loss: 0.2498 - accuracy: 0.8957 - val_loss: 0.2465 - val_accuracy: 0.9028 - lr: 0.0010\n",
      "Epoch 16/100\n",
      "225/225 [==============================] - 310s 1s/step - loss: 0.2356 - accuracy: 0.9032 - val_loss: 0.2335 - val_accuracy: 0.9068 - lr: 0.0010\n",
      "Epoch 17/100\n",
      "225/225 [==============================] - 309s 1s/step - loss: 0.2316 - accuracy: 0.9040 - val_loss: 0.2291 - val_accuracy: 0.9028 - lr: 0.0010\n",
      "Epoch 18/100\n",
      "225/225 [==============================] - 308s 1s/step - loss: 0.2192 - accuracy: 0.9093 - val_loss: 0.2527 - val_accuracy: 0.8960 - lr: 0.0010\n",
      "Epoch 19/100\n",
      "225/225 [==============================] - 309s 1s/step - loss: 0.2146 - accuracy: 0.9098 - val_loss: 0.2245 - val_accuracy: 0.9084 - lr: 0.0010\n",
      "Epoch 20/100\n",
      "225/225 [==============================] - 308s 1s/step - loss: 0.2079 - accuracy: 0.9124 - val_loss: 0.2282 - val_accuracy: 0.9076 - lr: 0.0010\n",
      "Epoch 21/100\n",
      "225/225 [==============================] - 310s 1s/step - loss: 0.2047 - accuracy: 0.9167 - val_loss: 0.2177 - val_accuracy: 0.9124 - lr: 0.0010\n",
      "Epoch 22/100\n",
      "225/225 [==============================] - 311s 1s/step - loss: 0.1975 - accuracy: 0.9164 - val_loss: 0.2273 - val_accuracy: 0.9048 - lr: 0.0010\n",
      "Epoch 23/100\n",
      "225/225 [==============================] - 310s 1s/step - loss: 0.1916 - accuracy: 0.9217 - val_loss: 0.2227 - val_accuracy: 0.9064 - lr: 0.0010\n",
      "Epoch 24/100\n",
      "225/225 [==============================] - 310s 1s/step - loss: 0.1857 - accuracy: 0.9269 - val_loss: 0.2204 - val_accuracy: 0.9036 - lr: 0.0010\n"
     ]
    }
   ],
   "source": [
    "history = model.fit(train_dataset, epochs = 100, validation_data = val_dataset,\n",
    "                    callbacks = [checkpoint_cb, early_stopping_cb, reducelr_cb])\n",
    "model.save_weights(\"36model.h5\")"
   ]
  },
  {
   "cell_type": "code",
   "execution_count": 99,
   "id": "e5c586cb",
   "metadata": {
    "ExecuteTime": {
     "end_time": "2023-02-11T23:06:06.461086Z",
     "start_time": "2023-02-11T23:05:16.301512Z"
    }
   },
   "outputs": [
    {
     "name": "stdout",
     "output_type": "stream",
     "text": [
      "125/125 [==============================] - 50s 396ms/step\n"
     ]
    }
   ],
   "source": [
    "pred = model.predict(test_dataset)"
   ]
  },
  {
   "cell_type": "code",
   "execution_count": 100,
   "id": "79f62e0e",
   "metadata": {
    "ExecuteTime": {
     "end_time": "2023-02-11T23:06:06.546367Z",
     "start_time": "2023-02-11T23:06:06.463745Z"
    },
    "scrolled": true
   },
   "outputs": [
    {
     "name": "stdout",
     "output_type": "stream",
     "text": [
      "36_model.csv Saved!\n"
     ]
    }
   ],
   "source": [
    "save_preds(pred, \"36_model.csv\")"
   ]
  },
  {
   "cell_type": "markdown",
   "id": "502e0f4f",
   "metadata": {},
   "source": [
    "# model(37) - model(28)에 conv2d 추가, maxpool추가"
   ]
  },
  {
   "cell_type": "markdown",
   "id": "96c8156e",
   "metadata": {},
   "source": [
    "## Score: 0.21295"
   ]
  },
  {
   "cell_type": "code",
   "execution_count": 101,
   "id": "436f727c",
   "metadata": {
    "ExecuteTime": {
     "end_time": "2023-02-11T23:06:06.729540Z",
     "start_time": "2023-02-11T23:06:06.548636Z"
    },
    "scrolled": false
   },
   "outputs": [
    {
     "name": "stdout",
     "output_type": "stream",
     "text": [
      "Model: \"sequential_16\"\n",
      "_________________________________________________________________\n",
      " Layer (type)                Output Shape              Param #   \n",
      "=================================================================\n",
      " conv2d_83 (Conv2D)          (None, 128, 128, 8)       224       \n",
      "                                                                 \n",
      " conv2d_84 (Conv2D)          (None, 128, 128, 16)      1168      \n",
      "                                                                 \n",
      " max_pooling2d_61 (MaxPoolin  (None, 64, 64, 16)       0         \n",
      " g2D)                                                            \n",
      "                                                                 \n",
      " conv2d_85 (Conv2D)          (None, 64, 64, 16)        2320      \n",
      "                                                                 \n",
      " max_pooling2d_62 (MaxPoolin  (None, 32, 32, 16)       0         \n",
      " g2D)                                                            \n",
      "                                                                 \n",
      " conv2d_86 (Conv2D)          (None, 32, 32, 32)        4640      \n",
      "                                                                 \n",
      " max_pooling2d_63 (MaxPoolin  (None, 16, 16, 32)       0         \n",
      " g2D)                                                            \n",
      "                                                                 \n",
      " conv2d_87 (Conv2D)          (None, 16, 16, 64)        18496     \n",
      "                                                                 \n",
      " max_pooling2d_64 (MaxPoolin  (None, 8, 8, 64)         0         \n",
      " g2D)                                                            \n",
      "                                                                 \n",
      " dropout_43 (Dropout)        (None, 8, 8, 64)          0         \n",
      "                                                                 \n",
      " conv2d_88 (Conv2D)          (None, 8, 8, 128)         73856     \n",
      "                                                                 \n",
      " max_pooling2d_65 (MaxPoolin  (None, 4, 4, 128)        0         \n",
      " g2D)                                                            \n",
      "                                                                 \n",
      " flatten_16 (Flatten)        (None, 2048)              0         \n",
      "                                                                 \n",
      " dropout_44 (Dropout)        (None, 2048)              0         \n",
      "                                                                 \n",
      " dense_48 (Dense)            (None, 16)                32784     \n",
      "                                                                 \n",
      " dense_49 (Dense)            (None, 32)                544       \n",
      "                                                                 \n",
      " dropout_45 (Dropout)        (None, 32)                0         \n",
      "                                                                 \n",
      " dense_50 (Dense)            (None, 1)                 33        \n",
      "                                                                 \n",
      "=================================================================\n",
      "Total params: 134,065\n",
      "Trainable params: 134,065\n",
      "Non-trainable params: 0\n",
      "_________________________________________________________________\n"
     ]
    }
   ],
   "source": [
    "model = keras.Sequential()\n",
    "model.add(keras.layers.Conv2D(8, kernel_size = 3, activation = \"leaky_relu\", padding = \"same\",\n",
    "                              input_shape = (128,128, 3)))\n",
    "\n",
    "model.add(keras.layers.Conv2D(16, kernel_size = 3, activation = \"relu\", padding = \"same\"))\n",
    "model.add(keras.layers.MaxPool2D(2))\n",
    "\n",
    "model.add(keras.layers.Conv2D(16, kernel_size = 3, activation = \"relu\", padding = \"same\"))\n",
    "model.add(keras.layers.MaxPool2D(2))\n",
    "\n",
    "model.add(keras.layers.Conv2D(32, kernel_size = 3, activation = \"leaky_relu\", padding = \"same\"))\n",
    "model.add(keras.layers.MaxPool2D(2))\n",
    "\n",
    "model.add(keras.layers.Conv2D(64, kernel_size = 3, activation = \"relu\", padding = \"same\"))\n",
    "model.add(keras.layers.MaxPool2D(2))\n",
    "\n",
    "model.add(keras.layers.Dropout(0.25))\n",
    "\n",
    "model.add(keras.layers.Conv2D(128, kernel_size = 3, activation = \"relu\", padding = \"same\"))\n",
    "model.add(keras.layers.MaxPool2D(2))\n",
    "\n",
    "model.add(keras.layers.Flatten())\n",
    "\n",
    "model.add(keras.layers.Dropout(0.25))\n",
    "\n",
    "model.add(keras.layers.Dense(16, activation = \"leaky_relu\"))\n",
    "\n",
    "model.add(keras.layers.Dense(32, activation = \"leaky_relu\"))\n",
    "\n",
    "model.add(keras.layers.Dropout(0.4))\n",
    "\n",
    "model.add(keras.layers.Dense(1, activation = \"sigmoid\"))\n",
    "model.summary()"
   ]
  },
  {
   "cell_type": "code",
   "execution_count": 102,
   "id": "07a18bd9",
   "metadata": {
    "ExecuteTime": {
     "end_time": "2023-02-11T23:06:06.736389Z",
     "start_time": "2023-02-11T23:06:06.732148Z"
    }
   },
   "outputs": [],
   "source": [
    "checkpoint_cb = keras.callbacks.ModelCheckpoint(\"./model/best-cnn-37model.h5\", save_best_only = True)\n",
    "early_stopping_cb = keras.callbacks.EarlyStopping(patience = 3, restore_best_weights = True)\n",
    "reducelr_cb = keras.callbacks.ReduceLROnPlateau(monitor = \"val_loss\", factor = .5, patience = 3)"
   ]
  },
  {
   "cell_type": "code",
   "execution_count": 103,
   "id": "b2244b9f",
   "metadata": {
    "ExecuteTime": {
     "end_time": "2023-02-11T23:06:06.749902Z",
     "start_time": "2023-02-11T23:06:06.738934Z"
    }
   },
   "outputs": [],
   "source": [
    "model.compile(optimizer = \"adam\", loss = \"binary_crossentropy\", metrics = \"accuracy\")"
   ]
  },
  {
   "cell_type": "code",
   "execution_count": 104,
   "id": "b6413f46",
   "metadata": {
    "ExecuteTime": {
     "end_time": "2023-02-12T01:02:55.110774Z",
     "start_time": "2023-02-11T23:06:06.752930Z"
    },
    "scrolled": true
   },
   "outputs": [
    {
     "name": "stdout",
     "output_type": "stream",
     "text": [
      "Epoch 1/100\n",
      "225/225 [==============================] - 263s 1s/step - loss: 0.6545 - accuracy: 0.5924 - val_loss: 0.5751 - val_accuracy: 0.6824 - lr: 0.0010\n",
      "Epoch 2/100\n",
      "225/225 [==============================] - 260s 1s/step - loss: 0.5652 - accuracy: 0.7055 - val_loss: 0.5154 - val_accuracy: 0.7508 - lr: 0.0010\n",
      "Epoch 3/100\n",
      "225/225 [==============================] - 259s 1s/step - loss: 0.4869 - accuracy: 0.7661 - val_loss: 0.4322 - val_accuracy: 0.7936 - lr: 0.0010\n",
      "Epoch 4/100\n",
      "225/225 [==============================] - 260s 1s/step - loss: 0.4203 - accuracy: 0.8079 - val_loss: 0.4132 - val_accuracy: 0.8052 - lr: 0.0010\n",
      "Epoch 5/100\n",
      "225/225 [==============================] - 259s 1s/step - loss: 0.3734 - accuracy: 0.8328 - val_loss: 0.3626 - val_accuracy: 0.8320 - lr: 0.0010\n",
      "Epoch 6/100\n",
      "225/225 [==============================] - 260s 1s/step - loss: 0.3312 - accuracy: 0.8564 - val_loss: 0.3079 - val_accuracy: 0.8640 - lr: 0.0010\n",
      "Epoch 7/100\n",
      "225/225 [==============================] - 242s 1s/step - loss: 0.3069 - accuracy: 0.8684 - val_loss: 0.3228 - val_accuracy: 0.8620 - lr: 0.0010\n",
      "Epoch 8/100\n",
      "225/225 [==============================] - 216s 958ms/step - loss: 0.2852 - accuracy: 0.8764 - val_loss: 0.2988 - val_accuracy: 0.8644 - lr: 0.0010\n",
      "Epoch 9/100\n",
      "225/225 [==============================] - 216s 957ms/step - loss: 0.2724 - accuracy: 0.8840 - val_loss: 0.2812 - val_accuracy: 0.8764 - lr: 0.0010\n",
      "Epoch 10/100\n",
      "225/225 [==============================] - 216s 960ms/step - loss: 0.2626 - accuracy: 0.8902 - val_loss: 0.2564 - val_accuracy: 0.8968 - lr: 0.0010\n",
      "Epoch 11/100\n",
      "225/225 [==============================] - 216s 957ms/step - loss: 0.2469 - accuracy: 0.8956 - val_loss: 0.2464 - val_accuracy: 0.8960 - lr: 0.0010\n",
      "Epoch 12/100\n",
      "225/225 [==============================] - 215s 955ms/step - loss: 0.2370 - accuracy: 0.8990 - val_loss: 0.2447 - val_accuracy: 0.8936 - lr: 0.0010\n",
      "Epoch 13/100\n",
      "225/225 [==============================] - 216s 956ms/step - loss: 0.2312 - accuracy: 0.9019 - val_loss: 0.2287 - val_accuracy: 0.9052 - lr: 0.0010\n",
      "Epoch 14/100\n",
      "225/225 [==============================] - 215s 953ms/step - loss: 0.2200 - accuracy: 0.9068 - val_loss: 0.2213 - val_accuracy: 0.9148 - lr: 0.0010\n",
      "Epoch 15/100\n",
      "225/225 [==============================] - 215s 956ms/step - loss: 0.2168 - accuracy: 0.9076 - val_loss: 0.2251 - val_accuracy: 0.9056 - lr: 0.0010\n",
      "Epoch 16/100\n",
      "225/225 [==============================] - 215s 952ms/step - loss: 0.2051 - accuracy: 0.9156 - val_loss: 0.2220 - val_accuracy: 0.9032 - lr: 0.0010\n",
      "Epoch 17/100\n",
      "225/225 [==============================] - 216s 957ms/step - loss: 0.2005 - accuracy: 0.9186 - val_loss: 0.2202 - val_accuracy: 0.9068 - lr: 0.0010\n",
      "Epoch 18/100\n",
      "225/225 [==============================] - 216s 957ms/step - loss: 0.1935 - accuracy: 0.9176 - val_loss: 0.2265 - val_accuracy: 0.9008 - lr: 0.0010\n",
      "Epoch 19/100\n",
      "225/225 [==============================] - 215s 953ms/step - loss: 0.1989 - accuracy: 0.9167 - val_loss: 0.2385 - val_accuracy: 0.8984 - lr: 0.0010\n",
      "Epoch 20/100\n",
      "225/225 [==============================] - 215s 954ms/step - loss: 0.1939 - accuracy: 0.9182 - val_loss: 0.2145 - val_accuracy: 0.9116 - lr: 0.0010\n",
      "Epoch 21/100\n",
      "225/225 [==============================] - 215s 955ms/step - loss: 0.1846 - accuracy: 0.9236 - val_loss: 0.2195 - val_accuracy: 0.9112 - lr: 0.0010\n",
      "Epoch 22/100\n",
      "225/225 [==============================] - 216s 957ms/step - loss: 0.1838 - accuracy: 0.9243 - val_loss: 0.2215 - val_accuracy: 0.9056 - lr: 0.0010\n",
      "Epoch 23/100\n",
      "225/225 [==============================] - 216s 957ms/step - loss: 0.1798 - accuracy: 0.9255 - val_loss: 0.2071 - val_accuracy: 0.9124 - lr: 0.0010\n",
      "Epoch 24/100\n",
      "225/225 [==============================] - 227s 1s/step - loss: 0.1766 - accuracy: 0.9270 - val_loss: 0.2278 - val_accuracy: 0.9080 - lr: 0.0010\n",
      "Epoch 25/100\n",
      "225/225 [==============================] - 253s 1s/step - loss: 0.1695 - accuracy: 0.9298 - val_loss: 0.2080 - val_accuracy: 0.9076 - lr: 0.0010\n",
      "Epoch 26/100\n",
      "225/225 [==============================] - 255s 1s/step - loss: 0.1666 - accuracy: 0.9308 - val_loss: 0.1940 - val_accuracy: 0.9224 - lr: 0.0010\n",
      "Epoch 27/100\n",
      "225/225 [==============================] - 257s 1s/step - loss: 0.1642 - accuracy: 0.9316 - val_loss: 0.1841 - val_accuracy: 0.9224 - lr: 0.0010\n",
      "Epoch 28/100\n",
      "225/225 [==============================] - 256s 1s/step - loss: 0.1638 - accuracy: 0.9326 - val_loss: 0.1973 - val_accuracy: 0.9128 - lr: 0.0010\n",
      "Epoch 29/100\n",
      "225/225 [==============================] - 256s 1s/step - loss: 0.1610 - accuracy: 0.9329 - val_loss: 0.2085 - val_accuracy: 0.9148 - lr: 0.0010\n",
      "Epoch 30/100\n",
      "225/225 [==============================] - 256s 1s/step - loss: 0.1576 - accuracy: 0.9338 - val_loss: 0.1991 - val_accuracy: 0.9176 - lr: 0.0010\n"
     ]
    }
   ],
   "source": [
    "history = model.fit(train_dataset, epochs = 100, validation_data = val_dataset,\n",
    "                    callbacks = [checkpoint_cb, early_stopping_cb, reducelr_cb])\n",
    "model.save_weights(\"37model.h5\")"
   ]
  },
  {
   "cell_type": "code",
   "execution_count": 105,
   "id": "9286d6ea",
   "metadata": {
    "ExecuteTime": {
     "end_time": "2023-02-12T01:03:38.376051Z",
     "start_time": "2023-02-12T01:02:55.113401Z"
    }
   },
   "outputs": [
    {
     "name": "stdout",
     "output_type": "stream",
     "text": [
      "125/125 [==============================] - 43s 341ms/step\n"
     ]
    }
   ],
   "source": [
    "pred = model.predict(test_dataset)"
   ]
  },
  {
   "cell_type": "code",
   "execution_count": 106,
   "id": "406e744e",
   "metadata": {
    "ExecuteTime": {
     "end_time": "2023-02-12T01:03:38.504605Z",
     "start_time": "2023-02-12T01:03:38.379019Z"
    },
    "scrolled": true
   },
   "outputs": [
    {
     "name": "stdout",
     "output_type": "stream",
     "text": [
      "37_model.csv Saved!\n"
     ]
    }
   ],
   "source": [
    "save_preds(pred, \"37_model.csv\")"
   ]
  },
  {
   "cell_type": "markdown",
   "id": "5bded802",
   "metadata": {},
   "source": [
    "# model(38) - model(28)에 leaky_relu 추가"
   ]
  },
  {
   "cell_type": "markdown",
   "id": "169b339b",
   "metadata": {},
   "source": [
    "## Score: 0.23046"
   ]
  },
  {
   "cell_type": "code",
   "execution_count": 107,
   "id": "e1b3745d",
   "metadata": {
    "ExecuteTime": {
     "end_time": "2023-02-13T00:06:33.167928Z",
     "start_time": "2023-02-13T00:06:32.586648Z"
    },
    "scrolled": false
   },
   "outputs": [
    {
     "name": "stdout",
     "output_type": "stream",
     "text": [
      "Model: \"sequential_17\"\n",
      "_________________________________________________________________\n",
      " Layer (type)                Output Shape              Param #   \n",
      "=================================================================\n",
      " conv2d_89 (Conv2D)          (None, 128, 128, 8)       224       \n",
      "                                                                 \n",
      " conv2d_90 (Conv2D)          (None, 128, 128, 16)      1168      \n",
      "                                                                 \n",
      " max_pooling2d_66 (MaxPoolin  (None, 64, 64, 16)       0         \n",
      " g2D)                                                            \n",
      "                                                                 \n",
      " conv2d_91 (Conv2D)          (None, 64, 64, 32)        4640      \n",
      "                                                                 \n",
      " max_pooling2d_67 (MaxPoolin  (None, 32, 32, 32)       0         \n",
      " g2D)                                                            \n",
      "                                                                 \n",
      " conv2d_92 (Conv2D)          (None, 32, 32, 64)        18496     \n",
      "                                                                 \n",
      " max_pooling2d_68 (MaxPoolin  (None, 16, 16, 64)       0         \n",
      " g2D)                                                            \n",
      "                                                                 \n",
      " dropout_46 (Dropout)        (None, 16, 16, 64)        0         \n",
      "                                                                 \n",
      " conv2d_93 (Conv2D)          (None, 16, 16, 128)       73856     \n",
      "                                                                 \n",
      " max_pooling2d_69 (MaxPoolin  (None, 8, 8, 128)        0         \n",
      " g2D)                                                            \n",
      "                                                                 \n",
      " flatten_17 (Flatten)        (None, 8192)              0         \n",
      "                                                                 \n",
      " dropout_47 (Dropout)        (None, 8192)              0         \n",
      "                                                                 \n",
      " dense_51 (Dense)            (None, 16)                131088    \n",
      "                                                                 \n",
      " dense_52 (Dense)            (None, 32)                544       \n",
      "                                                                 \n",
      " dropout_48 (Dropout)        (None, 32)                0         \n",
      "                                                                 \n",
      " dense_53 (Dense)            (None, 1)                 33        \n",
      "                                                                 \n",
      "=================================================================\n",
      "Total params: 230,049\n",
      "Trainable params: 230,049\n",
      "Non-trainable params: 0\n",
      "_________________________________________________________________\n"
     ]
    }
   ],
   "source": [
    "model = keras.Sequential()\n",
    "model.add(keras.layers.Conv2D(8, kernel_size = 3, activation = \"leaky_relu\", padding = \"same\",\n",
    "                              input_shape = (128,128, 3)))\n",
    "\n",
    "\n",
    "model.add(keras.layers.Conv2D(16, kernel_size = 3, activation = \"relu\", padding = \"same\"))\n",
    "model.add(keras.layers.MaxPool2D(2))\n",
    "\n",
    "model.add(keras.layers.Conv2D(32, kernel_size = 3, activation = \"leaky_relu\", padding = \"same\"))\n",
    "model.add(keras.layers.MaxPool2D(2))\n",
    "\n",
    "model.add(keras.layers.Conv2D(64, kernel_size = 3, activation = \"relu\", padding = \"same\"))\n",
    "model.add(keras.layers.MaxPool2D(2))\n",
    "\n",
    "model.add(keras.layers.Dropout(0.25))\n",
    "\n",
    "model.add(keras.layers.Conv2D(128, kernel_size = 3, activation = \"leaky_relu\", padding = \"same\"))\n",
    "model.add(keras.layers.MaxPool2D(2))\n",
    "\n",
    "model.add(keras.layers.Flatten())\n",
    "\n",
    "model.add(keras.layers.Dropout(0.25))\n",
    "\n",
    "model.add(keras.layers.Dense(16, activation = \"leaky_relu\"))\n",
    "\n",
    "model.add(keras.layers.Dense(32, activation = \"leaky_relu\"))\n",
    "\n",
    "model.add(keras.layers.Dropout(0.4))\n",
    "\n",
    "model.add(keras.layers.Dense(1, activation = \"sigmoid\"))\n",
    "model.summary()"
   ]
  },
  {
   "cell_type": "code",
   "execution_count": 108,
   "id": "32ab0641",
   "metadata": {
    "ExecuteTime": {
     "end_time": "2023-02-13T00:06:33.180984Z",
     "start_time": "2023-02-13T00:06:33.172817Z"
    }
   },
   "outputs": [],
   "source": [
    "checkpoint_cb = keras.callbacks.ModelCheckpoint(\"./model/best-cnn-38model.h5\", save_best_only = True)\n",
    "early_stopping_cb = keras.callbacks.EarlyStopping(patience = 3, restore_best_weights = True)\n",
    "reducelr_cb = keras.callbacks.ReduceLROnPlateau(monitor = \"val_loss\", factor = .5, patience = 3)"
   ]
  },
  {
   "cell_type": "code",
   "execution_count": 109,
   "id": "ea2146ec",
   "metadata": {
    "ExecuteTime": {
     "end_time": "2023-02-13T00:06:33.198911Z",
     "start_time": "2023-02-13T00:06:33.183865Z"
    }
   },
   "outputs": [],
   "source": [
    "model.compile(optimizer = \"adam\", loss = \"binary_crossentropy\", metrics = \"accuracy\")"
   ]
  },
  {
   "cell_type": "code",
   "execution_count": 110,
   "id": "fd640fb4",
   "metadata": {
    "ExecuteTime": {
     "end_time": "2023-02-13T01:35:13.639324Z",
     "start_time": "2023-02-13T00:06:33.202447Z"
    },
    "scrolled": true
   },
   "outputs": [
    {
     "name": "stdout",
     "output_type": "stream",
     "text": [
      "Epoch 1/100\n",
      "225/225 [==============================] - 245s 1s/step - loss: 0.6750 - accuracy: 0.5659 - val_loss: 0.6198 - val_accuracy: 0.6572 - lr: 0.0010\n",
      "Epoch 2/100\n",
      "225/225 [==============================] - 232s 1s/step - loss: 0.5634 - accuracy: 0.7143 - val_loss: 0.5345 - val_accuracy: 0.7208 - lr: 0.0010\n",
      "Epoch 3/100\n",
      "225/225 [==============================] - 231s 1s/step - loss: 0.4655 - accuracy: 0.7801 - val_loss: 0.4267 - val_accuracy: 0.8080 - lr: 0.0010\n",
      "Epoch 4/100\n",
      "225/225 [==============================] - 242s 1s/step - loss: 0.4077 - accuracy: 0.8161 - val_loss: 0.3814 - val_accuracy: 0.8236 - lr: 0.0010\n",
      "Epoch 5/100\n",
      "225/225 [==============================] - 255s 1s/step - loss: 0.3599 - accuracy: 0.8448 - val_loss: 0.3325 - val_accuracy: 0.8592 - lr: 0.0010\n",
      "Epoch 6/100\n",
      "225/225 [==============================] - 254s 1s/step - loss: 0.3277 - accuracy: 0.8584 - val_loss: 0.3240 - val_accuracy: 0.8556 - lr: 0.0010\n",
      "Epoch 7/100\n",
      "225/225 [==============================] - 236s 1s/step - loss: 0.2986 - accuracy: 0.8745 - val_loss: 0.2813 - val_accuracy: 0.8776 - lr: 0.0010\n",
      "Epoch 8/100\n",
      "225/225 [==============================] - 238s 1s/step - loss: 0.2752 - accuracy: 0.8834 - val_loss: 0.2723 - val_accuracy: 0.8760 - lr: 0.0010\n",
      "Epoch 9/100\n",
      "225/225 [==============================] - 237s 1s/step - loss: 0.2601 - accuracy: 0.8924 - val_loss: 0.2427 - val_accuracy: 0.8936 - lr: 0.0010\n",
      "Epoch 10/100\n",
      "225/225 [==============================] - 237s 1s/step - loss: 0.2500 - accuracy: 0.8944 - val_loss: 0.2440 - val_accuracy: 0.8956 - lr: 0.0010\n",
      "Epoch 11/100\n",
      "225/225 [==============================] - 267s 1s/step - loss: 0.2423 - accuracy: 0.8956 - val_loss: 0.2342 - val_accuracy: 0.9040 - lr: 0.0010\n",
      "Epoch 12/100\n",
      "225/225 [==============================] - 265s 1s/step - loss: 0.2248 - accuracy: 0.9076 - val_loss: 0.2313 - val_accuracy: 0.8984 - lr: 0.0010\n",
      "Epoch 13/100\n",
      "225/225 [==============================] - 242s 1s/step - loss: 0.2110 - accuracy: 0.9137 - val_loss: 0.2142 - val_accuracy: 0.9132 - lr: 0.0010\n",
      "Epoch 14/100\n",
      "225/225 [==============================] - 241s 1s/step - loss: 0.2064 - accuracy: 0.9152 - val_loss: 0.2136 - val_accuracy: 0.9092 - lr: 0.0010\n",
      "Epoch 15/100\n",
      "225/225 [==============================] - 273s 1s/step - loss: 0.1998 - accuracy: 0.9183 - val_loss: 0.2163 - val_accuracy: 0.9132 - lr: 0.0010\n",
      "Epoch 16/100\n",
      "225/225 [==============================] - 278s 1s/step - loss: 0.1928 - accuracy: 0.9222 - val_loss: 0.2000 - val_accuracy: 0.9164 - lr: 0.0010\n",
      "Epoch 17/100\n",
      "225/225 [==============================] - 263s 1s/step - loss: 0.1887 - accuracy: 0.9235 - val_loss: 0.2282 - val_accuracy: 0.9020 - lr: 0.0010\n",
      "Epoch 18/100\n",
      "225/225 [==============================] - 266s 1s/step - loss: 0.1833 - accuracy: 0.9255 - val_loss: 0.1907 - val_accuracy: 0.9240 - lr: 0.0010\n",
      "Epoch 19/100\n",
      "225/225 [==============================] - 268s 1s/step - loss: 0.1783 - accuracy: 0.9277 - val_loss: 0.1947 - val_accuracy: 0.9112 - lr: 0.0010\n",
      "Epoch 20/100\n",
      "225/225 [==============================] - 276s 1s/step - loss: 0.1740 - accuracy: 0.9301 - val_loss: 0.2191 - val_accuracy: 0.9068 - lr: 0.0010\n",
      "Epoch 21/100\n",
      "225/225 [==============================] - 273s 1s/step - loss: 0.1649 - accuracy: 0.9334 - val_loss: 0.1923 - val_accuracy: 0.9176 - lr: 0.0010\n"
     ]
    }
   ],
   "source": [
    "history = model.fit(train_dataset, epochs = 100, validation_data = val_dataset,\n",
    "                    callbacks = [checkpoint_cb, early_stopping_cb, reducelr_cb])\n",
    "model.save_weights(\"38model.h5\")"
   ]
  },
  {
   "cell_type": "code",
   "execution_count": 111,
   "id": "b343a3cf",
   "metadata": {
    "ExecuteTime": {
     "end_time": "2023-02-13T01:36:04.075806Z",
     "start_time": "2023-02-13T01:35:13.642021Z"
    }
   },
   "outputs": [
    {
     "name": "stdout",
     "output_type": "stream",
     "text": [
      "125/125 [==============================] - 50s 397ms/step\n"
     ]
    }
   ],
   "source": [
    "pred = model.predict(test_dataset)"
   ]
  },
  {
   "cell_type": "code",
   "execution_count": 112,
   "id": "5a74226b",
   "metadata": {
    "ExecuteTime": {
     "end_time": "2023-02-13T01:36:04.254617Z",
     "start_time": "2023-02-13T01:36:04.078410Z"
    },
    "scrolled": true
   },
   "outputs": [
    {
     "name": "stdout",
     "output_type": "stream",
     "text": [
      "38_model.csv Saved!\n"
     ]
    }
   ],
   "source": [
    "save_preds(pred, \"38_model.csv\")"
   ]
  },
  {
   "cell_type": "markdown",
   "id": "56951cba",
   "metadata": {},
   "source": [
    "# model(39) - model(28)에 dropout추가 + earlystopping = 10"
   ]
  },
  {
   "cell_type": "markdown",
   "id": "0f7b6ba2",
   "metadata": {},
   "source": [
    "## Score: 0.20008"
   ]
  },
  {
   "cell_type": "code",
   "execution_count": 117,
   "id": "9154bdfa",
   "metadata": {
    "ExecuteTime": {
     "end_time": "2023-02-13T01:44:31.847268Z",
     "start_time": "2023-02-13T01:44:31.676972Z"
    },
    "scrolled": false
   },
   "outputs": [
    {
     "name": "stdout",
     "output_type": "stream",
     "text": [
      "Model: \"sequential_19\"\n",
      "_________________________________________________________________\n",
      " Layer (type)                Output Shape              Param #   \n",
      "=================================================================\n",
      " conv2d_99 (Conv2D)          (None, 128, 128, 8)       224       \n",
      "                                                                 \n",
      " conv2d_100 (Conv2D)         (None, 128, 128, 16)      1168      \n",
      "                                                                 \n",
      " max_pooling2d_74 (MaxPoolin  (None, 64, 64, 16)       0         \n",
      " g2D)                                                            \n",
      "                                                                 \n",
      " conv2d_101 (Conv2D)         (None, 64, 64, 32)        4640      \n",
      "                                                                 \n",
      " max_pooling2d_75 (MaxPoolin  (None, 32, 32, 32)       0         \n",
      " g2D)                                                            \n",
      "                                                                 \n",
      " dropout_53 (Dropout)        (None, 32, 32, 32)        0         \n",
      "                                                                 \n",
      " conv2d_102 (Conv2D)         (None, 32, 32, 64)        18496     \n",
      "                                                                 \n",
      " max_pooling2d_76 (MaxPoolin  (None, 16, 16, 64)       0         \n",
      " g2D)                                                            \n",
      "                                                                 \n",
      " dropout_54 (Dropout)        (None, 16, 16, 64)        0         \n",
      "                                                                 \n",
      " conv2d_103 (Conv2D)         (None, 16, 16, 128)       73856     \n",
      "                                                                 \n",
      " max_pooling2d_77 (MaxPoolin  (None, 8, 8, 128)        0         \n",
      " g2D)                                                            \n",
      "                                                                 \n",
      " flatten_19 (Flatten)        (None, 8192)              0         \n",
      "                                                                 \n",
      " dropout_55 (Dropout)        (None, 8192)              0         \n",
      "                                                                 \n",
      " dense_57 (Dense)            (None, 16)                131088    \n",
      "                                                                 \n",
      " dense_58 (Dense)            (None, 32)                544       \n",
      "                                                                 \n",
      " dropout_56 (Dropout)        (None, 32)                0         \n",
      "                                                                 \n",
      " dense_59 (Dense)            (None, 1)                 33        \n",
      "                                                                 \n",
      "=================================================================\n",
      "Total params: 230,049\n",
      "Trainable params: 230,049\n",
      "Non-trainable params: 0\n",
      "_________________________________________________________________\n"
     ]
    }
   ],
   "source": [
    "model = keras.Sequential()\n",
    "model.add(keras.layers.Conv2D(8, kernel_size = 3, activation = \"leaky_relu\", padding = \"same\",\n",
    "                              input_shape = (128,128, 3)))\n",
    "\n",
    "\n",
    "model.add(keras.layers.Conv2D(16, kernel_size = 3, activation = \"relu\", padding = \"same\"))\n",
    "model.add(keras.layers.MaxPool2D(2))\n",
    "\n",
    "model.add(keras.layers.Conv2D(32, kernel_size = 3, activation = \"leaky_relu\", padding = \"same\"))\n",
    "model.add(keras.layers.MaxPool2D(2))\n",
    "\n",
    "model.add(keras.layers.Dropout(0.25))\n",
    "\n",
    "model.add(keras.layers.Conv2D(64, kernel_size = 3, activation = \"relu\", padding = \"same\"))\n",
    "model.add(keras.layers.MaxPool2D(2))\n",
    "\n",
    "model.add(keras.layers.Dropout(0.25))\n",
    "\n",
    "model.add(keras.layers.Conv2D(128, kernel_size = 3, activation = \"relu\", padding = \"same\"))\n",
    "model.add(keras.layers.MaxPool2D(2))\n",
    "\n",
    "model.add(keras.layers.Flatten())\n",
    "\n",
    "model.add(keras.layers.Dropout(0.25))\n",
    "\n",
    "model.add(keras.layers.Dense(16, activation = \"leaky_relu\"))\n",
    "\n",
    "model.add(keras.layers.Dense(32, activation = \"leaky_relu\"))\n",
    "\n",
    "model.add(keras.layers.Dropout(0.4))\n",
    "\n",
    "model.add(keras.layers.Dense(1, activation = \"sigmoid\"))\n",
    "model.summary()"
   ]
  },
  {
   "cell_type": "code",
   "execution_count": 118,
   "id": "54f171d9",
   "metadata": {
    "ExecuteTime": {
     "end_time": "2023-02-13T01:44:32.075097Z",
     "start_time": "2023-02-13T01:44:32.071725Z"
    }
   },
   "outputs": [],
   "source": [
    "checkpoint_cb = keras.callbacks.ModelCheckpoint(\"./model/best-cnn-39model.h5\", save_best_only = True)\n",
    "early_stopping_cb = keras.callbacks.EarlyStopping(patience = 10, restore_best_weights = True)\n",
    "reducelr_cb = keras.callbacks.ReduceLROnPlateau(monitor = \"val_loss\", factor = .5, patience = 3)"
   ]
  },
  {
   "cell_type": "code",
   "execution_count": 119,
   "id": "237af893",
   "metadata": {
    "ExecuteTime": {
     "end_time": "2023-02-13T01:44:32.498857Z",
     "start_time": "2023-02-13T01:44:32.489242Z"
    }
   },
   "outputs": [],
   "source": [
    "model.compile(optimizer = \"adam\", loss = \"binary_crossentropy\", metrics = \"accuracy\")"
   ]
  },
  {
   "cell_type": "code",
   "execution_count": 120,
   "id": "73a2048d",
   "metadata": {
    "ExecuteTime": {
     "end_time": "2023-02-13T05:32:11.173503Z",
     "start_time": "2023-02-13T01:44:32.937105Z"
    },
    "scrolled": true
   },
   "outputs": [
    {
     "name": "stdout",
     "output_type": "stream",
     "text": [
      "Epoch 1/200\n",
      "225/225 [==============================] - 262s 1s/step - loss: 0.6746 - accuracy: 0.5729 - val_loss: 0.6000 - val_accuracy: 0.6836 - lr: 0.0010\n",
      "Epoch 2/200\n",
      "225/225 [==============================] - 261s 1s/step - loss: 0.5593 - accuracy: 0.7140 - val_loss: 0.4943 - val_accuracy: 0.7612 - lr: 0.0010\n",
      "Epoch 3/200\n",
      "225/225 [==============================] - 245s 1s/step - loss: 0.4979 - accuracy: 0.7599 - val_loss: 0.4476 - val_accuracy: 0.7820 - lr: 0.0010\n",
      "Epoch 4/200\n",
      "225/225 [==============================] - 246s 1s/step - loss: 0.4466 - accuracy: 0.7948 - val_loss: 0.4211 - val_accuracy: 0.8080 - lr: 0.0010\n",
      "Epoch 5/200\n",
      "225/225 [==============================] - 273s 1s/step - loss: 0.4033 - accuracy: 0.8176 - val_loss: 0.3994 - val_accuracy: 0.8116 - lr: 0.0010\n",
      "Epoch 6/200\n",
      "225/225 [==============================] - 282s 1s/step - loss: 0.3796 - accuracy: 0.8308 - val_loss: 0.4039 - val_accuracy: 0.8192 - lr: 0.0010\n",
      "Epoch 7/200\n",
      "225/225 [==============================] - 292s 1s/step - loss: 0.3505 - accuracy: 0.8474 - val_loss: 0.3166 - val_accuracy: 0.8604 - lr: 0.0010\n",
      "Epoch 8/200\n",
      "225/225 [==============================] - 290s 1s/step - loss: 0.3228 - accuracy: 0.8616 - val_loss: 0.2963 - val_accuracy: 0.8688 - lr: 0.0010\n",
      "Epoch 9/200\n",
      "225/225 [==============================] - 290s 1s/step - loss: 0.3039 - accuracy: 0.8718 - val_loss: 0.2880 - val_accuracy: 0.8676 - lr: 0.0010\n",
      "Epoch 10/200\n",
      "225/225 [==============================] - 281s 1s/step - loss: 0.2990 - accuracy: 0.8728 - val_loss: 0.2752 - val_accuracy: 0.8820 - lr: 0.0010\n",
      "Epoch 11/200\n",
      "225/225 [==============================] - 271s 1s/step - loss: 0.2807 - accuracy: 0.8817 - val_loss: 0.2645 - val_accuracy: 0.8892 - lr: 0.0010\n",
      "Epoch 12/200\n",
      "225/225 [==============================] - 273s 1s/step - loss: 0.2630 - accuracy: 0.8906 - val_loss: 0.2537 - val_accuracy: 0.8864 - lr: 0.0010\n",
      "Epoch 13/200\n",
      "225/225 [==============================] - 270s 1s/step - loss: 0.2546 - accuracy: 0.8929 - val_loss: 0.2465 - val_accuracy: 0.8940 - lr: 0.0010\n",
      "Epoch 14/200\n",
      "225/225 [==============================] - 286s 1s/step - loss: 0.2488 - accuracy: 0.8940 - val_loss: 0.3055 - val_accuracy: 0.8656 - lr: 0.0010\n",
      "Epoch 15/200\n",
      "225/225 [==============================] - 294s 1s/step - loss: 0.2346 - accuracy: 0.9006 - val_loss: 0.2766 - val_accuracy: 0.8812 - lr: 0.0010\n",
      "Epoch 16/200\n",
      "225/225 [==============================] - 298s 1s/step - loss: 0.2280 - accuracy: 0.9070 - val_loss: 0.2180 - val_accuracy: 0.9076 - lr: 0.0010\n",
      "Epoch 17/200\n",
      "225/225 [==============================] - 299s 1s/step - loss: 0.2239 - accuracy: 0.9074 - val_loss: 0.2238 - val_accuracy: 0.9004 - lr: 0.0010\n",
      "Epoch 18/200\n",
      "225/225 [==============================] - 276s 1s/step - loss: 0.2184 - accuracy: 0.9096 - val_loss: 0.2096 - val_accuracy: 0.9156 - lr: 0.0010\n",
      "Epoch 19/200\n",
      "225/225 [==============================] - 274s 1s/step - loss: 0.2089 - accuracy: 0.9157 - val_loss: 0.2036 - val_accuracy: 0.9124 - lr: 0.0010\n",
      "Epoch 20/200\n",
      "225/225 [==============================] - 293s 1s/step - loss: 0.2032 - accuracy: 0.9167 - val_loss: 0.2336 - val_accuracy: 0.9040 - lr: 0.0010\n",
      "Epoch 21/200\n",
      "225/225 [==============================] - 293s 1s/step - loss: 0.2099 - accuracy: 0.9144 - val_loss: 0.2034 - val_accuracy: 0.9160 - lr: 0.0010\n",
      "Epoch 22/200\n",
      "225/225 [==============================] - 290s 1s/step - loss: 0.1995 - accuracy: 0.9180 - val_loss: 0.2291 - val_accuracy: 0.9008 - lr: 0.0010\n",
      "Epoch 23/200\n",
      "225/225 [==============================] - 301s 1s/step - loss: 0.1928 - accuracy: 0.9216 - val_loss: 0.1881 - val_accuracy: 0.9256 - lr: 0.0010\n",
      "Epoch 24/200\n",
      "225/225 [==============================] - 320s 1s/step - loss: 0.1864 - accuracy: 0.9245 - val_loss: 0.1762 - val_accuracy: 0.9300 - lr: 0.0010\n",
      "Epoch 25/200\n",
      "225/225 [==============================] - 298s 1s/step - loss: 0.1805 - accuracy: 0.9275 - val_loss: 0.1977 - val_accuracy: 0.9204 - lr: 0.0010\n",
      "Epoch 26/200\n",
      "225/225 [==============================] - 302s 1s/step - loss: 0.1850 - accuracy: 0.9241 - val_loss: 0.1860 - val_accuracy: 0.9236 - lr: 0.0010\n",
      "Epoch 27/200\n",
      "225/225 [==============================] - 279s 1s/step - loss: 0.1825 - accuracy: 0.9265 - val_loss: 0.1782 - val_accuracy: 0.9252 - lr: 0.0010\n",
      "Epoch 28/200\n",
      "225/225 [==============================] - 278s 1s/step - loss: 0.1579 - accuracy: 0.9378 - val_loss: 0.1797 - val_accuracy: 0.9256 - lr: 5.0000e-04\n",
      "Epoch 29/200\n",
      "225/225 [==============================] - 275s 1s/step - loss: 0.1594 - accuracy: 0.9363 - val_loss: 0.1673 - val_accuracy: 0.9344 - lr: 5.0000e-04\n",
      "Epoch 30/200\n",
      "225/225 [==============================] - 275s 1s/step - loss: 0.1575 - accuracy: 0.9367 - val_loss: 0.1794 - val_accuracy: 0.9280 - lr: 5.0000e-04\n",
      "Epoch 31/200\n",
      "225/225 [==============================] - 273s 1s/step - loss: 0.1535 - accuracy: 0.9365 - val_loss: 0.1722 - val_accuracy: 0.9316 - lr: 5.0000e-04\n",
      "Epoch 32/200\n",
      "225/225 [==============================] - 269s 1s/step - loss: 0.1547 - accuracy: 0.9376 - val_loss: 0.1776 - val_accuracy: 0.9272 - lr: 5.0000e-04\n",
      "Epoch 33/200\n",
      "225/225 [==============================] - 267s 1s/step - loss: 0.1408 - accuracy: 0.9419 - val_loss: 0.1699 - val_accuracy: 0.9292 - lr: 2.5000e-04\n",
      "Epoch 34/200\n",
      "225/225 [==============================] - 263s 1s/step - loss: 0.1350 - accuracy: 0.9443 - val_loss: 0.1627 - val_accuracy: 0.9396 - lr: 2.5000e-04\n",
      "Epoch 35/200\n",
      "225/225 [==============================] - 265s 1s/step - loss: 0.1390 - accuracy: 0.9438 - val_loss: 0.1615 - val_accuracy: 0.9348 - lr: 2.5000e-04\n",
      "Epoch 36/200\n",
      "225/225 [==============================] - 261s 1s/step - loss: 0.1391 - accuracy: 0.9449 - val_loss: 0.1730 - val_accuracy: 0.9320 - lr: 2.5000e-04\n",
      "Epoch 37/200\n",
      "225/225 [==============================] - 261s 1s/step - loss: 0.1335 - accuracy: 0.9468 - val_loss: 0.1663 - val_accuracy: 0.9332 - lr: 2.5000e-04\n",
      "Epoch 38/200\n",
      "225/225 [==============================] - 261s 1s/step - loss: 0.1364 - accuracy: 0.9437 - val_loss: 0.1617 - val_accuracy: 0.9332 - lr: 2.5000e-04\n",
      "Epoch 39/200\n",
      "225/225 [==============================] - 262s 1s/step - loss: 0.1285 - accuracy: 0.9475 - val_loss: 0.1503 - val_accuracy: 0.9400 - lr: 1.2500e-04\n",
      "Epoch 40/200\n",
      "225/225 [==============================] - 277s 1s/step - loss: 0.1264 - accuracy: 0.9492 - val_loss: 0.1592 - val_accuracy: 0.9388 - lr: 1.2500e-04\n",
      "Epoch 41/200\n",
      "225/225 [==============================] - 292s 1s/step - loss: 0.1296 - accuracy: 0.9480 - val_loss: 0.1509 - val_accuracy: 0.9384 - lr: 1.2500e-04\n",
      "Epoch 42/200\n",
      "225/225 [==============================] - 289s 1s/step - loss: 0.1246 - accuracy: 0.9494 - val_loss: 0.1620 - val_accuracy: 0.9348 - lr: 1.2500e-04\n",
      "Epoch 43/200\n",
      "225/225 [==============================] - 287s 1s/step - loss: 0.1224 - accuracy: 0.9500 - val_loss: 0.1582 - val_accuracy: 0.9356 - lr: 6.2500e-05\n",
      "Epoch 44/200\n",
      "225/225 [==============================] - 287s 1s/step - loss: 0.1252 - accuracy: 0.9491 - val_loss: 0.1662 - val_accuracy: 0.9364 - lr: 6.2500e-05\n",
      "Epoch 45/200\n",
      "225/225 [==============================] - 277s 1s/step - loss: 0.1242 - accuracy: 0.9504 - val_loss: 0.1507 - val_accuracy: 0.9448 - lr: 6.2500e-05\n",
      "Epoch 46/200\n",
      "225/225 [==============================] - 277s 1s/step - loss: 0.1204 - accuracy: 0.9514 - val_loss: 0.1661 - val_accuracy: 0.9360 - lr: 3.1250e-05\n",
      "Epoch 47/200\n",
      "225/225 [==============================] - 292s 1s/step - loss: 0.1198 - accuracy: 0.9520 - val_loss: 0.1587 - val_accuracy: 0.9412 - lr: 3.1250e-05\n",
      "Epoch 48/200\n",
      "225/225 [==============================] - 277s 1s/step - loss: 0.1221 - accuracy: 0.9518 - val_loss: 0.1623 - val_accuracy: 0.9380 - lr: 3.1250e-05\n",
      "Epoch 49/200\n",
      "225/225 [==============================] - 254s 1s/step - loss: 0.1187 - accuracy: 0.9508 - val_loss: 0.1576 - val_accuracy: 0.9388 - lr: 1.5625e-05\n"
     ]
    }
   ],
   "source": [
    "history = model.fit(train_dataset, epochs = 200, validation_data = val_dataset,\n",
    "                    callbacks = [checkpoint_cb, early_stopping_cb, reducelr_cb])\n",
    "model.save_weights(\"39model.h5\")"
   ]
  },
  {
   "cell_type": "code",
   "execution_count": 121,
   "id": "74b7ee31",
   "metadata": {
    "ExecuteTime": {
     "end_time": "2023-02-13T05:33:02.521342Z",
     "start_time": "2023-02-13T05:32:11.176302Z"
    }
   },
   "outputs": [
    {
     "name": "stdout",
     "output_type": "stream",
     "text": [
      "125/125 [==============================] - 51s 406ms/step\n"
     ]
    }
   ],
   "source": [
    "pred = model.predict(test_dataset)"
   ]
  },
  {
   "cell_type": "code",
   "execution_count": 122,
   "id": "eeee9eee",
   "metadata": {
    "ExecuteTime": {
     "end_time": "2023-02-13T05:33:02.647567Z",
     "start_time": "2023-02-13T05:33:02.524107Z"
    },
    "scrolled": true
   },
   "outputs": [
    {
     "name": "stdout",
     "output_type": "stream",
     "text": [
      "39_model.csv Saved!\n"
     ]
    }
   ],
   "source": [
    "save_preds(pred, \"39_model.csv\")"
   ]
  },
  {
   "cell_type": "markdown",
   "id": "5431ad84",
   "metadata": {},
   "source": [
    "# model(40) - model(39)에 activation = leaky_relu로 변경"
   ]
  },
  {
   "cell_type": "markdown",
   "id": "423a5c68",
   "metadata": {},
   "source": [
    "## Score: 0.20807"
   ]
  },
  {
   "cell_type": "code",
   "execution_count": 123,
   "id": "43170102",
   "metadata": {
    "ExecuteTime": {
     "end_time": "2023-02-13T05:37:44.206126Z",
     "start_time": "2023-02-13T05:37:44.044041Z"
    },
    "scrolled": false
   },
   "outputs": [
    {
     "name": "stdout",
     "output_type": "stream",
     "text": [
      "Model: \"sequential_20\"\n",
      "_________________________________________________________________\n",
      " Layer (type)                Output Shape              Param #   \n",
      "=================================================================\n",
      " conv2d_104 (Conv2D)         (None, 128, 128, 8)       224       \n",
      "                                                                 \n",
      " conv2d_105 (Conv2D)         (None, 128, 128, 16)      1168      \n",
      "                                                                 \n",
      " max_pooling2d_78 (MaxPoolin  (None, 64, 64, 16)       0         \n",
      " g2D)                                                            \n",
      "                                                                 \n",
      " conv2d_106 (Conv2D)         (None, 64, 64, 32)        4640      \n",
      "                                                                 \n",
      " max_pooling2d_79 (MaxPoolin  (None, 32, 32, 32)       0         \n",
      " g2D)                                                            \n",
      "                                                                 \n",
      " dropout_57 (Dropout)        (None, 32, 32, 32)        0         \n",
      "                                                                 \n",
      " conv2d_107 (Conv2D)         (None, 32, 32, 64)        18496     \n",
      "                                                                 \n",
      " max_pooling2d_80 (MaxPoolin  (None, 16, 16, 64)       0         \n",
      " g2D)                                                            \n",
      "                                                                 \n",
      " dropout_58 (Dropout)        (None, 16, 16, 64)        0         \n",
      "                                                                 \n",
      " conv2d_108 (Conv2D)         (None, 16, 16, 128)       73856     \n",
      "                                                                 \n",
      " max_pooling2d_81 (MaxPoolin  (None, 8, 8, 128)        0         \n",
      " g2D)                                                            \n",
      "                                                                 \n",
      " flatten_20 (Flatten)        (None, 8192)              0         \n",
      "                                                                 \n",
      " dropout_59 (Dropout)        (None, 8192)              0         \n",
      "                                                                 \n",
      " dense_60 (Dense)            (None, 16)                131088    \n",
      "                                                                 \n",
      " dense_61 (Dense)            (None, 32)                544       \n",
      "                                                                 \n",
      " dropout_60 (Dropout)        (None, 32)                0         \n",
      "                                                                 \n",
      " dense_62 (Dense)            (None, 1)                 33        \n",
      "                                                                 \n",
      "=================================================================\n",
      "Total params: 230,049\n",
      "Trainable params: 230,049\n",
      "Non-trainable params: 0\n",
      "_________________________________________________________________\n"
     ]
    }
   ],
   "source": [
    "model = keras.Sequential()\n",
    "model.add(keras.layers.Conv2D(8, kernel_size = 3, activation = \"leaky_relu\", padding = \"same\",\n",
    "                              input_shape = (128,128, 3)))\n",
    "\n",
    "\n",
    "model.add(keras.layers.Conv2D(16, kernel_size = 3, activation = \"relu\", padding = \"same\"))\n",
    "model.add(keras.layers.MaxPool2D(2))\n",
    "\n",
    "model.add(keras.layers.Conv2D(32, kernel_size = 3, activation = \"leaky_relu\", padding = \"same\"))\n",
    "model.add(keras.layers.MaxPool2D(2))\n",
    "\n",
    "model.add(keras.layers.Dropout(0.25))\n",
    "\n",
    "model.add(keras.layers.Conv2D(64, kernel_size = 3, activation = \"relu\", padding = \"same\"))\n",
    "model.add(keras.layers.MaxPool2D(2))\n",
    "\n",
    "model.add(keras.layers.Dropout(0.25))\n",
    "\n",
    "model.add(keras.layers.Conv2D(128, kernel_size = 3, activation = \"leaky_relu\", padding = \"same\"))\n",
    "model.add(keras.layers.MaxPool2D(2))\n",
    "\n",
    "model.add(keras.layers.Flatten())\n",
    "\n",
    "model.add(keras.layers.Dropout(0.25))\n",
    "\n",
    "model.add(keras.layers.Dense(16, activation = \"leaky_relu\"))\n",
    "\n",
    "model.add(keras.layers.Dense(32, activation = \"leaky_relu\"))\n",
    "\n",
    "model.add(keras.layers.Dropout(0.4))\n",
    "\n",
    "model.add(keras.layers.Dense(1, activation = \"sigmoid\"))\n",
    "model.summary()"
   ]
  },
  {
   "cell_type": "code",
   "execution_count": 124,
   "id": "732e8230",
   "metadata": {
    "ExecuteTime": {
     "end_time": "2023-02-13T05:37:44.212777Z",
     "start_time": "2023-02-13T05:37:44.208754Z"
    }
   },
   "outputs": [],
   "source": [
    "checkpoint_cb = keras.callbacks.ModelCheckpoint(\"./model/best-cnn-40model.h5\", save_best_only = True)\n",
    "early_stopping_cb = keras.callbacks.EarlyStopping(patience = 10, restore_best_weights = True)\n",
    "reducelr_cb = keras.callbacks.ReduceLROnPlateau(monitor = \"val_loss\", factor = .5, patience = 3)"
   ]
  },
  {
   "cell_type": "code",
   "execution_count": 125,
   "id": "7edbc9ce",
   "metadata": {
    "ExecuteTime": {
     "end_time": "2023-02-13T05:37:44.350011Z",
     "start_time": "2023-02-13T05:37:44.341146Z"
    }
   },
   "outputs": [],
   "source": [
    "model.compile(optimizer = \"adam\", loss = \"binary_crossentropy\", metrics = \"accuracy\")"
   ]
  },
  {
   "cell_type": "code",
   "execution_count": 126,
   "id": "d6a00f43",
   "metadata": {
    "ExecuteTime": {
     "end_time": "2023-02-13T10:07:25.380374Z",
     "start_time": "2023-02-13T05:37:44.471791Z"
    },
    "scrolled": true
   },
   "outputs": [
    {
     "name": "stdout",
     "output_type": "stream",
     "text": [
      "Epoch 1/200\n",
      "225/225 [==============================] - 269s 1s/step - loss: 0.6624 - accuracy: 0.5893 - val_loss: 0.6317 - val_accuracy: 0.6420 - lr: 0.0010\n",
      "Epoch 2/200\n",
      "225/225 [==============================] - 270s 1s/step - loss: 0.5732 - accuracy: 0.6991 - val_loss: 0.5187 - val_accuracy: 0.7380 - lr: 0.0010\n",
      "Epoch 3/200\n",
      "225/225 [==============================] - 272s 1s/step - loss: 0.5057 - accuracy: 0.7552 - val_loss: 0.4743 - val_accuracy: 0.7824 - lr: 0.0010\n",
      "Epoch 4/200\n",
      "225/225 [==============================] - 272s 1s/step - loss: 0.4583 - accuracy: 0.7858 - val_loss: 0.4260 - val_accuracy: 0.8088 - lr: 0.0010\n",
      "Epoch 5/200\n",
      "225/225 [==============================] - 272s 1s/step - loss: 0.4222 - accuracy: 0.8068 - val_loss: 0.3930 - val_accuracy: 0.8200 - lr: 0.0010\n",
      "Epoch 6/200\n",
      "225/225 [==============================] - 272s 1s/step - loss: 0.3918 - accuracy: 0.8261 - val_loss: 0.3906 - val_accuracy: 0.8240 - lr: 0.0010\n",
      "Epoch 7/200\n",
      "225/225 [==============================] - 274s 1s/step - loss: 0.3643 - accuracy: 0.8407 - val_loss: 0.3434 - val_accuracy: 0.8448 - lr: 0.0010\n",
      "Epoch 8/200\n",
      "225/225 [==============================] - 276s 1s/step - loss: 0.3433 - accuracy: 0.8497 - val_loss: 0.3378 - val_accuracy: 0.8452 - lr: 0.0010\n",
      "Epoch 9/200\n",
      "225/225 [==============================] - 276s 1s/step - loss: 0.3215 - accuracy: 0.8628 - val_loss: 0.3256 - val_accuracy: 0.8620 - lr: 0.0010\n",
      "Epoch 10/200\n",
      "225/225 [==============================] - 276s 1s/step - loss: 0.3068 - accuracy: 0.8674 - val_loss: 0.2956 - val_accuracy: 0.8696 - lr: 0.0010\n",
      "Epoch 11/200\n",
      "225/225 [==============================] - 277s 1s/step - loss: 0.2883 - accuracy: 0.8763 - val_loss: 0.2780 - val_accuracy: 0.8788 - lr: 0.0010\n",
      "Epoch 12/200\n",
      "225/225 [==============================] - 277s 1s/step - loss: 0.2781 - accuracy: 0.8816 - val_loss: 0.2653 - val_accuracy: 0.8872 - lr: 0.0010\n",
      "Epoch 13/200\n",
      "225/225 [==============================] - 278s 1s/step - loss: 0.2681 - accuracy: 0.8865 - val_loss: 0.2629 - val_accuracy: 0.8904 - lr: 0.0010\n",
      "Epoch 14/200\n",
      "225/225 [==============================] - 349s 2s/step - loss: 0.2482 - accuracy: 0.8959 - val_loss: 0.2454 - val_accuracy: 0.8956 - lr: 0.0010\n",
      "Epoch 15/200\n",
      "225/225 [==============================] - 368s 2s/step - loss: 0.2427 - accuracy: 0.9001 - val_loss: 0.2401 - val_accuracy: 0.8928 - lr: 0.0010\n",
      "Epoch 16/200\n",
      "225/225 [==============================] - 372s 2s/step - loss: 0.2399 - accuracy: 0.8994 - val_loss: 0.2403 - val_accuracy: 0.9032 - lr: 0.0010\n",
      "Epoch 17/200\n",
      "225/225 [==============================] - 371s 2s/step - loss: 0.2297 - accuracy: 0.9054 - val_loss: 0.2291 - val_accuracy: 0.9024 - lr: 0.0010\n",
      "Epoch 18/200\n",
      "225/225 [==============================] - 367s 2s/step - loss: 0.2222 - accuracy: 0.9091 - val_loss: 0.2295 - val_accuracy: 0.9056 - lr: 0.0010\n",
      "Epoch 19/200\n",
      "225/225 [==============================] - 362s 2s/step - loss: 0.2198 - accuracy: 0.9092 - val_loss: 0.2206 - val_accuracy: 0.9112 - lr: 0.0010\n",
      "Epoch 20/200\n",
      "225/225 [==============================] - 365s 2s/step - loss: 0.2125 - accuracy: 0.9122 - val_loss: 0.2211 - val_accuracy: 0.9044 - lr: 0.0010\n",
      "Epoch 21/200\n",
      "225/225 [==============================] - 352s 2s/step - loss: 0.2070 - accuracy: 0.9152 - val_loss: 0.2151 - val_accuracy: 0.9136 - lr: 0.0010\n",
      "Epoch 22/200\n",
      "225/225 [==============================] - 330s 1s/step - loss: 0.2074 - accuracy: 0.9180 - val_loss: 0.2326 - val_accuracy: 0.8932 - lr: 0.0010\n",
      "Epoch 23/200\n",
      "225/225 [==============================] - 329s 1s/step - loss: 0.1957 - accuracy: 0.9189 - val_loss: 0.2147 - val_accuracy: 0.9096 - lr: 0.0010\n",
      "Epoch 24/200\n",
      "225/225 [==============================] - 333s 1s/step - loss: 0.1974 - accuracy: 0.9170 - val_loss: 0.2091 - val_accuracy: 0.9140 - lr: 0.0010\n",
      "Epoch 25/200\n",
      "225/225 [==============================] - 340s 2s/step - loss: 0.1899 - accuracy: 0.9205 - val_loss: 0.2083 - val_accuracy: 0.9148 - lr: 0.0010\n",
      "Epoch 26/200\n",
      "225/225 [==============================] - 347s 2s/step - loss: 0.1896 - accuracy: 0.9244 - val_loss: 0.2011 - val_accuracy: 0.9168 - lr: 0.0010\n",
      "Epoch 27/200\n",
      "225/225 [==============================] - 347s 2s/step - loss: 0.1855 - accuracy: 0.9247 - val_loss: 0.2212 - val_accuracy: 0.9120 - lr: 0.0010\n",
      "Epoch 28/200\n",
      "225/225 [==============================] - 348s 2s/step - loss: 0.1821 - accuracy: 0.9261 - val_loss: 0.2058 - val_accuracy: 0.9196 - lr: 0.0010\n",
      "Epoch 29/200\n",
      "225/225 [==============================] - 349s 2s/step - loss: 0.1778 - accuracy: 0.9275 - val_loss: 0.1953 - val_accuracy: 0.9184 - lr: 0.0010\n",
      "Epoch 30/200\n",
      "225/225 [==============================] - 362s 2s/step - loss: 0.1778 - accuracy: 0.9289 - val_loss: 0.1849 - val_accuracy: 0.9196 - lr: 0.0010\n",
      "Epoch 31/200\n",
      "225/225 [==============================] - 262s 1s/step - loss: 0.1721 - accuracy: 0.9296 - val_loss: 0.1908 - val_accuracy: 0.9244 - lr: 0.0010\n",
      "Epoch 32/200\n",
      "225/225 [==============================] - 251s 1s/step - loss: 0.1744 - accuracy: 0.9299 - val_loss: 0.1958 - val_accuracy: 0.9212 - lr: 0.0010\n",
      "Epoch 33/200\n",
      "225/225 [==============================] - 251s 1s/step - loss: 0.1692 - accuracy: 0.9336 - val_loss: 0.1911 - val_accuracy: 0.9224 - lr: 0.0010\n",
      "Epoch 34/200\n",
      "225/225 [==============================] - 253s 1s/step - loss: 0.1532 - accuracy: 0.9384 - val_loss: 0.1794 - val_accuracy: 0.9284 - lr: 5.0000e-04\n",
      "Epoch 35/200\n",
      "225/225 [==============================] - 255s 1s/step - loss: 0.1459 - accuracy: 0.9421 - val_loss: 0.1704 - val_accuracy: 0.9332 - lr: 5.0000e-04\n",
      "Epoch 36/200\n",
      "225/225 [==============================] - 256s 1s/step - loss: 0.1404 - accuracy: 0.9440 - val_loss: 0.1883 - val_accuracy: 0.9220 - lr: 5.0000e-04\n",
      "Epoch 37/200\n",
      "225/225 [==============================] - 258s 1s/step - loss: 0.1441 - accuracy: 0.9428 - val_loss: 0.1877 - val_accuracy: 0.9220 - lr: 5.0000e-04\n",
      "Epoch 38/200\n",
      "225/225 [==============================] - 261s 1s/step - loss: 0.1374 - accuracy: 0.9462 - val_loss: 0.1730 - val_accuracy: 0.9224 - lr: 5.0000e-04\n",
      "Epoch 39/200\n",
      "225/225 [==============================] - 263s 1s/step - loss: 0.1315 - accuracy: 0.9465 - val_loss: 0.1710 - val_accuracy: 0.9308 - lr: 2.5000e-04\n",
      "Epoch 40/200\n",
      "225/225 [==============================] - 264s 1s/step - loss: 0.1280 - accuracy: 0.9484 - val_loss: 0.1727 - val_accuracy: 0.9296 - lr: 2.5000e-04\n",
      "Epoch 41/200\n",
      "225/225 [==============================] - 261s 1s/step - loss: 0.1263 - accuracy: 0.9498 - val_loss: 0.1729 - val_accuracy: 0.9332 - lr: 2.5000e-04\n",
      "Epoch 42/200\n",
      "225/225 [==============================] - 258s 1s/step - loss: 0.1236 - accuracy: 0.9503 - val_loss: 0.1783 - val_accuracy: 0.9316 - lr: 1.2500e-04\n",
      "Epoch 43/200\n",
      "225/225 [==============================] - 255s 1s/step - loss: 0.1210 - accuracy: 0.9512 - val_loss: 0.1654 - val_accuracy: 0.9304 - lr: 1.2500e-04\n",
      "Epoch 44/200\n",
      "225/225 [==============================] - 254s 1s/step - loss: 0.1195 - accuracy: 0.9522 - val_loss: 0.1708 - val_accuracy: 0.9300 - lr: 1.2500e-04\n",
      "Epoch 45/200\n",
      "225/225 [==============================] - 254s 1s/step - loss: 0.1210 - accuracy: 0.9515 - val_loss: 0.1759 - val_accuracy: 0.9312 - lr: 1.2500e-04\n",
      "Epoch 46/200\n",
      "225/225 [==============================] - 253s 1s/step - loss: 0.1188 - accuracy: 0.9533 - val_loss: 0.1600 - val_accuracy: 0.9400 - lr: 1.2500e-04\n",
      "Epoch 47/200\n",
      "225/225 [==============================] - 251s 1s/step - loss: 0.1212 - accuracy: 0.9510 - val_loss: 0.1717 - val_accuracy: 0.9308 - lr: 1.2500e-04\n",
      "Epoch 48/200\n",
      "225/225 [==============================] - 251s 1s/step - loss: 0.1133 - accuracy: 0.9532 - val_loss: 0.1616 - val_accuracy: 0.9352 - lr: 1.2500e-04\n",
      "Epoch 49/200\n",
      "225/225 [==============================] - 251s 1s/step - loss: 0.1167 - accuracy: 0.9533 - val_loss: 0.1605 - val_accuracy: 0.9376 - lr: 1.2500e-04\n",
      "Epoch 50/200\n",
      "225/225 [==============================] - 252s 1s/step - loss: 0.1150 - accuracy: 0.9548 - val_loss: 0.1732 - val_accuracy: 0.9308 - lr: 6.2500e-05\n",
      "Epoch 51/200\n",
      "225/225 [==============================] - 251s 1s/step - loss: 0.1105 - accuracy: 0.9552 - val_loss: 0.1720 - val_accuracy: 0.9340 - lr: 6.2500e-05\n",
      "Epoch 52/200\n",
      "225/225 [==============================] - 252s 1s/step - loss: 0.1127 - accuracy: 0.9548 - val_loss: 0.1670 - val_accuracy: 0.9320 - lr: 6.2500e-05\n",
      "Epoch 53/200\n",
      "225/225 [==============================] - 253s 1s/step - loss: 0.1096 - accuracy: 0.9562 - val_loss: 0.1743 - val_accuracy: 0.9336 - lr: 3.1250e-05\n",
      "Epoch 54/200\n",
      "225/225 [==============================] - 252s 1s/step - loss: 0.1133 - accuracy: 0.9551 - val_loss: 0.1693 - val_accuracy: 0.9312 - lr: 3.1250e-05\n",
      "Epoch 55/200\n",
      "225/225 [==============================] - 253s 1s/step - loss: 0.1096 - accuracy: 0.9555 - val_loss: 0.1655 - val_accuracy: 0.9348 - lr: 3.1250e-05\n",
      "Epoch 56/200\n",
      "225/225 [==============================] - 252s 1s/step - loss: 0.1101 - accuracy: 0.9547 - val_loss: 0.1761 - val_accuracy: 0.9332 - lr: 1.5625e-05\n"
     ]
    }
   ],
   "source": [
    "history = model.fit(train_dataset, epochs = 200, validation_data = val_dataset,\n",
    "                    callbacks = [checkpoint_cb, early_stopping_cb, reducelr_cb])\n",
    "model.save_weights(\"40model.h5\")"
   ]
  },
  {
   "cell_type": "code",
   "execution_count": 127,
   "id": "b42d95be",
   "metadata": {
    "ExecuteTime": {
     "end_time": "2023-02-13T10:08:13.061895Z",
     "start_time": "2023-02-13T10:07:25.383723Z"
    }
   },
   "outputs": [
    {
     "name": "stdout",
     "output_type": "stream",
     "text": [
      "125/125 [==============================] - 47s 377ms/step\n"
     ]
    }
   ],
   "source": [
    "pred = model.predict(test_dataset)"
   ]
  },
  {
   "cell_type": "code",
   "execution_count": 128,
   "id": "a480664d",
   "metadata": {
    "ExecuteTime": {
     "end_time": "2023-02-13T10:08:13.194900Z",
     "start_time": "2023-02-13T10:08:13.064484Z"
    },
    "scrolled": true
   },
   "outputs": [
    {
     "name": "stdout",
     "output_type": "stream",
     "text": [
      "40_model.csv Saved!\n"
     ]
    }
   ],
   "source": [
    "save_preds(pred, \"40_model.csv\")"
   ]
  },
  {
   "cell_type": "code",
   "execution_count": null,
   "id": "3ec67958",
   "metadata": {},
   "outputs": [],
   "source": []
  }
 ],
 "metadata": {
  "kernelspec": {
   "display_name": "Python 3 (ipykernel)",
   "language": "python",
   "name": "python3"
  },
  "language_info": {
   "codemirror_mode": {
    "name": "ipython",
    "version": 3
   },
   "file_extension": ".py",
   "mimetype": "text/x-python",
   "name": "python",
   "nbconvert_exporter": "python",
   "pygments_lexer": "ipython3",
   "version": "3.10.8"
  },
  "toc": {
   "base_numbering": 1,
   "nav_menu": {},
   "number_sections": true,
   "sideBar": true,
   "skip_h1_title": false,
   "title_cell": "Table of Contents",
   "title_sidebar": "Contents",
   "toc_cell": false,
   "toc_position": {
    "height": "calc(100% - 180px)",
    "left": "10px",
    "top": "150px",
    "width": "235.875px"
   },
   "toc_section_display": true,
   "toc_window_display": true
  }
 },
 "nbformat": 4,
 "nbformat_minor": 5
}
